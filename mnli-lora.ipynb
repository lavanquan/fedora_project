{
 "cells": [
  {
   "cell_type": "code",
   "execution_count": 1,
   "metadata": {},
   "outputs": [],
   "source": [
    "import os\n",
    "os.environ['CUDA_VISIBLE_DEVICES'] = '0'"
   ]
  },
  {
   "cell_type": "code",
   "execution_count": 2,
   "metadata": {},
   "outputs": [
    {
     "name": "stderr",
     "output_type": "stream",
     "text": [
      "2024-11-06 15:01:49.318032: I tensorflow/core/util/port.cc:153] oneDNN custom operations are on. You may see slightly different numerical results due to floating-point round-off errors from different computation orders. To turn them off, set the environment variable `TF_ENABLE_ONEDNN_OPTS=0`.\n",
      "2024-11-06 15:01:49.328678: E external/local_xla/xla/stream_executor/cuda/cuda_fft.cc:485] Unable to register cuFFT factory: Attempting to register factory for plugin cuFFT when one has already been registered\n",
      "2024-11-06 15:01:49.341502: E external/local_xla/xla/stream_executor/cuda/cuda_dnn.cc:8454] Unable to register cuDNN factory: Attempting to register factory for plugin cuDNN when one has already been registered\n",
      "2024-11-06 15:01:49.345339: E external/local_xla/xla/stream_executor/cuda/cuda_blas.cc:1452] Unable to register cuBLAS factory: Attempting to register factory for plugin cuBLAS when one has already been registered\n",
      "2024-11-06 15:01:49.355791: I tensorflow/core/platform/cpu_feature_guard.cc:210] This TensorFlow binary is optimized to use available CPU instructions in performance-critical operations.\n",
      "To enable the following instructions: AVX2 AVX512F AVX512_VNNI FMA, in other operations, rebuild TensorFlow with the appropriate compiler flags.\n",
      "2024-11-06 15:01:49.952438: W tensorflow/compiler/tf2tensorrt/utils/py_utils.cc:38] TF-TRT Warning: Could not find TensorRT\n"
     ]
    }
   ],
   "source": [
    "import argparse\n",
    "import os\n",
    "\n",
    "import torch\n",
    "from torch.optim import AdamW\n",
    "from torch.utils.data import DataLoader\n",
    "from peft import (\n",
    "    get_peft_config,\n",
    "    get_peft_model,\n",
    "    get_peft_model_state_dict,\n",
    "    set_peft_model_state_dict,\n",
    "    LoraConfig,\n",
    "    PeftType,\n",
    "    PrefixTuningConfig,\n",
    "    PromptEncoderConfig,\n",
    ")\n",
    "\n",
    "import evaluate\n",
    "from datasets import load_dataset\n",
    "from transformers import AutoModelForSequenceClassification, AutoTokenizer, get_linear_schedule_with_warmup, set_seed\n",
    "from tqdm import tqdm"
   ]
  },
  {
   "cell_type": "code",
   "execution_count": 3,
   "metadata": {},
   "outputs": [],
   "source": [
    "batch_size = 16\n",
    "model_name_or_path = \"roberta-large\"\n",
    "task = \"mnli\"\n",
    "peft_type = PeftType.LORA\n",
    "device = \"cuda\"\n",
    "num_epochs = 20"
   ]
  },
  {
   "cell_type": "code",
   "execution_count": 4,
   "metadata": {},
   "outputs": [],
   "source": [
    "peft_config = LoraConfig(task_type=\"SEQ_CLS\", inference_mode=False, r=4, lora_alpha=16, lora_dropout=0.1)\n",
    "lr = 3e-4"
   ]
  },
  {
   "cell_type": "code",
   "execution_count": 5,
   "metadata": {},
   "outputs": [
    {
     "name": "stderr",
     "output_type": "stream",
     "text": [
      "Downloading data: 100%|██████████| 52.2M/52.2M [00:04<00:00, 10.9MB/s]\n",
      "Downloading data: 100%|██████████| 1.21M/1.21M [00:01<00:00, 723kB/s]\n",
      "Downloading data: 100%|██████████| 1.25M/1.25M [00:00<00:00, 1.61MB/s]\n",
      "Downloading data: 100%|██████████| 1.22M/1.22M [00:00<00:00, 1.82MB/s]\n",
      "Downloading data: 100%|██████████| 1.26M/1.26M [00:00<00:00, 1.88MB/s]\n"
     ]
    },
    {
     "data": {
      "application/vnd.jupyter.widget-view+json": {
       "model_id": "594e00a57ad74a72a8272f5e192fcf01",
       "version_major": 2,
       "version_minor": 0
      },
      "text/plain": [
       "Generating train split:   0%|          | 0/392702 [00:00<?, ? examples/s]"
      ]
     },
     "metadata": {},
     "output_type": "display_data"
    },
    {
     "data": {
      "application/vnd.jupyter.widget-view+json": {
       "model_id": "5d313726368f4bbd8758237efea5e9b0",
       "version_major": 2,
       "version_minor": 0
      },
      "text/plain": [
       "Generating validation_matched split:   0%|          | 0/9815 [00:00<?, ? examples/s]"
      ]
     },
     "metadata": {},
     "output_type": "display_data"
    },
    {
     "data": {
      "application/vnd.jupyter.widget-view+json": {
       "model_id": "fe31578490694f449c9003851be33319",
       "version_major": 2,
       "version_minor": 0
      },
      "text/plain": [
       "Generating validation_mismatched split:   0%|          | 0/9832 [00:00<?, ? examples/s]"
      ]
     },
     "metadata": {},
     "output_type": "display_data"
    },
    {
     "data": {
      "application/vnd.jupyter.widget-view+json": {
       "model_id": "36d416be82c84502995fd779be675742",
       "version_major": 2,
       "version_minor": 0
      },
      "text/plain": [
       "Generating test_matched split:   0%|          | 0/9796 [00:00<?, ? examples/s]"
      ]
     },
     "metadata": {},
     "output_type": "display_data"
    },
    {
     "data": {
      "application/vnd.jupyter.widget-view+json": {
       "model_id": "184e885065d54f299e6bf2a0f190094d",
       "version_major": 2,
       "version_minor": 0
      },
      "text/plain": [
       "Generating test_mismatched split:   0%|          | 0/9847 [00:00<?, ? examples/s]"
      ]
     },
     "metadata": {},
     "output_type": "display_data"
    },
    {
     "data": {
      "application/vnd.jupyter.widget-view+json": {
       "model_id": "16da807e92674315af59542089112de4",
       "version_major": 2,
       "version_minor": 0
      },
      "text/plain": [
       "Map:   0%|          | 0/392702 [00:00<?, ? examples/s]"
      ]
     },
     "metadata": {},
     "output_type": "display_data"
    },
    {
     "data": {
      "application/vnd.jupyter.widget-view+json": {
       "model_id": "b5617b109a2c4bbea143e85dbd2743ff",
       "version_major": 2,
       "version_minor": 0
      },
      "text/plain": [
       "Map:   0%|          | 0/9815 [00:00<?, ? examples/s]"
      ]
     },
     "metadata": {},
     "output_type": "display_data"
    },
    {
     "data": {
      "application/vnd.jupyter.widget-view+json": {
       "model_id": "66654ab3024c43e7a3d987ad199df9d7",
       "version_major": 2,
       "version_minor": 0
      },
      "text/plain": [
       "Map:   0%|          | 0/9832 [00:00<?, ? examples/s]"
      ]
     },
     "metadata": {},
     "output_type": "display_data"
    },
    {
     "data": {
      "application/vnd.jupyter.widget-view+json": {
       "model_id": "cf03c1fec0e844ebb040cf810d5d5aca",
       "version_major": 2,
       "version_minor": 0
      },
      "text/plain": [
       "Map:   0%|          | 0/9796 [00:00<?, ? examples/s]"
      ]
     },
     "metadata": {},
     "output_type": "display_data"
    },
    {
     "data": {
      "application/vnd.jupyter.widget-view+json": {
       "model_id": "d6fcdba1547e4eccaea98a4874adf933",
       "version_major": 2,
       "version_minor": 0
      },
      "text/plain": [
       "Map:   0%|          | 0/9847 [00:00<?, ? examples/s]"
      ]
     },
     "metadata": {},
     "output_type": "display_data"
    }
   ],
   "source": [
    "if any(k in model_name_or_path for k in (\"gpt\", \"opt\", \"bloom\")):\n",
    "    padding_side = \"left\"\n",
    "else:\n",
    "    padding_side = \"right\"\n",
    "\n",
    "tokenizer = AutoTokenizer.from_pretrained(model_name_or_path, padding_side=padding_side)\n",
    "if getattr(tokenizer, \"pad_token_id\") is None:\n",
    "    tokenizer.pad_token_id = tokenizer.eos_token_id\n",
    "\n",
    "datasets = load_dataset(\"glue\", task)\n",
    "metric = evaluate.load(\"glue\", task)\n",
    "\n",
    "\n",
    "def tokenize_function(examples):\n",
    "    # max_length=None => use the model max length (it's actually the default)\n",
    "    outputs = tokenizer(examples['premise'], examples['hypothesis'], truncation=True, max_length=None)\n",
    "    return outputs\n",
    "\n",
    "\n",
    "tokenized_datasets = datasets.map(\n",
    "    tokenize_function,\n",
    "    batched=True,\n",
    "    remove_columns=[\"idx\", \"premise\", \"hypothesis\"],\n",
    ")\n",
    "\n",
    "# We also rename the 'label' column to 'labels' which is the expected name for labels by the models of the\n",
    "# transformers library\n",
    "tokenized_datasets = tokenized_datasets.rename_column(\"label\", \"labels\")\n",
    "\n",
    "\n",
    "def collate_fn(examples):\n",
    "    return tokenizer.pad(examples, padding=\"longest\", return_tensors=\"pt\")\n",
    "\n",
    "\n",
    "# Instantiate dataloaders.\n",
    "train_dataloader = DataLoader(tokenized_datasets[\"train\"], shuffle=True, collate_fn=collate_fn, batch_size=batch_size)\n",
    "eval_dataloader = DataLoader(\n",
    "    tokenized_datasets[\"validation_matched\"], shuffle=False, collate_fn=collate_fn, batch_size=batch_size\n",
    ")\n",
    "mismatch_dataloader = DataLoader(\n",
    "    tokenized_datasets[\"validation_mismatched\"], shuffle=False, collate_fn=collate_fn, batch_size=batch_size\n",
    ")\n",
    "# test_dataloader = DataLoader(\n",
    "#     tokenized_datasets[\"test\"], shuffle=False, collate_fn=collate_fn, batch_size=batch_size\n",
    "# )"
   ]
  },
  {
   "cell_type": "code",
   "execution_count": 6,
   "metadata": {},
   "outputs": [],
   "source": [
    "# datasets[]"
   ]
  },
  {
   "cell_type": "code",
   "execution_count": 7,
   "metadata": {},
   "outputs": [
    {
     "name": "stderr",
     "output_type": "stream",
     "text": [
      "Some weights of RobertaForSequenceClassification were not initialized from the model checkpoint at roberta-large and are newly initialized: ['classifier.dense.bias', 'classifier.dense.weight', 'classifier.out_proj.bias', 'classifier.out_proj.weight']\n",
      "You should probably TRAIN this model on a down-stream task to be able to use it for predictions and inference.\n"
     ]
    },
    {
     "name": "stdout",
     "output_type": "stream",
     "text": [
      "trainable params: 1,445,891 || all params: 356,808,710 || trainable%: 0.4052\n"
     ]
    },
    {
     "data": {
      "text/plain": [
       "PeftModelForSequenceClassification(\n",
       "  (base_model): LoraModel(\n",
       "    (model): RobertaForSequenceClassification(\n",
       "      (roberta): RobertaModel(\n",
       "        (embeddings): RobertaEmbeddings(\n",
       "          (word_embeddings): Embedding(50265, 1024, padding_idx=1)\n",
       "          (position_embeddings): Embedding(514, 1024, padding_idx=1)\n",
       "          (token_type_embeddings): Embedding(1, 1024)\n",
       "          (LayerNorm): LayerNorm((1024,), eps=1e-05, elementwise_affine=True)\n",
       "          (dropout): Dropout(p=0.1, inplace=False)\n",
       "        )\n",
       "        (encoder): RobertaEncoder(\n",
       "          (layer): ModuleList(\n",
       "            (0-23): 24 x RobertaLayer(\n",
       "              (attention): RobertaAttention(\n",
       "                (self): RobertaSdpaSelfAttention(\n",
       "                  (query): lora.Linear(\n",
       "                    (base_layer): Linear(in_features=1024, out_features=1024, bias=True)\n",
       "                    (lora_dropout): ModuleDict(\n",
       "                      (default): Dropout(p=0.1, inplace=False)\n",
       "                    )\n",
       "                    (lora_A): ModuleDict(\n",
       "                      (default): Linear(in_features=1024, out_features=4, bias=False)\n",
       "                    )\n",
       "                    (lora_B): ModuleDict(\n",
       "                      (default): Linear(in_features=4, out_features=1024, bias=False)\n",
       "                    )\n",
       "                    (lora_embedding_A): ParameterDict()\n",
       "                    (lora_embedding_B): ParameterDict()\n",
       "                    (lora_magnitude_vector): ModuleDict()\n",
       "                  )\n",
       "                  (key): Linear(in_features=1024, out_features=1024, bias=True)\n",
       "                  (value): lora.Linear(\n",
       "                    (base_layer): Linear(in_features=1024, out_features=1024, bias=True)\n",
       "                    (lora_dropout): ModuleDict(\n",
       "                      (default): Dropout(p=0.1, inplace=False)\n",
       "                    )\n",
       "                    (lora_A): ModuleDict(\n",
       "                      (default): Linear(in_features=1024, out_features=4, bias=False)\n",
       "                    )\n",
       "                    (lora_B): ModuleDict(\n",
       "                      (default): Linear(in_features=4, out_features=1024, bias=False)\n",
       "                    )\n",
       "                    (lora_embedding_A): ParameterDict()\n",
       "                    (lora_embedding_B): ParameterDict()\n",
       "                    (lora_magnitude_vector): ModuleDict()\n",
       "                  )\n",
       "                  (dropout): Dropout(p=0.1, inplace=False)\n",
       "                )\n",
       "                (output): RobertaSelfOutput(\n",
       "                  (dense): Linear(in_features=1024, out_features=1024, bias=True)\n",
       "                  (LayerNorm): LayerNorm((1024,), eps=1e-05, elementwise_affine=True)\n",
       "                  (dropout): Dropout(p=0.1, inplace=False)\n",
       "                )\n",
       "              )\n",
       "              (intermediate): RobertaIntermediate(\n",
       "                (dense): Linear(in_features=1024, out_features=4096, bias=True)\n",
       "                (intermediate_act_fn): GELUActivation()\n",
       "              )\n",
       "              (output): RobertaOutput(\n",
       "                (dense): Linear(in_features=4096, out_features=1024, bias=True)\n",
       "                (LayerNorm): LayerNorm((1024,), eps=1e-05, elementwise_affine=True)\n",
       "                (dropout): Dropout(p=0.1, inplace=False)\n",
       "              )\n",
       "            )\n",
       "          )\n",
       "        )\n",
       "      )\n",
       "      (classifier): ModulesToSaveWrapper(\n",
       "        (original_module): RobertaClassificationHead(\n",
       "          (dense): Linear(in_features=1024, out_features=1024, bias=True)\n",
       "          (dropout): Dropout(p=0.1, inplace=False)\n",
       "          (out_proj): Linear(in_features=1024, out_features=3, bias=True)\n",
       "        )\n",
       "        (modules_to_save): ModuleDict(\n",
       "          (default): RobertaClassificationHead(\n",
       "            (dense): Linear(in_features=1024, out_features=1024, bias=True)\n",
       "            (dropout): Dropout(p=0.1, inplace=False)\n",
       "            (out_proj): Linear(in_features=1024, out_features=3, bias=True)\n",
       "          )\n",
       "        )\n",
       "      )\n",
       "    )\n",
       "  )\n",
       ")"
      ]
     },
     "execution_count": 7,
     "metadata": {},
     "output_type": "execute_result"
    }
   ],
   "source": [
    "model = AutoModelForSequenceClassification.from_pretrained(model_name_or_path, num_labels=3, return_dict=True)\n",
    "model = get_peft_model(model, peft_config)\n",
    "model.print_trainable_parameters()\n",
    "model"
   ]
  },
  {
   "cell_type": "code",
   "execution_count": 8,
   "metadata": {},
   "outputs": [],
   "source": [
    "def print_trainable_parameters(model):\n",
    "    \"\"\"\n",
    "    Prints the number of trainable parameters in the model.\n",
    "    \"\"\"\n",
    "    trainable_params = 0\n",
    "    all_param = 0\n",
    "    for _, param in model.named_parameters():\n",
    "        all_param += param.numel()\n",
    "        if param.requires_grad:\n",
    "            trainable_params += param.numel()\n",
    "    print(\n",
    "        f\"trainable params: {trainable_params} || all params: {all_param} || trainable%: {100 * trainable_params / all_param:.2f}\"\n",
    "    )"
   ]
  },
  {
   "cell_type": "code",
   "execution_count": 9,
   "metadata": {},
   "outputs": [
    {
     "name": "stdout",
     "output_type": "stream",
     "text": [
      "trainable params: 1445891 || all params: 356808710 || trainable%: 0.41\n"
     ]
    }
   ],
   "source": [
    "print_trainable_parameters(model)"
   ]
  },
  {
   "cell_type": "code",
   "execution_count": 10,
   "metadata": {},
   "outputs": [],
   "source": [
    "optimizer = AdamW(params=model.parameters(), lr=lr)\n",
    "\n",
    "# Instantiate scheduler\n",
    "lr_scheduler = get_linear_schedule_with_warmup(\n",
    "    optimizer=optimizer,\n",
    "    num_warmup_steps=0.06 * (len(train_dataloader) * num_epochs),\n",
    "    num_training_steps=(len(train_dataloader) * num_epochs),\n",
    ")"
   ]
  },
  {
   "cell_type": "code",
   "execution_count": 11,
   "metadata": {},
   "outputs": [],
   "source": [
    "from modules.clientSST import *"
   ]
  },
  {
   "cell_type": "code",
   "execution_count": 12,
   "metadata": {},
   "outputs": [],
   "source": [
    "from torch.optim import AdamW\n",
    "# Create clients (e.g., 3 clients)\n",
    "num_clients = 3\n",
    "\n",
    "# Get the total length of the dataset\n",
    "total_len = len(tokenized_datasets[\"train\"])\n",
    "\n",
    "# Calculate the number of samples per client and the remainder\n",
    "split_size = total_len // num_clients\n",
    "remainder = total_len % num_clients\n",
    "\n",
    "# Create list for splits\n",
    "split_lengths = [split_size] * num_clients\n",
    "\n",
    "# Distribute the remainder among the first few clients\n",
    "for i in range(remainder):\n",
    "    split_lengths[i] += 1\n",
    "\n",
    "# Perform the split\n",
    "# client_data_splits = torch.utils.data.random_split(train_dataloader, split_lengths)\n",
    "train_dataloader = torch.utils.data.random_split(tokenized_datasets[\"train\"], split_lengths)\n",
    "client_data_splits = [DataLoader(train_dataloader[i], shuffle=True, collate_fn=collate_fn, batch_size=batch_size) for i in range(num_clients)]\n",
    "clients = [ClientSST(client_id=i, model=copy.deepcopy(model), data=client_data_splits[i], device=device) for i in range(num_clients)]"
   ]
  },
  {
   "cell_type": "code",
   "execution_count": 13,
   "metadata": {},
   "outputs": [],
   "source": [
    "from modules.server import *\n",
    "server = Server(global_model=model, device=device)"
   ]
  },
  {
   "cell_type": "code",
   "execution_count": 14,
   "metadata": {},
   "outputs": [
    {
     "name": "stderr",
     "output_type": "stream",
     "text": [
      "11/06/2024 15:02:39:ERROR:Failed to detect the name of this notebook, you can set it manually with the WANDB_NOTEBOOK_NAME environment variable to enable code saving.\n",
      "\u001b[34m\u001b[1mwandb\u001b[0m: Currently logged in as: \u001b[33mkenlvq\u001b[0m (\u001b[33mquanla\u001b[0m). Use \u001b[1m`wandb login --relogin`\u001b[0m to force relogin\n"
     ]
    },
    {
     "data": {
      "application/vnd.jupyter.widget-view+json": {
       "model_id": "ea7cc3179e204ebeb36c440b4460389f",
       "version_major": 2,
       "version_minor": 0
      },
      "text/plain": [
       "VBox(children=(Label(value='Waiting for wandb.init()...\\r'), FloatProgress(value=0.011113053104943699, max=1.0…"
      ]
     },
     "metadata": {},
     "output_type": "display_data"
    },
    {
     "data": {
      "text/html": [
       "wandb version 0.18.5 is available!  To upgrade, please run:\n",
       " $ pip install wandb --upgrade"
      ],
      "text/plain": [
       "<IPython.core.display.HTML object>"
      ]
     },
     "metadata": {},
     "output_type": "display_data"
    },
    {
     "data": {
      "text/html": [
       "Tracking run with wandb version 0.16.3"
      ],
      "text/plain": [
       "<IPython.core.display.HTML object>"
      ]
     },
     "metadata": {},
     "output_type": "display_data"
    },
    {
     "data": {
      "text/html": [
       "Run data is saved locally in <code>/home/qula0496/quan/fedora/wandb/run-20241106_150243-9zmwuvb1</code>"
      ],
      "text/plain": [
       "<IPython.core.display.HTML object>"
      ]
     },
     "metadata": {},
     "output_type": "display_data"
    },
    {
     "data": {
      "text/html": [
       "Syncing run <strong><a href='https://wandb.ai/quanla/FeDORA%20Project%20-%20MNLI/runs/9zmwuvb1' target=\"_blank\">LoRA</a></strong> to <a href='https://wandb.ai/quanla/FeDORA%20Project%20-%20MNLI' target=\"_blank\">Weights & Biases</a> (<a href='https://wandb.me/run' target=\"_blank\">docs</a>)<br/>"
      ],
      "text/plain": [
       "<IPython.core.display.HTML object>"
      ]
     },
     "metadata": {},
     "output_type": "display_data"
    },
    {
     "data": {
      "text/html": [
       " View project at <a href='https://wandb.ai/quanla/FeDORA%20Project%20-%20MNLI' target=\"_blank\">https://wandb.ai/quanla/FeDORA%20Project%20-%20MNLI</a>"
      ],
      "text/plain": [
       "<IPython.core.display.HTML object>"
      ]
     },
     "metadata": {},
     "output_type": "display_data"
    },
    {
     "data": {
      "text/html": [
       " View run at <a href='https://wandb.ai/quanla/FeDORA%20Project%20-%20MNLI/runs/9zmwuvb1' target=\"_blank\">https://wandb.ai/quanla/FeDORA%20Project%20-%20MNLI/runs/9zmwuvb1</a>"
      ],
      "text/plain": [
       "<IPython.core.display.HTML object>"
      ]
     },
     "metadata": {},
     "output_type": "display_data"
    },
    {
     "data": {
      "text/html": [
       "<button onClick=\"this.nextSibling.style.display='block';this.style.display='none';\">Display W&B run</button><iframe src='https://wandb.ai/quanla/FeDORA%20Project%20-%20MNLI/runs/9zmwuvb1?jupyter=true' style='border:none;width:100%;height:420px;display:none;'></iframe>"
      ],
      "text/plain": [
       "<wandb.sdk.wandb_run.Run at 0x7f93a68c3c70>"
      ]
     },
     "execution_count": 14,
     "metadata": {},
     "output_type": "execute_result"
    }
   ],
   "source": [
    "import wandb\n",
    "wandb.init(project=\"FeDORA Project - MNLI\", entity=\"quanla\", name=\"LoRA\")"
   ]
  },
  {
   "cell_type": "code",
   "execution_count": 15,
   "metadata": {},
   "outputs": [
    {
     "name": "stdout",
     "output_type": "stream",
     "text": [
      "\n",
      "--- Federated Learning Round 1 ---\n",
      "\n",
      "Training Client 0\n"
     ]
    },
    {
     "name": "stderr",
     "output_type": "stream",
     "text": [
      "  0%|          | 0/8182 [00:00<?, ?it/s]You're using a RobertaTokenizerFast tokenizer. Please note that with a fast tokenizer, using the `__call__` method is faster than using a method to encode the text followed by a call to the `pad` method to get a padded encoding.\n",
      "100%|██████████| 8182/8182 [08:58<00:00, 15.21it/s]\n",
      "100%|██████████| 8182/8182 [08:12<00:00, 16.62it/s]\n",
      "100%|██████████| 8182/8182 [08:05<00:00, 16.86it/s]\n",
      "100%|██████████| 8182/8182 [08:05<00:00, 16.85it/s]\n",
      "100%|██████████| 8182/8182 [08:04<00:00, 16.87it/s]\n"
     ]
    },
    {
     "name": "stdout",
     "output_type": "stream",
     "text": [
      "\n",
      "Training Client 1\n"
     ]
    },
    {
     "name": "stderr",
     "output_type": "stream",
     "text": [
      "100%|██████████| 8182/8182 [08:05<00:00, 16.84it/s]\n",
      "100%|██████████| 8182/8182 [08:05<00:00, 16.84it/s]\n",
      "100%|██████████| 8182/8182 [08:06<00:00, 16.83it/s]\n",
      "100%|██████████| 8182/8182 [08:05<00:00, 16.84it/s]\n",
      "100%|██████████| 8182/8182 [08:06<00:00, 16.83it/s]\n"
     ]
    },
    {
     "name": "stdout",
     "output_type": "stream",
     "text": [
      "\n",
      "Training Client 2\n"
     ]
    },
    {
     "name": "stderr",
     "output_type": "stream",
     "text": [
      "100%|██████████| 8182/8182 [08:06<00:00, 16.81it/s]\n",
      "100%|██████████| 8182/8182 [08:06<00:00, 16.82it/s]\n",
      "100%|██████████| 8182/8182 [08:06<00:00, 16.81it/s]\n",
      "100%|██████████| 8182/8182 [08:06<00:00, 16.82it/s]\n",
      "100%|██████████| 8182/8182 [08:05<00:00, 16.84it/s]\n"
     ]
    },
    {
     "name": "stdout",
     "output_type": "stream",
     "text": [
      "\n",
      "Aggregating client models on the server...\n"
     ]
    },
    {
     "name": "stderr",
     "output_type": "stream",
     "text": [
      "100%|██████████| 614/614 [00:17<00:00, 34.57it/s]\n"
     ]
    },
    {
     "name": "stdout",
     "output_type": "stream",
     "text": [
      "{'accuracy': 0.8967906265919511}\n",
      "\n",
      "--- Federated Learning Round 2 ---\n",
      "\n",
      "Training Client 0\n"
     ]
    },
    {
     "name": "stderr",
     "output_type": "stream",
     "text": [
      "100%|██████████| 8182/8182 [08:07<00:00, 16.80it/s]\n",
      "100%|██████████| 8182/8182 [08:06<00:00, 16.82it/s]\n",
      "100%|██████████| 8182/8182 [08:08<00:00, 16.75it/s]\n",
      "100%|██████████| 8182/8182 [08:06<00:00, 16.81it/s]\n",
      "100%|██████████| 8182/8182 [08:07<00:00, 16.78it/s]\n"
     ]
    },
    {
     "name": "stdout",
     "output_type": "stream",
     "text": [
      "\n",
      "Training Client 1\n"
     ]
    },
    {
     "name": "stderr",
     "output_type": "stream",
     "text": [
      "100%|██████████| 8182/8182 [08:07<00:00, 16.78it/s]\n",
      "100%|██████████| 8182/8182 [08:07<00:00, 16.79it/s]\n",
      "100%|██████████| 8182/8182 [08:06<00:00, 16.83it/s]\n",
      "100%|██████████| 8182/8182 [08:06<00:00, 16.82it/s]\n",
      "100%|██████████| 8182/8182 [08:10<00:00, 16.69it/s]\n"
     ]
    },
    {
     "name": "stdout",
     "output_type": "stream",
     "text": [
      "\n",
      "Training Client 2\n"
     ]
    },
    {
     "name": "stderr",
     "output_type": "stream",
     "text": [
      "100%|██████████| 8182/8182 [08:05<00:00, 16.84it/s]\n",
      "100%|██████████| 8182/8182 [08:12<00:00, 16.61it/s]\n",
      "100%|██████████| 8182/8182 [08:06<00:00, 16.83it/s]\n",
      "100%|██████████| 8182/8182 [08:06<00:00, 16.81it/s]\n",
      "100%|██████████| 8182/8182 [08:11<00:00, 16.65it/s]\n"
     ]
    },
    {
     "name": "stdout",
     "output_type": "stream",
     "text": [
      "\n",
      "Aggregating client models on the server...\n"
     ]
    },
    {
     "name": "stderr",
     "output_type": "stream",
     "text": [
      "100%|██████████| 614/614 [00:17<00:00, 34.47it/s]\n"
     ]
    },
    {
     "name": "stdout",
     "output_type": "stream",
     "text": [
      "{'accuracy': 0.9020886398369842}\n",
      "\n",
      "--- Federated Learning Round 3 ---\n",
      "\n",
      "Training Client 0\n"
     ]
    },
    {
     "name": "stderr",
     "output_type": "stream",
     "text": [
      "100%|██████████| 8182/8182 [08:07<00:00, 16.78it/s]\n",
      "100%|██████████| 8182/8182 [08:06<00:00, 16.81it/s]\n",
      "100%|██████████| 8182/8182 [08:07<00:00, 16.77it/s]\n",
      "100%|██████████| 8182/8182 [08:09<00:00, 16.72it/s]\n",
      "100%|██████████| 8182/8182 [08:06<00:00, 16.80it/s]\n"
     ]
    },
    {
     "name": "stdout",
     "output_type": "stream",
     "text": [
      "\n",
      "Training Client 1\n"
     ]
    },
    {
     "name": "stderr",
     "output_type": "stream",
     "text": [
      "100%|██████████| 8182/8182 [08:07<00:00, 16.79it/s]\n",
      "100%|██████████| 8182/8182 [08:13<00:00, 16.59it/s]\n",
      "100%|██████████| 8182/8182 [08:05<00:00, 16.84it/s]\n",
      "100%|██████████| 8182/8182 [08:07<00:00, 16.79it/s]\n",
      "100%|██████████| 8182/8182 [08:07<00:00, 16.80it/s]\n"
     ]
    },
    {
     "name": "stdout",
     "output_type": "stream",
     "text": [
      "\n",
      "Training Client 2\n"
     ]
    },
    {
     "name": "stderr",
     "output_type": "stream",
     "text": [
      "100%|██████████| 8182/8182 [08:05<00:00, 16.86it/s]\n",
      "100%|██████████| 8182/8182 [08:06<00:00, 16.81it/s]\n",
      "100%|██████████| 8182/8182 [08:06<00:00, 16.83it/s]\n",
      "100%|██████████| 8182/8182 [08:07<00:00, 16.79it/s]\n",
      "100%|██████████| 8182/8182 [08:06<00:00, 16.81it/s]\n"
     ]
    },
    {
     "name": "stdout",
     "output_type": "stream",
     "text": [
      "\n",
      "Aggregating client models on the server...\n"
     ]
    },
    {
     "name": "stderr",
     "output_type": "stream",
     "text": [
      "100%|██████████| 614/614 [00:17<00:00, 34.42it/s]\n"
     ]
    },
    {
     "name": "stdout",
     "output_type": "stream",
     "text": [
      "{'accuracy': 0.9030056036678553}\n",
      "\n",
      "--- Federated Learning Round 4 ---\n",
      "\n",
      "Training Client 0\n"
     ]
    },
    {
     "name": "stderr",
     "output_type": "stream",
     "text": [
      "100%|██████████| 8182/8182 [08:08<00:00, 16.75it/s]\n",
      "100%|██████████| 8182/8182 [08:08<00:00, 16.75it/s]\n",
      "100%|██████████| 8182/8182 [08:07<00:00, 16.79it/s]\n",
      "100%|██████████| 8182/8182 [08:06<00:00, 16.83it/s]\n",
      "100%|██████████| 8182/8182 [08:07<00:00, 16.78it/s]\n"
     ]
    },
    {
     "name": "stdout",
     "output_type": "stream",
     "text": [
      "\n",
      "Training Client 1\n"
     ]
    },
    {
     "name": "stderr",
     "output_type": "stream",
     "text": [
      "100%|██████████| 8182/8182 [08:05<00:00, 16.84it/s]\n",
      "100%|██████████| 8182/8182 [08:07<00:00, 16.79it/s]\n",
      "100%|██████████| 8182/8182 [08:06<00:00, 16.81it/s]\n",
      "100%|██████████| 8182/8182 [08:06<00:00, 16.82it/s]\n",
      "100%|██████████| 8182/8182 [08:05<00:00, 16.85it/s]\n"
     ]
    },
    {
     "name": "stdout",
     "output_type": "stream",
     "text": [
      "\n",
      "Training Client 2\n"
     ]
    },
    {
     "name": "stderr",
     "output_type": "stream",
     "text": [
      "100%|██████████| 8182/8182 [08:06<00:00, 16.81it/s]\n",
      "100%|██████████| 8182/8182 [08:06<00:00, 16.82it/s]\n",
      "100%|██████████| 8182/8182 [08:06<00:00, 16.82it/s]\n",
      "100%|██████████| 8182/8182 [08:10<00:00, 16.67it/s]\n",
      "100%|██████████| 8182/8182 [08:07<00:00, 16.77it/s]\n"
     ]
    },
    {
     "name": "stdout",
     "output_type": "stream",
     "text": [
      "\n",
      "Aggregating client models on the server...\n"
     ]
    },
    {
     "name": "stderr",
     "output_type": "stream",
     "text": [
      "100%|██████████| 614/614 [00:18<00:00, 33.38it/s]\n"
     ]
    },
    {
     "name": "stdout",
     "output_type": "stream",
     "text": [
      "{'accuracy': 0.9042282221090168}\n",
      "\n",
      "--- Federated Learning Round 5 ---\n",
      "\n",
      "Training Client 0\n"
     ]
    },
    {
     "name": "stderr",
     "output_type": "stream",
     "text": [
      "100%|██████████| 8182/8182 [08:07<00:00, 16.78it/s]\n",
      "100%|██████████| 8182/8182 [08:06<00:00, 16.81it/s]\n",
      "100%|██████████| 8182/8182 [08:10<00:00, 16.69it/s]\n",
      "100%|██████████| 8182/8182 [08:08<00:00, 16.76it/s]\n",
      "100%|██████████| 8182/8182 [08:07<00:00, 16.80it/s]\n"
     ]
    },
    {
     "name": "stdout",
     "output_type": "stream",
     "text": [
      "\n",
      "Training Client 1\n"
     ]
    },
    {
     "name": "stderr",
     "output_type": "stream",
     "text": [
      "100%|██████████| 8182/8182 [08:12<00:00, 16.62it/s]\n",
      "100%|██████████| 8182/8182 [08:12<00:00, 16.60it/s]\n",
      "100%|██████████| 8182/8182 [08:06<00:00, 16.81it/s]\n",
      "100%|██████████| 8182/8182 [08:06<00:00, 16.81it/s]\n",
      "100%|██████████| 8182/8182 [08:08<00:00, 16.75it/s]\n"
     ]
    },
    {
     "name": "stdout",
     "output_type": "stream",
     "text": [
      "\n",
      "Training Client 2\n"
     ]
    },
    {
     "name": "stderr",
     "output_type": "stream",
     "text": [
      "100%|██████████| 8182/8182 [08:07<00:00, 16.79it/s]\n",
      "100%|██████████| 8182/8182 [08:06<00:00, 16.83it/s]\n",
      "100%|██████████| 8182/8182 [08:06<00:00, 16.80it/s]\n",
      "100%|██████████| 8182/8182 [08:07<00:00, 16.78it/s]\n",
      "100%|██████████| 8182/8182 [08:07<00:00, 16.78it/s]\n"
     ]
    },
    {
     "name": "stdout",
     "output_type": "stream",
     "text": [
      "\n",
      "Aggregating client models on the server...\n"
     ]
    },
    {
     "name": "stderr",
     "output_type": "stream",
     "text": [
      "100%|██████████| 614/614 [00:17<00:00, 34.46it/s]\n"
     ]
    },
    {
     "name": "stdout",
     "output_type": "stream",
     "text": [
      "{'accuracy': 0.9014773306164034}\n",
      "\n",
      "--- Federated Learning Round 6 ---\n",
      "\n",
      "Training Client 0\n"
     ]
    },
    {
     "name": "stderr",
     "output_type": "stream",
     "text": [
      "100%|██████████| 8182/8182 [08:09<00:00, 16.71it/s]\n",
      "100%|██████████| 8182/8182 [08:08<00:00, 16.75it/s]\n",
      "100%|██████████| 8182/8182 [08:08<00:00, 16.76it/s]\n",
      "100%|██████████| 8182/8182 [08:07<00:00, 16.79it/s]\n",
      "100%|██████████| 8182/8182 [08:08<00:00, 16.76it/s]\n"
     ]
    },
    {
     "name": "stdout",
     "output_type": "stream",
     "text": [
      "\n",
      "Training Client 1\n"
     ]
    },
    {
     "name": "stderr",
     "output_type": "stream",
     "text": [
      "100%|██████████| 8182/8182 [08:09<00:00, 16.72it/s]\n",
      "100%|██████████| 8182/8182 [08:06<00:00, 16.82it/s]\n",
      "100%|██████████| 8182/8182 [08:08<00:00, 16.76it/s]\n",
      "100%|██████████| 8182/8182 [08:06<00:00, 16.82it/s]\n",
      "100%|██████████| 8182/8182 [08:07<00:00, 16.77it/s]\n"
     ]
    },
    {
     "name": "stdout",
     "output_type": "stream",
     "text": [
      "\n",
      "Training Client 2\n"
     ]
    },
    {
     "name": "stderr",
     "output_type": "stream",
     "text": [
      "100%|██████████| 8182/8182 [08:07<00:00, 16.78it/s]\n",
      "100%|██████████| 8182/8182 [08:06<00:00, 16.83it/s]\n",
      "100%|██████████| 8182/8182 [08:12<00:00, 16.60it/s]\n",
      "100%|██████████| 8182/8182 [08:06<00:00, 16.81it/s]\n",
      "100%|██████████| 8182/8182 [08:06<00:00, 16.82it/s]\n"
     ]
    },
    {
     "name": "stdout",
     "output_type": "stream",
     "text": [
      "\n",
      "Aggregating client models on the server...\n"
     ]
    },
    {
     "name": "stderr",
     "output_type": "stream",
     "text": [
      "100%|██████████| 614/614 [00:17<00:00, 34.47it/s]\n"
     ]
    },
    {
     "name": "stdout",
     "output_type": "stream",
     "text": [
      "{'accuracy': 0.9055527254202751}\n",
      "\n",
      "--- Federated Learning Round 7 ---\n",
      "\n",
      "Training Client 0\n"
     ]
    },
    {
     "name": "stderr",
     "output_type": "stream",
     "text": [
      "100%|██████████| 8182/8182 [08:10<00:00, 16.68it/s]\n",
      "100%|██████████| 8182/8182 [08:06<00:00, 16.81it/s]\n",
      "100%|██████████| 8182/8182 [08:07<00:00, 16.77it/s]\n",
      "100%|██████████| 8182/8182 [08:07<00:00, 16.77it/s]\n",
      "100%|██████████| 8182/8182 [08:08<00:00, 16.76it/s]\n"
     ]
    },
    {
     "name": "stdout",
     "output_type": "stream",
     "text": [
      "\n",
      "Training Client 1\n"
     ]
    },
    {
     "name": "stderr",
     "output_type": "stream",
     "text": [
      "100%|██████████| 8182/8182 [08:12<00:00, 16.62it/s]\n",
      "100%|██████████| 8182/8182 [08:06<00:00, 16.81it/s]\n",
      "100%|██████████| 8182/8182 [08:13<00:00, 16.57it/s]\n",
      "100%|██████████| 8182/8182 [08:06<00:00, 16.82it/s]\n",
      "100%|██████████| 8182/8182 [08:08<00:00, 16.77it/s]\n"
     ]
    },
    {
     "name": "stdout",
     "output_type": "stream",
     "text": [
      "\n",
      "Training Client 2\n"
     ]
    },
    {
     "name": "stderr",
     "output_type": "stream",
     "text": [
      "100%|██████████| 8182/8182 [08:08<00:00, 16.76it/s]\n",
      "100%|██████████| 8182/8182 [08:06<00:00, 16.83it/s]\n",
      "100%|██████████| 8182/8182 [08:08<00:00, 16.75it/s]\n",
      "100%|██████████| 8182/8182 [08:11<00:00, 16.64it/s]\n",
      "100%|██████████| 8182/8182 [08:05<00:00, 16.85it/s]\n"
     ]
    },
    {
     "name": "stdout",
     "output_type": "stream",
     "text": [
      "\n",
      "Aggregating client models on the server...\n"
     ]
    },
    {
     "name": "stderr",
     "output_type": "stream",
     "text": [
      "100%|██████████| 614/614 [00:17<00:00, 34.36it/s]\n"
     ]
    },
    {
     "name": "stdout",
     "output_type": "stream",
     "text": [
      "{'accuracy': 0.9042282221090168}\n",
      "\n",
      "--- Federated Learning Round 8 ---\n",
      "\n",
      "Training Client 0\n"
     ]
    },
    {
     "name": "stderr",
     "output_type": "stream",
     "text": [
      "100%|██████████| 8182/8182 [08:08<00:00, 16.74it/s]\n",
      "100%|██████████| 8182/8182 [08:09<00:00, 16.72it/s]\n",
      "100%|██████████| 8182/8182 [08:08<00:00, 16.75it/s]\n",
      "100%|██████████| 8182/8182 [08:07<00:00, 16.79it/s]\n",
      "100%|██████████| 8182/8182 [08:07<00:00, 16.79it/s]\n"
     ]
    },
    {
     "name": "stdout",
     "output_type": "stream",
     "text": [
      "\n",
      "Training Client 1\n"
     ]
    },
    {
     "name": "stderr",
     "output_type": "stream",
     "text": [
      "100%|██████████| 8182/8182 [08:07<00:00, 16.79it/s]\n",
      "100%|██████████| 8182/8182 [08:07<00:00, 16.79it/s]\n",
      "100%|██████████| 8182/8182 [08:07<00:00, 16.78it/s]\n",
      "100%|██████████| 8182/8182 [08:06<00:00, 16.83it/s]\n",
      "100%|██████████| 8182/8182 [08:07<00:00, 16.80it/s]\n"
     ]
    },
    {
     "name": "stdout",
     "output_type": "stream",
     "text": [
      "\n",
      "Training Client 2\n"
     ]
    },
    {
     "name": "stderr",
     "output_type": "stream",
     "text": [
      "100%|██████████| 8182/8182 [08:06<00:00, 16.82it/s]\n",
      "100%|██████████| 8182/8182 [08:11<00:00, 16.64it/s]\n",
      "100%|██████████| 8182/8182 [08:05<00:00, 16.84it/s]\n",
      "100%|██████████| 8182/8182 [08:11<00:00, 16.65it/s]\n",
      "100%|██████████| 8182/8182 [08:09<00:00, 16.71it/s]\n"
     ]
    },
    {
     "name": "stdout",
     "output_type": "stream",
     "text": [
      "\n",
      "Aggregating client models on the server...\n"
     ]
    },
    {
     "name": "stderr",
     "output_type": "stream",
     "text": [
      "100%|██████████| 614/614 [00:17<00:00, 34.42it/s]\n"
     ]
    },
    {
     "name": "stdout",
     "output_type": "stream",
     "text": [
      "{'accuracy': 0.9040244523688232}\n",
      "\n",
      "--- Federated Learning Round 9 ---\n",
      "\n",
      "Training Client 0\n"
     ]
    },
    {
     "name": "stderr",
     "output_type": "stream",
     "text": [
      "100%|██████████| 8182/8182 [08:06<00:00, 16.81it/s]\n",
      "100%|██████████| 8182/8182 [08:07<00:00, 16.77it/s]\n",
      "100%|██████████| 8182/8182 [08:08<00:00, 16.74it/s]\n",
      "100%|██████████| 8182/8182 [08:06<00:00, 16.81it/s]\n",
      "100%|██████████| 8182/8182 [08:07<00:00, 16.77it/s]\n"
     ]
    },
    {
     "name": "stdout",
     "output_type": "stream",
     "text": [
      "\n",
      "Training Client 1\n"
     ]
    },
    {
     "name": "stderr",
     "output_type": "stream",
     "text": [
      "100%|██████████| 8182/8182 [08:06<00:00, 16.81it/s]\n",
      "100%|██████████| 8182/8182 [08:11<00:00, 16.65it/s]\n",
      "100%|██████████| 8182/8182 [08:06<00:00, 16.82it/s]\n",
      "100%|██████████| 8182/8182 [08:09<00:00, 16.71it/s]\n",
      "100%|██████████| 8182/8182 [08:08<00:00, 16.74it/s]\n"
     ]
    },
    {
     "name": "stdout",
     "output_type": "stream",
     "text": [
      "\n",
      "Training Client 2\n"
     ]
    },
    {
     "name": "stderr",
     "output_type": "stream",
     "text": [
      "100%|██████████| 8182/8182 [08:07<00:00, 16.80it/s]\n",
      "100%|██████████| 8182/8182 [08:07<00:00, 16.78it/s]\n",
      "100%|██████████| 8182/8182 [08:06<00:00, 16.83it/s]\n",
      "100%|██████████| 8182/8182 [08:07<00:00, 16.80it/s]\n",
      "100%|██████████| 8182/8182 [08:08<00:00, 16.75it/s]\n"
     ]
    },
    {
     "name": "stdout",
     "output_type": "stream",
     "text": [
      "\n",
      "Aggregating client models on the server...\n"
     ]
    },
    {
     "name": "stderr",
     "output_type": "stream",
     "text": [
      "100%|██████████| 614/614 [00:17<00:00, 34.47it/s]\n"
     ]
    },
    {
     "name": "stdout",
     "output_type": "stream",
     "text": [
      "{'accuracy': 0.904635761589404}\n",
      "\n",
      "--- Federated Learning Round 10 ---\n",
      "\n",
      "Training Client 0\n"
     ]
    },
    {
     "name": "stderr",
     "output_type": "stream",
     "text": [
      "100%|██████████| 8182/8182 [08:07<00:00, 16.80it/s]\n",
      "100%|██████████| 8182/8182 [08:07<00:00, 16.78it/s]\n",
      "100%|██████████| 8182/8182 [08:07<00:00, 16.79it/s]\n",
      "100%|██████████| 8182/8182 [08:07<00:00, 16.79it/s]\n",
      "100%|██████████| 8182/8182 [08:07<00:00, 16.78it/s]\n"
     ]
    },
    {
     "name": "stdout",
     "output_type": "stream",
     "text": [
      "\n",
      "Training Client 1\n"
     ]
    },
    {
     "name": "stderr",
     "output_type": "stream",
     "text": [
      "100%|██████████| 8182/8182 [08:07<00:00, 16.80it/s]\n",
      "100%|██████████| 8182/8182 [08:07<00:00, 16.77it/s]\n",
      "100%|██████████| 8182/8182 [08:07<00:00, 16.79it/s]\n",
      "100%|██████████| 8182/8182 [08:07<00:00, 16.79it/s]\n",
      "100%|██████████| 8182/8182 [08:12<00:00, 16.63it/s]\n"
     ]
    },
    {
     "name": "stdout",
     "output_type": "stream",
     "text": [
      "\n",
      "Training Client 2\n"
     ]
    },
    {
     "name": "stderr",
     "output_type": "stream",
     "text": [
      "100%|██████████| 8182/8182 [08:06<00:00, 16.81it/s]\n",
      "100%|██████████| 8182/8182 [08:06<00:00, 16.83it/s]\n",
      "100%|██████████| 8182/8182 [08:06<00:00, 16.80it/s]\n",
      "100%|██████████| 8182/8182 [08:07<00:00, 16.79it/s]\n",
      "100%|██████████| 8182/8182 [08:06<00:00, 16.82it/s]\n"
     ]
    },
    {
     "name": "stdout",
     "output_type": "stream",
     "text": [
      "\n",
      "Aggregating client models on the server...\n"
     ]
    },
    {
     "name": "stderr",
     "output_type": "stream",
     "text": [
      "100%|██████████| 614/614 [00:17<00:00, 34.43it/s]\n"
     ]
    },
    {
     "name": "stdout",
     "output_type": "stream",
     "text": [
      "{'accuracy': 0.903616912888436}\n",
      "\n",
      "--- Federated Learning Round 11 ---\n",
      "\n",
      "Training Client 0\n"
     ]
    },
    {
     "name": "stderr",
     "output_type": "stream",
     "text": [
      "100%|██████████| 8182/8182 [08:07<00:00, 16.78it/s]\n",
      "100%|██████████| 8182/8182 [08:09<00:00, 16.71it/s]\n",
      "100%|██████████| 8182/8182 [08:08<00:00, 16.75it/s]\n",
      "100%|██████████| 8182/8182 [08:07<00:00, 16.77it/s]\n",
      "100%|██████████| 8182/8182 [08:07<00:00, 16.79it/s]\n"
     ]
    },
    {
     "name": "stdout",
     "output_type": "stream",
     "text": [
      "\n",
      "Training Client 1\n"
     ]
    },
    {
     "name": "stderr",
     "output_type": "stream",
     "text": [
      "100%|██████████| 8182/8182 [08:08<00:00, 16.76it/s]\n",
      "100%|██████████| 8182/8182 [08:09<00:00, 16.70it/s]\n",
      "100%|██████████| 8182/8182 [08:07<00:00, 16.80it/s]\n",
      "100%|██████████| 8182/8182 [08:07<00:00, 16.78it/s]\n",
      "100%|██████████| 8182/8182 [08:07<00:00, 16.80it/s]\n"
     ]
    },
    {
     "name": "stdout",
     "output_type": "stream",
     "text": [
      "\n",
      "Training Client 2\n"
     ]
    },
    {
     "name": "stderr",
     "output_type": "stream",
     "text": [
      "100%|██████████| 8182/8182 [08:07<00:00, 16.80it/s]\n",
      "100%|██████████| 8182/8182 [08:12<00:00, 16.61it/s]\n",
      "100%|██████████| 8182/8182 [08:06<00:00, 16.82it/s]\n",
      "100%|██████████| 8182/8182 [08:06<00:00, 16.81it/s]\n",
      "100%|██████████| 8182/8182 [08:06<00:00, 16.83it/s]\n"
     ]
    },
    {
     "name": "stdout",
     "output_type": "stream",
     "text": [
      "\n",
      "Aggregating client models on the server...\n"
     ]
    },
    {
     "name": "stderr",
     "output_type": "stream",
     "text": [
      "100%|██████████| 614/614 [00:17<00:00, 34.36it/s]\n"
     ]
    },
    {
     "name": "stdout",
     "output_type": "stream",
     "text": [
      "{'accuracy': 0.9018848700967906}\n",
      "\n",
      "--- Federated Learning Round 12 ---\n",
      "\n",
      "Training Client 0\n"
     ]
    },
    {
     "name": "stderr",
     "output_type": "stream",
     "text": [
      "100%|██████████| 8182/8182 [08:08<00:00, 16.77it/s]\n",
      "100%|██████████| 8182/8182 [08:07<00:00, 16.79it/s]\n",
      "100%|██████████| 8182/8182 [08:06<00:00, 16.81it/s]\n",
      "100%|██████████| 8182/8182 [08:07<00:00, 16.77it/s]\n",
      "100%|██████████| 8182/8182 [08:07<00:00, 16.79it/s]\n"
     ]
    },
    {
     "name": "stdout",
     "output_type": "stream",
     "text": [
      "\n",
      "Training Client 1\n"
     ]
    },
    {
     "name": "stderr",
     "output_type": "stream",
     "text": [
      "100%|██████████| 8182/8182 [08:09<00:00, 16.73it/s]\n",
      "100%|██████████| 8182/8182 [08:07<00:00, 16.79it/s]\n",
      "100%|██████████| 8182/8182 [08:07<00:00, 16.78it/s]\n",
      "100%|██████████| 8182/8182 [08:16<00:00, 16.48it/s]\n",
      "100%|██████████| 8182/8182 [08:06<00:00, 16.80it/s]\n"
     ]
    },
    {
     "name": "stdout",
     "output_type": "stream",
     "text": [
      "\n",
      "Training Client 2\n"
     ]
    },
    {
     "name": "stderr",
     "output_type": "stream",
     "text": [
      "100%|██████████| 8182/8182 [08:06<00:00, 16.83it/s]\n",
      "100%|██████████| 8182/8182 [08:06<00:00, 16.80it/s]\n",
      "100%|██████████| 8182/8182 [08:06<00:00, 16.81it/s]\n",
      "100%|██████████| 8182/8182 [08:07<00:00, 16.80it/s]\n",
      "100%|██████████| 8182/8182 [08:07<00:00, 16.79it/s]\n"
     ]
    },
    {
     "name": "stdout",
     "output_type": "stream",
     "text": [
      "\n",
      "Aggregating client models on the server...\n"
     ]
    },
    {
     "name": "stderr",
     "output_type": "stream",
     "text": [
      "100%|██████████| 614/614 [00:17<00:00, 34.40it/s]\n"
     ]
    },
    {
     "name": "stdout",
     "output_type": "stream",
     "text": [
      "{'accuracy': 0.9021905247070809}\n",
      "\n",
      "--- Federated Learning Round 13 ---\n",
      "\n",
      "Training Client 0\n"
     ]
    },
    {
     "name": "stderr",
     "output_type": "stream",
     "text": [
      "100%|██████████| 8182/8182 [08:07<00:00, 16.79it/s]\n",
      "100%|██████████| 8182/8182 [08:07<00:00, 16.79it/s]\n",
      "100%|██████████| 8182/8182 [08:11<00:00, 16.65it/s]\n",
      "100%|██████████| 8182/8182 [08:08<00:00, 16.76it/s]\n",
      "100%|██████████| 8182/8182 [08:07<00:00, 16.79it/s]\n"
     ]
    },
    {
     "name": "stdout",
     "output_type": "stream",
     "text": [
      "\n",
      "Training Client 1\n"
     ]
    },
    {
     "name": "stderr",
     "output_type": "stream",
     "text": [
      "100%|██████████| 8182/8182 [08:07<00:00, 16.79it/s]\n",
      "100%|██████████| 8182/8182 [08:07<00:00, 16.79it/s]\n",
      "100%|██████████| 8182/8182 [08:07<00:00, 16.77it/s]\n",
      "100%|██████████| 8182/8182 [08:07<00:00, 16.79it/s]\n",
      "100%|██████████| 8182/8182 [08:07<00:00, 16.78it/s]\n"
     ]
    },
    {
     "name": "stdout",
     "output_type": "stream",
     "text": [
      "\n",
      "Training Client 2\n"
     ]
    },
    {
     "name": "stderr",
     "output_type": "stream",
     "text": [
      "100%|██████████| 8182/8182 [08:08<00:00, 16.74it/s]\n",
      "100%|██████████| 8182/8182 [08:07<00:00, 16.78it/s]\n",
      "100%|██████████| 8182/8182 [08:08<00:00, 16.74it/s]\n",
      "100%|██████████| 8182/8182 [08:10<00:00, 16.69it/s]\n",
      "100%|██████████| 8182/8182 [08:07<00:00, 16.78it/s]\n"
     ]
    },
    {
     "name": "stdout",
     "output_type": "stream",
     "text": [
      "\n",
      "Aggregating client models on the server...\n"
     ]
    },
    {
     "name": "stderr",
     "output_type": "stream",
     "text": [
      "100%|██████████| 614/614 [00:17<00:00, 34.45it/s]\n"
     ]
    },
    {
     "name": "stdout",
     "output_type": "stream",
     "text": [
      "{'accuracy': 0.9017829852266939}\n",
      "\n",
      "--- Federated Learning Round 14 ---\n",
      "\n",
      "Training Client 0\n"
     ]
    },
    {
     "name": "stderr",
     "output_type": "stream",
     "text": [
      "100%|██████████| 8182/8182 [08:07<00:00, 16.77it/s]\n",
      "100%|██████████| 8182/8182 [08:07<00:00, 16.77it/s]\n",
      "100%|██████████| 8182/8182 [08:11<00:00, 16.66it/s]\n",
      "100%|██████████| 8182/8182 [08:07<00:00, 16.79it/s]\n",
      "100%|██████████| 8182/8182 [08:07<00:00, 16.78it/s]\n"
     ]
    },
    {
     "name": "stdout",
     "output_type": "stream",
     "text": [
      "\n",
      "Training Client 1\n"
     ]
    },
    {
     "name": "stderr",
     "output_type": "stream",
     "text": [
      "100%|██████████| 8182/8182 [08:06<00:00, 16.80it/s]\n",
      "100%|██████████| 8182/8182 [08:06<00:00, 16.83it/s]\n",
      "100%|██████████| 8182/8182 [08:11<00:00, 16.64it/s]\n",
      "100%|██████████| 8182/8182 [08:07<00:00, 16.78it/s]\n",
      "100%|██████████| 8182/8182 [08:06<00:00, 16.81it/s]\n"
     ]
    },
    {
     "name": "stdout",
     "output_type": "stream",
     "text": [
      "\n",
      "Training Client 2\n"
     ]
    },
    {
     "name": "stderr",
     "output_type": "stream",
     "text": [
      "100%|██████████| 8182/8182 [08:09<00:00, 16.72it/s]\n",
      "100%|██████████| 8182/8182 [08:06<00:00, 16.81it/s]\n",
      "100%|██████████| 8182/8182 [08:06<00:00, 16.83it/s]\n",
      "100%|██████████| 8182/8182 [08:06<00:00, 16.80it/s]\n",
      "100%|██████████| 8182/8182 [08:07<00:00, 16.77it/s]\n"
     ]
    },
    {
     "name": "stdout",
     "output_type": "stream",
     "text": [
      "\n",
      "Aggregating client models on the server...\n"
     ]
    },
    {
     "name": "stderr",
     "output_type": "stream",
     "text": [
      "100%|██████████| 614/614 [00:17<00:00, 34.41it/s]\n"
     ]
    },
    {
     "name": "stdout",
     "output_type": "stream",
     "text": [
      "{'accuracy': 0.9014773306164034}\n",
      "\n",
      "--- Federated Learning Round 15 ---\n",
      "\n",
      "Training Client 0\n"
     ]
    },
    {
     "name": "stderr",
     "output_type": "stream",
     "text": [
      "100%|██████████| 8182/8182 [08:09<00:00, 16.71it/s]\n",
      "100%|██████████| 8182/8182 [08:07<00:00, 16.79it/s]\n",
      "100%|██████████| 8182/8182 [08:07<00:00, 16.77it/s]\n",
      "100%|██████████| 8182/8182 [08:09<00:00, 16.72it/s]\n",
      "100%|██████████| 8182/8182 [08:07<00:00, 16.79it/s]\n"
     ]
    },
    {
     "name": "stdout",
     "output_type": "stream",
     "text": [
      "\n",
      "Training Client 1\n"
     ]
    },
    {
     "name": "stderr",
     "output_type": "stream",
     "text": [
      "100%|██████████| 8182/8182 [08:07<00:00, 16.78it/s]\n",
      "100%|██████████| 8182/8182 [08:07<00:00, 16.78it/s]\n",
      "100%|██████████| 8182/8182 [08:07<00:00, 16.79it/s]\n",
      "100%|██████████| 8182/8182 [08:07<00:00, 16.78it/s]\n",
      "100%|██████████| 8182/8182 [08:07<00:00, 16.79it/s]\n"
     ]
    },
    {
     "name": "stdout",
     "output_type": "stream",
     "text": [
      "\n",
      "Training Client 2\n"
     ]
    },
    {
     "name": "stderr",
     "output_type": "stream",
     "text": [
      "100%|██████████| 8182/8182 [08:08<00:00, 16.73it/s]\n",
      "100%|██████████| 8182/8182 [08:07<00:00, 16.78it/s]\n",
      "100%|██████████| 8182/8182 [08:06<00:00, 16.83it/s]\n",
      "100%|██████████| 8182/8182 [08:06<00:00, 16.82it/s]\n",
      "100%|██████████| 8182/8182 [08:06<00:00, 16.81it/s]\n"
     ]
    },
    {
     "name": "stdout",
     "output_type": "stream",
     "text": [
      "\n",
      "Aggregating client models on the server...\n"
     ]
    },
    {
     "name": "stderr",
     "output_type": "stream",
     "text": [
      "100%|██████████| 614/614 [00:17<00:00, 34.53it/s]\n"
     ]
    },
    {
     "name": "stdout",
     "output_type": "stream",
     "text": [
      "{'accuracy': 0.9022924095771778}\n",
      "\n",
      "--- Federated Learning Round 16 ---\n",
      "\n",
      "Training Client 0\n"
     ]
    },
    {
     "name": "stderr",
     "output_type": "stream",
     "text": [
      "100%|██████████| 8182/8182 [08:08<00:00, 16.75it/s]\n",
      "100%|██████████| 8182/8182 [08:12<00:00, 16.61it/s]\n",
      "100%|██████████| 8182/8182 [08:08<00:00, 16.75it/s]\n",
      "100%|██████████| 8182/8182 [08:07<00:00, 16.79it/s]\n",
      "100%|██████████| 8182/8182 [08:07<00:00, 16.79it/s]\n"
     ]
    },
    {
     "name": "stdout",
     "output_type": "stream",
     "text": [
      "\n",
      "Training Client 1\n"
     ]
    },
    {
     "name": "stderr",
     "output_type": "stream",
     "text": [
      "100%|██████████| 8182/8182 [08:09<00:00, 16.70it/s]\n",
      "100%|██████████| 8182/8182 [08:15<00:00, 16.50it/s]\n",
      "100%|██████████| 8182/8182 [08:06<00:00, 16.81it/s]\n",
      "100%|██████████| 8182/8182 [08:08<00:00, 16.77it/s]\n",
      "100%|██████████| 8182/8182 [08:07<00:00, 16.79it/s]\n"
     ]
    },
    {
     "name": "stdout",
     "output_type": "stream",
     "text": [
      "\n",
      "Training Client 2\n"
     ]
    },
    {
     "name": "stderr",
     "output_type": "stream",
     "text": [
      "100%|██████████| 8182/8182 [08:05<00:00, 16.85it/s]\n",
      "100%|██████████| 8182/8182 [08:07<00:00, 16.80it/s]\n",
      "100%|██████████| 8182/8182 [08:05<00:00, 16.85it/s]\n",
      "100%|██████████| 8182/8182 [08:05<00:00, 16.84it/s]\n",
      "100%|██████████| 8182/8182 [08:06<00:00, 16.83it/s]\n"
     ]
    },
    {
     "name": "stdout",
     "output_type": "stream",
     "text": [
      "\n",
      "Aggregating client models on the server...\n"
     ]
    },
    {
     "name": "stderr",
     "output_type": "stream",
     "text": [
      "100%|██████████| 614/614 [00:17<00:00, 34.34it/s]\n"
     ]
    },
    {
     "name": "stdout",
     "output_type": "stream",
     "text": [
      "{'accuracy': 0.9020886398369842}\n",
      "\n",
      "--- Federated Learning Round 17 ---\n",
      "\n",
      "Training Client 0\n"
     ]
    },
    {
     "name": "stderr",
     "output_type": "stream",
     "text": [
      "100%|██████████| 8182/8182 [08:06<00:00, 16.80it/s]\n",
      "100%|██████████| 8182/8182 [08:07<00:00, 16.80it/s]\n",
      "100%|██████████| 8182/8182 [08:13<00:00, 16.57it/s]\n",
      "100%|██████████| 8182/8182 [08:06<00:00, 16.81it/s]\n",
      "100%|██████████| 8182/8182 [08:10<00:00, 16.67it/s]\n"
     ]
    },
    {
     "name": "stdout",
     "output_type": "stream",
     "text": [
      "\n",
      "Training Client 1\n"
     ]
    },
    {
     "name": "stderr",
     "output_type": "stream",
     "text": [
      "100%|██████████| 8182/8182 [08:06<00:00, 16.81it/s]\n",
      "100%|██████████| 8182/8182 [08:07<00:00, 16.79it/s]\n",
      "100%|██████████| 8182/8182 [08:11<00:00, 16.63it/s]\n",
      "100%|██████████| 8182/8182 [08:08<00:00, 16.75it/s]\n",
      "100%|██████████| 8182/8182 [08:07<00:00, 16.77it/s]\n"
     ]
    },
    {
     "name": "stdout",
     "output_type": "stream",
     "text": [
      "\n",
      "Training Client 2\n"
     ]
    },
    {
     "name": "stderr",
     "output_type": "stream",
     "text": [
      "100%|██████████| 8182/8182 [08:06<00:00, 16.81it/s]\n",
      "100%|██████████| 8182/8182 [08:07<00:00, 16.78it/s]\n",
      "100%|██████████| 8182/8182 [08:10<00:00, 16.67it/s]\n",
      "100%|██████████| 8182/8182 [08:07<00:00, 16.79it/s]\n",
      "100%|██████████| 8182/8182 [08:05<00:00, 16.84it/s]\n"
     ]
    },
    {
     "name": "stdout",
     "output_type": "stream",
     "text": [
      "\n",
      "Aggregating client models on the server...\n"
     ]
    },
    {
     "name": "stderr",
     "output_type": "stream",
     "text": [
      "100%|██████████| 614/614 [00:17<00:00, 34.45it/s]\n"
     ]
    },
    {
     "name": "stdout",
     "output_type": "stream",
     "text": [
      "{'accuracy': 0.9025980641874681}\n",
      "\n",
      "--- Federated Learning Round 18 ---\n",
      "\n",
      "Training Client 0\n"
     ]
    },
    {
     "name": "stderr",
     "output_type": "stream",
     "text": [
      "100%|██████████| 8182/8182 [08:07<00:00, 16.79it/s]\n",
      "100%|██████████| 8182/8182 [08:12<00:00, 16.63it/s]\n",
      "100%|██████████| 8182/8182 [08:07<00:00, 16.79it/s]\n",
      "100%|██████████| 8182/8182 [08:08<00:00, 16.75it/s]\n",
      "100%|██████████| 8182/8182 [08:07<00:00, 16.78it/s]\n"
     ]
    },
    {
     "name": "stdout",
     "output_type": "stream",
     "text": [
      "\n",
      "Training Client 1\n"
     ]
    },
    {
     "name": "stderr",
     "output_type": "stream",
     "text": [
      "100%|██████████| 8182/8182 [08:14<00:00, 16.56it/s]\n",
      "100%|██████████| 8182/8182 [08:07<00:00, 16.77it/s]\n",
      "100%|██████████| 8182/8182 [08:07<00:00, 16.80it/s]\n",
      "100%|██████████| 8182/8182 [08:09<00:00, 16.73it/s]\n",
      "100%|██████████| 8182/8182 [08:07<00:00, 16.79it/s]\n"
     ]
    },
    {
     "name": "stdout",
     "output_type": "stream",
     "text": [
      "\n",
      "Training Client 2\n"
     ]
    },
    {
     "name": "stderr",
     "output_type": "stream",
     "text": [
      "100%|██████████| 8182/8182 [08:06<00:00, 16.83it/s]\n",
      "100%|██████████| 8182/8182 [08:07<00:00, 16.79it/s]\n",
      "100%|██████████| 8182/8182 [08:06<00:00, 16.84it/s]\n",
      "100%|██████████| 8182/8182 [08:07<00:00, 16.79it/s]\n",
      "100%|██████████| 8182/8182 [08:07<00:00, 16.79it/s]\n"
     ]
    },
    {
     "name": "stdout",
     "output_type": "stream",
     "text": [
      "\n",
      "Aggregating client models on the server...\n"
     ]
    },
    {
     "name": "stderr",
     "output_type": "stream",
     "text": [
      "100%|██████████| 614/614 [00:18<00:00, 33.85it/s]\n"
     ]
    },
    {
     "name": "stdout",
     "output_type": "stream",
     "text": [
      "{'accuracy': 0.9014773306164034}\n",
      "\n",
      "--- Federated Learning Round 19 ---\n",
      "\n",
      "Training Client 0\n"
     ]
    },
    {
     "name": "stderr",
     "output_type": "stream",
     "text": [
      "100%|██████████| 8182/8182 [08:09<00:00, 16.71it/s]\n",
      "100%|██████████| 8182/8182 [08:10<00:00, 16.67it/s]\n",
      "100%|██████████| 8182/8182 [08:09<00:00, 16.72it/s]\n",
      "100%|██████████| 8182/8182 [08:09<00:00, 16.70it/s]\n",
      "100%|██████████| 8182/8182 [08:06<00:00, 16.81it/s]\n"
     ]
    },
    {
     "name": "stdout",
     "output_type": "stream",
     "text": [
      "\n",
      "Training Client 1\n"
     ]
    },
    {
     "name": "stderr",
     "output_type": "stream",
     "text": [
      "100%|██████████| 8182/8182 [08:15<00:00, 16.52it/s]\n",
      "100%|██████████| 8182/8182 [08:06<00:00, 16.81it/s]\n",
      "100%|██████████| 8182/8182 [08:06<00:00, 16.81it/s]\n",
      "100%|██████████| 8182/8182 [08:08<00:00, 16.75it/s]\n",
      "100%|██████████| 8182/8182 [08:06<00:00, 16.82it/s]\n"
     ]
    },
    {
     "name": "stdout",
     "output_type": "stream",
     "text": [
      "\n",
      "Training Client 2\n"
     ]
    },
    {
     "name": "stderr",
     "output_type": "stream",
     "text": [
      "100%|██████████| 8182/8182 [08:06<00:00, 16.81it/s]\n",
      "100%|██████████| 8182/8182 [08:06<00:00, 16.81it/s]\n",
      "100%|██████████| 8182/8182 [08:05<00:00, 16.85it/s]\n",
      "100%|██████████| 8182/8182 [08:06<00:00, 16.80it/s]\n",
      "100%|██████████| 8182/8182 [08:07<00:00, 16.78it/s]\n"
     ]
    },
    {
     "name": "stdout",
     "output_type": "stream",
     "text": [
      "\n",
      "Aggregating client models on the server...\n"
     ]
    },
    {
     "name": "stderr",
     "output_type": "stream",
     "text": [
      "100%|██████████| 614/614 [00:17<00:00, 34.43it/s]\n"
     ]
    },
    {
     "name": "stdout",
     "output_type": "stream",
     "text": [
      "{'accuracy': 0.900764136525726}\n",
      "\n",
      "--- Federated Learning Round 20 ---\n",
      "\n",
      "Training Client 0\n"
     ]
    },
    {
     "name": "stderr",
     "output_type": "stream",
     "text": [
      "100%|██████████| 8182/8182 [08:07<00:00, 16.79it/s]\n",
      "100%|██████████| 8182/8182 [08:08<00:00, 16.75it/s]\n",
      "100%|██████████| 8182/8182 [08:08<00:00, 16.76it/s]\n",
      "100%|██████████| 8182/8182 [08:14<00:00, 16.56it/s]\n",
      "100%|██████████| 8182/8182 [08:10<00:00, 16.67it/s]\n"
     ]
    },
    {
     "name": "stdout",
     "output_type": "stream",
     "text": [
      "\n",
      "Training Client 1\n"
     ]
    },
    {
     "name": "stderr",
     "output_type": "stream",
     "text": [
      "100%|██████████| 8182/8182 [08:09<00:00, 16.70it/s]\n",
      "100%|██████████| 8182/8182 [08:10<00:00, 16.70it/s]\n",
      "100%|██████████| 8182/8182 [08:07<00:00, 16.79it/s]\n",
      "100%|██████████| 8182/8182 [08:06<00:00, 16.83it/s]\n",
      "100%|██████████| 8182/8182 [08:07<00:00, 16.78it/s]\n"
     ]
    },
    {
     "name": "stdout",
     "output_type": "stream",
     "text": [
      "\n",
      "Training Client 2\n"
     ]
    },
    {
     "name": "stderr",
     "output_type": "stream",
     "text": [
      "100%|██████████| 8182/8182 [08:07<00:00, 16.78it/s]\n",
      "100%|██████████| 8182/8182 [08:07<00:00, 16.80it/s]\n",
      "100%|██████████| 8182/8182 [08:06<00:00, 16.81it/s]\n",
      "100%|██████████| 8182/8182 [08:07<00:00, 16.80it/s]\n",
      "100%|██████████| 8182/8182 [08:07<00:00, 16.80it/s]\n"
     ]
    },
    {
     "name": "stdout",
     "output_type": "stream",
     "text": [
      "\n",
      "Aggregating client models on the server...\n"
     ]
    },
    {
     "name": "stderr",
     "output_type": "stream",
     "text": [
      "100%|██████████| 614/614 [00:17<00:00, 34.44it/s]\n"
     ]
    },
    {
     "name": "stdout",
     "output_type": "stream",
     "text": [
      "{'accuracy': 0.9014773306164034}\n",
      "\n",
      "--- Federated Learning Round 21 ---\n",
      "\n",
      "Training Client 0\n"
     ]
    },
    {
     "name": "stderr",
     "output_type": "stream",
     "text": [
      "100%|██████████| 8182/8182 [08:11<00:00, 16.65it/s]\n",
      "100%|██████████| 8182/8182 [08:08<00:00, 16.75it/s]\n",
      "100%|██████████| 8182/8182 [08:07<00:00, 16.78it/s]\n",
      "100%|██████████| 8182/8182 [08:06<00:00, 16.81it/s]\n",
      "100%|██████████| 8182/8182 [08:10<00:00, 16.68it/s]\n"
     ]
    },
    {
     "name": "stdout",
     "output_type": "stream",
     "text": [
      "\n",
      "Training Client 1\n"
     ]
    },
    {
     "name": "stderr",
     "output_type": "stream",
     "text": [
      "100%|██████████| 8182/8182 [08:07<00:00, 16.78it/s]\n",
      "100%|██████████| 8182/8182 [08:09<00:00, 16.72it/s]\n",
      "100%|██████████| 8182/8182 [08:07<00:00, 16.78it/s]\n",
      "100%|██████████| 8182/8182 [08:07<00:00, 16.78it/s]\n",
      "100%|██████████| 8182/8182 [08:06<00:00, 16.81it/s]\n"
     ]
    },
    {
     "name": "stdout",
     "output_type": "stream",
     "text": [
      "\n",
      "Training Client 2\n"
     ]
    },
    {
     "name": "stderr",
     "output_type": "stream",
     "text": [
      "100%|██████████| 8182/8182 [08:06<00:00, 16.81it/s]\n",
      "100%|██████████| 8182/8182 [08:06<00:00, 16.81it/s]\n",
      "100%|██████████| 8182/8182 [08:06<00:00, 16.80it/s]\n",
      "100%|██████████| 8182/8182 [08:06<00:00, 16.82it/s]\n",
      "100%|██████████| 8182/8182 [08:06<00:00, 16.81it/s]\n"
     ]
    },
    {
     "name": "stdout",
     "output_type": "stream",
     "text": [
      "\n",
      "Aggregating client models on the server...\n"
     ]
    },
    {
     "name": "stderr",
     "output_type": "stream",
     "text": [
      "100%|██████████| 614/614 [00:17<00:00, 34.61it/s]\n"
     ]
    },
    {
     "name": "stdout",
     "output_type": "stream",
     "text": [
      "{'accuracy': 0.9004584819154355}\n",
      "\n",
      "--- Federated Learning Round 22 ---\n",
      "\n",
      "Training Client 0\n"
     ]
    },
    {
     "name": "stderr",
     "output_type": "stream",
     "text": [
      "100%|██████████| 8182/8182 [08:06<00:00, 16.81it/s]\n",
      "100%|██████████| 8182/8182 [08:07<00:00, 16.80it/s]\n",
      "100%|██████████| 8182/8182 [08:14<00:00, 16.55it/s]\n",
      "100%|██████████| 8182/8182 [08:10<00:00, 16.68it/s]\n",
      "100%|██████████| 8182/8182 [08:07<00:00, 16.78it/s]\n"
     ]
    },
    {
     "name": "stdout",
     "output_type": "stream",
     "text": [
      "\n",
      "Training Client 1\n"
     ]
    },
    {
     "name": "stderr",
     "output_type": "stream",
     "text": [
      "100%|██████████| 8182/8182 [08:10<00:00, 16.69it/s]\n",
      "100%|██████████| 8182/8182 [08:13<00:00, 16.58it/s]\n",
      "100%|██████████| 8182/8182 [08:07<00:00, 16.80it/s]\n",
      "100%|██████████| 8182/8182 [08:07<00:00, 16.77it/s]\n",
      "100%|██████████| 8182/8182 [08:07<00:00, 16.80it/s]\n"
     ]
    },
    {
     "name": "stdout",
     "output_type": "stream",
     "text": [
      "\n",
      "Training Client 2\n"
     ]
    },
    {
     "name": "stderr",
     "output_type": "stream",
     "text": [
      "100%|██████████| 8182/8182 [08:07<00:00, 16.80it/s]\n",
      "100%|██████████| 8182/8182 [08:07<00:00, 16.78it/s]\n",
      "100%|██████████| 8182/8182 [08:08<00:00, 16.76it/s]\n",
      "100%|██████████| 8182/8182 [08:08<00:00, 16.76it/s]\n",
      "100%|██████████| 8182/8182 [08:07<00:00, 16.80it/s]\n"
     ]
    },
    {
     "name": "stdout",
     "output_type": "stream",
     "text": [
      "\n",
      "Aggregating client models on the server...\n"
     ]
    },
    {
     "name": "stderr",
     "output_type": "stream",
     "text": [
      "100%|██████████| 614/614 [00:17<00:00, 34.32it/s]\n"
     ]
    },
    {
     "name": "stdout",
     "output_type": "stream",
     "text": [
      "{'accuracy': 0.8990320937340804}\n",
      "\n",
      "--- Federated Learning Round 23 ---\n",
      "\n",
      "Training Client 0\n"
     ]
    },
    {
     "name": "stderr",
     "output_type": "stream",
     "text": [
      "100%|██████████| 8182/8182 [08:07<00:00, 16.77it/s]\n",
      "100%|██████████| 8182/8182 [08:09<00:00, 16.71it/s]\n",
      "100%|██████████| 8182/8182 [08:06<00:00, 16.80it/s]\n",
      "100%|██████████| 8182/8182 [08:09<00:00, 16.73it/s]\n",
      "100%|██████████| 8182/8182 [08:08<00:00, 16.76it/s]\n"
     ]
    },
    {
     "name": "stdout",
     "output_type": "stream",
     "text": [
      "\n",
      "Training Client 1\n"
     ]
    },
    {
     "name": "stderr",
     "output_type": "stream",
     "text": [
      "100%|██████████| 8182/8182 [08:07<00:00, 16.80it/s]\n",
      "100%|██████████| 8182/8182 [08:06<00:00, 16.80it/s]\n",
      "100%|██████████| 8182/8182 [08:08<00:00, 16.76it/s]\n",
      "100%|██████████| 8182/8182 [08:07<00:00, 16.80it/s]\n",
      "100%|██████████| 8182/8182 [08:08<00:00, 16.75it/s]\n"
     ]
    },
    {
     "name": "stdout",
     "output_type": "stream",
     "text": [
      "\n",
      "Training Client 2\n"
     ]
    },
    {
     "name": "stderr",
     "output_type": "stream",
     "text": [
      "100%|██████████| 8182/8182 [08:06<00:00, 16.81it/s]\n",
      "100%|██████████| 8182/8182 [08:06<00:00, 16.83it/s]\n",
      "100%|██████████| 8182/8182 [08:07<00:00, 16.80it/s]\n",
      "100%|██████████| 8182/8182 [08:07<00:00, 16.80it/s]\n",
      "100%|██████████| 8182/8182 [08:07<00:00, 16.77it/s]\n"
     ]
    },
    {
     "name": "stdout",
     "output_type": "stream",
     "text": [
      "\n",
      "Aggregating client models on the server...\n"
     ]
    },
    {
     "name": "stderr",
     "output_type": "stream",
     "text": [
      "100%|██████████| 614/614 [00:17<00:00, 34.47it/s]\n"
     ]
    },
    {
     "name": "stdout",
     "output_type": "stream",
     "text": [
      "{'accuracy': 0.8965868568517575}\n",
      "\n",
      "--- Federated Learning Round 24 ---\n",
      "\n",
      "Training Client 0\n"
     ]
    },
    {
     "name": "stderr",
     "output_type": "stream",
     "text": [
      "100%|██████████| 8182/8182 [08:06<00:00, 16.80it/s]\n",
      "100%|██████████| 8182/8182 [08:13<00:00, 16.57it/s]\n",
      "100%|██████████| 8182/8182 [08:09<00:00, 16.72it/s]\n",
      "100%|██████████| 8182/8182 [08:06<00:00, 16.81it/s]\n",
      "100%|██████████| 8182/8182 [08:07<00:00, 16.78it/s]\n"
     ]
    },
    {
     "name": "stdout",
     "output_type": "stream",
     "text": [
      "\n",
      "Training Client 1\n"
     ]
    },
    {
     "name": "stderr",
     "output_type": "stream",
     "text": [
      "100%|██████████| 8182/8182 [08:06<00:00, 16.81it/s]\n",
      "100%|██████████| 8182/8182 [08:07<00:00, 16.79it/s]\n",
      "100%|██████████| 8182/8182 [08:10<00:00, 16.70it/s]\n",
      "100%|██████████| 8182/8182 [08:07<00:00, 16.80it/s]\n",
      "100%|██████████| 8182/8182 [08:07<00:00, 16.77it/s]\n"
     ]
    },
    {
     "name": "stdout",
     "output_type": "stream",
     "text": [
      "\n",
      "Training Client 2\n"
     ]
    },
    {
     "name": "stderr",
     "output_type": "stream",
     "text": [
      "100%|██████████| 8182/8182 [08:08<00:00, 16.76it/s]\n",
      "100%|██████████| 8182/8182 [08:07<00:00, 16.80it/s]\n",
      "100%|██████████| 8182/8182 [08:06<00:00, 16.82it/s]\n",
      "100%|██████████| 8182/8182 [08:07<00:00, 16.79it/s]\n",
      "100%|██████████| 8182/8182 [08:07<00:00, 16.78it/s]\n"
     ]
    },
    {
     "name": "stdout",
     "output_type": "stream",
     "text": [
      "\n",
      "Aggregating client models on the server...\n"
     ]
    },
    {
     "name": "stderr",
     "output_type": "stream",
     "text": [
      "100%|██████████| 614/614 [00:17<00:00, 34.40it/s]\n"
     ]
    },
    {
     "name": "stdout",
     "output_type": "stream",
     "text": [
      "{'accuracy': 0.8977075904228222}\n",
      "\n",
      "--- Federated Learning Round 25 ---\n",
      "\n",
      "Training Client 0\n"
     ]
    },
    {
     "name": "stderr",
     "output_type": "stream",
     "text": [
      "100%|██████████| 8182/8182 [08:10<00:00, 16.68it/s]\n",
      "100%|██████████| 8182/8182 [08:14<00:00, 16.54it/s]\n",
      "100%|██████████| 8182/8182 [08:08<00:00, 16.75it/s]\n",
      "100%|██████████| 8182/8182 [08:08<00:00, 16.74it/s]\n",
      "100%|██████████| 8182/8182 [08:07<00:00, 16.78it/s]\n"
     ]
    },
    {
     "name": "stdout",
     "output_type": "stream",
     "text": [
      "\n",
      "Training Client 1\n"
     ]
    },
    {
     "name": "stderr",
     "output_type": "stream",
     "text": [
      "100%|██████████| 8182/8182 [08:07<00:00, 16.79it/s]\n",
      "100%|██████████| 8182/8182 [08:07<00:00, 16.78it/s]\n",
      "100%|██████████| 8182/8182 [08:10<00:00, 16.68it/s]\n",
      "100%|██████████| 8182/8182 [08:06<00:00, 16.81it/s]\n",
      "100%|██████████| 8182/8182 [08:07<00:00, 16.77it/s]\n"
     ]
    },
    {
     "name": "stdout",
     "output_type": "stream",
     "text": [
      "\n",
      "Training Client 2\n"
     ]
    },
    {
     "name": "stderr",
     "output_type": "stream",
     "text": [
      "100%|██████████| 8182/8182 [08:05<00:00, 16.85it/s]\n",
      "100%|██████████| 8182/8182 [08:09<00:00, 16.73it/s]\n",
      "100%|██████████| 8182/8182 [08:07<00:00, 16.78it/s]\n",
      "100%|██████████| 8182/8182 [08:06<00:00, 16.81it/s]\n",
      "100%|██████████| 8182/8182 [08:07<00:00, 16.77it/s]\n"
     ]
    },
    {
     "name": "stdout",
     "output_type": "stream",
     "text": [
      "\n",
      "Aggregating client models on the server...\n"
     ]
    },
    {
     "name": "stderr",
     "output_type": "stream",
     "text": [
      "100%|██████████| 614/614 [00:17<00:00, 34.57it/s]\n"
     ]
    },
    {
     "name": "stdout",
     "output_type": "stream",
     "text": [
      "{'accuracy': 0.8987264391237901}\n",
      "\n",
      "--- Federated Learning Round 26 ---\n",
      "\n",
      "Training Client 0\n"
     ]
    },
    {
     "name": "stderr",
     "output_type": "stream",
     "text": [
      "100%|██████████| 8182/8182 [08:10<00:00, 16.67it/s]\n",
      "100%|██████████| 8182/8182 [08:07<00:00, 16.78it/s]\n",
      "100%|██████████| 8182/8182 [08:09<00:00, 16.73it/s]\n",
      "100%|██████████| 8182/8182 [08:08<00:00, 16.76it/s]\n",
      "100%|██████████| 8182/8182 [08:11<00:00, 16.65it/s]\n"
     ]
    },
    {
     "name": "stdout",
     "output_type": "stream",
     "text": [
      "\n",
      "Training Client 1\n"
     ]
    },
    {
     "name": "stderr",
     "output_type": "stream",
     "text": [
      "100%|██████████| 8182/8182 [08:07<00:00, 16.77it/s]\n",
      "100%|██████████| 8182/8182 [08:07<00:00, 16.77it/s]\n",
      "100%|██████████| 8182/8182 [08:07<00:00, 16.78it/s]\n",
      "100%|██████████| 8182/8182 [08:07<00:00, 16.80it/s]\n",
      "100%|██████████| 8182/8182 [08:08<00:00, 16.75it/s]\n"
     ]
    },
    {
     "name": "stdout",
     "output_type": "stream",
     "text": [
      "\n",
      "Training Client 2\n"
     ]
    },
    {
     "name": "stderr",
     "output_type": "stream",
     "text": [
      "100%|██████████| 8182/8182 [08:05<00:00, 16.86it/s]\n",
      "100%|██████████| 8182/8182 [08:07<00:00, 16.80it/s]\n",
      "100%|██████████| 8182/8182 [08:11<00:00, 16.64it/s]\n",
      "100%|██████████| 8182/8182 [08:05<00:00, 16.85it/s]\n",
      "100%|██████████| 8182/8182 [08:06<00:00, 16.83it/s]\n"
     ]
    },
    {
     "name": "stdout",
     "output_type": "stream",
     "text": [
      "\n",
      "Aggregating client models on the server...\n"
     ]
    },
    {
     "name": "stderr",
     "output_type": "stream",
     "text": [
      "100%|██████████| 614/614 [00:17<00:00, 34.62it/s]\n"
     ]
    },
    {
     "name": "stdout",
     "output_type": "stream",
     "text": [
      "{'accuracy': 0.8996434029546613}\n",
      "\n",
      "--- Federated Learning Round 27 ---\n",
      "\n",
      "Training Client 0\n"
     ]
    },
    {
     "name": "stderr",
     "output_type": "stream",
     "text": [
      "100%|██████████| 8182/8182 [08:07<00:00, 16.79it/s]\n",
      "100%|██████████| 8182/8182 [08:07<00:00, 16.77it/s]\n",
      "100%|██████████| 8182/8182 [08:08<00:00, 16.76it/s]\n",
      "100%|██████████| 8182/8182 [08:09<00:00, 16.73it/s]\n",
      "100%|██████████| 8182/8182 [08:08<00:00, 16.75it/s]\n"
     ]
    },
    {
     "name": "stdout",
     "output_type": "stream",
     "text": [
      "\n",
      "Training Client 1\n"
     ]
    },
    {
     "name": "stderr",
     "output_type": "stream",
     "text": [
      "100%|██████████| 8182/8182 [08:07<00:00, 16.79it/s]\n",
      "100%|██████████| 8182/8182 [08:07<00:00, 16.79it/s]\n",
      "100%|██████████| 8182/8182 [08:06<00:00, 16.81it/s]\n",
      "100%|██████████| 8182/8182 [08:14<00:00, 16.56it/s]\n",
      "100%|██████████| 8182/8182 [08:09<00:00, 16.73it/s]\n"
     ]
    },
    {
     "name": "stdout",
     "output_type": "stream",
     "text": [
      "\n",
      "Training Client 2\n"
     ]
    },
    {
     "name": "stderr",
     "output_type": "stream",
     "text": [
      "100%|██████████| 8182/8182 [08:06<00:00, 16.81it/s]\n",
      "100%|██████████| 8182/8182 [08:06<00:00, 16.81it/s]\n",
      "100%|██████████| 8182/8182 [08:09<00:00, 16.73it/s]\n",
      "100%|██████████| 8182/8182 [08:06<00:00, 16.82it/s]\n",
      "100%|██████████| 8182/8182 [08:11<00:00, 16.65it/s]\n"
     ]
    },
    {
     "name": "stdout",
     "output_type": "stream",
     "text": [
      "\n",
      "Aggregating client models on the server...\n"
     ]
    },
    {
     "name": "stderr",
     "output_type": "stream",
     "text": [
      "100%|██████████| 614/614 [00:17<00:00, 34.40it/s]\n"
     ]
    },
    {
     "name": "stdout",
     "output_type": "stream",
     "text": [
      "{'accuracy': 0.900764136525726}\n",
      "\n",
      "--- Federated Learning Round 28 ---\n",
      "\n",
      "Training Client 0\n"
     ]
    },
    {
     "name": "stderr",
     "output_type": "stream",
     "text": [
      "100%|██████████| 8182/8182 [08:08<00:00, 16.76it/s]\n",
      "100%|██████████| 8182/8182 [08:10<00:00, 16.69it/s]\n",
      "100%|██████████| 8182/8182 [08:07<00:00, 16.79it/s]\n",
      "100%|██████████| 8182/8182 [08:07<00:00, 16.77it/s]\n",
      "100%|██████████| 8182/8182 [08:07<00:00, 16.79it/s]\n"
     ]
    },
    {
     "name": "stdout",
     "output_type": "stream",
     "text": [
      "\n",
      "Training Client 1\n"
     ]
    },
    {
     "name": "stderr",
     "output_type": "stream",
     "text": [
      "100%|██████████| 8182/8182 [08:07<00:00, 16.78it/s]\n",
      "100%|██████████| 8182/8182 [08:07<00:00, 16.79it/s]\n",
      "100%|██████████| 8182/8182 [08:07<00:00, 16.77it/s]\n",
      "100%|██████████| 8182/8182 [08:10<00:00, 16.68it/s]\n",
      "100%|██████████| 8182/8182 [08:06<00:00, 16.82it/s]\n"
     ]
    },
    {
     "name": "stdout",
     "output_type": "stream",
     "text": [
      "\n",
      "Training Client 2\n"
     ]
    },
    {
     "name": "stderr",
     "output_type": "stream",
     "text": [
      "100%|██████████| 8182/8182 [08:06<00:00, 16.81it/s]\n",
      "100%|██████████| 8182/8182 [08:10<00:00, 16.69it/s]\n",
      "100%|██████████| 8182/8182 [08:09<00:00, 16.72it/s]\n",
      "100%|██████████| 8182/8182 [08:07<00:00, 16.77it/s]\n",
      "100%|██████████| 8182/8182 [08:07<00:00, 16.79it/s]\n"
     ]
    },
    {
     "name": "stdout",
     "output_type": "stream",
     "text": [
      "\n",
      "Aggregating client models on the server...\n"
     ]
    },
    {
     "name": "stderr",
     "output_type": "stream",
     "text": [
      "100%|██████████| 614/614 [00:17<00:00, 34.48it/s]\n"
     ]
    },
    {
     "name": "stdout",
     "output_type": "stream",
     "text": [
      "{'accuracy': 0.8992358634742741}\n",
      "\n",
      "--- Federated Learning Round 29 ---\n",
      "\n",
      "Training Client 0\n"
     ]
    },
    {
     "name": "stderr",
     "output_type": "stream",
     "text": [
      "100%|██████████| 8182/8182 [08:09<00:00, 16.70it/s]\n",
      "100%|██████████| 8182/8182 [08:07<00:00, 16.78it/s]\n",
      "100%|██████████| 8182/8182 [08:07<00:00, 16.77it/s]\n",
      "100%|██████████| 8182/8182 [08:07<00:00, 16.78it/s]\n",
      "100%|██████████| 8182/8182 [08:06<00:00, 16.81it/s]\n"
     ]
    },
    {
     "name": "stdout",
     "output_type": "stream",
     "text": [
      "\n",
      "Training Client 1\n"
     ]
    },
    {
     "name": "stderr",
     "output_type": "stream",
     "text": [
      "100%|██████████| 8182/8182 [08:08<00:00, 16.77it/s]\n",
      "100%|██████████| 8182/8182 [08:08<00:00, 16.76it/s]\n",
      "100%|██████████| 8182/8182 [08:11<00:00, 16.65it/s]\n",
      "100%|██████████| 8182/8182 [08:07<00:00, 16.79it/s]\n",
      "100%|██████████| 8182/8182 [08:08<00:00, 16.75it/s]\n"
     ]
    },
    {
     "name": "stdout",
     "output_type": "stream",
     "text": [
      "\n",
      "Training Client 2\n"
     ]
    },
    {
     "name": "stderr",
     "output_type": "stream",
     "text": [
      "100%|██████████| 8182/8182 [08:18<00:00, 16.42it/s]\n",
      "100%|██████████| 8182/8182 [08:07<00:00, 16.78it/s]\n",
      "100%|██████████| 8182/8182 [08:07<00:00, 16.79it/s]\n",
      "100%|██████████| 8182/8182 [08:11<00:00, 16.66it/s]\n",
      "100%|██████████| 8182/8182 [08:08<00:00, 16.73it/s]\n"
     ]
    },
    {
     "name": "stdout",
     "output_type": "stream",
     "text": [
      "\n",
      "Aggregating client models on the server...\n"
     ]
    },
    {
     "name": "stderr",
     "output_type": "stream",
     "text": [
      "100%|██████████| 614/614 [00:17<00:00, 34.61it/s]\n"
     ]
    },
    {
     "name": "stdout",
     "output_type": "stream",
     "text": [
      "{'accuracy': 0.9003565970453388}\n",
      "\n",
      "--- Federated Learning Round 30 ---\n",
      "\n",
      "Training Client 0\n"
     ]
    },
    {
     "name": "stderr",
     "output_type": "stream",
     "text": [
      "100%|██████████| 8182/8182 [08:08<00:00, 16.75it/s]\n",
      "100%|██████████| 8182/8182 [08:05<00:00, 16.84it/s]\n",
      "100%|██████████| 8182/8182 [08:07<00:00, 16.79it/s]\n",
      "100%|██████████| 8182/8182 [08:06<00:00, 16.83it/s]\n",
      "100%|██████████| 8182/8182 [08:14<00:00, 16.54it/s]\n"
     ]
    },
    {
     "name": "stdout",
     "output_type": "stream",
     "text": [
      "\n",
      "Training Client 1\n"
     ]
    },
    {
     "name": "stderr",
     "output_type": "stream",
     "text": [
      "100%|██████████| 8182/8182 [08:07<00:00, 16.77it/s]\n",
      "100%|██████████| 8182/8182 [08:04<00:00, 16.89it/s]\n",
      "100%|██████████| 8182/8182 [08:04<00:00, 16.87it/s]\n",
      "100%|██████████| 8182/8182 [08:06<00:00, 16.82it/s]\n",
      "100%|██████████| 8182/8182 [08:05<00:00, 16.84it/s]\n"
     ]
    },
    {
     "name": "stdout",
     "output_type": "stream",
     "text": [
      "\n",
      "Training Client 2\n"
     ]
    },
    {
     "name": "stderr",
     "output_type": "stream",
     "text": [
      "100%|██████████| 8182/8182 [08:03<00:00, 16.91it/s]\n",
      "100%|██████████| 8182/8182 [08:07<00:00, 16.79it/s]\n",
      "100%|██████████| 8182/8182 [08:08<00:00, 16.76it/s]\n",
      "100%|██████████| 8182/8182 [08:06<00:00, 16.82it/s]\n",
      "100%|██████████| 8182/8182 [08:04<00:00, 16.88it/s]\n"
     ]
    },
    {
     "name": "stdout",
     "output_type": "stream",
     "text": [
      "\n",
      "Aggregating client models on the server...\n"
     ]
    },
    {
     "name": "stderr",
     "output_type": "stream",
     "text": [
      "100%|██████████| 614/614 [00:17<00:00, 34.61it/s]\n"
     ]
    },
    {
     "name": "stdout",
     "output_type": "stream",
     "text": [
      "{'accuracy': 0.9000509424350484}\n"
     ]
    },
    {
     "data": {
      "application/vnd.jupyter.widget-view+json": {
       "model_id": "08c12778f6b64cb3b10fd4636369428e",
       "version_major": 2,
       "version_minor": 0
      },
      "text/plain": [
       "VBox(children=(Label(value='0.005 MB of 0.005 MB uploaded\\r'), FloatProgress(value=1.0, max=1.0)))"
      ]
     },
     "metadata": {},
     "output_type": "display_data"
    },
    {
     "name": "stderr",
     "output_type": "stream",
     "text": [
      "wandb: WARNING Source type is set to 'repo' but some required information is missing from the environment. A job will not be created from this run. See https://docs.wandb.ai/guides/launch/create-job\n"
     ]
    },
    {
     "data": {
      "text/html": [
       "<style>\n",
       "    table.wandb td:nth-child(1) { padding: 0 10px; text-align: left ; width: auto;} td:nth-child(2) {text-align: left ; width: 100%}\n",
       "    .wandb-row { display: flex; flex-direction: row; flex-wrap: wrap; justify-content: flex-start; width: 100% }\n",
       "    .wandb-col { display: flex; flex-direction: column; flex-basis: 100%; flex: 1; padding: 10px; }\n",
       "    </style>\n",
       "<div class=\"wandb-row\"><div class=\"wandb-col\"><h3>Run history:</h3><br/><table class=\"wandb\"><tr><td>accuracy</td><td>▁▅▆▇▅█▇▇▇▆▅▅▅▅▅▅▆▅▄▅▄▃▁▂▃▃▄▃▄▄</td></tr></table><br/></div><div class=\"wandb-col\"><h3>Run summary:</h3><br/><table class=\"wandb\"><tr><td>accuracy</td><td>0.90005</td></tr></table><br/></div></div>"
      ],
      "text/plain": [
       "<IPython.core.display.HTML object>"
      ]
     },
     "metadata": {},
     "output_type": "display_data"
    },
    {
     "data": {
      "text/html": [
       " View run <strong style=\"color:#cdcd00\">LoRA</strong> at: <a href='https://wandb.ai/quanla/FeDORA%20Project%20-%20MNLI/runs/9zmwuvb1' target=\"_blank\">https://wandb.ai/quanla/FeDORA%20Project%20-%20MNLI/runs/9zmwuvb1</a><br/>Synced 5 W&B file(s), 0 media file(s), 0 artifact file(s) and 0 other file(s)"
      ],
      "text/plain": [
       "<IPython.core.display.HTML object>"
      ]
     },
     "metadata": {},
     "output_type": "display_data"
    },
    {
     "data": {
      "text/html": [
       "Find logs at: <code>./wandb/run-20241106_150243-9zmwuvb1/logs</code>"
      ],
      "text/plain": [
       "<IPython.core.display.HTML object>"
      ]
     },
     "metadata": {},
     "output_type": "display_data"
    }
   ],
   "source": [
    "# 6. Federated Training Loop\n",
    "num_rounds = 30  # Number of federated learning rounds\n",
    "epochs_per_client = 5  # Number of epochs per client in each round\n",
    "\n",
    "for round_num in range(num_rounds):\n",
    "    print(f\"\\n--- Federated Learning Round {round_num + 1} ---\")\n",
    "    \n",
    "    client_models = []\n",
    "    \n",
    "    # Train each client locally\n",
    "    for client in clients:\n",
    "        print(f\"\\nTraining Client {client.client_id}\")\n",
    "        client.train(epochs=epochs_per_client)\n",
    "        client_models.append(client.get_parameters())\n",
    "\n",
    "    # Aggregate client models on the server\n",
    "    print(\"\\nAggregating client models on the server...\")\n",
    "    server.aggregate(client_models)\n",
    "    eval_metric = server.evaluate(eval_dataloader, metric=metric)\n",
    "    print(eval_metric)\n",
    "    wandb.log(eval_metric)\n",
    "    # evaluate(lora_model, val_dataset)\n",
    "\n",
    "    \n",
    "    # Update each client's model with the new global model\n",
    "    for client in clients:\n",
    "        client.set_parameters(server.global_model.state_dict())\n",
    "\n",
    "wandb.finish()"
   ]
  },
  {
   "cell_type": "code",
   "execution_count": 16,
   "metadata": {},
   "outputs": [],
   "source": [
    "# model.to(device)\n",
    "# for epoch in range(num_epochs):\n",
    "#     model.train()\n",
    "#     for step, batch in enumerate(tqdm(train_dataloader)):\n",
    "#         batch.to(device)\n",
    "#         outputs = model(**batch)\n",
    "#         loss = outputs.loss\n",
    "#         loss.backward()\n",
    "#         optimizer.step()\n",
    "#         lr_scheduler.step()\n",
    "#         optimizer.zero_grad()\n",
    "\n",
    "#     model.eval()\n",
    "#     for step, batch in enumerate(tqdm(eval_dataloader)):\n",
    "#         batch.to(device)\n",
    "#         with torch.no_grad():\n",
    "#             outputs = model(**batch)\n",
    "#         predictions = outputs.logits.argmax(dim=-1)\n",
    "#         predictions, references = predictions, batch[\"labels\"]\n",
    "#         metric.add_batch(\n",
    "#             predictions=predictions,\n",
    "#             references=references,\n",
    "#         )\n",
    "\n",
    "#     eval_metric = metric.compute()\n",
    "#     print(f\"epoch {epoch}:\", eval_metric)"
   ]
  },
  {
   "cell_type": "code",
   "execution_count": 17,
   "metadata": {},
   "outputs": [
    {
     "data": {
      "text/plain": [
       "0"
      ]
     },
     "execution_count": 17,
     "metadata": {},
     "output_type": "execute_result"
    }
   ],
   "source": [
    "torch.cuda.current_device()"
   ]
  },
  {
   "cell_type": "code",
   "execution_count": 18,
   "metadata": {},
   "outputs": [
    {
     "name": "stderr",
     "output_type": "stream",
     "text": [
      "100%|██████████| 615/615 [00:18<00:00, 32.88it/s]"
     ]
    },
    {
     "name": "stdout",
     "output_type": "stream",
     "text": [
      "{'accuracy': 0.8984947111472742}\n"
     ]
    },
    {
     "name": "stderr",
     "output_type": "stream",
     "text": [
      "\n"
     ]
    }
   ],
   "source": [
    "eval_metric = server.evaluate(mismatch_dataloader, metric=metric)\n",
    "print(eval_metric)"
   ]
  }
 ],
 "metadata": {
  "kernelspec": {
   "display_name": ".venv",
   "language": "python",
   "name": "python3"
  },
  "language_info": {
   "codemirror_mode": {
    "name": "ipython",
    "version": 3
   },
   "file_extension": ".py",
   "mimetype": "text/x-python",
   "name": "python",
   "nbconvert_exporter": "python",
   "pygments_lexer": "ipython3",
   "version": "3.10.12"
  }
 },
 "nbformat": 4,
 "nbformat_minor": 2
}
