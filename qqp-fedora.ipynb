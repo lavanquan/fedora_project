{
 "cells": [
  {
   "cell_type": "code",
   "execution_count": 1,
   "metadata": {},
   "outputs": [],
   "source": [
    "import os\n",
    "os.environ['CUDA_VISIBLE_DEVICES'] = '3'"
   ]
  },
  {
   "cell_type": "code",
   "execution_count": 2,
   "metadata": {},
   "outputs": [
    {
     "name": "stderr",
     "output_type": "stream",
     "text": [
      "2024-11-06 15:10:27.083575: I tensorflow/core/util/port.cc:153] oneDNN custom operations are on. You may see slightly different numerical results due to floating-point round-off errors from different computation orders. To turn them off, set the environment variable `TF_ENABLE_ONEDNN_OPTS=0`.\n",
      "2024-11-06 15:10:27.094273: E external/local_xla/xla/stream_executor/cuda/cuda_fft.cc:485] Unable to register cuFFT factory: Attempting to register factory for plugin cuFFT when one has already been registered\n",
      "2024-11-06 15:10:27.107229: E external/local_xla/xla/stream_executor/cuda/cuda_dnn.cc:8454] Unable to register cuDNN factory: Attempting to register factory for plugin cuDNN when one has already been registered\n",
      "2024-11-06 15:10:27.111047: E external/local_xla/xla/stream_executor/cuda/cuda_blas.cc:1452] Unable to register cuBLAS factory: Attempting to register factory for plugin cuBLAS when one has already been registered\n",
      "2024-11-06 15:10:27.120710: I tensorflow/core/platform/cpu_feature_guard.cc:210] This TensorFlow binary is optimized to use available CPU instructions in performance-critical operations.\n",
      "To enable the following instructions: AVX2 AVX512F AVX512_VNNI FMA, in other operations, rebuild TensorFlow with the appropriate compiler flags.\n",
      "2024-11-06 15:10:27.727182: W tensorflow/compiler/tf2tensorrt/utils/py_utils.cc:38] TF-TRT Warning: Could not find TensorRT\n"
     ]
    }
   ],
   "source": [
    "import argparse\n",
    "import os\n",
    "\n",
    "import torch\n",
    "from torch.optim import AdamW\n",
    "from torch.utils.data import DataLoader\n",
    "from peft import (\n",
    "    get_peft_config,\n",
    "    get_peft_model,\n",
    "    get_peft_model_state_dict,\n",
    "    set_peft_model_state_dict,\n",
    "    LoraConfig,\n",
    "    PeftType,\n",
    "    PrefixTuningConfig,\n",
    "    PromptEncoderConfig,\n",
    ")\n",
    "\n",
    "import evaluate\n",
    "from datasets import load_dataset\n",
    "from transformers import AutoModelForSequenceClassification, AutoTokenizer, get_linear_schedule_with_warmup, set_seed\n",
    "from tqdm import tqdm"
   ]
  },
  {
   "cell_type": "code",
   "execution_count": 3,
   "metadata": {},
   "outputs": [],
   "source": [
    "batch_size = 16\n",
    "model_name_or_path = \"roberta-large\"\n",
    "task = \"qqp\"\n",
    "peft_type = PeftType.LORA\n",
    "device = \"cuda\"\n",
    "num_epochs = 20"
   ]
  },
  {
   "cell_type": "code",
   "execution_count": 4,
   "metadata": {},
   "outputs": [],
   "source": [
    "peft_config = LoraConfig(use_dora=True, task_type=\"SEQ_CLS\", inference_mode=False, r=4, lora_alpha=16, lora_dropout=0.1)\n",
    "lr = 3e-4"
   ]
  },
  {
   "cell_type": "code",
   "execution_count": 5,
   "metadata": {},
   "outputs": [],
   "source": [
    "if any(k in model_name_or_path for k in (\"gpt\", \"opt\", \"bloom\")):\n",
    "    padding_side = \"left\"\n",
    "else:\n",
    "    padding_side = \"right\"\n",
    "\n",
    "tokenizer = AutoTokenizer.from_pretrained(model_name_or_path, padding_side=padding_side)\n",
    "if getattr(tokenizer, \"pad_token_id\") is None:\n",
    "    tokenizer.pad_token_id = tokenizer.eos_token_id\n",
    "\n",
    "datasets = load_dataset(\"glue\", task)\n",
    "metric = evaluate.load(\"glue\", task)\n",
    "\n",
    "\n",
    "def tokenize_function(examples):\n",
    "    # max_length=None => use the model max length (it's actually the default)\n",
    "    outputs = tokenizer(examples[\"question1\"], examples[\"question2\"], truncation=True, max_length=None)\n",
    "    return outputs\n",
    "\n",
    "\n",
    "tokenized_datasets = datasets.map(\n",
    "    tokenize_function,\n",
    "    batched=True,\n",
    "    remove_columns=[\"idx\", \"question1\", \"question2\"],\n",
    ")\n",
    "\n",
    "# We also rename the 'label' column to 'labels' which is the expected name for labels by the models of the\n",
    "# transformers library\n",
    "tokenized_datasets = tokenized_datasets.rename_column(\"label\", \"labels\")\n",
    "\n",
    "\n",
    "def collate_fn(examples):\n",
    "    return tokenizer.pad(examples, padding=\"longest\", return_tensors=\"pt\")\n",
    "\n",
    "\n",
    "# Instantiate dataloaders.\n",
    "train_dataloader = DataLoader(tokenized_datasets[\"train\"], shuffle=True, collate_fn=collate_fn, batch_size=batch_size)\n",
    "eval_dataloader = DataLoader(\n",
    "    tokenized_datasets[\"validation\"], shuffle=False, collate_fn=collate_fn, batch_size=batch_size\n",
    ")\n",
    "# test_dataloader = DataLoader(\n",
    "#     tokenized_datasets[\"test\"], shuffle=False, collate_fn=collate_fn, batch_size=batch_size\n",
    "# )"
   ]
  },
  {
   "cell_type": "code",
   "execution_count": 6,
   "metadata": {},
   "outputs": [
    {
     "name": "stderr",
     "output_type": "stream",
     "text": [
      "Some weights of RobertaForSequenceClassification were not initialized from the model checkpoint at roberta-large and are newly initialized: ['classifier.dense.bias', 'classifier.dense.weight', 'classifier.out_proj.bias', 'classifier.out_proj.weight']\n",
      "You should probably TRAIN this model on a down-stream task to be able to use it for predictions and inference.\n"
     ]
    },
    {
     "name": "stdout",
     "output_type": "stream",
     "text": [
      "trainable params: 1,494,018 || all params: 356,855,812 || trainable%: 0.4187\n"
     ]
    },
    {
     "data": {
      "text/plain": [
       "PeftModelForSequenceClassification(\n",
       "  (base_model): LoraModel(\n",
       "    (model): RobertaForSequenceClassification(\n",
       "      (roberta): RobertaModel(\n",
       "        (embeddings): RobertaEmbeddings(\n",
       "          (word_embeddings): Embedding(50265, 1024, padding_idx=1)\n",
       "          (position_embeddings): Embedding(514, 1024, padding_idx=1)\n",
       "          (token_type_embeddings): Embedding(1, 1024)\n",
       "          (LayerNorm): LayerNorm((1024,), eps=1e-05, elementwise_affine=True)\n",
       "          (dropout): Dropout(p=0.1, inplace=False)\n",
       "        )\n",
       "        (encoder): RobertaEncoder(\n",
       "          (layer): ModuleList(\n",
       "            (0-23): 24 x RobertaLayer(\n",
       "              (attention): RobertaAttention(\n",
       "                (self): RobertaSdpaSelfAttention(\n",
       "                  (query): lora.Linear(\n",
       "                    (base_layer): Linear(in_features=1024, out_features=1024, bias=True)\n",
       "                    (lora_dropout): ModuleDict(\n",
       "                      (default): Dropout(p=0.1, inplace=False)\n",
       "                    )\n",
       "                    (lora_A): ModuleDict(\n",
       "                      (default): Linear(in_features=1024, out_features=4, bias=False)\n",
       "                    )\n",
       "                    (lora_B): ModuleDict(\n",
       "                      (default): Linear(in_features=4, out_features=1024, bias=False)\n",
       "                    )\n",
       "                    (lora_embedding_A): ParameterDict()\n",
       "                    (lora_embedding_B): ParameterDict()\n",
       "                    (lora_magnitude_vector): ModuleDict(\n",
       "                      (default): lora.dora.DoraLinearLayer()\n",
       "                    )\n",
       "                  )\n",
       "                  (key): Linear(in_features=1024, out_features=1024, bias=True)\n",
       "                  (value): lora.Linear(\n",
       "                    (base_layer): Linear(in_features=1024, out_features=1024, bias=True)\n",
       "                    (lora_dropout): ModuleDict(\n",
       "                      (default): Dropout(p=0.1, inplace=False)\n",
       "                    )\n",
       "                    (lora_A): ModuleDict(\n",
       "                      (default): Linear(in_features=1024, out_features=4, bias=False)\n",
       "                    )\n",
       "                    (lora_B): ModuleDict(\n",
       "                      (default): Linear(in_features=4, out_features=1024, bias=False)\n",
       "                    )\n",
       "                    (lora_embedding_A): ParameterDict()\n",
       "                    (lora_embedding_B): ParameterDict()\n",
       "                    (lora_magnitude_vector): ModuleDict(\n",
       "                      (default): lora.dora.DoraLinearLayer()\n",
       "                    )\n",
       "                  )\n",
       "                  (dropout): Dropout(p=0.1, inplace=False)\n",
       "                )\n",
       "                (output): RobertaSelfOutput(\n",
       "                  (dense): Linear(in_features=1024, out_features=1024, bias=True)\n",
       "                  (LayerNorm): LayerNorm((1024,), eps=1e-05, elementwise_affine=True)\n",
       "                  (dropout): Dropout(p=0.1, inplace=False)\n",
       "                )\n",
       "              )\n",
       "              (intermediate): RobertaIntermediate(\n",
       "                (dense): Linear(in_features=1024, out_features=4096, bias=True)\n",
       "                (intermediate_act_fn): GELUActivation()\n",
       "              )\n",
       "              (output): RobertaOutput(\n",
       "                (dense): Linear(in_features=4096, out_features=1024, bias=True)\n",
       "                (LayerNorm): LayerNorm((1024,), eps=1e-05, elementwise_affine=True)\n",
       "                (dropout): Dropout(p=0.1, inplace=False)\n",
       "              )\n",
       "            )\n",
       "          )\n",
       "        )\n",
       "      )\n",
       "      (classifier): ModulesToSaveWrapper(\n",
       "        (original_module): RobertaClassificationHead(\n",
       "          (dense): Linear(in_features=1024, out_features=1024, bias=True)\n",
       "          (dropout): Dropout(p=0.1, inplace=False)\n",
       "          (out_proj): Linear(in_features=1024, out_features=2, bias=True)\n",
       "        )\n",
       "        (modules_to_save): ModuleDict(\n",
       "          (default): RobertaClassificationHead(\n",
       "            (dense): Linear(in_features=1024, out_features=1024, bias=True)\n",
       "            (dropout): Dropout(p=0.1, inplace=False)\n",
       "            (out_proj): Linear(in_features=1024, out_features=2, bias=True)\n",
       "          )\n",
       "        )\n",
       "      )\n",
       "    )\n",
       "  )\n",
       ")"
      ]
     },
     "execution_count": 6,
     "metadata": {},
     "output_type": "execute_result"
    }
   ],
   "source": [
    "model = AutoModelForSequenceClassification.from_pretrained(model_name_or_path, return_dict=True)\n",
    "model = get_peft_model(model, peft_config)\n",
    "model.print_trainable_parameters()\n",
    "model"
   ]
  },
  {
   "cell_type": "code",
   "execution_count": 7,
   "metadata": {},
   "outputs": [],
   "source": [
    "def print_trainable_parameters(model):\n",
    "    \"\"\"\n",
    "    Prints the number of trainable parameters in the model.\n",
    "    \"\"\"\n",
    "    trainable_params = 0\n",
    "    all_param = 0\n",
    "    for _, param in model.named_parameters():\n",
    "        all_param += param.numel()\n",
    "        if param.requires_grad:\n",
    "            trainable_params += param.numel()\n",
    "    print(\n",
    "        f\"trainable params: {trainable_params} || all params: {all_param} || trainable%: {100 * trainable_params / all_param:.2f}\"\n",
    "    )"
   ]
  },
  {
   "cell_type": "code",
   "execution_count": 8,
   "metadata": {},
   "outputs": [
    {
     "name": "stdout",
     "output_type": "stream",
     "text": [
      "trainable params: 1494018 || all params: 356855812 || trainable%: 0.42\n"
     ]
    }
   ],
   "source": [
    "print_trainable_parameters(model)"
   ]
  },
  {
   "cell_type": "code",
   "execution_count": 9,
   "metadata": {},
   "outputs": [],
   "source": [
    "optimizer = AdamW(params=model.parameters(), lr=lr)\n",
    "\n",
    "# Instantiate scheduler\n",
    "lr_scheduler = get_linear_schedule_with_warmup(\n",
    "    optimizer=optimizer,\n",
    "    num_warmup_steps=0.06 * (len(train_dataloader) * num_epochs),\n",
    "    num_training_steps=(len(train_dataloader) * num_epochs),\n",
    ")"
   ]
  },
  {
   "cell_type": "code",
   "execution_count": 10,
   "metadata": {},
   "outputs": [],
   "source": [
    "from modules.clientFeDoRA import *"
   ]
  },
  {
   "cell_type": "code",
   "execution_count": 11,
   "metadata": {},
   "outputs": [],
   "source": [
    "from torch.optim import AdamW\n",
    "# Create clients (e.g., 3 clients)\n",
    "num_clients = 3\n",
    "\n",
    "# Get the total length of the dataset\n",
    "total_len = len(tokenized_datasets[\"train\"])\n",
    "\n",
    "# Calculate the number of samples per client and the remainder\n",
    "split_size = total_len // num_clients\n",
    "remainder = total_len % num_clients\n",
    "\n",
    "# Create list for splits\n",
    "split_lengths = [split_size] * num_clients\n",
    "\n",
    "# Distribute the remainder among the first few clients\n",
    "for i in range(remainder):\n",
    "    split_lengths[i] += 1\n",
    "\n",
    "# Perform the split\n",
    "# client_data_splits = torch.utils.data.random_split(train_dataloader, split_lengths)\n",
    "train_dataloader = torch.utils.data.random_split(tokenized_datasets[\"train\"], split_lengths)\n",
    "client_data_splits = [DataLoader(train_dataloader[i], shuffle=True, collate_fn=collate_fn, batch_size=batch_size) for i in range(num_clients)]\n",
    "clients = [ClientFeDoRA(client_id=i, model=copy.deepcopy(model), data=client_data_splits[i], device=device) for i in range(num_clients)]"
   ]
  },
  {
   "cell_type": "code",
   "execution_count": 12,
   "metadata": {},
   "outputs": [],
   "source": [
    "from modules.server import *\n",
    "server = Server(global_model=model, device=device)"
   ]
  },
  {
   "cell_type": "code",
   "execution_count": 13,
   "metadata": {},
   "outputs": [
    {
     "name": "stderr",
     "output_type": "stream",
     "text": [
      "11/06/2024 15:10:46:ERROR:Failed to detect the name of this notebook, you can set it manually with the WANDB_NOTEBOOK_NAME environment variable to enable code saving.\n",
      "\u001b[34m\u001b[1mwandb\u001b[0m: Currently logged in as: \u001b[33mkenlvq\u001b[0m (\u001b[33mquanla\u001b[0m). Use \u001b[1m`wandb login --relogin`\u001b[0m to force relogin\n"
     ]
    },
    {
     "data": {
      "application/vnd.jupyter.widget-view+json": {
       "model_id": "9aad7e4216e24875a28ffe19959f0842",
       "version_major": 2,
       "version_minor": 0
      },
      "text/plain": [
       "VBox(children=(Label(value='Waiting for wandb.init()...\\r'), FloatProgress(value=0.011112842915786637, max=1.0…"
      ]
     },
     "metadata": {},
     "output_type": "display_data"
    },
    {
     "data": {
      "text/html": [
       "wandb version 0.18.5 is available!  To upgrade, please run:\n",
       " $ pip install wandb --upgrade"
      ],
      "text/plain": [
       "<IPython.core.display.HTML object>"
      ]
     },
     "metadata": {},
     "output_type": "display_data"
    },
    {
     "data": {
      "text/html": [
       "Tracking run with wandb version 0.16.3"
      ],
      "text/plain": [
       "<IPython.core.display.HTML object>"
      ]
     },
     "metadata": {},
     "output_type": "display_data"
    },
    {
     "data": {
      "text/html": [
       "Run data is saved locally in <code>/home/qula0496/quan/fedora/wandb/run-20241106_151050-3ql7xgdy</code>"
      ],
      "text/plain": [
       "<IPython.core.display.HTML object>"
      ]
     },
     "metadata": {},
     "output_type": "display_data"
    },
    {
     "data": {
      "text/html": [
       "Syncing run <strong><a href='https://wandb.ai/quanla/FeDORA%20Project%20-%20QQP/runs/3ql7xgdy' target=\"_blank\">FeDoRA</a></strong> to <a href='https://wandb.ai/quanla/FeDORA%20Project%20-%20QQP' target=\"_blank\">Weights & Biases</a> (<a href='https://wandb.me/run' target=\"_blank\">docs</a>)<br/>"
      ],
      "text/plain": [
       "<IPython.core.display.HTML object>"
      ]
     },
     "metadata": {},
     "output_type": "display_data"
    },
    {
     "data": {
      "text/html": [
       " View project at <a href='https://wandb.ai/quanla/FeDORA%20Project%20-%20QQP' target=\"_blank\">https://wandb.ai/quanla/FeDORA%20Project%20-%20QQP</a>"
      ],
      "text/plain": [
       "<IPython.core.display.HTML object>"
      ]
     },
     "metadata": {},
     "output_type": "display_data"
    },
    {
     "data": {
      "text/html": [
       " View run at <a href='https://wandb.ai/quanla/FeDORA%20Project%20-%20QQP/runs/3ql7xgdy' target=\"_blank\">https://wandb.ai/quanla/FeDORA%20Project%20-%20QQP/runs/3ql7xgdy</a>"
      ],
      "text/plain": [
       "<IPython.core.display.HTML object>"
      ]
     },
     "metadata": {},
     "output_type": "display_data"
    },
    {
     "data": {
      "text/html": [
       "<button onClick=\"this.nextSibling.style.display='block';this.style.display='none';\">Display W&B run</button><iframe src='https://wandb.ai/quanla/FeDORA%20Project%20-%20QQP/runs/3ql7xgdy?jupyter=true' style='border:none;width:100%;height:420px;display:none;'></iframe>"
      ],
      "text/plain": [
       "<wandb.sdk.wandb_run.Run at 0x7f83b069a680>"
      ]
     },
     "execution_count": 13,
     "metadata": {},
     "output_type": "execute_result"
    }
   ],
   "source": [
    "import wandb\n",
    "wandb.init(project=\"FeDORA Project - QQP\", entity=\"quanla\", name=\"FeDoRA\")"
   ]
  },
  {
   "cell_type": "code",
   "execution_count": 14,
   "metadata": {},
   "outputs": [
    {
     "name": "stdout",
     "output_type": "stream",
     "text": [
      "\n",
      "--- Federated Learning Round 1 ---\n",
      "\n",
      "Training Client 0\n"
     ]
    },
    {
     "name": "stderr",
     "output_type": "stream",
     "text": [
      "  0%|          | 0/7581 [00:00<?, ?it/s]You're using a RobertaTokenizerFast tokenizer. Please note that with a fast tokenizer, using the `__call__` method is faster than using a method to encode the text followed by a call to the `pad` method to get a padded encoding.\n",
      "100%|██████████| 7581/7581 [15:41<00:00,  8.05it/s]\n",
      "100%|██████████| 7581/7581 [15:25<00:00,  8.20it/s]\n",
      "100%|██████████| 7581/7581 [15:24<00:00,  8.20it/s]\n",
      "100%|██████████| 7581/7581 [15:26<00:00,  8.18it/s]\n",
      "100%|██████████| 7581/7581 [15:25<00:00,  8.19it/s]\n"
     ]
    },
    {
     "name": "stdout",
     "output_type": "stream",
     "text": [
      "\n",
      "Training Client 1\n"
     ]
    },
    {
     "name": "stderr",
     "output_type": "stream",
     "text": [
      "100%|██████████| 7581/7581 [15:30<00:00,  8.15it/s]\n",
      "100%|██████████| 7581/7581 [15:30<00:00,  8.15it/s]\n",
      "100%|██████████| 7581/7581 [15:27<00:00,  8.17it/s]\n",
      "100%|██████████| 7581/7581 [15:26<00:00,  8.18it/s]\n",
      "100%|██████████| 7581/7581 [15:27<00:00,  8.17it/s]\n"
     ]
    },
    {
     "name": "stdout",
     "output_type": "stream",
     "text": [
      "\n",
      "Training Client 2\n"
     ]
    },
    {
     "name": "stderr",
     "output_type": "stream",
     "text": [
      "100%|██████████| 7581/7581 [15:30<00:00,  8.14it/s]\n",
      "100%|██████████| 7581/7581 [15:27<00:00,  8.17it/s]\n",
      "100%|██████████| 7581/7581 [15:37<00:00,  8.08it/s]\n",
      "100%|██████████| 7581/7581 [15:48<00:00,  8.00it/s]\n",
      "100%|██████████| 7581/7581 [15:29<00:00,  8.16it/s]\n"
     ]
    },
    {
     "name": "stdout",
     "output_type": "stream",
     "text": [
      "\n",
      "Aggregating client models on the server...\n"
     ]
    },
    {
     "name": "stderr",
     "output_type": "stream",
     "text": [
      "100%|██████████| 2527/2527 [01:16<00:00, 33.06it/s]\n"
     ]
    },
    {
     "name": "stdout",
     "output_type": "stream",
     "text": [
      "{'accuracy': 0.8822656443235222, 'f1': 0.8470437017994858}\n",
      "\n",
      "--- Federated Learning Round 2 ---\n",
      "\n",
      "Training Client 0\n"
     ]
    },
    {
     "name": "stderr",
     "output_type": "stream",
     "text": [
      "100%|██████████| 7581/7581 [15:38<00:00,  8.08it/s]\n",
      "100%|██████████| 7581/7581 [15:29<00:00,  8.16it/s]\n",
      "100%|██████████| 7581/7581 [15:31<00:00,  8.14it/s]\n",
      "100%|██████████| 7581/7581 [15:51<00:00,  7.97it/s]\n",
      "100%|██████████| 7581/7581 [15:30<00:00,  8.15it/s]\n"
     ]
    },
    {
     "name": "stdout",
     "output_type": "stream",
     "text": [
      "\n",
      "Training Client 1\n"
     ]
    },
    {
     "name": "stderr",
     "output_type": "stream",
     "text": [
      "100%|██████████| 7581/7581 [15:33<00:00,  8.13it/s]\n",
      "100%|██████████| 7581/7581 [15:31<00:00,  8.14it/s]\n",
      "100%|██████████| 7581/7581 [15:29<00:00,  8.16it/s]\n",
      "100%|██████████| 7581/7581 [15:40<00:00,  8.06it/s]\n",
      "100%|██████████| 7581/7581 [15:28<00:00,  8.16it/s]\n"
     ]
    },
    {
     "name": "stdout",
     "output_type": "stream",
     "text": [
      "\n",
      "Training Client 2\n"
     ]
    },
    {
     "name": "stderr",
     "output_type": "stream",
     "text": [
      "100%|██████████| 7581/7581 [15:29<00:00,  8.16it/s]\n",
      "100%|██████████| 7581/7581 [15:29<00:00,  8.15it/s]\n",
      "100%|██████████| 7581/7581 [15:29<00:00,  8.15it/s]\n",
      "100%|██████████| 7581/7581 [15:29<00:00,  8.16it/s]\n",
      "100%|██████████| 7581/7581 [15:29<00:00,  8.15it/s]\n"
     ]
    },
    {
     "name": "stdout",
     "output_type": "stream",
     "text": [
      "\n",
      "Aggregating client models on the server...\n"
     ]
    },
    {
     "name": "stderr",
     "output_type": "stream",
     "text": [
      "100%|██████████| 2527/2527 [01:16<00:00, 33.11it/s]\n"
     ]
    },
    {
     "name": "stdout",
     "output_type": "stream",
     "text": [
      "{'accuracy': 0.8946574325995548, 'f1': 0.8600256351266967}\n",
      "\n",
      "--- Federated Learning Round 3 ---\n",
      "\n",
      "Training Client 0\n"
     ]
    },
    {
     "name": "stderr",
     "output_type": "stream",
     "text": [
      "100%|██████████| 7581/7581 [15:42<00:00,  8.05it/s]\n",
      "100%|██████████| 7581/7581 [15:29<00:00,  8.16it/s]\n",
      "100%|██████████| 7581/7581 [15:39<00:00,  8.07it/s]\n",
      "100%|██████████| 7581/7581 [15:42<00:00,  8.05it/s]\n",
      "100%|██████████| 7581/7581 [15:48<00:00,  7.99it/s]\n"
     ]
    },
    {
     "name": "stdout",
     "output_type": "stream",
     "text": [
      "\n",
      "Training Client 1\n"
     ]
    },
    {
     "name": "stderr",
     "output_type": "stream",
     "text": [
      "100%|██████████| 7581/7581 [15:33<00:00,  8.13it/s]\n",
      "100%|██████████| 7581/7581 [15:34<00:00,  8.11it/s]\n",
      "100%|██████████| 7581/7581 [15:33<00:00,  8.12it/s]\n",
      "100%|██████████| 7581/7581 [15:30<00:00,  8.15it/s]\n",
      "100%|██████████| 7581/7581 [15:45<00:00,  8.02it/s]\n"
     ]
    },
    {
     "name": "stdout",
     "output_type": "stream",
     "text": [
      "\n",
      "Training Client 2\n"
     ]
    },
    {
     "name": "stderr",
     "output_type": "stream",
     "text": [
      "100%|██████████| 7581/7581 [15:31<00:00,  8.14it/s]\n",
      "100%|██████████| 7581/7581 [15:35<00:00,  8.11it/s]\n",
      "100%|██████████| 7581/7581 [15:32<00:00,  8.13it/s]\n",
      "100%|██████████| 7581/7581 [15:32<00:00,  8.13it/s]\n",
      "100%|██████████| 7581/7581 [15:27<00:00,  8.17it/s]\n"
     ]
    },
    {
     "name": "stdout",
     "output_type": "stream",
     "text": [
      "\n",
      "Aggregating client models on the server...\n"
     ]
    },
    {
     "name": "stderr",
     "output_type": "stream",
     "text": [
      "100%|██████████| 2527/2527 [01:18<00:00, 32.37it/s]\n"
     ]
    },
    {
     "name": "stdout",
     "output_type": "stream",
     "text": [
      "{'accuracy': 0.8989116992332427, 'f1': 0.8660658692446338}\n",
      "\n",
      "--- Federated Learning Round 4 ---\n",
      "\n",
      "Training Client 0\n"
     ]
    },
    {
     "name": "stderr",
     "output_type": "stream",
     "text": [
      "100%|██████████| 7581/7581 [15:32<00:00,  8.13it/s]\n",
      "100%|██████████| 7581/7581 [15:41<00:00,  8.05it/s]\n",
      "100%|██████████| 7581/7581 [15:28<00:00,  8.16it/s]\n",
      "100%|██████████| 7581/7581 [15:34<00:00,  8.11it/s]\n",
      "100%|██████████| 7581/7581 [15:48<00:00,  7.99it/s]\n"
     ]
    },
    {
     "name": "stdout",
     "output_type": "stream",
     "text": [
      "\n",
      "Training Client 1\n"
     ]
    },
    {
     "name": "stderr",
     "output_type": "stream",
     "text": [
      "100%|██████████| 7581/7581 [15:50<00:00,  7.98it/s]\n",
      "100%|██████████| 7581/7581 [15:35<00:00,  8.11it/s]\n",
      "100%|██████████| 7581/7581 [15:29<00:00,  8.16it/s]\n",
      "100%|██████████| 7581/7581 [15:50<00:00,  7.98it/s]\n",
      "100%|██████████| 7581/7581 [15:33<00:00,  8.12it/s]\n"
     ]
    },
    {
     "name": "stdout",
     "output_type": "stream",
     "text": [
      "\n",
      "Training Client 2\n"
     ]
    },
    {
     "name": "stderr",
     "output_type": "stream",
     "text": [
      "100%|██████████| 7581/7581 [15:40<00:00,  8.06it/s]\n",
      "100%|██████████| 7581/7581 [15:29<00:00,  8.15it/s]\n",
      "100%|██████████| 7581/7581 [15:29<00:00,  8.16it/s]\n",
      "100%|██████████| 7581/7581 [15:28<00:00,  8.17it/s]\n",
      "100%|██████████| 7581/7581 [15:29<00:00,  8.16it/s]\n"
     ]
    },
    {
     "name": "stdout",
     "output_type": "stream",
     "text": [
      "\n",
      "Aggregating client models on the server...\n"
     ]
    },
    {
     "name": "stderr",
     "output_type": "stream",
     "text": [
      "100%|██████████| 2527/2527 [01:16<00:00, 32.96it/s]\n"
     ]
    },
    {
     "name": "stdout",
     "output_type": "stream",
     "text": [
      "{'accuracy': 0.9034627751669553, 'f1': 0.872380080436844}\n",
      "\n",
      "--- Federated Learning Round 5 ---\n",
      "\n",
      "Training Client 0\n"
     ]
    },
    {
     "name": "stderr",
     "output_type": "stream",
     "text": [
      "100%|██████████| 7581/7581 [15:35<00:00,  8.10it/s]\n",
      "100%|██████████| 7581/7581 [15:52<00:00,  7.96it/s]\n",
      "100%|██████████| 7581/7581 [15:28<00:00,  8.17it/s]\n",
      "100%|██████████| 7581/7581 [15:35<00:00,  8.11it/s]\n",
      "100%|██████████| 7581/7581 [15:29<00:00,  8.15it/s]\n"
     ]
    },
    {
     "name": "stdout",
     "output_type": "stream",
     "text": [
      "\n",
      "Training Client 1\n"
     ]
    },
    {
     "name": "stderr",
     "output_type": "stream",
     "text": [
      "100%|██████████| 7581/7581 [15:43<00:00,  8.04it/s]\n",
      "100%|██████████| 7581/7581 [15:36<00:00,  8.10it/s]\n",
      "100%|██████████| 7581/7581 [15:31<00:00,  8.14it/s]\n",
      "100%|██████████| 7581/7581 [15:31<00:00,  8.14it/s]\n",
      "100%|██████████| 7581/7581 [15:38<00:00,  8.08it/s]\n"
     ]
    },
    {
     "name": "stdout",
     "output_type": "stream",
     "text": [
      "\n",
      "Training Client 2\n"
     ]
    },
    {
     "name": "stderr",
     "output_type": "stream",
     "text": [
      "100%|██████████| 7581/7581 [15:32<00:00,  8.13it/s]\n",
      "100%|██████████| 7581/7581 [15:28<00:00,  8.16it/s]\n",
      "100%|██████████| 7581/7581 [15:30<00:00,  8.15it/s]\n",
      "100%|██████████| 7581/7581 [15:32<00:00,  8.13it/s]\n",
      "100%|██████████| 7581/7581 [15:30<00:00,  8.15it/s]\n"
     ]
    },
    {
     "name": "stdout",
     "output_type": "stream",
     "text": [
      "\n",
      "Aggregating client models on the server...\n"
     ]
    },
    {
     "name": "stderr",
     "output_type": "stream",
     "text": [
      "100%|██████████| 2527/2527 [01:18<00:00, 32.00it/s]\n"
     ]
    },
    {
     "name": "stdout",
     "output_type": "stream",
     "text": [
      "{'accuracy': 0.905144694533762, 'f1': 0.8750285137028709}\n",
      "\n",
      "--- Federated Learning Round 6 ---\n",
      "\n",
      "Training Client 0\n"
     ]
    },
    {
     "name": "stderr",
     "output_type": "stream",
     "text": [
      "100%|██████████| 7581/7581 [15:32<00:00,  8.13it/s]\n",
      "100%|██████████| 7581/7581 [15:31<00:00,  8.14it/s]\n",
      "100%|██████████| 7581/7581 [15:29<00:00,  8.16it/s]\n",
      "100%|██████████| 7581/7581 [15:37<00:00,  8.09it/s]\n",
      "100%|██████████| 7581/7581 [15:29<00:00,  8.15it/s]\n"
     ]
    },
    {
     "name": "stdout",
     "output_type": "stream",
     "text": [
      "\n",
      "Training Client 1\n"
     ]
    },
    {
     "name": "stderr",
     "output_type": "stream",
     "text": [
      "100%|██████████| 7581/7581 [15:29<00:00,  8.16it/s]\n",
      "100%|██████████| 7581/7581 [15:38<00:00,  8.08it/s]\n",
      "100%|██████████| 7581/7581 [15:31<00:00,  8.14it/s]\n",
      "100%|██████████| 7581/7581 [15:52<00:00,  7.96it/s]\n",
      "100%|██████████| 7581/7581 [15:30<00:00,  8.15it/s]\n"
     ]
    },
    {
     "name": "stdout",
     "output_type": "stream",
     "text": [
      "\n",
      "Training Client 2\n"
     ]
    },
    {
     "name": "stderr",
     "output_type": "stream",
     "text": [
      "100%|██████████| 7581/7581 [15:32<00:00,  8.13it/s]\n",
      "100%|██████████| 7581/7581 [15:28<00:00,  8.17it/s]\n",
      "100%|██████████| 7581/7581 [15:30<00:00,  8.15it/s]\n",
      "100%|██████████| 7581/7581 [15:38<00:00,  8.07it/s]\n",
      "100%|██████████| 7581/7581 [15:46<00:00,  8.01it/s]\n"
     ]
    },
    {
     "name": "stdout",
     "output_type": "stream",
     "text": [
      "\n",
      "Aggregating client models on the server...\n"
     ]
    },
    {
     "name": "stderr",
     "output_type": "stream",
     "text": [
      "100%|██████████| 2527/2527 [01:15<00:00, 33.49it/s]\n"
     ]
    },
    {
     "name": "stdout",
     "output_type": "stream",
     "text": [
      "{'accuracy': 0.906331931733861, 'f1': 0.877582026830451}\n",
      "\n",
      "--- Federated Learning Round 7 ---\n",
      "\n",
      "Training Client 0\n"
     ]
    },
    {
     "name": "stderr",
     "output_type": "stream",
     "text": [
      "100%|██████████| 7581/7581 [15:29<00:00,  8.16it/s]\n",
      "100%|██████████| 7581/7581 [15:30<00:00,  8.15it/s]\n",
      "100%|██████████| 7581/7581 [15:32<00:00,  8.13it/s]\n",
      "100%|██████████| 7581/7581 [15:30<00:00,  8.15it/s]\n",
      "100%|██████████| 7581/7581 [15:37<00:00,  8.09it/s]\n"
     ]
    },
    {
     "name": "stdout",
     "output_type": "stream",
     "text": [
      "\n",
      "Training Client 1\n"
     ]
    },
    {
     "name": "stderr",
     "output_type": "stream",
     "text": [
      "100%|██████████| 7581/7581 [15:28<00:00,  8.16it/s]\n",
      "100%|██████████| 7581/7581 [15:30<00:00,  8.15it/s]\n",
      "100%|██████████| 7581/7581 [15:30<00:00,  8.15it/s]\n",
      "100%|██████████| 7581/7581 [15:38<00:00,  8.08it/s]\n",
      "100%|██████████| 7581/7581 [15:30<00:00,  8.15it/s]\n"
     ]
    },
    {
     "name": "stdout",
     "output_type": "stream",
     "text": [
      "\n",
      "Training Client 2\n"
     ]
    },
    {
     "name": "stderr",
     "output_type": "stream",
     "text": [
      "100%|██████████| 7581/7581 [15:43<00:00,  8.03it/s]\n",
      "100%|██████████| 7581/7581 [15:32<00:00,  8.13it/s]\n",
      "100%|██████████| 7581/7581 [15:41<00:00,  8.05it/s]\n",
      "100%|██████████| 7581/7581 [15:33<00:00,  8.12it/s]\n",
      "100%|██████████| 7581/7581 [15:29<00:00,  8.15it/s]\n"
     ]
    },
    {
     "name": "stdout",
     "output_type": "stream",
     "text": [
      "\n",
      "Aggregating client models on the server...\n"
     ]
    },
    {
     "name": "stderr",
     "output_type": "stream",
     "text": [
      "100%|██████████| 2527/2527 [01:16<00:00, 32.98it/s]\n"
     ]
    },
    {
     "name": "stdout",
     "output_type": "stream",
     "text": [
      "{'accuracy': 0.9079149146673262, 'f1': 0.8793231985997212}\n",
      "\n",
      "--- Federated Learning Round 8 ---\n",
      "\n",
      "Training Client 0\n"
     ]
    },
    {
     "name": "stderr",
     "output_type": "stream",
     "text": [
      "100%|██████████| 7581/7581 [15:29<00:00,  8.15it/s]\n",
      "100%|██████████| 7581/7581 [15:37<00:00,  8.09it/s]\n",
      "100%|██████████| 7581/7581 [15:30<00:00,  8.15it/s]\n",
      "100%|██████████| 7581/7581 [15:30<00:00,  8.15it/s]\n",
      "100%|██████████| 7581/7581 [15:36<00:00,  8.09it/s]\n"
     ]
    },
    {
     "name": "stdout",
     "output_type": "stream",
     "text": [
      "\n",
      "Training Client 1\n"
     ]
    },
    {
     "name": "stderr",
     "output_type": "stream",
     "text": [
      "100%|██████████| 7581/7581 [15:35<00:00,  8.11it/s]\n",
      "100%|██████████| 7581/7581 [15:31<00:00,  8.14it/s]\n",
      "100%|██████████| 7581/7581 [15:29<00:00,  8.15it/s]\n",
      "100%|██████████| 7581/7581 [15:30<00:00,  8.15it/s]\n",
      "100%|██████████| 7581/7581 [15:43<00:00,  8.03it/s]\n"
     ]
    },
    {
     "name": "stdout",
     "output_type": "stream",
     "text": [
      "\n",
      "Training Client 2\n"
     ]
    },
    {
     "name": "stderr",
     "output_type": "stream",
     "text": [
      "100%|██████████| 7581/7581 [15:29<00:00,  8.16it/s]\n",
      "100%|██████████| 7581/7581 [15:30<00:00,  8.15it/s]\n",
      "100%|██████████| 7581/7581 [15:44<00:00,  8.03it/s]\n",
      "100%|██████████| 7581/7581 [15:31<00:00,  8.14it/s]\n",
      "100%|██████████| 7581/7581 [15:40<00:00,  8.06it/s]\n"
     ]
    },
    {
     "name": "stdout",
     "output_type": "stream",
     "text": [
      "\n",
      "Aggregating client models on the server...\n"
     ]
    },
    {
     "name": "stderr",
     "output_type": "stream",
     "text": [
      "100%|██████████| 2527/2527 [01:16<00:00, 32.96it/s]\n"
     ]
    },
    {
     "name": "stdout",
     "output_type": "stream",
     "text": [
      "{'accuracy': 0.9093494929507792, 'f1': 0.880731556510137}\n",
      "\n",
      "--- Federated Learning Round 9 ---\n",
      "\n",
      "Training Client 0\n"
     ]
    },
    {
     "name": "stderr",
     "output_type": "stream",
     "text": [
      "100%|██████████| 7581/7581 [15:44<00:00,  8.03it/s]\n",
      "100%|██████████| 7581/7581 [15:30<00:00,  8.15it/s]\n",
      "100%|██████████| 7581/7581 [15:29<00:00,  8.15it/s]\n",
      "100%|██████████| 7581/7581 [15:30<00:00,  8.15it/s]\n",
      "100%|██████████| 7581/7581 [15:32<00:00,  8.13it/s]\n"
     ]
    },
    {
     "name": "stdout",
     "output_type": "stream",
     "text": [
      "\n",
      "Training Client 1\n"
     ]
    },
    {
     "name": "stderr",
     "output_type": "stream",
     "text": [
      "100%|██████████| 7581/7581 [15:48<00:00,  7.99it/s]\n",
      "100%|██████████| 7581/7581 [15:44<00:00,  8.03it/s]\n",
      "100%|██████████| 7581/7581 [15:30<00:00,  8.15it/s]\n",
      "100%|██████████| 7581/7581 [15:46<00:00,  8.01it/s]\n",
      "100%|██████████| 7581/7581 [15:31<00:00,  8.14it/s]\n"
     ]
    },
    {
     "name": "stdout",
     "output_type": "stream",
     "text": [
      "\n",
      "Training Client 2\n"
     ]
    },
    {
     "name": "stderr",
     "output_type": "stream",
     "text": [
      "100%|██████████| 7581/7581 [15:43<00:00,  8.03it/s]\n",
      "100%|██████████| 7581/7581 [15:27<00:00,  8.18it/s]\n",
      "100%|██████████| 7581/7581 [15:30<00:00,  8.15it/s]\n",
      "100%|██████████| 7581/7581 [15:38<00:00,  8.08it/s]\n",
      "100%|██████████| 7581/7581 [15:34<00:00,  8.12it/s]\n"
     ]
    },
    {
     "name": "stdout",
     "output_type": "stream",
     "text": [
      "\n",
      "Aggregating client models on the server...\n"
     ]
    },
    {
     "name": "stderr",
     "output_type": "stream",
     "text": [
      "100%|██████████| 2527/2527 [01:17<00:00, 32.82it/s]\n"
     ]
    },
    {
     "name": "stdout",
     "output_type": "stream",
     "text": [
      "{'accuracy': 0.9102893890675241, 'f1': 0.8822440829843187}\n",
      "\n",
      "--- Federated Learning Round 10 ---\n",
      "\n",
      "Training Client 0\n"
     ]
    },
    {
     "name": "stderr",
     "output_type": "stream",
     "text": [
      "100%|██████████| 7581/7581 [15:35<00:00,  8.10it/s]\n",
      "100%|██████████| 7581/7581 [15:35<00:00,  8.10it/s]\n",
      "100%|██████████| 7581/7581 [15:29<00:00,  8.16it/s]\n",
      "100%|██████████| 7581/7581 [15:30<00:00,  8.15it/s]\n",
      "100%|██████████| 7581/7581 [15:31<00:00,  8.14it/s]\n"
     ]
    },
    {
     "name": "stdout",
     "output_type": "stream",
     "text": [
      "\n",
      "Training Client 1\n"
     ]
    },
    {
     "name": "stderr",
     "output_type": "stream",
     "text": [
      "100%|██████████| 7581/7581 [15:51<00:00,  7.97it/s]\n",
      "100%|██████████| 7581/7581 [15:46<00:00,  8.01it/s]\n",
      "100%|██████████| 7581/7581 [15:45<00:00,  8.02it/s]\n",
      "100%|██████████| 7581/7581 [15:44<00:00,  8.02it/s]\n",
      "100%|██████████| 7581/7581 [15:37<00:00,  8.09it/s]\n"
     ]
    },
    {
     "name": "stdout",
     "output_type": "stream",
     "text": [
      "\n",
      "Training Client 2\n"
     ]
    },
    {
     "name": "stderr",
     "output_type": "stream",
     "text": [
      "100%|██████████| 7581/7581 [15:30<00:00,  8.15it/s]\n",
      "100%|██████████| 7581/7581 [15:29<00:00,  8.16it/s]\n",
      "100%|██████████| 7581/7581 [15:28<00:00,  8.16it/s]\n",
      "100%|██████████| 7581/7581 [15:28<00:00,  8.16it/s]\n",
      "100%|██████████| 7581/7581 [15:36<00:00,  8.10it/s]\n"
     ]
    },
    {
     "name": "stdout",
     "output_type": "stream",
     "text": [
      "\n",
      "Aggregating client models on the server...\n"
     ]
    },
    {
     "name": "stderr",
     "output_type": "stream",
     "text": [
      "100%|██████████| 2527/2527 [01:16<00:00, 32.95it/s]\n"
     ]
    },
    {
     "name": "stdout",
     "output_type": "stream",
     "text": [
      "{'accuracy': 0.9102151867425179, 'f1': 0.8812561334641805}\n",
      "\n",
      "--- Federated Learning Round 11 ---\n",
      "\n",
      "Training Client 0\n"
     ]
    },
    {
     "name": "stderr",
     "output_type": "stream",
     "text": [
      "100%|██████████| 7581/7581 [15:49<00:00,  7.98it/s]\n",
      "100%|██████████| 7581/7581 [15:40<00:00,  8.06it/s]\n",
      "100%|██████████| 7581/7581 [15:31<00:00,  8.14it/s]\n",
      "100%|██████████| 7581/7581 [15:33<00:00,  8.12it/s]\n",
      "100%|██████████| 7581/7581 [15:31<00:00,  8.14it/s]\n"
     ]
    },
    {
     "name": "stdout",
     "output_type": "stream",
     "text": [
      "\n",
      "Training Client 1\n"
     ]
    },
    {
     "name": "stderr",
     "output_type": "stream",
     "text": [
      "100%|██████████| 7581/7581 [15:38<00:00,  8.08it/s]\n",
      "100%|██████████| 7581/7581 [15:33<00:00,  8.12it/s]\n",
      "100%|██████████| 7581/7581 [15:30<00:00,  8.15it/s]\n",
      "100%|██████████| 7581/7581 [15:38<00:00,  8.07it/s]\n",
      "100%|██████████| 7581/7581 [15:32<00:00,  8.13it/s]\n"
     ]
    },
    {
     "name": "stdout",
     "output_type": "stream",
     "text": [
      "\n",
      "Training Client 2\n"
     ]
    },
    {
     "name": "stderr",
     "output_type": "stream",
     "text": [
      "100%|██████████| 7581/7581 [15:31<00:00,  8.14it/s]\n",
      "100%|██████████| 7581/7581 [15:29<00:00,  8.16it/s]\n",
      "100%|██████████| 7581/7581 [15:29<00:00,  8.15it/s]\n",
      "100%|██████████| 7581/7581 [15:31<00:00,  8.14it/s]\n",
      "100%|██████████| 7581/7581 [15:29<00:00,  8.16it/s]\n"
     ]
    },
    {
     "name": "stdout",
     "output_type": "stream",
     "text": [
      "\n",
      "Aggregating client models on the server...\n"
     ]
    },
    {
     "name": "stderr",
     "output_type": "stream",
     "text": [
      "100%|██████████| 2527/2527 [01:15<00:00, 33.30it/s]\n"
     ]
    },
    {
     "name": "stdout",
     "output_type": "stream",
     "text": [
      "{'accuracy': 0.9115260944842939, 'f1': 0.8841082131864572}\n",
      "\n",
      "--- Federated Learning Round 12 ---\n",
      "\n",
      "Training Client 0\n"
     ]
    },
    {
     "name": "stderr",
     "output_type": "stream",
     "text": [
      "100%|██████████| 7581/7581 [15:42<00:00,  8.04it/s]\n",
      "100%|██████████| 7581/7581 [15:40<00:00,  8.06it/s]\n",
      "100%|██████████| 7581/7581 [15:48<00:00,  7.99it/s]\n",
      "100%|██████████| 7581/7581 [15:31<00:00,  8.14it/s]\n",
      "100%|██████████| 7581/7581 [15:31<00:00,  8.14it/s]\n"
     ]
    },
    {
     "name": "stdout",
     "output_type": "stream",
     "text": [
      "\n",
      "Training Client 1\n"
     ]
    },
    {
     "name": "stderr",
     "output_type": "stream",
     "text": [
      "100%|██████████| 7581/7581 [15:39<00:00,  8.07it/s]\n",
      "100%|██████████| 7581/7581 [15:32<00:00,  8.13it/s]\n",
      "100%|██████████| 7581/7581 [15:39<00:00,  8.07it/s]\n",
      "100%|██████████| 7581/7581 [15:38<00:00,  8.08it/s]\n",
      "100%|██████████| 7581/7581 [15:31<00:00,  8.14it/s]\n"
     ]
    },
    {
     "name": "stdout",
     "output_type": "stream",
     "text": [
      "\n",
      "Training Client 2\n"
     ]
    },
    {
     "name": "stderr",
     "output_type": "stream",
     "text": [
      "100%|██████████| 7581/7581 [15:28<00:00,  8.17it/s]\n",
      "100%|██████████| 7581/7581 [15:32<00:00,  8.13it/s]\n",
      "100%|██████████| 7581/7581 [15:30<00:00,  8.15it/s]\n",
      "100%|██████████| 7581/7581 [15:34<00:00,  8.11it/s]\n",
      "100%|██████████| 7581/7581 [15:28<00:00,  8.16it/s]\n"
     ]
    },
    {
     "name": "stdout",
     "output_type": "stream",
     "text": [
      "\n",
      "Aggregating client models on the server...\n"
     ]
    },
    {
     "name": "stderr",
     "output_type": "stream",
     "text": [
      "100%|██████████| 2527/2527 [01:16<00:00, 32.95it/s]\n"
     ]
    },
    {
     "name": "stdout",
     "output_type": "stream",
     "text": [
      "{'accuracy': 0.9111550828592629, 'f1': 0.883224967490247}\n",
      "\n",
      "--- Federated Learning Round 13 ---\n",
      "\n",
      "Training Client 0\n"
     ]
    },
    {
     "name": "stderr",
     "output_type": "stream",
     "text": [
      "100%|██████████| 7581/7581 [15:39<00:00,  8.07it/s]\n",
      "100%|██████████| 7581/7581 [15:30<00:00,  8.14it/s]\n",
      "100%|██████████| 7581/7581 [15:33<00:00,  8.12it/s]\n",
      "100%|██████████| 7581/7581 [15:36<00:00,  8.10it/s]\n",
      "100%|██████████| 7581/7581 [15:36<00:00,  8.09it/s]\n"
     ]
    },
    {
     "name": "stdout",
     "output_type": "stream",
     "text": [
      "\n",
      "Training Client 1\n"
     ]
    },
    {
     "name": "stderr",
     "output_type": "stream",
     "text": [
      "100%|██████████| 7581/7581 [15:32<00:00,  8.13it/s]\n",
      "100%|██████████| 7581/7581 [15:31<00:00,  8.14it/s]\n",
      "100%|██████████| 7581/7581 [16:01<00:00,  7.89it/s]\n",
      "100%|██████████| 7581/7581 [15:37<00:00,  8.09it/s]\n",
      "100%|██████████| 7581/7581 [15:28<00:00,  8.16it/s]\n"
     ]
    },
    {
     "name": "stdout",
     "output_type": "stream",
     "text": [
      "\n",
      "Training Client 2\n"
     ]
    },
    {
     "name": "stderr",
     "output_type": "stream",
     "text": [
      "100%|██████████| 7581/7581 [15:41<00:00,  8.06it/s]\n",
      "100%|██████████| 7581/7581 [15:31<00:00,  8.14it/s]\n",
      "100%|██████████| 7581/7581 [15:39<00:00,  8.07it/s]\n",
      "100%|██████████| 7581/7581 [15:32<00:00,  8.13it/s]\n",
      "100%|██████████| 7581/7581 [15:34<00:00,  8.11it/s]\n"
     ]
    },
    {
     "name": "stdout",
     "output_type": "stream",
     "text": [
      "\n",
      "Aggregating client models on the server...\n"
     ]
    },
    {
     "name": "stderr",
     "output_type": "stream",
     "text": [
      "100%|██████████| 2527/2527 [01:14<00:00, 34.10it/s]\n"
     ]
    },
    {
     "name": "stdout",
     "output_type": "stream",
     "text": [
      "{'accuracy': 0.9113529557259461, 'f1': 0.8837722142949799}\n",
      "\n",
      "--- Federated Learning Round 14 ---\n",
      "\n",
      "Training Client 0\n"
     ]
    },
    {
     "name": "stderr",
     "output_type": "stream",
     "text": [
      "100%|██████████| 7581/7581 [15:33<00:00,  8.12it/s]\n",
      "100%|██████████| 7581/7581 [15:35<00:00,  8.10it/s]\n",
      "100%|██████████| 7581/7581 [15:41<00:00,  8.06it/s]\n",
      "100%|██████████| 7581/7581 [15:30<00:00,  8.15it/s]\n",
      "100%|██████████| 7581/7581 [15:33<00:00,  8.12it/s]\n"
     ]
    },
    {
     "name": "stdout",
     "output_type": "stream",
     "text": [
      "\n",
      "Training Client 1\n"
     ]
    },
    {
     "name": "stderr",
     "output_type": "stream",
     "text": [
      "100%|██████████| 7581/7581 [15:31<00:00,  8.14it/s]\n",
      "100%|██████████| 7581/7581 [15:45<00:00,  8.02it/s]\n",
      "100%|██████████| 7581/7581 [15:31<00:00,  8.14it/s]\n",
      "100%|██████████| 7581/7581 [15:30<00:00,  8.15it/s]\n",
      "100%|██████████| 7581/7581 [15:35<00:00,  8.10it/s]\n"
     ]
    },
    {
     "name": "stdout",
     "output_type": "stream",
     "text": [
      "\n",
      "Training Client 2\n"
     ]
    },
    {
     "name": "stderr",
     "output_type": "stream",
     "text": [
      "100%|██████████| 7581/7581 [15:29<00:00,  8.15it/s]\n",
      "100%|██████████| 7581/7581 [15:46<00:00,  8.01it/s]\n",
      "100%|██████████| 7581/7581 [15:38<00:00,  8.07it/s]\n",
      "100%|██████████| 7581/7581 [15:38<00:00,  8.08it/s]\n",
      "100%|██████████| 7581/7581 [15:34<00:00,  8.11it/s]\n"
     ]
    },
    {
     "name": "stdout",
     "output_type": "stream",
     "text": [
      "\n",
      "Aggregating client models on the server...\n"
     ]
    },
    {
     "name": "stderr",
     "output_type": "stream",
     "text": [
      "100%|██████████| 2527/2527 [01:15<00:00, 33.37it/s]\n"
     ]
    },
    {
     "name": "stdout",
     "output_type": "stream",
     "text": [
      "{'accuracy': 0.9115755627009646, 'f1': 0.8833795465666286}\n",
      "\n",
      "--- Federated Learning Round 15 ---\n",
      "\n",
      "Training Client 0\n"
     ]
    },
    {
     "name": "stderr",
     "output_type": "stream",
     "text": [
      "100%|██████████| 7581/7581 [15:38<00:00,  8.08it/s]\n",
      "100%|██████████| 7581/7581 [15:31<00:00,  8.14it/s]\n",
      "100%|██████████| 7581/7581 [15:31<00:00,  8.14it/s]\n",
      "100%|██████████| 7581/7581 [15:29<00:00,  8.15it/s]\n",
      "100%|██████████| 7581/7581 [15:41<00:00,  8.05it/s]\n"
     ]
    },
    {
     "name": "stdout",
     "output_type": "stream",
     "text": [
      "\n",
      "Training Client 1\n"
     ]
    },
    {
     "name": "stderr",
     "output_type": "stream",
     "text": [
      "100%|██████████| 7581/7581 [15:30<00:00,  8.15it/s]\n",
      "100%|██████████| 7581/7581 [15:42<00:00,  8.04it/s]\n",
      "100%|██████████| 7581/7581 [15:42<00:00,  8.04it/s]\n",
      "100%|██████████| 7581/7581 [15:40<00:00,  8.06it/s]\n",
      "100%|██████████| 7581/7581 [15:31<00:00,  8.14it/s]\n"
     ]
    },
    {
     "name": "stdout",
     "output_type": "stream",
     "text": [
      "\n",
      "Training Client 2\n"
     ]
    },
    {
     "name": "stderr",
     "output_type": "stream",
     "text": [
      "100%|██████████| 7581/7581 [15:30<00:00,  8.15it/s]\n",
      "100%|██████████| 7581/7581 [15:36<00:00,  8.09it/s]\n",
      "100%|██████████| 7581/7581 [15:38<00:00,  8.08it/s]\n",
      "100%|██████████| 7581/7581 [16:03<00:00,  7.87it/s]\n",
      "100%|██████████| 7581/7581 [15:32<00:00,  8.13it/s]\n"
     ]
    },
    {
     "name": "stdout",
     "output_type": "stream",
     "text": [
      "\n",
      "Aggregating client models on the server...\n"
     ]
    },
    {
     "name": "stderr",
     "output_type": "stream",
     "text": [
      "100%|██████████| 2527/2527 [01:13<00:00, 34.22it/s]\n"
     ]
    },
    {
     "name": "stdout",
     "output_type": "stream",
     "text": [
      "{'accuracy': 0.9111798169675983, 'f1': 0.8833750121788835}\n",
      "\n",
      "--- Federated Learning Round 16 ---\n",
      "\n",
      "Training Client 0\n"
     ]
    },
    {
     "name": "stderr",
     "output_type": "stream",
     "text": [
      "100%|██████████| 7581/7581 [15:41<00:00,  8.05it/s]\n",
      "100%|██████████| 7581/7581 [15:32<00:00,  8.13it/s]\n",
      "100%|██████████| 7581/7581 [15:26<00:00,  8.18it/s]\n",
      "100%|██████████| 7581/7581 [15:57<00:00,  7.92it/s]\n",
      "100%|██████████| 7581/7581 [15:23<00:00,  8.21it/s]\n"
     ]
    },
    {
     "name": "stdout",
     "output_type": "stream",
     "text": [
      "\n",
      "Training Client 1\n"
     ]
    },
    {
     "name": "stderr",
     "output_type": "stream",
     "text": [
      "100%|██████████| 7581/7581 [15:32<00:00,  8.13it/s]\n",
      "100%|██████████| 7581/7581 [15:28<00:00,  8.17it/s]\n",
      "100%|██████████| 7581/7581 [15:38<00:00,  8.08it/s]\n",
      "100%|██████████| 7581/7581 [15:53<00:00,  7.95it/s]\n",
      "100%|██████████| 7581/7581 [17:31<00:00,  7.21it/s]\n"
     ]
    },
    {
     "name": "stdout",
     "output_type": "stream",
     "text": [
      "\n",
      "Training Client 2\n"
     ]
    },
    {
     "name": "stderr",
     "output_type": "stream",
     "text": [
      "100%|██████████| 7581/7581 [17:32<00:00,  7.20it/s]\n",
      "100%|██████████| 7581/7581 [17:22<00:00,  7.27it/s]\n",
      "100%|██████████| 7581/7581 [17:40<00:00,  7.15it/s]\n",
      "100%|██████████| 7581/7581 [17:22<00:00,  7.27it/s]\n",
      "100%|██████████| 7581/7581 [17:28<00:00,  7.23it/s]\n"
     ]
    },
    {
     "name": "stdout",
     "output_type": "stream",
     "text": [
      "\n",
      "Aggregating client models on the server...\n"
     ]
    },
    {
     "name": "stderr",
     "output_type": "stream",
     "text": [
      "100%|██████████| 2527/2527 [01:14<00:00, 34.05it/s]\n"
     ]
    },
    {
     "name": "stdout",
     "output_type": "stream",
     "text": [
      "{'accuracy': 0.9131585456344299, 'f1': 0.8853476145380923}\n",
      "\n",
      "--- Federated Learning Round 17 ---\n",
      "\n",
      "Training Client 0\n"
     ]
    },
    {
     "name": "stderr",
     "output_type": "stream",
     "text": [
      "100%|██████████| 7581/7581 [17:32<00:00,  7.20it/s]\n",
      "100%|██████████| 7581/7581 [17:46<00:00,  7.11it/s]\n",
      "100%|██████████| 7581/7581 [17:36<00:00,  7.18it/s]\n",
      "100%|██████████| 7581/7581 [17:36<00:00,  7.17it/s]\n",
      "100%|██████████| 7581/7581 [17:28<00:00,  7.23it/s]\n"
     ]
    },
    {
     "name": "stdout",
     "output_type": "stream",
     "text": [
      "\n",
      "Training Client 1\n"
     ]
    },
    {
     "name": "stderr",
     "output_type": "stream",
     "text": [
      "100%|██████████| 7581/7581 [17:29<00:00,  7.22it/s]\n",
      "100%|██████████| 7581/7581 [17:31<00:00,  7.21it/s]\n",
      "100%|██████████| 7581/7581 [17:34<00:00,  7.19it/s]\n",
      "100%|██████████| 7581/7581 [17:34<00:00,  7.19it/s]\n",
      "100%|██████████| 7581/7581 [17:20<00:00,  7.29it/s]\n"
     ]
    },
    {
     "name": "stdout",
     "output_type": "stream",
     "text": [
      "\n",
      "Training Client 2\n"
     ]
    },
    {
     "name": "stderr",
     "output_type": "stream",
     "text": [
      "100%|██████████| 7581/7581 [17:32<00:00,  7.20it/s]\n",
      "100%|██████████| 7581/7581 [17:35<00:00,  7.18it/s]\n",
      "100%|██████████| 7581/7581 [17:33<00:00,  7.19it/s]\n",
      "100%|██████████| 7581/7581 [17:35<00:00,  7.18it/s]\n",
      "100%|██████████| 7581/7581 [17:31<00:00,  7.21it/s]\n"
     ]
    },
    {
     "name": "stdout",
     "output_type": "stream",
     "text": [
      "\n",
      "Aggregating client models on the server...\n"
     ]
    },
    {
     "name": "stderr",
     "output_type": "stream",
     "text": [
      "100%|██████████| 2527/2527 [01:14<00:00, 34.00it/s]\n"
     ]
    },
    {
     "name": "stdout",
     "output_type": "stream",
     "text": [
      "{'accuracy': 0.9129112045510759, 'f1': 0.8847349985268602}\n",
      "\n",
      "--- Federated Learning Round 18 ---\n",
      "\n",
      "Training Client 0\n"
     ]
    },
    {
     "name": "stderr",
     "output_type": "stream",
     "text": [
      "100%|██████████| 7581/7581 [17:27<00:00,  7.24it/s]\n",
      "100%|██████████| 7581/7581 [17:38<00:00,  7.16it/s]\n",
      "100%|██████████| 7581/7581 [17:26<00:00,  7.24it/s]\n",
      "100%|██████████| 7581/7581 [17:34<00:00,  7.19it/s]\n",
      "100%|██████████| 7581/7581 [17:37<00:00,  7.17it/s]\n"
     ]
    },
    {
     "name": "stdout",
     "output_type": "stream",
     "text": [
      "\n",
      "Training Client 1\n"
     ]
    },
    {
     "name": "stderr",
     "output_type": "stream",
     "text": [
      "100%|██████████| 7581/7581 [17:30<00:00,  7.22it/s]\n",
      "100%|██████████| 7581/7581 [17:27<00:00,  7.24it/s]\n",
      "100%|██████████| 7581/7581 [17:31<00:00,  7.21it/s]\n",
      "100%|██████████| 7581/7581 [17:35<00:00,  7.18it/s]\n",
      "100%|██████████| 7581/7581 [17:35<00:00,  7.19it/s]\n"
     ]
    },
    {
     "name": "stdout",
     "output_type": "stream",
     "text": [
      "\n",
      "Training Client 2\n"
     ]
    },
    {
     "name": "stderr",
     "output_type": "stream",
     "text": [
      "100%|██████████| 7581/7581 [17:28<00:00,  7.23it/s]\n",
      "100%|██████████| 7581/7581 [17:28<00:00,  7.23it/s]\n",
      "100%|██████████| 7581/7581 [17:26<00:00,  7.24it/s]\n",
      "100%|██████████| 7581/7581 [17:39<00:00,  7.16it/s]\n",
      "100%|██████████| 7581/7581 [17:35<00:00,  7.18it/s]\n"
     ]
    },
    {
     "name": "stdout",
     "output_type": "stream",
     "text": [
      "\n",
      "Aggregating client models on the server...\n"
     ]
    },
    {
     "name": "stderr",
     "output_type": "stream",
     "text": [
      "100%|██████████| 2527/2527 [01:12<00:00, 34.97it/s]\n"
     ]
    },
    {
     "name": "stdout",
     "output_type": "stream",
     "text": [
      "{'accuracy': 0.9132080138511006, 'f1': 0.8861121028204213}\n",
      "\n",
      "--- Federated Learning Round 19 ---\n",
      "\n",
      "Training Client 0\n"
     ]
    },
    {
     "name": "stderr",
     "output_type": "stream",
     "text": [
      "100%|██████████| 7581/7581 [17:30<00:00,  7.22it/s]\n",
      "100%|██████████| 7581/7581 [17:31<00:00,  7.21it/s]\n",
      "100%|██████████| 7581/7581 [17:31<00:00,  7.21it/s]\n",
      "100%|██████████| 7581/7581 [17:31<00:00,  7.21it/s]\n",
      "100%|██████████| 7581/7581 [17:30<00:00,  7.22it/s]\n"
     ]
    },
    {
     "name": "stdout",
     "output_type": "stream",
     "text": [
      "\n",
      "Training Client 1\n"
     ]
    },
    {
     "name": "stderr",
     "output_type": "stream",
     "text": [
      "100%|██████████| 7581/7581 [17:29<00:00,  7.22it/s]\n",
      "100%|██████████| 7581/7581 [17:29<00:00,  7.23it/s]\n",
      "100%|██████████| 7581/7581 [17:40<00:00,  7.15it/s]\n",
      "100%|██████████| 7581/7581 [17:32<00:00,  7.20it/s]\n",
      "100%|██████████| 7581/7581 [17:30<00:00,  7.21it/s]\n"
     ]
    },
    {
     "name": "stdout",
     "output_type": "stream",
     "text": [
      "\n",
      "Training Client 2\n"
     ]
    },
    {
     "name": "stderr",
     "output_type": "stream",
     "text": [
      "100%|██████████| 7581/7581 [17:27<00:00,  7.24it/s]\n",
      "100%|██████████| 7581/7581 [17:27<00:00,  7.24it/s]\n",
      "100%|██████████| 7581/7581 [17:31<00:00,  7.21it/s]\n",
      "100%|██████████| 7581/7581 [17:26<00:00,  7.24it/s]\n",
      "100%|██████████| 7581/7581 [17:35<00:00,  7.18it/s]\n"
     ]
    },
    {
     "name": "stdout",
     "output_type": "stream",
     "text": [
      "\n",
      "Aggregating client models on the server...\n"
     ]
    },
    {
     "name": "stderr",
     "output_type": "stream",
     "text": [
      "100%|██████████| 2527/2527 [01:11<00:00, 35.11it/s]\n"
     ]
    },
    {
     "name": "stdout",
     "output_type": "stream",
     "text": [
      "{'accuracy': 0.9138016324511501, 'f1': 0.8861743475846752}\n",
      "\n",
      "--- Federated Learning Round 20 ---\n",
      "\n",
      "Training Client 0\n"
     ]
    },
    {
     "name": "stderr",
     "output_type": "stream",
     "text": [
      "100%|██████████| 7581/7581 [17:35<00:00,  7.18it/s]\n",
      "100%|██████████| 7581/7581 [17:33<00:00,  7.19it/s]\n",
      "100%|██████████| 7581/7581 [17:40<00:00,  7.15it/s]\n",
      "100%|██████████| 7581/7581 [17:33<00:00,  7.20it/s]\n",
      "100%|██████████| 7581/7581 [17:36<00:00,  7.17it/s]\n"
     ]
    },
    {
     "name": "stdout",
     "output_type": "stream",
     "text": [
      "\n",
      "Training Client 1\n"
     ]
    },
    {
     "name": "stderr",
     "output_type": "stream",
     "text": [
      "100%|██████████| 7581/7581 [17:28<00:00,  7.23it/s]\n",
      "100%|██████████| 7581/7581 [17:36<00:00,  7.18it/s]\n",
      "100%|██████████| 7581/7581 [17:33<00:00,  7.20it/s]\n",
      "100%|██████████| 7581/7581 [17:30<00:00,  7.22it/s]\n",
      "100%|██████████| 7581/7581 [17:33<00:00,  7.20it/s]\n"
     ]
    },
    {
     "name": "stdout",
     "output_type": "stream",
     "text": [
      "\n",
      "Training Client 2\n"
     ]
    },
    {
     "name": "stderr",
     "output_type": "stream",
     "text": [
      "100%|██████████| 7581/7581 [17:31<00:00,  7.21it/s]\n",
      "100%|██████████| 7581/7581 [17:32<00:00,  7.20it/s]\n",
      "100%|██████████| 7581/7581 [17:23<00:00,  7.27it/s]\n",
      "100%|██████████| 7581/7581 [17:29<00:00,  7.23it/s]\n",
      "100%|██████████| 7581/7581 [17:16<00:00,  7.31it/s]\n"
     ]
    },
    {
     "name": "stdout",
     "output_type": "stream",
     "text": [
      "\n",
      "Aggregating client models on the server...\n"
     ]
    },
    {
     "name": "stderr",
     "output_type": "stream",
     "text": [
      "100%|██████████| 2527/2527 [01:13<00:00, 34.53it/s]\n"
     ]
    },
    {
     "name": "stdout",
     "output_type": "stream",
     "text": [
      "{'accuracy': 0.9131338115260945, 'f1': 0.88549070753179}\n",
      "\n",
      "--- Federated Learning Round 21 ---\n",
      "\n",
      "Training Client 0\n"
     ]
    },
    {
     "name": "stderr",
     "output_type": "stream",
     "text": [
      "100%|██████████| 7581/7581 [17:27<00:00,  7.24it/s]\n",
      "100%|██████████| 7581/7581 [17:29<00:00,  7.22it/s]\n",
      "100%|██████████| 7581/7581 [17:28<00:00,  7.23it/s]\n",
      "100%|██████████| 7581/7581 [17:30<00:00,  7.22it/s]\n",
      "100%|██████████| 7581/7581 [17:25<00:00,  7.25it/s]\n"
     ]
    },
    {
     "name": "stdout",
     "output_type": "stream",
     "text": [
      "\n",
      "Training Client 1\n"
     ]
    },
    {
     "name": "stderr",
     "output_type": "stream",
     "text": [
      "100%|██████████| 7581/7581 [17:32<00:00,  7.20it/s]\n",
      "100%|██████████| 7581/7581 [17:31<00:00,  7.21it/s]\n",
      "100%|██████████| 7581/7581 [17:28<00:00,  7.23it/s]\n",
      "100%|██████████| 7581/7581 [17:29<00:00,  7.22it/s]\n",
      "100%|██████████| 7581/7581 [17:37<00:00,  7.17it/s]\n"
     ]
    },
    {
     "name": "stdout",
     "output_type": "stream",
     "text": [
      "\n",
      "Training Client 2\n"
     ]
    },
    {
     "name": "stderr",
     "output_type": "stream",
     "text": [
      "100%|██████████| 7581/7581 [17:29<00:00,  7.22it/s]\n",
      "100%|██████████| 7581/7581 [17:36<00:00,  7.18it/s]\n",
      "100%|██████████| 7581/7581 [17:30<00:00,  7.21it/s]\n",
      "100%|██████████| 7581/7581 [17:27<00:00,  7.23it/s]\n",
      "100%|██████████| 7581/7581 [17:31<00:00,  7.21it/s]\n"
     ]
    },
    {
     "name": "stdout",
     "output_type": "stream",
     "text": [
      "\n",
      "Aggregating client models on the server...\n"
     ]
    },
    {
     "name": "stderr",
     "output_type": "stream",
     "text": [
      "100%|██████████| 2527/2527 [01:12<00:00, 34.77it/s]\n"
     ]
    },
    {
     "name": "stdout",
     "output_type": "stream",
     "text": [
      "{'accuracy': 0.9129606727677467, 'f1': 0.8848381712864483}\n",
      "\n",
      "--- Federated Learning Round 22 ---\n",
      "\n",
      "Training Client 0\n"
     ]
    },
    {
     "name": "stderr",
     "output_type": "stream",
     "text": [
      "100%|██████████| 7581/7581 [17:40<00:00,  7.15it/s]\n",
      "100%|██████████| 7581/7581 [17:39<00:00,  7.15it/s]\n",
      "100%|██████████| 7581/7581 [17:35<00:00,  7.19it/s]\n",
      "100%|██████████| 7581/7581 [17:26<00:00,  7.24it/s]\n",
      "100%|██████████| 7581/7581 [17:36<00:00,  7.18it/s]\n"
     ]
    },
    {
     "name": "stdout",
     "output_type": "stream",
     "text": [
      "\n",
      "Training Client 1\n"
     ]
    },
    {
     "name": "stderr",
     "output_type": "stream",
     "text": [
      "100%|██████████| 7581/7581 [17:26<00:00,  7.25it/s]\n",
      "100%|██████████| 7581/7581 [17:34<00:00,  7.19it/s]\n",
      "100%|██████████| 7581/7581 [17:31<00:00,  7.21it/s]\n",
      "100%|██████████| 7581/7581 [17:30<00:00,  7.21it/s]\n",
      "100%|██████████| 7581/7581 [17:25<00:00,  7.25it/s]\n"
     ]
    },
    {
     "name": "stdout",
     "output_type": "stream",
     "text": [
      "\n",
      "Training Client 2\n"
     ]
    },
    {
     "name": "stderr",
     "output_type": "stream",
     "text": [
      "100%|██████████| 7581/7581 [17:30<00:00,  7.22it/s]\n",
      "100%|██████████| 7581/7581 [17:30<00:00,  7.21it/s]\n",
      "100%|██████████| 7581/7581 [17:28<00:00,  7.23it/s]\n",
      "100%|██████████| 7581/7581 [17:39<00:00,  7.16it/s]\n",
      "100%|██████████| 7581/7581 [17:28<00:00,  7.23it/s]\n"
     ]
    },
    {
     "name": "stdout",
     "output_type": "stream",
     "text": [
      "\n",
      "Aggregating client models on the server...\n"
     ]
    },
    {
     "name": "stderr",
     "output_type": "stream",
     "text": [
      "100%|██████████| 2527/2527 [01:14<00:00, 33.98it/s]\n"
     ]
    },
    {
     "name": "stdout",
     "output_type": "stream",
     "text": [
      "{'accuracy': 0.9130843433094237, 'f1': 0.8855970829535096}\n",
      "\n",
      "--- Federated Learning Round 23 ---\n",
      "\n",
      "Training Client 0\n"
     ]
    },
    {
     "name": "stderr",
     "output_type": "stream",
     "text": [
      "100%|██████████| 7581/7581 [17:35<00:00,  7.18it/s]\n",
      "100%|██████████| 7581/7581 [17:31<00:00,  7.21it/s]\n",
      "100%|██████████| 7581/7581 [17:26<00:00,  7.24it/s]\n",
      "100%|██████████| 7581/7581 [17:29<00:00,  7.23it/s]\n",
      "100%|██████████| 7581/7581 [17:34<00:00,  7.19it/s]\n"
     ]
    },
    {
     "name": "stdout",
     "output_type": "stream",
     "text": [
      "\n",
      "Training Client 1\n"
     ]
    },
    {
     "name": "stderr",
     "output_type": "stream",
     "text": [
      "100%|██████████| 7581/7581 [17:23<00:00,  7.27it/s]\n",
      "100%|██████████| 7581/7581 [17:27<00:00,  7.24it/s]\n",
      "100%|██████████| 7581/7581 [17:30<00:00,  7.22it/s]\n",
      "100%|██████████| 7581/7581 [17:35<00:00,  7.18it/s]\n",
      "100%|██████████| 7581/7581 [17:40<00:00,  7.15it/s]\n"
     ]
    },
    {
     "name": "stdout",
     "output_type": "stream",
     "text": [
      "\n",
      "Training Client 2\n"
     ]
    },
    {
     "name": "stderr",
     "output_type": "stream",
     "text": [
      "100%|██████████| 7581/7581 [17:23<00:00,  7.26it/s]\n",
      "100%|██████████| 7581/7581 [17:26<00:00,  7.25it/s]\n",
      "100%|██████████| 7581/7581 [17:26<00:00,  7.24it/s]\n",
      "100%|██████████| 7581/7581 [17:30<00:00,  7.22it/s]\n",
      "100%|██████████| 7581/7581 [17:31<00:00,  7.21it/s]\n"
     ]
    },
    {
     "name": "stdout",
     "output_type": "stream",
     "text": [
      "\n",
      "Aggregating client models on the server...\n"
     ]
    },
    {
     "name": "stderr",
     "output_type": "stream",
     "text": [
      "100%|██████████| 2527/2527 [01:12<00:00, 35.07it/s]\n"
     ]
    },
    {
     "name": "stdout",
     "output_type": "stream",
     "text": [
      "{'accuracy': 0.912663863467722, 'f1': 0.8857318533380797}\n",
      "\n",
      "--- Federated Learning Round 24 ---\n",
      "\n",
      "Training Client 0\n"
     ]
    },
    {
     "name": "stderr",
     "output_type": "stream",
     "text": [
      "100%|██████████| 7581/7581 [17:38<00:00,  7.16it/s]\n",
      "100%|██████████| 7581/7581 [17:33<00:00,  7.20it/s]\n",
      "100%|██████████| 7581/7581 [17:28<00:00,  7.23it/s]\n",
      "100%|██████████| 7581/7581 [17:33<00:00,  7.19it/s]\n",
      "100%|██████████| 7581/7581 [17:30<00:00,  7.22it/s]\n"
     ]
    },
    {
     "name": "stdout",
     "output_type": "stream",
     "text": [
      "\n",
      "Training Client 1\n"
     ]
    },
    {
     "name": "stderr",
     "output_type": "stream",
     "text": [
      "100%|██████████| 7581/7581 [17:30<00:00,  7.22it/s]\n",
      "100%|██████████| 7581/7581 [17:31<00:00,  7.21it/s]\n",
      "100%|██████████| 7581/7581 [17:35<00:00,  7.19it/s]\n",
      "100%|██████████| 7581/7581 [17:28<00:00,  7.23it/s]\n",
      "100%|██████████| 7581/7581 [17:30<00:00,  7.22it/s]\n"
     ]
    },
    {
     "name": "stdout",
     "output_type": "stream",
     "text": [
      "\n",
      "Training Client 2\n"
     ]
    },
    {
     "name": "stderr",
     "output_type": "stream",
     "text": [
      "100%|██████████| 7581/7581 [17:31<00:00,  7.21it/s]\n",
      "100%|██████████| 7581/7581 [17:33<00:00,  7.20it/s]\n",
      "100%|██████████| 7581/7581 [17:20<00:00,  7.29it/s]\n",
      "100%|██████████| 7581/7581 [17:32<00:00,  7.20it/s]\n",
      "100%|██████████| 7581/7581 [17:27<00:00,  7.24it/s]\n"
     ]
    },
    {
     "name": "stdout",
     "output_type": "stream",
     "text": [
      "\n",
      "Aggregating client models on the server...\n"
     ]
    },
    {
     "name": "stderr",
     "output_type": "stream",
     "text": [
      "100%|██████████| 2527/2527 [01:12<00:00, 35.03it/s]\n"
     ]
    },
    {
     "name": "stdout",
     "output_type": "stream",
     "text": [
      "{'accuracy': 0.9134553549344546, 'f1': 0.8859406069693907}\n",
      "\n",
      "--- Federated Learning Round 25 ---\n",
      "\n",
      "Training Client 0\n"
     ]
    },
    {
     "name": "stderr",
     "output_type": "stream",
     "text": [
      "100%|██████████| 7581/7581 [17:35<00:00,  7.18it/s]\n",
      "100%|██████████| 7581/7581 [17:29<00:00,  7.22it/s]\n",
      "100%|██████████| 7581/7581 [17:32<00:00,  7.20it/s]\n",
      "100%|██████████| 7581/7581 [17:38<00:00,  7.16it/s]\n",
      "100%|██████████| 7581/7581 [17:38<00:00,  7.16it/s]\n"
     ]
    },
    {
     "name": "stdout",
     "output_type": "stream",
     "text": [
      "\n",
      "Training Client 1\n"
     ]
    },
    {
     "name": "stderr",
     "output_type": "stream",
     "text": [
      "100%|██████████| 7581/7581 [17:36<00:00,  7.18it/s]\n",
      "100%|██████████| 7581/7581 [17:30<00:00,  7.22it/s]\n",
      "100%|██████████| 7581/7581 [17:28<00:00,  7.23it/s]\n",
      "100%|██████████| 7581/7581 [17:28<00:00,  7.23it/s]\n",
      "100%|██████████| 7581/7581 [17:34<00:00,  7.19it/s]\n"
     ]
    },
    {
     "name": "stdout",
     "output_type": "stream",
     "text": [
      "\n",
      "Training Client 2\n"
     ]
    },
    {
     "name": "stderr",
     "output_type": "stream",
     "text": [
      "100%|██████████| 7581/7581 [17:36<00:00,  7.18it/s]\n",
      "100%|██████████| 7581/7581 [17:21<00:00,  7.28it/s]\n",
      "100%|██████████| 7581/7581 [17:30<00:00,  7.22it/s]\n",
      "100%|██████████| 7581/7581 [17:30<00:00,  7.22it/s]\n",
      "100%|██████████| 7581/7581 [17:36<00:00,  7.18it/s]\n"
     ]
    },
    {
     "name": "stdout",
     "output_type": "stream",
     "text": [
      "\n",
      "Aggregating client models on the server...\n"
     ]
    },
    {
     "name": "stderr",
     "output_type": "stream",
     "text": [
      "100%|██████████| 2527/2527 [01:15<00:00, 33.58it/s]\n"
     ]
    },
    {
     "name": "stdout",
     "output_type": "stream",
     "text": [
      "{'accuracy': 0.9143952510511996, 'f1': 0.8872528260090563}\n",
      "\n",
      "--- Federated Learning Round 26 ---\n",
      "\n",
      "Training Client 0\n"
     ]
    },
    {
     "name": "stderr",
     "output_type": "stream",
     "text": [
      "100%|██████████| 7581/7581 [17:35<00:00,  7.18it/s]\n",
      "100%|██████████| 7581/7581 [17:39<00:00,  7.15it/s]\n",
      "100%|██████████| 7581/7581 [17:33<00:00,  7.20it/s]\n",
      "100%|██████████| 7581/7581 [17:32<00:00,  7.20it/s]\n",
      "100%|██████████| 7581/7581 [17:30<00:00,  7.22it/s]\n"
     ]
    },
    {
     "name": "stdout",
     "output_type": "stream",
     "text": [
      "\n",
      "Training Client 1\n"
     ]
    },
    {
     "name": "stderr",
     "output_type": "stream",
     "text": [
      "100%|██████████| 7581/7581 [17:31<00:00,  7.21it/s]\n",
      "100%|██████████| 7581/7581 [17:42<00:00,  7.13it/s]\n",
      "100%|██████████| 7581/7581 [17:31<00:00,  7.21it/s]\n",
      "100%|██████████| 7581/7581 [17:31<00:00,  7.21it/s]\n",
      "100%|██████████| 7581/7581 [17:31<00:00,  7.21it/s]\n"
     ]
    },
    {
     "name": "stdout",
     "output_type": "stream",
     "text": [
      "\n",
      "Training Client 2\n"
     ]
    },
    {
     "name": "stderr",
     "output_type": "stream",
     "text": [
      "100%|██████████| 7581/7581 [17:41<00:00,  7.14it/s]\n",
      "100%|██████████| 7581/7581 [17:36<00:00,  7.17it/s]\n",
      "100%|██████████| 7581/7581 [17:36<00:00,  7.18it/s]\n",
      "100%|██████████| 7581/7581 [17:30<00:00,  7.22it/s]\n",
      "100%|██████████| 7581/7581 [17:32<00:00,  7.21it/s]\n"
     ]
    },
    {
     "name": "stdout",
     "output_type": "stream",
     "text": [
      "\n",
      "Aggregating client models on the server...\n"
     ]
    },
    {
     "name": "stderr",
     "output_type": "stream",
     "text": [
      "100%|██████████| 2527/2527 [01:14<00:00, 34.13it/s]\n"
     ]
    },
    {
     "name": "stdout",
     "output_type": "stream",
     "text": [
      "{'accuracy': 0.9135790254761316, 'f1': 0.8846940795987064}\n",
      "\n",
      "--- Federated Learning Round 27 ---\n",
      "\n",
      "Training Client 0\n"
     ]
    },
    {
     "name": "stderr",
     "output_type": "stream",
     "text": [
      "100%|██████████| 7581/7581 [17:37<00:00,  7.17it/s]\n",
      "100%|██████████| 7581/7581 [17:31<00:00,  7.21it/s]\n",
      "100%|██████████| 7581/7581 [17:28<00:00,  7.23it/s]\n",
      "100%|██████████| 7581/7581 [17:34<00:00,  7.19it/s]\n",
      "100%|██████████| 7581/7581 [17:44<00:00,  7.12it/s]\n"
     ]
    },
    {
     "name": "stdout",
     "output_type": "stream",
     "text": [
      "\n",
      "Training Client 1\n"
     ]
    },
    {
     "name": "stderr",
     "output_type": "stream",
     "text": [
      "100%|██████████| 7581/7581 [17:31<00:00,  7.21it/s]\n",
      "100%|██████████| 7581/7581 [17:32<00:00,  7.20it/s]\n",
      "100%|██████████| 7581/7581 [17:32<00:00,  7.20it/s]\n",
      "100%|██████████| 7581/7581 [17:23<00:00,  7.26it/s]\n",
      "100%|██████████| 7581/7581 [17:31<00:00,  7.21it/s]\n"
     ]
    },
    {
     "name": "stdout",
     "output_type": "stream",
     "text": [
      "\n",
      "Training Client 2\n"
     ]
    },
    {
     "name": "stderr",
     "output_type": "stream",
     "text": [
      "100%|██████████| 7581/7581 [17:35<00:00,  7.18it/s]\n",
      "100%|██████████| 7581/7581 [17:23<00:00,  7.26it/s]\n",
      "100%|██████████| 7581/7581 [17:35<00:00,  7.18it/s]\n",
      "100%|██████████| 7581/7581 [17:15<00:00,  7.32it/s]\n",
      "100%|██████████| 7581/7581 [17:29<00:00,  7.23it/s]\n"
     ]
    },
    {
     "name": "stdout",
     "output_type": "stream",
     "text": [
      "\n",
      "Aggregating client models on the server...\n"
     ]
    },
    {
     "name": "stderr",
     "output_type": "stream",
     "text": [
      "100%|██████████| 2527/2527 [01:12<00:00, 34.94it/s]\n"
     ]
    },
    {
     "name": "stdout",
     "output_type": "stream",
     "text": [
      "{'accuracy': 0.9126885975760574, 'f1': 0.8849038148027388}\n",
      "\n",
      "--- Federated Learning Round 28 ---\n",
      "\n",
      "Training Client 0\n"
     ]
    },
    {
     "name": "stderr",
     "output_type": "stream",
     "text": [
      "100%|██████████| 7581/7581 [17:27<00:00,  7.24it/s]\n",
      "100%|██████████| 7581/7581 [17:29<00:00,  7.22it/s]\n",
      "100%|██████████| 7581/7581 [17:32<00:00,  7.20it/s]\n",
      "100%|██████████| 7581/7581 [17:33<00:00,  7.19it/s]\n",
      "100%|██████████| 7581/7581 [17:25<00:00,  7.25it/s]\n"
     ]
    },
    {
     "name": "stdout",
     "output_type": "stream",
     "text": [
      "\n",
      "Training Client 1\n"
     ]
    },
    {
     "name": "stderr",
     "output_type": "stream",
     "text": [
      "100%|██████████| 7581/7581 [17:33<00:00,  7.20it/s]\n",
      "100%|██████████| 7581/7581 [17:32<00:00,  7.20it/s]\n",
      "100%|██████████| 7581/7581 [17:33<00:00,  7.19it/s]\n",
      "100%|██████████| 7581/7581 [17:31<00:00,  7.21it/s]\n",
      "100%|██████████| 7581/7581 [17:39<00:00,  7.16it/s]\n"
     ]
    },
    {
     "name": "stdout",
     "output_type": "stream",
     "text": [
      "\n",
      "Training Client 2\n"
     ]
    },
    {
     "name": "stderr",
     "output_type": "stream",
     "text": [
      "100%|██████████| 7581/7581 [17:28<00:00,  7.23it/s]\n",
      "100%|██████████| 7581/7581 [17:32<00:00,  7.20it/s]\n",
      "100%|██████████| 7581/7581 [17:21<00:00,  7.28it/s]\n",
      "100%|██████████| 7581/7581 [17:24<00:00,  7.26it/s]\n",
      "100%|██████████| 7581/7581 [17:22<00:00,  7.27it/s]\n"
     ]
    },
    {
     "name": "stdout",
     "output_type": "stream",
     "text": [
      "\n",
      "Aggregating client models on the server...\n"
     ]
    },
    {
     "name": "stderr",
     "output_type": "stream",
     "text": [
      "100%|██████████| 2527/2527 [01:13<00:00, 34.53it/s]\n"
     ]
    },
    {
     "name": "stdout",
     "output_type": "stream",
     "text": [
      "{'accuracy': 0.9128122681177343, 'f1': 0.8845662638766087}\n",
      "\n",
      "--- Federated Learning Round 29 ---\n",
      "\n",
      "Training Client 0\n"
     ]
    },
    {
     "name": "stderr",
     "output_type": "stream",
     "text": [
      "100%|██████████| 7581/7581 [17:24<00:00,  7.26it/s]\n",
      "100%|██████████| 7581/7581 [17:37<00:00,  7.17it/s]\n",
      "100%|██████████| 7581/7581 [17:30<00:00,  7.22it/s]\n",
      "100%|██████████| 7581/7581 [17:34<00:00,  7.19it/s]\n",
      "100%|██████████| 7581/7581 [17:17<00:00,  7.31it/s]\n"
     ]
    },
    {
     "name": "stdout",
     "output_type": "stream",
     "text": [
      "\n",
      "Training Client 1\n"
     ]
    },
    {
     "name": "stderr",
     "output_type": "stream",
     "text": [
      "100%|██████████| 7581/7581 [17:29<00:00,  7.22it/s]\n",
      "100%|██████████| 7581/7581 [17:31<00:00,  7.21it/s]\n",
      "100%|██████████| 7581/7581 [17:35<00:00,  7.18it/s]\n",
      "100%|██████████| 7581/7581 [17:25<00:00,  7.25it/s]\n",
      "100%|██████████| 7581/7581 [17:25<00:00,  7.25it/s]\n"
     ]
    },
    {
     "name": "stdout",
     "output_type": "stream",
     "text": [
      "\n",
      "Training Client 2\n"
     ]
    },
    {
     "name": "stderr",
     "output_type": "stream",
     "text": [
      "100%|██████████| 7581/7581 [17:31<00:00,  7.21it/s]\n",
      "100%|██████████| 7581/7581 [17:35<00:00,  7.18it/s]\n",
      "100%|██████████| 7581/7581 [17:33<00:00,  7.20it/s]\n",
      "100%|██████████| 7581/7581 [17:28<00:00,  7.23it/s]\n",
      "100%|██████████| 7581/7581 [17:36<00:00,  7.18it/s]\n"
     ]
    },
    {
     "name": "stdout",
     "output_type": "stream",
     "text": [
      "\n",
      "Aggregating client models on the server...\n"
     ]
    },
    {
     "name": "stderr",
     "output_type": "stream",
     "text": [
      "100%|██████████| 2527/2527 [01:12<00:00, 35.01it/s]\n"
     ]
    },
    {
     "name": "stdout",
     "output_type": "stream",
     "text": [
      "{'accuracy': 0.9127133316843927, 'f1': 0.8839946089872128}\n",
      "\n",
      "--- Federated Learning Round 30 ---\n",
      "\n",
      "Training Client 0\n"
     ]
    },
    {
     "name": "stderr",
     "output_type": "stream",
     "text": [
      "100%|██████████| 7581/7581 [17:17<00:00,  7.31it/s]\n",
      "100%|██████████| 7581/7581 [16:05<00:00,  7.85it/s]\n",
      "100%|██████████| 7581/7581 [17:35<00:00,  7.18it/s]\n",
      "100%|██████████| 7581/7581 [17:31<00:00,  7.21it/s]\n",
      "100%|██████████| 7581/7581 [17:29<00:00,  7.23it/s]\n"
     ]
    },
    {
     "name": "stdout",
     "output_type": "stream",
     "text": [
      "\n",
      "Training Client 1\n"
     ]
    },
    {
     "name": "stderr",
     "output_type": "stream",
     "text": [
      "100%|██████████| 7581/7581 [17:39<00:00,  7.16it/s]\n",
      "100%|██████████| 7581/7581 [17:26<00:00,  7.24it/s]\n",
      "100%|██████████| 7581/7581 [17:32<00:00,  7.20it/s]\n",
      "100%|██████████| 7581/7581 [17:29<00:00,  7.23it/s]\n",
      "100%|██████████| 7581/7581 [17:29<00:00,  7.22it/s]\n"
     ]
    },
    {
     "name": "stdout",
     "output_type": "stream",
     "text": [
      "\n",
      "Training Client 2\n"
     ]
    },
    {
     "name": "stderr",
     "output_type": "stream",
     "text": [
      "100%|██████████| 7581/7581 [17:33<00:00,  7.20it/s]\n",
      "100%|██████████| 7581/7581 [17:25<00:00,  7.25it/s]\n",
      "100%|██████████| 7581/7581 [17:31<00:00,  7.21it/s]\n",
      "100%|██████████| 7581/7581 [17:35<00:00,  7.18it/s]\n",
      "100%|██████████| 7581/7581 [17:26<00:00,  7.24it/s]\n"
     ]
    },
    {
     "name": "stdout",
     "output_type": "stream",
     "text": [
      "\n",
      "Aggregating client models on the server...\n"
     ]
    },
    {
     "name": "stderr",
     "output_type": "stream",
     "text": [
      "100%|██████████| 2527/2527 [01:12<00:00, 34.91it/s]\n"
     ]
    },
    {
     "name": "stdout",
     "output_type": "stream",
     "text": [
      "{'accuracy': 0.9148157308929014, 'f1': 0.8876125832136796}\n"
     ]
    },
    {
     "name": "stderr",
     "output_type": "stream",
     "text": [
      "wandb: WARNING Source type is set to 'repo' but some required information is missing from the environment. A job will not be created from this run. See https://docs.wandb.ai/guides/launch/create-job\n"
     ]
    },
    {
     "data": {
      "application/vnd.jupyter.widget-view+json": {
       "model_id": "5fc78d70cc9d4cc39ba40fa1b6b0232a",
       "version_major": 2,
       "version_minor": 0
      },
      "text/plain": [
       "VBox(children=(Label(value='0.005 MB of 0.005 MB uploaded\\r'), FloatProgress(value=1.0, max=1.0)))"
      ]
     },
     "metadata": {},
     "output_type": "display_data"
    },
    {
     "data": {
      "text/html": [
       "<style>\n",
       "    table.wandb td:nth-child(1) { padding: 0 10px; text-align: left ; width: auto;} td:nth-child(2) {text-align: left ; width: 100%}\n",
       "    .wandb-row { display: flex; flex-direction: row; flex-wrap: wrap; justify-content: flex-start; width: 100% }\n",
       "    .wandb-col { display: flex; flex-direction: column; flex-basis: 100%; flex: 1; padding: 10px; }\n",
       "    </style>\n",
       "<div class=\"wandb-row\"><div class=\"wandb-col\"><h3>Run history:</h3><br/><table class=\"wandb\"><tr><td>accuracy</td><td>▁▄▅▆▆▆▇▇▇▇▇▇▇▇▇███████████████</td></tr><tr><td>f1</td><td>▁▃▄▅▆▆▇▇▇▇▇▇▇▇▇██████████▇█▇▇█</td></tr></table><br/></div><div class=\"wandb-col\"><h3>Run summary:</h3><br/><table class=\"wandb\"><tr><td>accuracy</td><td>0.91482</td></tr><tr><td>f1</td><td>0.88761</td></tr></table><br/></div></div>"
      ],
      "text/plain": [
       "<IPython.core.display.HTML object>"
      ]
     },
     "metadata": {},
     "output_type": "display_data"
    },
    {
     "data": {
      "text/html": [
       " View run <strong style=\"color:#cdcd00\">FeDoRA</strong> at: <a href='https://wandb.ai/quanla/FeDORA%20Project%20-%20QQP/runs/3ql7xgdy' target=\"_blank\">https://wandb.ai/quanla/FeDORA%20Project%20-%20QQP/runs/3ql7xgdy</a><br/>Synced 5 W&B file(s), 0 media file(s), 0 artifact file(s) and 0 other file(s)"
      ],
      "text/plain": [
       "<IPython.core.display.HTML object>"
      ]
     },
     "metadata": {},
     "output_type": "display_data"
    },
    {
     "data": {
      "text/html": [
       "Find logs at: <code>./wandb/run-20241106_151050-3ql7xgdy/logs</code>"
      ],
      "text/plain": [
       "<IPython.core.display.HTML object>"
      ]
     },
     "metadata": {},
     "output_type": "display_data"
    }
   ],
   "source": [
    "# 6. Federated Training Loop\n",
    "num_rounds = 30  # Number of federated learning rounds\n",
    "epochs_per_client = 5  # Number of epochs per client in each round\n",
    "\n",
    "for round_num in range(num_rounds):\n",
    "    print(f\"\\n--- Federated Learning Round {round_num + 1} ---\")\n",
    "    \n",
    "    client_models = []\n",
    "    \n",
    "    # Train each client locally\n",
    "    for client in clients:\n",
    "        print(f\"\\nTraining Client {client.client_id}\")\n",
    "        client.train(epochs=epochs_per_client, regularization_strength=0.5)\n",
    "        client_models.append(client.get_parameters())\n",
    "\n",
    "    # Aggregate client models on the server\n",
    "    print(\"\\nAggregating client models on the server...\")\n",
    "    server.aggregate(client_models)\n",
    "    eval_metric = server.evaluate(eval_dataloader, metric=metric)\n",
    "    print(eval_metric)\n",
    "    wandb.log(eval_metric)\n",
    "    # evaluate(lora_model, val_dataset)\n",
    "\n",
    "    \n",
    "    # Update each client's model with the new global model\n",
    "    for client in clients:\n",
    "        client.set_parameters(server.global_model.state_dict())\n",
    "\n",
    "wandb.finish()"
   ]
  },
  {
   "cell_type": "code",
   "execution_count": 15,
   "metadata": {},
   "outputs": [],
   "source": [
    "# model.to(device)\n",
    "# for epoch in range(num_epochs):\n",
    "#     model.train()\n",
    "#     for step, batch in enumerate(tqdm(train_dataloader)):\n",
    "#         batch.to(device)\n",
    "#         outputs = model(**batch)\n",
    "#         loss = outputs.loss\n",
    "#         loss.backward()\n",
    "#         optimizer.step()\n",
    "#         lr_scheduler.step()\n",
    "#         optimizer.zero_grad()\n",
    "\n",
    "#     model.eval()\n",
    "#     for step, batch in enumerate(tqdm(eval_dataloader)):\n",
    "#         batch.to(device)\n",
    "#         with torch.no_grad():\n",
    "#             outputs = model(**batch)\n",
    "#         predictions = outputs.logits.argmax(dim=-1)\n",
    "#         predictions, references = predictions, batch[\"labels\"]\n",
    "#         metric.add_batch(\n",
    "#             predictions=predictions,\n",
    "#             references=references,\n",
    "#         )\n",
    "\n",
    "#     eval_metric = metric.compute()\n",
    "#     print(f\"epoch {epoch}:\", eval_metric)"
   ]
  }
 ],
 "metadata": {
  "kernelspec": {
   "display_name": ".venv",
   "language": "python",
   "name": "python3"
  },
  "language_info": {
   "codemirror_mode": {
    "name": "ipython",
    "version": 3
   },
   "file_extension": ".py",
   "mimetype": "text/x-python",
   "name": "python",
   "nbconvert_exporter": "python",
   "pygments_lexer": "ipython3",
   "version": "3.10.12"
  }
 },
 "nbformat": 4,
 "nbformat_minor": 2
}
