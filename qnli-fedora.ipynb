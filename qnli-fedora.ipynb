{
 "cells": [
  {
   "cell_type": "code",
   "execution_count": 1,
   "metadata": {},
   "outputs": [],
   "source": [
    "import os\n",
    "os.environ['CUDA_VISIBLE_DEVICES'] = '3'"
   ]
  },
  {
   "cell_type": "code",
   "execution_count": 2,
   "metadata": {},
   "outputs": [
    {
     "name": "stderr",
     "output_type": "stream",
     "text": [
      "2024-11-28 18:02:29.140773: I tensorflow/core/util/port.cc:153] oneDNN custom operations are on. You may see slightly different numerical results due to floating-point round-off errors from different computation orders. To turn them off, set the environment variable `TF_ENABLE_ONEDNN_OPTS=0`.\n",
      "2024-11-28 18:02:29.151443: E external/local_xla/xla/stream_executor/cuda/cuda_fft.cc:485] Unable to register cuFFT factory: Attempting to register factory for plugin cuFFT when one has already been registered\n",
      "2024-11-28 18:02:29.164322: E external/local_xla/xla/stream_executor/cuda/cuda_dnn.cc:8454] Unable to register cuDNN factory: Attempting to register factory for plugin cuDNN when one has already been registered\n",
      "2024-11-28 18:02:29.168153: E external/local_xla/xla/stream_executor/cuda/cuda_blas.cc:1452] Unable to register cuBLAS factory: Attempting to register factory for plugin cuBLAS when one has already been registered\n",
      "2024-11-28 18:02:29.177865: I tensorflow/core/platform/cpu_feature_guard.cc:210] This TensorFlow binary is optimized to use available CPU instructions in performance-critical operations.\n",
      "To enable the following instructions: AVX2 AVX512F AVX512_VNNI FMA, in other operations, rebuild TensorFlow with the appropriate compiler flags.\n",
      "2024-11-28 18:02:29.777821: W tensorflow/compiler/tf2tensorrt/utils/py_utils.cc:38] TF-TRT Warning: Could not find TensorRT\n"
     ]
    }
   ],
   "source": [
    "import argparse\n",
    "import os\n",
    "\n",
    "import torch\n",
    "from torch.optim import AdamW\n",
    "from torch.utils.data import DataLoader\n",
    "from peft import (\n",
    "    get_peft_config,\n",
    "    get_peft_model,\n",
    "    get_peft_model_state_dict,\n",
    "    set_peft_model_state_dict,\n",
    "    LoraConfig,\n",
    "    PeftType,\n",
    "    PrefixTuningConfig,\n",
    "    PromptEncoderConfig,\n",
    ")\n",
    "\n",
    "import evaluate\n",
    "from datasets import load_dataset\n",
    "from transformers import AutoModelForSequenceClassification, AutoTokenizer, get_linear_schedule_with_warmup, set_seed\n",
    "from tqdm import tqdm"
   ]
  },
  {
   "cell_type": "code",
   "execution_count": 3,
   "metadata": {},
   "outputs": [],
   "source": [
    "batch_size = 8\n",
    "model_name_or_path = \"roberta-large\"\n",
    "task = \"qnli\"\n",
    "peft_type = PeftType.LORA\n",
    "device = \"cuda\"\n",
    "num_epochs = 20"
   ]
  },
  {
   "cell_type": "code",
   "execution_count": 4,
   "metadata": {},
   "outputs": [],
   "source": [
    "peft_config = LoraConfig(use_dora=True, task_type=\"SEQ_CLS\", inference_mode=False, r=4, lora_alpha=16, lora_dropout=0.1)\n",
    "lr = 3e-4"
   ]
  },
  {
   "cell_type": "code",
   "execution_count": 5,
   "metadata": {},
   "outputs": [],
   "source": [
    "if any(k in model_name_or_path for k in (\"gpt\", \"opt\", \"bloom\")):\n",
    "    padding_side = \"left\"\n",
    "else:\n",
    "    padding_side = \"right\"\n",
    "\n",
    "tokenizer = AutoTokenizer.from_pretrained(model_name_or_path, padding_side=padding_side)\n",
    "if getattr(tokenizer, \"pad_token_id\") is None:\n",
    "    tokenizer.pad_token_id = tokenizer.eos_token_id\n",
    "\n",
    "datasets = load_dataset(\"glue\", task)\n",
    "metric = evaluate.load(\"glue\", task)\n",
    "\n",
    "\n",
    "def tokenize_function(examples):\n",
    "    # max_length=None => use the model max length (it's actually the default)\n",
    "    outputs = tokenizer(examples[\"question\"], examples[\"sentence\"], truncation=True, max_length=None)\n",
    "    return outputs\n",
    "\n",
    "\n",
    "tokenized_datasets = datasets.map(\n",
    "    tokenize_function,\n",
    "    batched=True,\n",
    "    remove_columns=[\"idx\", \"question\", \"sentence\"],\n",
    ")\n",
    "\n",
    "# We also rename the 'label' column to 'labels' which is the expected name for labels by the models of the\n",
    "# transformers library\n",
    "tokenized_datasets = tokenized_datasets.rename_column(\"label\", \"labels\")\n",
    "\n",
    "\n",
    "def collate_fn(examples):\n",
    "    return tokenizer.pad(examples, padding=\"longest\", return_tensors=\"pt\")\n",
    "\n",
    "\n",
    "# Instantiate dataloaders.\n",
    "train_dataloader = DataLoader(tokenized_datasets[\"train\"], shuffle=True, collate_fn=collate_fn, batch_size=batch_size)\n",
    "eval_dataloader = DataLoader(\n",
    "    tokenized_datasets[\"validation\"], shuffle=False, collate_fn=collate_fn, batch_size=batch_size\n",
    ")\n",
    "# test_dataloader = DataLoader(\n",
    "#     tokenized_datasets[\"test\"], shuffle=False, collate_fn=collate_fn, batch_size=batch_size\n",
    "# )"
   ]
  },
  {
   "cell_type": "code",
   "execution_count": 6,
   "metadata": {},
   "outputs": [
    {
     "name": "stderr",
     "output_type": "stream",
     "text": [
      "Some weights of RobertaForSequenceClassification were not initialized from the model checkpoint at roberta-large and are newly initialized: ['classifier.dense.bias', 'classifier.dense.weight', 'classifier.out_proj.bias', 'classifier.out_proj.weight']\n",
      "You should probably TRAIN this model on a down-stream task to be able to use it for predictions and inference.\n"
     ]
    },
    {
     "name": "stdout",
     "output_type": "stream",
     "text": [
      "trainable params: 1,494,018 || all params: 356,855,812 || trainable%: 0.4187\n"
     ]
    },
    {
     "data": {
      "text/plain": [
       "PeftModelForSequenceClassification(\n",
       "  (base_model): LoraModel(\n",
       "    (model): RobertaForSequenceClassification(\n",
       "      (roberta): RobertaModel(\n",
       "        (embeddings): RobertaEmbeddings(\n",
       "          (word_embeddings): Embedding(50265, 1024, padding_idx=1)\n",
       "          (position_embeddings): Embedding(514, 1024, padding_idx=1)\n",
       "          (token_type_embeddings): Embedding(1, 1024)\n",
       "          (LayerNorm): LayerNorm((1024,), eps=1e-05, elementwise_affine=True)\n",
       "          (dropout): Dropout(p=0.1, inplace=False)\n",
       "        )\n",
       "        (encoder): RobertaEncoder(\n",
       "          (layer): ModuleList(\n",
       "            (0-23): 24 x RobertaLayer(\n",
       "              (attention): RobertaAttention(\n",
       "                (self): RobertaSdpaSelfAttention(\n",
       "                  (query): lora.Linear(\n",
       "                    (base_layer): Linear(in_features=1024, out_features=1024, bias=True)\n",
       "                    (lora_dropout): ModuleDict(\n",
       "                      (default): Dropout(p=0.1, inplace=False)\n",
       "                    )\n",
       "                    (lora_A): ModuleDict(\n",
       "                      (default): Linear(in_features=1024, out_features=4, bias=False)\n",
       "                    )\n",
       "                    (lora_B): ModuleDict(\n",
       "                      (default): Linear(in_features=4, out_features=1024, bias=False)\n",
       "                    )\n",
       "                    (lora_embedding_A): ParameterDict()\n",
       "                    (lora_embedding_B): ParameterDict()\n",
       "                    (lora_magnitude_vector): ModuleDict(\n",
       "                      (default): lora.dora.DoraLinearLayer()\n",
       "                    )\n",
       "                  )\n",
       "                  (key): Linear(in_features=1024, out_features=1024, bias=True)\n",
       "                  (value): lora.Linear(\n",
       "                    (base_layer): Linear(in_features=1024, out_features=1024, bias=True)\n",
       "                    (lora_dropout): ModuleDict(\n",
       "                      (default): Dropout(p=0.1, inplace=False)\n",
       "                    )\n",
       "                    (lora_A): ModuleDict(\n",
       "                      (default): Linear(in_features=1024, out_features=4, bias=False)\n",
       "                    )\n",
       "                    (lora_B): ModuleDict(\n",
       "                      (default): Linear(in_features=4, out_features=1024, bias=False)\n",
       "                    )\n",
       "                    (lora_embedding_A): ParameterDict()\n",
       "                    (lora_embedding_B): ParameterDict()\n",
       "                    (lora_magnitude_vector): ModuleDict(\n",
       "                      (default): lora.dora.DoraLinearLayer()\n",
       "                    )\n",
       "                  )\n",
       "                  (dropout): Dropout(p=0.1, inplace=False)\n",
       "                )\n",
       "                (output): RobertaSelfOutput(\n",
       "                  (dense): Linear(in_features=1024, out_features=1024, bias=True)\n",
       "                  (LayerNorm): LayerNorm((1024,), eps=1e-05, elementwise_affine=True)\n",
       "                  (dropout): Dropout(p=0.1, inplace=False)\n",
       "                )\n",
       "              )\n",
       "              (intermediate): RobertaIntermediate(\n",
       "                (dense): Linear(in_features=1024, out_features=4096, bias=True)\n",
       "                (intermediate_act_fn): GELUActivation()\n",
       "              )\n",
       "              (output): RobertaOutput(\n",
       "                (dense): Linear(in_features=4096, out_features=1024, bias=True)\n",
       "                (LayerNorm): LayerNorm((1024,), eps=1e-05, elementwise_affine=True)\n",
       "                (dropout): Dropout(p=0.1, inplace=False)\n",
       "              )\n",
       "            )\n",
       "          )\n",
       "        )\n",
       "      )\n",
       "      (classifier): ModulesToSaveWrapper(\n",
       "        (original_module): RobertaClassificationHead(\n",
       "          (dense): Linear(in_features=1024, out_features=1024, bias=True)\n",
       "          (dropout): Dropout(p=0.1, inplace=False)\n",
       "          (out_proj): Linear(in_features=1024, out_features=2, bias=True)\n",
       "        )\n",
       "        (modules_to_save): ModuleDict(\n",
       "          (default): RobertaClassificationHead(\n",
       "            (dense): Linear(in_features=1024, out_features=1024, bias=True)\n",
       "            (dropout): Dropout(p=0.1, inplace=False)\n",
       "            (out_proj): Linear(in_features=1024, out_features=2, bias=True)\n",
       "          )\n",
       "        )\n",
       "      )\n",
       "    )\n",
       "  )\n",
       ")"
      ]
     },
     "execution_count": 6,
     "metadata": {},
     "output_type": "execute_result"
    }
   ],
   "source": [
    "model = AutoModelForSequenceClassification.from_pretrained(model_name_or_path, return_dict=True)\n",
    "model = get_peft_model(model, peft_config)\n",
    "model.print_trainable_parameters()\n",
    "model"
   ]
  },
  {
   "cell_type": "code",
   "execution_count": 7,
   "metadata": {},
   "outputs": [],
   "source": [
    "def print_trainable_parameters(model):\n",
    "    \"\"\"\n",
    "    Prints the number of trainable parameters in the model.\n",
    "    \"\"\"\n",
    "    trainable_params = 0\n",
    "    all_param = 0\n",
    "    for _, param in model.named_parameters():\n",
    "        all_param += param.numel()\n",
    "        if param.requires_grad:\n",
    "            trainable_params += param.numel()\n",
    "    print(\n",
    "        f\"trainable params: {trainable_params} || all params: {all_param} || trainable%: {100 * trainable_params / all_param:.2f}\"\n",
    "    )"
   ]
  },
  {
   "cell_type": "code",
   "execution_count": 8,
   "metadata": {},
   "outputs": [
    {
     "name": "stdout",
     "output_type": "stream",
     "text": [
      "trainable params: 1494018 || all params: 356855812 || trainable%: 0.42\n"
     ]
    }
   ],
   "source": [
    "print_trainable_parameters(model)"
   ]
  },
  {
   "cell_type": "code",
   "execution_count": 9,
   "metadata": {},
   "outputs": [],
   "source": [
    "optimizer = AdamW(params=model.parameters(), lr=lr)\n",
    "\n",
    "# Instantiate scheduler\n",
    "lr_scheduler = get_linear_schedule_with_warmup(\n",
    "    optimizer=optimizer,\n",
    "    num_warmup_steps=0.06 * (len(train_dataloader) * num_epochs),\n",
    "    num_training_steps=(len(train_dataloader) * num_epochs),\n",
    ")"
   ]
  },
  {
   "cell_type": "code",
   "execution_count": 10,
   "metadata": {},
   "outputs": [],
   "source": [
    "from modules.clientFeDoRA import *"
   ]
  },
  {
   "cell_type": "code",
   "execution_count": 11,
   "metadata": {},
   "outputs": [],
   "source": [
    "from torch.optim import AdamW\n",
    "# Create clients (e.g., 3 clients)\n",
    "num_clients = 5\n",
    "\n",
    "# Get the total length of the dataset\n",
    "total_len = len(tokenized_datasets[\"train\"])\n",
    "\n",
    "# Calculate the number of samples per client and the remainder\n",
    "split_size = total_len // num_clients\n",
    "remainder = total_len % num_clients\n",
    "\n",
    "# Create list for splits\n",
    "split_lengths = [split_size] * num_clients\n",
    "\n",
    "# Distribute the remainder among the first few clients\n",
    "for i in range(remainder):\n",
    "    split_lengths[i] += 1\n",
    "\n",
    "# Perform the split\n",
    "# client_data_splits = torch.utils.data.random_split(train_dataloader, split_lengths)\n",
    "train_dataloader = torch.utils.data.random_split(tokenized_datasets[\"train\"], split_lengths)\n",
    "client_data_splits = [DataLoader(train_dataloader[i], shuffle=True, collate_fn=collate_fn, batch_size=batch_size) for i in range(num_clients)]\n",
    "clients = [ClientFeDoRA(client_id=i, model=copy.deepcopy(model), data=client_data_splits[i], device=device) for i in range(num_clients)]"
   ]
  },
  {
   "cell_type": "code",
   "execution_count": 12,
   "metadata": {},
   "outputs": [],
   "source": [
    "from modules.server import *\n",
    "server = Server(global_model=model, device=device)"
   ]
  },
  {
   "cell_type": "code",
   "execution_count": 13,
   "metadata": {},
   "outputs": [
    {
     "name": "stderr",
     "output_type": "stream",
     "text": [
      "11/28/2024 18:02:46:ERROR:Failed to detect the name of this notebook, you can set it manually with the WANDB_NOTEBOOK_NAME environment variable to enable code saving.\n",
      "\u001b[34m\u001b[1mwandb\u001b[0m: Currently logged in as: \u001b[33mkenlvq\u001b[0m (\u001b[33mquanla\u001b[0m). Use \u001b[1m`wandb login --relogin`\u001b[0m to force relogin\n"
     ]
    },
    {
     "data": {
      "application/vnd.jupyter.widget-view+json": {
       "model_id": "147118c711c64789b9c6a020752dba18",
       "version_major": 2,
       "version_minor": 0
      },
      "text/plain": [
       "VBox(children=(Label(value='Waiting for wandb.init()...\\r'), FloatProgress(value=0.011113061217798127, max=1.0…"
      ]
     },
     "metadata": {},
     "output_type": "display_data"
    },
    {
     "data": {
      "text/html": [
       "wandb version 0.18.7 is available!  To upgrade, please run:\n",
       " $ pip install wandb --upgrade"
      ],
      "text/plain": [
       "<IPython.core.display.HTML object>"
      ]
     },
     "metadata": {},
     "output_type": "display_data"
    },
    {
     "data": {
      "text/html": [
       "Tracking run with wandb version 0.16.3"
      ],
      "text/plain": [
       "<IPython.core.display.HTML object>"
      ]
     },
     "metadata": {},
     "output_type": "display_data"
    },
    {
     "data": {
      "text/html": [
       "Run data is saved locally in <code>/home/qula0496/quan/fedora/wandb/run-20241128_180250-4ehpj58v</code>"
      ],
      "text/plain": [
       "<IPython.core.display.HTML object>"
      ]
     },
     "metadata": {},
     "output_type": "display_data"
    },
    {
     "data": {
      "text/html": [
       "Syncing run <strong><a href='https://wandb.ai/quanla/FeDORA%20Project%20-%20QNLI/runs/4ehpj58v' target=\"_blank\">FeDoRA</a></strong> to <a href='https://wandb.ai/quanla/FeDORA%20Project%20-%20QNLI' target=\"_blank\">Weights & Biases</a> (<a href='https://wandb.me/run' target=\"_blank\">docs</a>)<br/>"
      ],
      "text/plain": [
       "<IPython.core.display.HTML object>"
      ]
     },
     "metadata": {},
     "output_type": "display_data"
    },
    {
     "data": {
      "text/html": [
       " View project at <a href='https://wandb.ai/quanla/FeDORA%20Project%20-%20QNLI' target=\"_blank\">https://wandb.ai/quanla/FeDORA%20Project%20-%20QNLI</a>"
      ],
      "text/plain": [
       "<IPython.core.display.HTML object>"
      ]
     },
     "metadata": {},
     "output_type": "display_data"
    },
    {
     "data": {
      "text/html": [
       " View run at <a href='https://wandb.ai/quanla/FeDORA%20Project%20-%20QNLI/runs/4ehpj58v' target=\"_blank\">https://wandb.ai/quanla/FeDORA%20Project%20-%20QNLI/runs/4ehpj58v</a>"
      ],
      "text/plain": [
       "<IPython.core.display.HTML object>"
      ]
     },
     "metadata": {},
     "output_type": "display_data"
    },
    {
     "data": {
      "text/html": [
       "<button onClick=\"this.nextSibling.style.display='block';this.style.display='none';\">Display W&B run</button><iframe src='https://wandb.ai/quanla/FeDORA%20Project%20-%20QNLI/runs/4ehpj58v?jupyter=true' style='border:none;width:100%;height:420px;display:none;'></iframe>"
      ],
      "text/plain": [
       "<wandb.sdk.wandb_run.Run at 0x7f8737672380>"
      ]
     },
     "execution_count": 13,
     "metadata": {},
     "output_type": "execute_result"
    }
   ],
   "source": [
    "import wandb\n",
    "wandb.init(project=\"FeDORA Project - QNLI\", entity=\"quanla\", name=\"FeDoRA\")"
   ]
  },
  {
   "cell_type": "code",
   "execution_count": 14,
   "metadata": {},
   "outputs": [
    {
     "name": "stdout",
     "output_type": "stream",
     "text": [
      "\n",
      "--- Federated Learning Round 1 ---\n",
      "\n",
      "Training Client 0\n"
     ]
    },
    {
     "name": "stderr",
     "output_type": "stream",
     "text": [
      "  0%|          | 0/2619 [00:00<?, ?it/s]You're using a RobertaTokenizerFast tokenizer. Please note that with a fast tokenizer, using the `__call__` method is faster than using a method to encode the text followed by a call to the `pad` method to get a padded encoding.\n",
      "100%|██████████| 2619/2619 [06:09<00:00,  7.08it/s]\n",
      "100%|██████████| 2619/2619 [06:10<00:00,  7.07it/s]\n"
     ]
    },
    {
     "name": "stdout",
     "output_type": "stream",
     "text": [
      "\n",
      "Training Client 1\n"
     ]
    },
    {
     "name": "stderr",
     "output_type": "stream",
     "text": [
      "100%|██████████| 2619/2619 [06:13<00:00,  7.02it/s]\n",
      "100%|██████████| 2619/2619 [06:11<00:00,  7.04it/s]\n"
     ]
    },
    {
     "name": "stdout",
     "output_type": "stream",
     "text": [
      "\n",
      "Training Client 2\n"
     ]
    },
    {
     "name": "stderr",
     "output_type": "stream",
     "text": [
      "100%|██████████| 2619/2619 [06:14<00:00,  7.00it/s]\n",
      "100%|██████████| 2619/2619 [06:13<00:00,  7.01it/s]\n"
     ]
    },
    {
     "name": "stdout",
     "output_type": "stream",
     "text": [
      "\n",
      "Training Client 3\n"
     ]
    },
    {
     "name": "stderr",
     "output_type": "stream",
     "text": [
      "100%|██████████| 2619/2619 [06:17<00:00,  6.94it/s]\n",
      "100%|██████████| 2619/2619 [06:16<00:00,  6.96it/s]\n"
     ]
    },
    {
     "name": "stdout",
     "output_type": "stream",
     "text": [
      "\n",
      "Training Client 4\n"
     ]
    },
    {
     "name": "stderr",
     "output_type": "stream",
     "text": [
      "100%|██████████| 2619/2619 [06:10<00:00,  7.07it/s]\n",
      "100%|██████████| 2619/2619 [06:09<00:00,  7.08it/s]\n"
     ]
    },
    {
     "name": "stdout",
     "output_type": "stream",
     "text": [
      "\n",
      "Aggregating client models on the server...\n"
     ]
    },
    {
     "name": "stderr",
     "output_type": "stream",
     "text": [
      "100%|██████████| 683/683 [00:16<00:00, 40.56it/s]\n"
     ]
    },
    {
     "name": "stdout",
     "output_type": "stream",
     "text": [
      "{'accuracy': 0.914881933003844}\n",
      "\n",
      "--- Federated Learning Round 2 ---\n",
      "\n",
      "Training Client 0\n"
     ]
    },
    {
     "name": "stderr",
     "output_type": "stream",
     "text": [
      "100%|██████████| 2619/2619 [06:11<00:00,  7.05it/s]\n",
      "100%|██████████| 2619/2619 [06:18<00:00,  6.92it/s]\n"
     ]
    },
    {
     "name": "stdout",
     "output_type": "stream",
     "text": [
      "\n",
      "Training Client 1\n"
     ]
    },
    {
     "name": "stderr",
     "output_type": "stream",
     "text": [
      "100%|██████████| 2619/2619 [06:16<00:00,  6.96it/s]\n",
      "100%|██████████| 2619/2619 [06:15<00:00,  6.97it/s]\n"
     ]
    },
    {
     "name": "stdout",
     "output_type": "stream",
     "text": [
      "\n",
      "Training Client 2\n"
     ]
    },
    {
     "name": "stderr",
     "output_type": "stream",
     "text": [
      "100%|██████████| 2619/2619 [06:16<00:00,  6.95it/s]\n",
      "100%|██████████| 2619/2619 [06:17<00:00,  6.94it/s]\n"
     ]
    },
    {
     "name": "stdout",
     "output_type": "stream",
     "text": [
      "\n",
      "Training Client 3\n"
     ]
    },
    {
     "name": "stderr",
     "output_type": "stream",
     "text": [
      "100%|██████████| 2619/2619 [06:12<00:00,  7.04it/s]\n",
      "100%|██████████| 2619/2619 [06:15<00:00,  6.98it/s]\n"
     ]
    },
    {
     "name": "stdout",
     "output_type": "stream",
     "text": [
      "\n",
      "Training Client 4\n"
     ]
    },
    {
     "name": "stderr",
     "output_type": "stream",
     "text": [
      "100%|██████████| 2619/2619 [06:17<00:00,  6.93it/s]\n",
      "100%|██████████| 2619/2619 [06:11<00:00,  7.06it/s]\n"
     ]
    },
    {
     "name": "stdout",
     "output_type": "stream",
     "text": [
      "\n",
      "Aggregating client models on the server...\n"
     ]
    },
    {
     "name": "stderr",
     "output_type": "stream",
     "text": [
      "100%|██████████| 683/683 [00:17<00:00, 38.58it/s]\n"
     ]
    },
    {
     "name": "stdout",
     "output_type": "stream",
     "text": [
      "{'accuracy': 0.9258649093904449}\n",
      "\n",
      "--- Federated Learning Round 3 ---\n",
      "\n",
      "Training Client 0\n"
     ]
    },
    {
     "name": "stderr",
     "output_type": "stream",
     "text": [
      "100%|██████████| 2619/2619 [06:13<00:00,  7.01it/s]\n",
      "100%|██████████| 2619/2619 [06:18<00:00,  6.91it/s]\n"
     ]
    },
    {
     "name": "stdout",
     "output_type": "stream",
     "text": [
      "\n",
      "Training Client 1\n"
     ]
    },
    {
     "name": "stderr",
     "output_type": "stream",
     "text": [
      "100%|██████████| 2619/2619 [06:17<00:00,  6.94it/s]\n",
      "100%|██████████| 2619/2619 [06:11<00:00,  7.04it/s]\n"
     ]
    },
    {
     "name": "stdout",
     "output_type": "stream",
     "text": [
      "\n",
      "Training Client 2\n"
     ]
    },
    {
     "name": "stderr",
     "output_type": "stream",
     "text": [
      "100%|██████████| 2619/2619 [06:15<00:00,  6.97it/s]\n",
      "100%|██████████| 2619/2619 [06:14<00:00,  7.00it/s]\n"
     ]
    },
    {
     "name": "stdout",
     "output_type": "stream",
     "text": [
      "\n",
      "Training Client 3\n"
     ]
    },
    {
     "name": "stderr",
     "output_type": "stream",
     "text": [
      "100%|██████████| 2619/2619 [06:17<00:00,  6.93it/s]\n",
      "100%|██████████| 2619/2619 [06:17<00:00,  6.94it/s]\n"
     ]
    },
    {
     "name": "stdout",
     "output_type": "stream",
     "text": [
      "\n",
      "Training Client 4\n"
     ]
    },
    {
     "name": "stderr",
     "output_type": "stream",
     "text": [
      "100%|██████████| 2619/2619 [06:18<00:00,  6.91it/s]\n",
      "100%|██████████| 2619/2619 [06:13<00:00,  7.01it/s]\n"
     ]
    },
    {
     "name": "stdout",
     "output_type": "stream",
     "text": [
      "\n",
      "Aggregating client models on the server...\n"
     ]
    },
    {
     "name": "stderr",
     "output_type": "stream",
     "text": [
      "100%|██████████| 683/683 [00:17<00:00, 39.91it/s]\n"
     ]
    },
    {
     "name": "stdout",
     "output_type": "stream",
     "text": [
      "{'accuracy': 0.9322716456159619}\n",
      "\n",
      "--- Federated Learning Round 4 ---\n",
      "\n",
      "Training Client 0\n"
     ]
    },
    {
     "name": "stderr",
     "output_type": "stream",
     "text": [
      "100%|██████████| 2619/2619 [06:10<00:00,  7.07it/s]\n",
      "100%|██████████| 2619/2619 [06:19<00:00,  6.90it/s]\n"
     ]
    },
    {
     "name": "stdout",
     "output_type": "stream",
     "text": [
      "\n",
      "Training Client 1\n"
     ]
    },
    {
     "name": "stderr",
     "output_type": "stream",
     "text": [
      "100%|██████████| 2619/2619 [06:14<00:00,  6.99it/s]\n",
      "100%|██████████| 2619/2619 [06:03<00:00,  7.21it/s]\n"
     ]
    },
    {
     "name": "stdout",
     "output_type": "stream",
     "text": [
      "\n",
      "Training Client 2\n"
     ]
    },
    {
     "name": "stderr",
     "output_type": "stream",
     "text": [
      "100%|██████████| 2619/2619 [06:12<00:00,  7.02it/s]\n",
      "100%|██████████| 2619/2619 [06:12<00:00,  7.03it/s]\n"
     ]
    },
    {
     "name": "stdout",
     "output_type": "stream",
     "text": [
      "\n",
      "Training Client 3\n"
     ]
    },
    {
     "name": "stderr",
     "output_type": "stream",
     "text": [
      "100%|██████████| 2619/2619 [06:12<00:00,  7.03it/s]\n",
      "100%|██████████| 2619/2619 [06:16<00:00,  6.96it/s]\n"
     ]
    },
    {
     "name": "stdout",
     "output_type": "stream",
     "text": [
      "\n",
      "Training Client 4\n"
     ]
    },
    {
     "name": "stderr",
     "output_type": "stream",
     "text": [
      "100%|██████████| 2619/2619 [06:17<00:00,  6.94it/s]\n",
      "100%|██████████| 2619/2619 [06:17<00:00,  6.93it/s]\n"
     ]
    },
    {
     "name": "stdout",
     "output_type": "stream",
     "text": [
      "\n",
      "Aggregating client models on the server...\n"
     ]
    },
    {
     "name": "stderr",
     "output_type": "stream",
     "text": [
      "100%|██████████| 683/683 [00:17<00:00, 39.08it/s]\n"
     ]
    },
    {
     "name": "stdout",
     "output_type": "stream",
     "text": [
      "{'accuracy': 0.9397766794801391}\n",
      "\n",
      "--- Federated Learning Round 5 ---\n",
      "\n",
      "Training Client 0\n"
     ]
    },
    {
     "name": "stderr",
     "output_type": "stream",
     "text": [
      "100%|██████████| 2619/2619 [06:04<00:00,  7.19it/s]\n",
      "100%|██████████| 2619/2619 [06:15<00:00,  6.97it/s]\n"
     ]
    },
    {
     "name": "stdout",
     "output_type": "stream",
     "text": [
      "\n",
      "Training Client 1\n"
     ]
    },
    {
     "name": "stderr",
     "output_type": "stream",
     "text": [
      "100%|██████████| 2619/2619 [06:17<00:00,  6.94it/s]\n",
      "100%|██████████| 2619/2619 [06:17<00:00,  6.93it/s]\n"
     ]
    },
    {
     "name": "stdout",
     "output_type": "stream",
     "text": [
      "\n",
      "Training Client 2\n"
     ]
    },
    {
     "name": "stderr",
     "output_type": "stream",
     "text": [
      "100%|██████████| 2619/2619 [06:17<00:00,  6.94it/s]\n",
      "100%|██████████| 2619/2619 [06:18<00:00,  6.92it/s]\n"
     ]
    },
    {
     "name": "stdout",
     "output_type": "stream",
     "text": [
      "\n",
      "Training Client 3\n"
     ]
    },
    {
     "name": "stderr",
     "output_type": "stream",
     "text": [
      "100%|██████████| 2619/2619 [06:13<00:00,  7.01it/s]\n",
      "100%|██████████| 2619/2619 [06:10<00:00,  7.08it/s]\n"
     ]
    },
    {
     "name": "stdout",
     "output_type": "stream",
     "text": [
      "\n",
      "Training Client 4\n"
     ]
    },
    {
     "name": "stderr",
     "output_type": "stream",
     "text": [
      "100%|██████████| 2619/2619 [06:17<00:00,  6.94it/s]\n",
      "100%|██████████| 2619/2619 [06:11<00:00,  7.05it/s]\n"
     ]
    },
    {
     "name": "stdout",
     "output_type": "stream",
     "text": [
      "\n",
      "Aggregating client models on the server...\n"
     ]
    },
    {
     "name": "stderr",
     "output_type": "stream",
     "text": [
      "100%|██████████| 683/683 [00:17<00:00, 40.17it/s]\n"
     ]
    },
    {
     "name": "stdout",
     "output_type": "stream",
     "text": [
      "{'accuracy': 0.9421563243639026}\n",
      "\n",
      "--- Federated Learning Round 6 ---\n",
      "\n",
      "Training Client 0\n"
     ]
    },
    {
     "name": "stderr",
     "output_type": "stream",
     "text": [
      "100%|██████████| 2619/2619 [05:59<00:00,  7.28it/s]\n",
      "100%|██████████| 2619/2619 [06:19<00:00,  6.90it/s]\n"
     ]
    },
    {
     "name": "stdout",
     "output_type": "stream",
     "text": [
      "\n",
      "Training Client 1\n"
     ]
    },
    {
     "name": "stderr",
     "output_type": "stream",
     "text": [
      "100%|██████████| 2619/2619 [06:14<00:00,  6.99it/s]\n",
      "100%|██████████| 2619/2619 [06:17<00:00,  6.94it/s]\n"
     ]
    },
    {
     "name": "stdout",
     "output_type": "stream",
     "text": [
      "\n",
      "Training Client 2\n"
     ]
    },
    {
     "name": "stderr",
     "output_type": "stream",
     "text": [
      "100%|██████████| 2619/2619 [06:15<00:00,  6.98it/s]\n",
      "100%|██████████| 2619/2619 [06:11<00:00,  7.05it/s]\n"
     ]
    },
    {
     "name": "stdout",
     "output_type": "stream",
     "text": [
      "\n",
      "Training Client 3\n"
     ]
    },
    {
     "name": "stderr",
     "output_type": "stream",
     "text": [
      "100%|██████████| 2619/2619 [06:16<00:00,  6.95it/s]\n",
      "100%|██████████| 2619/2619 [06:16<00:00,  6.95it/s]\n"
     ]
    },
    {
     "name": "stdout",
     "output_type": "stream",
     "text": [
      "\n",
      "Training Client 4\n"
     ]
    },
    {
     "name": "stderr",
     "output_type": "stream",
     "text": [
      "100%|██████████| 2619/2619 [06:10<00:00,  7.07it/s]\n",
      "100%|██████████| 2619/2619 [06:14<00:00,  7.00it/s]\n"
     ]
    },
    {
     "name": "stdout",
     "output_type": "stream",
     "text": [
      "\n",
      "Aggregating client models on the server...\n"
     ]
    },
    {
     "name": "stderr",
     "output_type": "stream",
     "text": [
      "100%|██████████| 683/683 [00:17<00:00, 40.02it/s]\n"
     ]
    },
    {
     "name": "stdout",
     "output_type": "stream",
     "text": [
      "{'accuracy': 0.9441698700347795}\n",
      "\n",
      "--- Federated Learning Round 7 ---\n",
      "\n",
      "Training Client 0\n"
     ]
    },
    {
     "name": "stderr",
     "output_type": "stream",
     "text": [
      "100%|██████████| 2619/2619 [06:11<00:00,  7.05it/s]\n",
      "100%|██████████| 2619/2619 [06:17<00:00,  6.94it/s]\n"
     ]
    },
    {
     "name": "stdout",
     "output_type": "stream",
     "text": [
      "\n",
      "Training Client 1\n"
     ]
    },
    {
     "name": "stderr",
     "output_type": "stream",
     "text": [
      "100%|██████████| 2619/2619 [06:06<00:00,  7.14it/s]\n",
      "100%|██████████| 2619/2619 [06:17<00:00,  6.93it/s]\n"
     ]
    },
    {
     "name": "stdout",
     "output_type": "stream",
     "text": [
      "\n",
      "Training Client 2\n"
     ]
    },
    {
     "name": "stderr",
     "output_type": "stream",
     "text": [
      "100%|██████████| 2619/2619 [06:17<00:00,  6.95it/s]\n",
      "100%|██████████| 2619/2619 [06:15<00:00,  6.98it/s]\n"
     ]
    },
    {
     "name": "stdout",
     "output_type": "stream",
     "text": [
      "\n",
      "Training Client 3\n"
     ]
    },
    {
     "name": "stderr",
     "output_type": "stream",
     "text": [
      "100%|██████████| 2619/2619 [06:17<00:00,  6.95it/s]\n",
      "100%|██████████| 2619/2619 [06:17<00:00,  6.95it/s]\n"
     ]
    },
    {
     "name": "stdout",
     "output_type": "stream",
     "text": [
      "\n",
      "Training Client 4\n"
     ]
    },
    {
     "name": "stderr",
     "output_type": "stream",
     "text": [
      "100%|██████████| 2619/2619 [06:15<00:00,  6.97it/s]\n",
      "100%|██████████| 2619/2619 [06:14<00:00,  6.99it/s]\n"
     ]
    },
    {
     "name": "stdout",
     "output_type": "stream",
     "text": [
      "\n",
      "Aggregating client models on the server...\n"
     ]
    },
    {
     "name": "stderr",
     "output_type": "stream",
     "text": [
      "100%|██████████| 683/683 [00:16<00:00, 40.24it/s]\n"
     ]
    },
    {
     "name": "stdout",
     "output_type": "stream",
     "text": [
      "{'accuracy': 0.9458173164927696}\n",
      "\n",
      "--- Federated Learning Round 8 ---\n",
      "\n",
      "Training Client 0\n"
     ]
    },
    {
     "name": "stderr",
     "output_type": "stream",
     "text": [
      "100%|██████████| 2619/2619 [06:16<00:00,  6.96it/s]\n",
      "100%|██████████| 2619/2619 [06:16<00:00,  6.96it/s]\n"
     ]
    },
    {
     "name": "stdout",
     "output_type": "stream",
     "text": [
      "\n",
      "Training Client 1\n"
     ]
    },
    {
     "name": "stderr",
     "output_type": "stream",
     "text": [
      "100%|██████████| 2619/2619 [06:14<00:00,  7.00it/s]\n",
      "100%|██████████| 2619/2619 [06:19<00:00,  6.91it/s]\n"
     ]
    },
    {
     "name": "stdout",
     "output_type": "stream",
     "text": [
      "\n",
      "Training Client 2\n"
     ]
    },
    {
     "name": "stderr",
     "output_type": "stream",
     "text": [
      "100%|██████████| 2619/2619 [06:08<00:00,  7.11it/s]\n",
      "100%|██████████| 2619/2619 [06:10<00:00,  7.07it/s]\n"
     ]
    },
    {
     "name": "stdout",
     "output_type": "stream",
     "text": [
      "\n",
      "Training Client 3\n"
     ]
    },
    {
     "name": "stderr",
     "output_type": "stream",
     "text": [
      "100%|██████████| 2619/2619 [06:20<00:00,  6.89it/s]\n",
      "100%|██████████| 2619/2619 [06:15<00:00,  6.97it/s]\n"
     ]
    },
    {
     "name": "stdout",
     "output_type": "stream",
     "text": [
      "\n",
      "Training Client 4\n"
     ]
    },
    {
     "name": "stderr",
     "output_type": "stream",
     "text": [
      "100%|██████████| 2619/2619 [06:15<00:00,  6.97it/s]\n",
      "100%|██████████| 2619/2619 [06:12<00:00,  7.03it/s]\n"
     ]
    },
    {
     "name": "stdout",
     "output_type": "stream",
     "text": [
      "\n",
      "Aggregating client models on the server...\n"
     ]
    },
    {
     "name": "stderr",
     "output_type": "stream",
     "text": [
      "100%|██████████| 683/683 [00:17<00:00, 39.92it/s]\n"
     ]
    },
    {
     "name": "stdout",
     "output_type": "stream",
     "text": [
      "{'accuracy': 0.9458173164927696}\n",
      "\n",
      "--- Federated Learning Round 9 ---\n",
      "\n",
      "Training Client 0\n"
     ]
    },
    {
     "name": "stderr",
     "output_type": "stream",
     "text": [
      "100%|██████████| 2619/2619 [06:08<00:00,  7.11it/s]\n",
      "100%|██████████| 2619/2619 [06:02<00:00,  7.23it/s]\n"
     ]
    },
    {
     "name": "stdout",
     "output_type": "stream",
     "text": [
      "\n",
      "Training Client 1\n"
     ]
    },
    {
     "name": "stderr",
     "output_type": "stream",
     "text": [
      "100%|██████████| 2619/2619 [06:13<00:00,  7.02it/s]\n",
      "100%|██████████| 2619/2619 [06:15<00:00,  6.98it/s]\n"
     ]
    },
    {
     "name": "stdout",
     "output_type": "stream",
     "text": [
      "\n",
      "Training Client 2\n"
     ]
    },
    {
     "name": "stderr",
     "output_type": "stream",
     "text": [
      "100%|██████████| 2619/2619 [06:12<00:00,  7.02it/s]\n",
      "100%|██████████| 2619/2619 [06:09<00:00,  7.10it/s]\n"
     ]
    },
    {
     "name": "stdout",
     "output_type": "stream",
     "text": [
      "\n",
      "Training Client 3\n"
     ]
    },
    {
     "name": "stderr",
     "output_type": "stream",
     "text": [
      "100%|██████████| 2619/2619 [06:12<00:00,  7.03it/s]\n",
      "100%|██████████| 2619/2619 [06:12<00:00,  7.03it/s]\n"
     ]
    },
    {
     "name": "stdout",
     "output_type": "stream",
     "text": [
      "\n",
      "Training Client 4\n"
     ]
    },
    {
     "name": "stderr",
     "output_type": "stream",
     "text": [
      "100%|██████████| 2619/2619 [06:11<00:00,  7.05it/s]\n",
      "100%|██████████| 2619/2619 [06:11<00:00,  7.04it/s]\n"
     ]
    },
    {
     "name": "stdout",
     "output_type": "stream",
     "text": [
      "\n",
      "Aggregating client models on the server...\n"
     ]
    },
    {
     "name": "stderr",
     "output_type": "stream",
     "text": [
      "100%|██████████| 683/683 [00:16<00:00, 40.94it/s]\n"
     ]
    },
    {
     "name": "stdout",
     "output_type": "stream",
     "text": [
      "{'accuracy': 0.9445359692476661}\n",
      "\n",
      "--- Federated Learning Round 10 ---\n",
      "\n",
      "Training Client 0\n"
     ]
    },
    {
     "name": "stderr",
     "output_type": "stream",
     "text": [
      "100%|██████████| 2619/2619 [06:11<00:00,  7.05it/s]\n",
      "100%|██████████| 2619/2619 [06:18<00:00,  6.93it/s]\n"
     ]
    },
    {
     "name": "stdout",
     "output_type": "stream",
     "text": [
      "\n",
      "Training Client 1\n"
     ]
    },
    {
     "name": "stderr",
     "output_type": "stream",
     "text": [
      "100%|██████████| 2619/2619 [06:13<00:00,  7.02it/s]\n",
      "100%|██████████| 2619/2619 [06:12<00:00,  7.02it/s]\n"
     ]
    },
    {
     "name": "stdout",
     "output_type": "stream",
     "text": [
      "\n",
      "Training Client 2\n"
     ]
    },
    {
     "name": "stderr",
     "output_type": "stream",
     "text": [
      "100%|██████████| 2619/2619 [06:06<00:00,  7.15it/s]\n",
      "100%|██████████| 2619/2619 [06:13<00:00,  7.01it/s]\n"
     ]
    },
    {
     "name": "stdout",
     "output_type": "stream",
     "text": [
      "\n",
      "Training Client 3\n"
     ]
    },
    {
     "name": "stderr",
     "output_type": "stream",
     "text": [
      "100%|██████████| 2619/2619 [06:10<00:00,  7.07it/s]\n",
      "100%|██████████| 2619/2619 [06:11<00:00,  7.06it/s]\n"
     ]
    },
    {
     "name": "stdout",
     "output_type": "stream",
     "text": [
      "\n",
      "Training Client 4\n"
     ]
    },
    {
     "name": "stderr",
     "output_type": "stream",
     "text": [
      "100%|██████████| 2619/2619 [06:11<00:00,  7.05it/s]\n",
      "100%|██████████| 2619/2619 [06:07<00:00,  7.13it/s]\n"
     ]
    },
    {
     "name": "stdout",
     "output_type": "stream",
     "text": [
      "\n",
      "Aggregating client models on the server...\n"
     ]
    },
    {
     "name": "stderr",
     "output_type": "stream",
     "text": [
      "100%|██████████| 683/683 [00:16<00:00, 40.34it/s]\n"
     ]
    },
    {
     "name": "stdout",
     "output_type": "stream",
     "text": [
      "{'accuracy': 0.9454512172798828}\n",
      "\n",
      "--- Federated Learning Round 11 ---\n",
      "\n",
      "Training Client 0\n"
     ]
    },
    {
     "name": "stderr",
     "output_type": "stream",
     "text": [
      "100%|██████████| 2619/2619 [06:11<00:00,  7.05it/s]\n",
      "100%|██████████| 2619/2619 [06:11<00:00,  7.05it/s]\n"
     ]
    },
    {
     "name": "stdout",
     "output_type": "stream",
     "text": [
      "\n",
      "Training Client 1\n"
     ]
    },
    {
     "name": "stderr",
     "output_type": "stream",
     "text": [
      "100%|██████████| 2619/2619 [06:13<00:00,  7.02it/s]\n",
      "100%|██████████| 2619/2619 [06:12<00:00,  7.03it/s]\n"
     ]
    },
    {
     "name": "stdout",
     "output_type": "stream",
     "text": [
      "\n",
      "Training Client 2\n"
     ]
    },
    {
     "name": "stderr",
     "output_type": "stream",
     "text": [
      "100%|██████████| 2619/2619 [06:12<00:00,  7.04it/s]\n",
      "100%|██████████| 2619/2619 [06:07<00:00,  7.12it/s]\n"
     ]
    },
    {
     "name": "stdout",
     "output_type": "stream",
     "text": [
      "\n",
      "Training Client 3\n"
     ]
    },
    {
     "name": "stderr",
     "output_type": "stream",
     "text": [
      "100%|██████████| 2619/2619 [06:14<00:00,  6.99it/s]\n",
      "100%|██████████| 2619/2619 [06:12<00:00,  7.03it/s]\n"
     ]
    },
    {
     "name": "stdout",
     "output_type": "stream",
     "text": [
      "\n",
      "Training Client 4\n"
     ]
    },
    {
     "name": "stderr",
     "output_type": "stream",
     "text": [
      "100%|██████████| 2619/2619 [06:11<00:00,  7.04it/s]\n",
      "100%|██████████| 2619/2619 [06:11<00:00,  7.05it/s]\n"
     ]
    },
    {
     "name": "stdout",
     "output_type": "stream",
     "text": [
      "\n",
      "Aggregating client models on the server...\n"
     ]
    },
    {
     "name": "stderr",
     "output_type": "stream",
     "text": [
      "100%|██████████| 683/683 [00:17<00:00, 39.85it/s]\n"
     ]
    },
    {
     "name": "stdout",
     "output_type": "stream",
     "text": [
      "{'accuracy': 0.9436207212154494}\n",
      "\n",
      "--- Federated Learning Round 12 ---\n",
      "\n",
      "Training Client 0\n"
     ]
    },
    {
     "name": "stderr",
     "output_type": "stream",
     "text": [
      "100%|██████████| 2619/2619 [06:11<00:00,  7.05it/s]\n",
      "100%|██████████| 2619/2619 [06:13<00:00,  7.02it/s]\n"
     ]
    },
    {
     "name": "stdout",
     "output_type": "stream",
     "text": [
      "\n",
      "Training Client 1\n"
     ]
    },
    {
     "name": "stderr",
     "output_type": "stream",
     "text": [
      "100%|██████████| 2619/2619 [06:13<00:00,  7.02it/s]\n",
      "100%|██████████| 2619/2619 [06:09<00:00,  7.08it/s]\n"
     ]
    },
    {
     "name": "stdout",
     "output_type": "stream",
     "text": [
      "\n",
      "Training Client 2\n"
     ]
    },
    {
     "name": "stderr",
     "output_type": "stream",
     "text": [
      "100%|██████████| 2619/2619 [06:07<00:00,  7.13it/s]\n",
      "100%|██████████| 2619/2619 [06:08<00:00,  7.11it/s]\n"
     ]
    },
    {
     "name": "stdout",
     "output_type": "stream",
     "text": [
      "\n",
      "Training Client 3\n"
     ]
    },
    {
     "name": "stderr",
     "output_type": "stream",
     "text": [
      "100%|██████████| 2619/2619 [06:10<00:00,  7.06it/s]\n",
      "100%|██████████| 2619/2619 [06:14<00:00,  7.00it/s]\n"
     ]
    },
    {
     "name": "stdout",
     "output_type": "stream",
     "text": [
      "\n",
      "Training Client 4\n"
     ]
    },
    {
     "name": "stderr",
     "output_type": "stream",
     "text": [
      "100%|██████████| 2619/2619 [06:12<00:00,  7.03it/s]\n",
      "100%|██████████| 2619/2619 [06:13<00:00,  7.01it/s]\n"
     ]
    },
    {
     "name": "stdout",
     "output_type": "stream",
     "text": [
      "\n",
      "Aggregating client models on the server...\n"
     ]
    },
    {
     "name": "stderr",
     "output_type": "stream",
     "text": [
      "100%|██████████| 683/683 [00:16<00:00, 41.31it/s]\n"
     ]
    },
    {
     "name": "stdout",
     "output_type": "stream",
     "text": [
      "{'accuracy': 0.9449020684605528}\n",
      "\n",
      "--- Federated Learning Round 13 ---\n",
      "\n",
      "Training Client 0\n"
     ]
    },
    {
     "name": "stderr",
     "output_type": "stream",
     "text": [
      "100%|██████████| 2619/2619 [06:02<00:00,  7.23it/s]\n",
      "100%|██████████| 2619/2619 [06:14<00:00,  6.99it/s]\n"
     ]
    },
    {
     "name": "stdout",
     "output_type": "stream",
     "text": [
      "\n",
      "Training Client 1\n"
     ]
    },
    {
     "name": "stderr",
     "output_type": "stream",
     "text": [
      "100%|██████████| 2619/2619 [06:07<00:00,  7.12it/s]\n",
      "100%|██████████| 2619/2619 [06:13<00:00,  7.02it/s]\n"
     ]
    },
    {
     "name": "stdout",
     "output_type": "stream",
     "text": [
      "\n",
      "Training Client 2\n"
     ]
    },
    {
     "name": "stderr",
     "output_type": "stream",
     "text": [
      "100%|██████████| 2619/2619 [06:08<00:00,  7.11it/s]\n",
      "100%|██████████| 2619/2619 [06:16<00:00,  6.96it/s]\n"
     ]
    },
    {
     "name": "stdout",
     "output_type": "stream",
     "text": [
      "\n",
      "Training Client 3\n"
     ]
    },
    {
     "name": "stderr",
     "output_type": "stream",
     "text": [
      "100%|██████████| 2619/2619 [06:11<00:00,  7.05it/s]\n",
      "100%|██████████| 2619/2619 [06:14<00:00,  7.00it/s]\n"
     ]
    },
    {
     "name": "stdout",
     "output_type": "stream",
     "text": [
      "\n",
      "Training Client 4\n"
     ]
    },
    {
     "name": "stderr",
     "output_type": "stream",
     "text": [
      "100%|██████████| 2619/2619 [06:09<00:00,  7.09it/s]\n",
      "100%|██████████| 2619/2619 [06:11<00:00,  7.05it/s]\n"
     ]
    },
    {
     "name": "stdout",
     "output_type": "stream",
     "text": [
      "\n",
      "Aggregating client models on the server...\n"
     ]
    },
    {
     "name": "stderr",
     "output_type": "stream",
     "text": [
      "100%|██████████| 683/683 [00:16<00:00, 40.19it/s]\n"
     ]
    },
    {
     "name": "stdout",
     "output_type": "stream",
     "text": [
      "{'accuracy': 0.943437671609006}\n",
      "\n",
      "--- Federated Learning Round 14 ---\n",
      "\n",
      "Training Client 0\n"
     ]
    },
    {
     "name": "stderr",
     "output_type": "stream",
     "text": [
      "100%|██████████| 2619/2619 [06:11<00:00,  7.04it/s]\n",
      "100%|██████████| 2619/2619 [06:12<00:00,  7.02it/s]\n"
     ]
    },
    {
     "name": "stdout",
     "output_type": "stream",
     "text": [
      "\n",
      "Training Client 1\n"
     ]
    },
    {
     "name": "stderr",
     "output_type": "stream",
     "text": [
      "100%|██████████| 2619/2619 [06:14<00:00,  6.99it/s]\n",
      "100%|██████████| 2619/2619 [06:11<00:00,  7.05it/s]\n"
     ]
    },
    {
     "name": "stdout",
     "output_type": "stream",
     "text": [
      "\n",
      "Training Client 2\n"
     ]
    },
    {
     "name": "stderr",
     "output_type": "stream",
     "text": [
      "100%|██████████| 2619/2619 [06:12<00:00,  7.02it/s]\n",
      "100%|██████████| 2619/2619 [06:11<00:00,  7.05it/s]\n"
     ]
    },
    {
     "name": "stdout",
     "output_type": "stream",
     "text": [
      "\n",
      "Training Client 3\n"
     ]
    },
    {
     "name": "stderr",
     "output_type": "stream",
     "text": [
      "100%|██████████| 2619/2619 [06:15<00:00,  6.97it/s]\n",
      "100%|██████████| 2619/2619 [06:06<00:00,  7.14it/s]\n"
     ]
    },
    {
     "name": "stdout",
     "output_type": "stream",
     "text": [
      "\n",
      "Training Client 4\n"
     ]
    },
    {
     "name": "stderr",
     "output_type": "stream",
     "text": [
      "100%|██████████| 2619/2619 [06:13<00:00,  7.01it/s]\n",
      "100%|██████████| 2619/2619 [06:09<00:00,  7.08it/s]\n"
     ]
    },
    {
     "name": "stdout",
     "output_type": "stream",
     "text": [
      "\n",
      "Aggregating client models on the server...\n"
     ]
    },
    {
     "name": "stderr",
     "output_type": "stream",
     "text": [
      "100%|██████████| 683/683 [00:17<00:00, 39.08it/s]\n"
     ]
    },
    {
     "name": "stdout",
     "output_type": "stream",
     "text": [
      "{'accuracy': 0.9414241259381292}\n",
      "\n",
      "--- Federated Learning Round 15 ---\n",
      "\n",
      "Training Client 0\n"
     ]
    },
    {
     "name": "stderr",
     "output_type": "stream",
     "text": [
      "100%|██████████| 2619/2619 [06:12<00:00,  7.03it/s]\n",
      "100%|██████████| 2619/2619 [06:09<00:00,  7.09it/s]\n"
     ]
    },
    {
     "name": "stdout",
     "output_type": "stream",
     "text": [
      "\n",
      "Training Client 1\n"
     ]
    },
    {
     "name": "stderr",
     "output_type": "stream",
     "text": [
      "100%|██████████| 2619/2619 [06:07<00:00,  7.13it/s]\n",
      "100%|██████████| 2619/2619 [06:15<00:00,  6.98it/s]\n"
     ]
    },
    {
     "name": "stdout",
     "output_type": "stream",
     "text": [
      "\n",
      "Training Client 2\n"
     ]
    },
    {
     "name": "stderr",
     "output_type": "stream",
     "text": [
      "100%|██████████| 2619/2619 [06:13<00:00,  7.01it/s]\n",
      "100%|██████████| 2619/2619 [06:11<00:00,  7.04it/s]\n"
     ]
    },
    {
     "name": "stdout",
     "output_type": "stream",
     "text": [
      "\n",
      "Training Client 3\n"
     ]
    },
    {
     "name": "stderr",
     "output_type": "stream",
     "text": [
      "100%|██████████| 2619/2619 [06:13<00:00,  7.02it/s]\n",
      "100%|██████████| 2619/2619 [06:11<00:00,  7.05it/s]\n"
     ]
    },
    {
     "name": "stdout",
     "output_type": "stream",
     "text": [
      "\n",
      "Training Client 4\n"
     ]
    },
    {
     "name": "stderr",
     "output_type": "stream",
     "text": [
      "100%|██████████| 2619/2619 [06:09<00:00,  7.08it/s]\n",
      "100%|██████████| 2619/2619 [06:10<00:00,  7.06it/s]\n"
     ]
    },
    {
     "name": "stdout",
     "output_type": "stream",
     "text": [
      "\n",
      "Aggregating client models on the server...\n"
     ]
    },
    {
     "name": "stderr",
     "output_type": "stream",
     "text": [
      "100%|██████████| 683/683 [00:17<00:00, 40.02it/s]\n"
     ]
    },
    {
     "name": "stdout",
     "output_type": "stream",
     "text": [
      "{'accuracy': 0.9450851180669961}\n",
      "\n",
      "--- Federated Learning Round 16 ---\n",
      "\n",
      "Training Client 0\n"
     ]
    },
    {
     "name": "stderr",
     "output_type": "stream",
     "text": [
      "100%|██████████| 2619/2619 [06:10<00:00,  7.06it/s]\n",
      "100%|██████████| 2619/2619 [06:05<00:00,  7.16it/s]\n"
     ]
    },
    {
     "name": "stdout",
     "output_type": "stream",
     "text": [
      "\n",
      "Training Client 1\n"
     ]
    },
    {
     "name": "stderr",
     "output_type": "stream",
     "text": [
      "100%|██████████| 2619/2619 [06:14<00:00,  6.99it/s]\n",
      "100%|██████████| 2619/2619 [06:12<00:00,  7.03it/s]\n"
     ]
    },
    {
     "name": "stdout",
     "output_type": "stream",
     "text": [
      "\n",
      "Training Client 2\n"
     ]
    },
    {
     "name": "stderr",
     "output_type": "stream",
     "text": [
      "100%|██████████| 2619/2619 [06:16<00:00,  6.95it/s]\n",
      "100%|██████████| 2619/2619 [06:12<00:00,  7.03it/s]\n"
     ]
    },
    {
     "name": "stdout",
     "output_type": "stream",
     "text": [
      "\n",
      "Training Client 3\n"
     ]
    },
    {
     "name": "stderr",
     "output_type": "stream",
     "text": [
      "100%|██████████| 2619/2619 [06:13<00:00,  7.02it/s]\n",
      "100%|██████████| 2619/2619 [06:13<00:00,  7.01it/s]\n"
     ]
    },
    {
     "name": "stdout",
     "output_type": "stream",
     "text": [
      "\n",
      "Training Client 4\n"
     ]
    },
    {
     "name": "stderr",
     "output_type": "stream",
     "text": [
      "100%|██████████| 2619/2619 [06:14<00:00,  7.00it/s]\n",
      "100%|██████████| 2619/2619 [06:15<00:00,  6.98it/s]\n"
     ]
    },
    {
     "name": "stdout",
     "output_type": "stream",
     "text": [
      "\n",
      "Aggregating client models on the server...\n"
     ]
    },
    {
     "name": "stderr",
     "output_type": "stream",
     "text": [
      "100%|██████████| 683/683 [00:17<00:00, 40.03it/s]\n"
     ]
    },
    {
     "name": "stdout",
     "output_type": "stream",
     "text": [
      "{'accuracy': 0.9447190188541095}\n",
      "\n",
      "--- Federated Learning Round 17 ---\n",
      "\n",
      "Training Client 0\n"
     ]
    },
    {
     "name": "stderr",
     "output_type": "stream",
     "text": [
      "100%|██████████| 2619/2619 [06:08<00:00,  7.12it/s]\n",
      "100%|██████████| 2619/2619 [06:15<00:00,  6.97it/s]\n"
     ]
    },
    {
     "name": "stdout",
     "output_type": "stream",
     "text": [
      "\n",
      "Training Client 1\n"
     ]
    },
    {
     "name": "stderr",
     "output_type": "stream",
     "text": [
      "100%|██████████| 2619/2619 [06:14<00:00,  6.99it/s]\n",
      "100%|██████████| 2619/2619 [06:14<00:00,  7.00it/s]\n"
     ]
    },
    {
     "name": "stdout",
     "output_type": "stream",
     "text": [
      "\n",
      "Training Client 2\n"
     ]
    },
    {
     "name": "stderr",
     "output_type": "stream",
     "text": [
      "100%|██████████| 2619/2619 [06:11<00:00,  7.05it/s]\n",
      "100%|██████████| 2619/2619 [06:13<00:00,  7.01it/s]\n"
     ]
    },
    {
     "name": "stdout",
     "output_type": "stream",
     "text": [
      "\n",
      "Training Client 3\n"
     ]
    },
    {
     "name": "stderr",
     "output_type": "stream",
     "text": [
      "100%|██████████| 2619/2619 [06:13<00:00,  7.01it/s]\n",
      "100%|██████████| 2619/2619 [06:13<00:00,  7.02it/s]\n"
     ]
    },
    {
     "name": "stdout",
     "output_type": "stream",
     "text": [
      "\n",
      "Training Client 4\n"
     ]
    },
    {
     "name": "stderr",
     "output_type": "stream",
     "text": [
      "100%|██████████| 2619/2619 [06:11<00:00,  7.05it/s]\n",
      "100%|██████████| 2619/2619 [06:14<00:00,  6.98it/s]\n"
     ]
    },
    {
     "name": "stdout",
     "output_type": "stream",
     "text": [
      "\n",
      "Aggregating client models on the server...\n"
     ]
    },
    {
     "name": "stderr",
     "output_type": "stream",
     "text": [
      "100%|██████████| 683/683 [00:17<00:00, 39.96it/s]\n"
     ]
    },
    {
     "name": "stdout",
     "output_type": "stream",
     "text": [
      "{'accuracy': 0.9443529196412228}\n",
      "\n",
      "--- Federated Learning Round 18 ---\n",
      "\n",
      "Training Client 0\n"
     ]
    },
    {
     "name": "stderr",
     "output_type": "stream",
     "text": [
      "100%|██████████| 2619/2619 [06:09<00:00,  7.09it/s]\n",
      "100%|██████████| 2619/2619 [06:04<00:00,  7.19it/s]\n"
     ]
    },
    {
     "name": "stdout",
     "output_type": "stream",
     "text": [
      "\n",
      "Training Client 1\n"
     ]
    },
    {
     "name": "stderr",
     "output_type": "stream",
     "text": [
      "100%|██████████| 2619/2619 [06:09<00:00,  7.08it/s]\n",
      "100%|██████████| 2619/2619 [06:11<00:00,  7.05it/s]\n"
     ]
    },
    {
     "name": "stdout",
     "output_type": "stream",
     "text": [
      "\n",
      "Training Client 2\n"
     ]
    },
    {
     "name": "stderr",
     "output_type": "stream",
     "text": [
      "100%|██████████| 2619/2619 [06:12<00:00,  7.02it/s]\n",
      "100%|██████████| 2619/2619 [06:10<00:00,  7.08it/s]\n"
     ]
    },
    {
     "name": "stdout",
     "output_type": "stream",
     "text": [
      "\n",
      "Training Client 3\n"
     ]
    },
    {
     "name": "stderr",
     "output_type": "stream",
     "text": [
      "100%|██████████| 2619/2619 [06:13<00:00,  7.01it/s]\n",
      "100%|██████████| 2619/2619 [06:06<00:00,  7.15it/s]\n"
     ]
    },
    {
     "name": "stdout",
     "output_type": "stream",
     "text": [
      "\n",
      "Training Client 4\n"
     ]
    },
    {
     "name": "stderr",
     "output_type": "stream",
     "text": [
      "100%|██████████| 2619/2619 [06:10<00:00,  7.06it/s]\n",
      "100%|██████████| 2619/2619 [06:14<00:00,  6.99it/s]\n"
     ]
    },
    {
     "name": "stdout",
     "output_type": "stream",
     "text": [
      "\n",
      "Aggregating client models on the server...\n"
     ]
    },
    {
     "name": "stderr",
     "output_type": "stream",
     "text": [
      "100%|██████████| 683/683 [00:16<00:00, 40.71it/s]\n"
     ]
    },
    {
     "name": "stdout",
     "output_type": "stream",
     "text": [
      "{'accuracy': 0.9430715723961194}\n",
      "\n",
      "--- Federated Learning Round 19 ---\n",
      "\n",
      "Training Client 0\n"
     ]
    },
    {
     "name": "stderr",
     "output_type": "stream",
     "text": [
      "100%|██████████| 2619/2619 [06:12<00:00,  7.03it/s]\n",
      "100%|██████████| 2619/2619 [06:13<00:00,  7.02it/s]\n"
     ]
    },
    {
     "name": "stdout",
     "output_type": "stream",
     "text": [
      "\n",
      "Training Client 1\n"
     ]
    },
    {
     "name": "stderr",
     "output_type": "stream",
     "text": [
      "100%|██████████| 2619/2619 [06:12<00:00,  7.03it/s]\n",
      "100%|██████████| 2619/2619 [06:13<00:00,  7.01it/s]\n"
     ]
    },
    {
     "name": "stdout",
     "output_type": "stream",
     "text": [
      "\n",
      "Training Client 2\n"
     ]
    },
    {
     "name": "stderr",
     "output_type": "stream",
     "text": [
      "100%|██████████| 2619/2619 [06:11<00:00,  7.04it/s]\n",
      "100%|██████████| 2619/2619 [06:13<00:00,  7.02it/s]\n"
     ]
    },
    {
     "name": "stdout",
     "output_type": "stream",
     "text": [
      "\n",
      "Training Client 3\n"
     ]
    },
    {
     "name": "stderr",
     "output_type": "stream",
     "text": [
      "100%|██████████| 2619/2619 [06:11<00:00,  7.05it/s]\n",
      "100%|██████████| 2619/2619 [06:09<00:00,  7.09it/s]\n"
     ]
    },
    {
     "name": "stdout",
     "output_type": "stream",
     "text": [
      "\n",
      "Training Client 4\n"
     ]
    },
    {
     "name": "stderr",
     "output_type": "stream",
     "text": [
      "100%|██████████| 2619/2619 [06:12<00:00,  7.03it/s]\n",
      "100%|██████████| 2619/2619 [06:10<00:00,  7.07it/s]\n"
     ]
    },
    {
     "name": "stdout",
     "output_type": "stream",
     "text": [
      "\n",
      "Aggregating client models on the server...\n"
     ]
    },
    {
     "name": "stderr",
     "output_type": "stream",
     "text": [
      "100%|██████████| 683/683 [00:17<00:00, 39.72it/s]\n"
     ]
    },
    {
     "name": "stdout",
     "output_type": "stream",
     "text": [
      "{'accuracy': 0.9445359692476661}\n",
      "\n",
      "--- Federated Learning Round 20 ---\n",
      "\n",
      "Training Client 0\n"
     ]
    },
    {
     "name": "stderr",
     "output_type": "stream",
     "text": [
      "100%|██████████| 2619/2619 [06:09<00:00,  7.09it/s]\n",
      "100%|██████████| 2619/2619 [06:15<00:00,  6.97it/s]\n"
     ]
    },
    {
     "name": "stdout",
     "output_type": "stream",
     "text": [
      "\n",
      "Training Client 1\n"
     ]
    },
    {
     "name": "stderr",
     "output_type": "stream",
     "text": [
      "100%|██████████| 2619/2619 [06:04<00:00,  7.18it/s]\n",
      "100%|██████████| 2619/2619 [06:13<00:00,  7.01it/s]\n"
     ]
    },
    {
     "name": "stdout",
     "output_type": "stream",
     "text": [
      "\n",
      "Training Client 2\n"
     ]
    },
    {
     "name": "stderr",
     "output_type": "stream",
     "text": [
      "100%|██████████| 2619/2619 [06:15<00:00,  6.98it/s]\n",
      "100%|██████████| 2619/2619 [06:08<00:00,  7.12it/s]\n"
     ]
    },
    {
     "name": "stdout",
     "output_type": "stream",
     "text": [
      "\n",
      "Training Client 3\n"
     ]
    },
    {
     "name": "stderr",
     "output_type": "stream",
     "text": [
      "100%|██████████| 2619/2619 [06:04<00:00,  7.18it/s]\n",
      "100%|██████████| 2619/2619 [06:10<00:00,  7.07it/s]\n"
     ]
    },
    {
     "name": "stdout",
     "output_type": "stream",
     "text": [
      "\n",
      "Training Client 4\n"
     ]
    },
    {
     "name": "stderr",
     "output_type": "stream",
     "text": [
      "100%|██████████| 2619/2619 [06:13<00:00,  7.02it/s]\n",
      "100%|██████████| 2619/2619 [06:13<00:00,  7.01it/s]\n"
     ]
    },
    {
     "name": "stdout",
     "output_type": "stream",
     "text": [
      "\n",
      "Aggregating client models on the server...\n"
     ]
    },
    {
     "name": "stderr",
     "output_type": "stream",
     "text": [
      "100%|██████████| 683/683 [00:16<00:00, 40.20it/s]\n"
     ]
    },
    {
     "name": "stdout",
     "output_type": "stream",
     "text": [
      "{'accuracy': 0.9441698700347795}\n"
     ]
    },
    {
     "data": {
      "application/vnd.jupyter.widget-view+json": {
       "model_id": "dcf9758b5fdc4585ac50e0a393f67b1d",
       "version_major": 2,
       "version_minor": 0
      },
      "text/plain": [
       "VBox(children=(Label(value='0.005 MB of 0.005 MB uploaded\\r'), FloatProgress(value=1.0, max=1.0)))"
      ]
     },
     "metadata": {},
     "output_type": "display_data"
    },
    {
     "name": "stderr",
     "output_type": "stream",
     "text": [
      "wandb: WARNING Source type is set to 'repo' but some required information is missing from the environment. A job will not be created from this run. See https://docs.wandb.ai/guides/launch/create-job\n"
     ]
    },
    {
     "data": {
      "text/html": [
       "<style>\n",
       "    table.wandb td:nth-child(1) { padding: 0 10px; text-align: left ; width: auto;} td:nth-child(2) {text-align: left ; width: 100%}\n",
       "    .wandb-row { display: flex; flex-direction: row; flex-wrap: wrap; justify-content: flex-start; width: 100% }\n",
       "    .wandb-col { display: flex; flex-direction: column; flex-basis: 100%; flex: 1; padding: 10px; }\n",
       "    </style>\n",
       "<div class=\"wandb-row\"><div class=\"wandb-col\"><h3>Run history:</h3><br/><table class=\"wandb\"><tr><td>accuracy</td><td>▁▃▅▇▇███████▇▇███▇██</td></tr></table><br/></div><div class=\"wandb-col\"><h3>Run summary:</h3><br/><table class=\"wandb\"><tr><td>accuracy</td><td>0.94417</td></tr></table><br/></div></div>"
      ],
      "text/plain": [
       "<IPython.core.display.HTML object>"
      ]
     },
     "metadata": {},
     "output_type": "display_data"
    },
    {
     "data": {
      "text/html": [
       " View run <strong style=\"color:#cdcd00\">FeDoRA</strong> at: <a href='https://wandb.ai/quanla/FeDORA%20Project%20-%20QNLI/runs/4ehpj58v' target=\"_blank\">https://wandb.ai/quanla/FeDORA%20Project%20-%20QNLI/runs/4ehpj58v</a><br/>Synced 5 W&B file(s), 0 media file(s), 0 artifact file(s) and 0 other file(s)"
      ],
      "text/plain": [
       "<IPython.core.display.HTML object>"
      ]
     },
     "metadata": {},
     "output_type": "display_data"
    },
    {
     "data": {
      "text/html": [
       "Find logs at: <code>./wandb/run-20241128_180250-4ehpj58v/logs</code>"
      ],
      "text/plain": [
       "<IPython.core.display.HTML object>"
      ]
     },
     "metadata": {},
     "output_type": "display_data"
    }
   ],
   "source": [
    "# 6. Federated Training Loop\n",
    "num_rounds = 20  # Number of federated learning rounds\n",
    "epochs_per_client = 2  # Number of epochs per client in each round\n",
    "\n",
    "for round_num in range(num_rounds):\n",
    "    print(f\"\\n--- Federated Learning Round {round_num + 1} ---\")\n",
    "    \n",
    "    client_models = []\n",
    "    \n",
    "    # Train each client locally\n",
    "    for client in clients:\n",
    "        print(f\"\\nTraining Client {client.client_id}\")\n",
    "        client.train(epochs=epochs_per_client, regularization_strength=0.5)\n",
    "        client_models.append(client.get_parameters())\n",
    "\n",
    "    # Aggregate client models on the server\n",
    "    print(\"\\nAggregating client models on the server...\")\n",
    "    server.aggregate(client_models)\n",
    "    eval_metric = server.evaluate(eval_dataloader, metric=metric)\n",
    "    print(eval_metric)\n",
    "    wandb.log(eval_metric)\n",
    "    # evaluate(lora_model, val_dataset)\n",
    "\n",
    "    \n",
    "    # Update each client's model with the new global model\n",
    "    for client in clients:\n",
    "        client.set_parameters(server.global_model.state_dict())\n",
    "\n",
    "wandb.finish()"
   ]
  },
  {
   "cell_type": "code",
   "execution_count": 24,
   "metadata": {},
   "outputs": [
    {
     "name": "stdout",
     "output_type": "stream",
     "text": [
      "base_model.model.roberta.embeddings.word_embeddings.weight\n",
      "base_model.model.roberta.embeddings.position_embeddings.weight\n",
      "base_model.model.roberta.embeddings.token_type_embeddings.weight\n",
      "base_model.model.roberta.embeddings.LayerNorm.weight\n",
      "base_model.model.roberta.embeddings.LayerNorm.bias\n",
      "base_model.model.roberta.encoder.layer.0.attention.self.query.base_layer.weight\n",
      "base_model.model.roberta.encoder.layer.0.attention.self.query.base_layer.bias\n",
      "base_model.model.roberta.encoder.layer.0.attention.self.query.lora_A.default.weight\n",
      "base_model.model.roberta.encoder.layer.0.attention.self.query.lora_B.default.weight\n",
      "base_model.model.roberta.encoder.layer.0.attention.self.query.lora_magnitude_vector.default.weight\n",
      "base_model.model.roberta.encoder.layer.0.attention.self.key.weight\n",
      "base_model.model.roberta.encoder.layer.0.attention.self.key.bias\n",
      "base_model.model.roberta.encoder.layer.0.attention.self.value.base_layer.weight\n",
      "base_model.model.roberta.encoder.layer.0.attention.self.value.base_layer.bias\n",
      "base_model.model.roberta.encoder.layer.0.attention.self.value.lora_A.default.weight\n",
      "base_model.model.roberta.encoder.layer.0.attention.self.value.lora_B.default.weight\n",
      "base_model.model.roberta.encoder.layer.0.attention.self.value.lora_magnitude_vector.default.weight\n",
      "base_model.model.roberta.encoder.layer.0.attention.output.dense.weight\n",
      "base_model.model.roberta.encoder.layer.0.attention.output.dense.bias\n",
      "base_model.model.roberta.encoder.layer.0.attention.output.LayerNorm.weight\n",
      "base_model.model.roberta.encoder.layer.0.attention.output.LayerNorm.bias\n",
      "base_model.model.roberta.encoder.layer.0.intermediate.dense.weight\n",
      "base_model.model.roberta.encoder.layer.0.intermediate.dense.bias\n",
      "base_model.model.roberta.encoder.layer.0.output.dense.weight\n",
      "base_model.model.roberta.encoder.layer.0.output.dense.bias\n",
      "base_model.model.roberta.encoder.layer.0.output.LayerNorm.weight\n",
      "base_model.model.roberta.encoder.layer.0.output.LayerNorm.bias\n",
      "base_model.model.roberta.encoder.layer.1.attention.self.query.base_layer.weight\n",
      "base_model.model.roberta.encoder.layer.1.attention.self.query.base_layer.bias\n",
      "base_model.model.roberta.encoder.layer.1.attention.self.query.lora_A.default.weight\n",
      "base_model.model.roberta.encoder.layer.1.attention.self.query.lora_B.default.weight\n",
      "base_model.model.roberta.encoder.layer.1.attention.self.query.lora_magnitude_vector.default.weight\n",
      "base_model.model.roberta.encoder.layer.1.attention.self.key.weight\n",
      "base_model.model.roberta.encoder.layer.1.attention.self.key.bias\n",
      "base_model.model.roberta.encoder.layer.1.attention.self.value.base_layer.weight\n",
      "base_model.model.roberta.encoder.layer.1.attention.self.value.base_layer.bias\n",
      "base_model.model.roberta.encoder.layer.1.attention.self.value.lora_A.default.weight\n",
      "base_model.model.roberta.encoder.layer.1.attention.self.value.lora_B.default.weight\n",
      "base_model.model.roberta.encoder.layer.1.attention.self.value.lora_magnitude_vector.default.weight\n",
      "base_model.model.roberta.encoder.layer.1.attention.output.dense.weight\n",
      "base_model.model.roberta.encoder.layer.1.attention.output.dense.bias\n",
      "base_model.model.roberta.encoder.layer.1.attention.output.LayerNorm.weight\n",
      "base_model.model.roberta.encoder.layer.1.attention.output.LayerNorm.bias\n",
      "base_model.model.roberta.encoder.layer.1.intermediate.dense.weight\n",
      "base_model.model.roberta.encoder.layer.1.intermediate.dense.bias\n",
      "base_model.model.roberta.encoder.layer.1.output.dense.weight\n",
      "base_model.model.roberta.encoder.layer.1.output.dense.bias\n",
      "base_model.model.roberta.encoder.layer.1.output.LayerNorm.weight\n",
      "base_model.model.roberta.encoder.layer.1.output.LayerNorm.bias\n",
      "base_model.model.roberta.encoder.layer.2.attention.self.query.base_layer.weight\n",
      "base_model.model.roberta.encoder.layer.2.attention.self.query.base_layer.bias\n",
      "base_model.model.roberta.encoder.layer.2.attention.self.query.lora_A.default.weight\n",
      "base_model.model.roberta.encoder.layer.2.attention.self.query.lora_B.default.weight\n",
      "base_model.model.roberta.encoder.layer.2.attention.self.query.lora_magnitude_vector.default.weight\n",
      "base_model.model.roberta.encoder.layer.2.attention.self.key.weight\n",
      "base_model.model.roberta.encoder.layer.2.attention.self.key.bias\n",
      "base_model.model.roberta.encoder.layer.2.attention.self.value.base_layer.weight\n",
      "base_model.model.roberta.encoder.layer.2.attention.self.value.base_layer.bias\n",
      "base_model.model.roberta.encoder.layer.2.attention.self.value.lora_A.default.weight\n",
      "base_model.model.roberta.encoder.layer.2.attention.self.value.lora_B.default.weight\n",
      "base_model.model.roberta.encoder.layer.2.attention.self.value.lora_magnitude_vector.default.weight\n",
      "base_model.model.roberta.encoder.layer.2.attention.output.dense.weight\n",
      "base_model.model.roberta.encoder.layer.2.attention.output.dense.bias\n",
      "base_model.model.roberta.encoder.layer.2.attention.output.LayerNorm.weight\n",
      "base_model.model.roberta.encoder.layer.2.attention.output.LayerNorm.bias\n",
      "base_model.model.roberta.encoder.layer.2.intermediate.dense.weight\n",
      "base_model.model.roberta.encoder.layer.2.intermediate.dense.bias\n",
      "base_model.model.roberta.encoder.layer.2.output.dense.weight\n",
      "base_model.model.roberta.encoder.layer.2.output.dense.bias\n",
      "base_model.model.roberta.encoder.layer.2.output.LayerNorm.weight\n",
      "base_model.model.roberta.encoder.layer.2.output.LayerNorm.bias\n",
      "base_model.model.roberta.encoder.layer.3.attention.self.query.base_layer.weight\n",
      "base_model.model.roberta.encoder.layer.3.attention.self.query.base_layer.bias\n",
      "base_model.model.roberta.encoder.layer.3.attention.self.query.lora_A.default.weight\n",
      "base_model.model.roberta.encoder.layer.3.attention.self.query.lora_B.default.weight\n",
      "base_model.model.roberta.encoder.layer.3.attention.self.query.lora_magnitude_vector.default.weight\n",
      "base_model.model.roberta.encoder.layer.3.attention.self.key.weight\n",
      "base_model.model.roberta.encoder.layer.3.attention.self.key.bias\n",
      "base_model.model.roberta.encoder.layer.3.attention.self.value.base_layer.weight\n",
      "base_model.model.roberta.encoder.layer.3.attention.self.value.base_layer.bias\n",
      "base_model.model.roberta.encoder.layer.3.attention.self.value.lora_A.default.weight\n",
      "base_model.model.roberta.encoder.layer.3.attention.self.value.lora_B.default.weight\n",
      "base_model.model.roberta.encoder.layer.3.attention.self.value.lora_magnitude_vector.default.weight\n",
      "base_model.model.roberta.encoder.layer.3.attention.output.dense.weight\n",
      "base_model.model.roberta.encoder.layer.3.attention.output.dense.bias\n",
      "base_model.model.roberta.encoder.layer.3.attention.output.LayerNorm.weight\n",
      "base_model.model.roberta.encoder.layer.3.attention.output.LayerNorm.bias\n",
      "base_model.model.roberta.encoder.layer.3.intermediate.dense.weight\n",
      "base_model.model.roberta.encoder.layer.3.intermediate.dense.bias\n",
      "base_model.model.roberta.encoder.layer.3.output.dense.weight\n",
      "base_model.model.roberta.encoder.layer.3.output.dense.bias\n",
      "base_model.model.roberta.encoder.layer.3.output.LayerNorm.weight\n",
      "base_model.model.roberta.encoder.layer.3.output.LayerNorm.bias\n",
      "base_model.model.roberta.encoder.layer.4.attention.self.query.base_layer.weight\n",
      "base_model.model.roberta.encoder.layer.4.attention.self.query.base_layer.bias\n",
      "base_model.model.roberta.encoder.layer.4.attention.self.query.lora_A.default.weight\n",
      "base_model.model.roberta.encoder.layer.4.attention.self.query.lora_B.default.weight\n",
      "base_model.model.roberta.encoder.layer.4.attention.self.query.lora_magnitude_vector.default.weight\n",
      "base_model.model.roberta.encoder.layer.4.attention.self.key.weight\n",
      "base_model.model.roberta.encoder.layer.4.attention.self.key.bias\n",
      "base_model.model.roberta.encoder.layer.4.attention.self.value.base_layer.weight\n",
      "base_model.model.roberta.encoder.layer.4.attention.self.value.base_layer.bias\n",
      "base_model.model.roberta.encoder.layer.4.attention.self.value.lora_A.default.weight\n",
      "base_model.model.roberta.encoder.layer.4.attention.self.value.lora_B.default.weight\n",
      "base_model.model.roberta.encoder.layer.4.attention.self.value.lora_magnitude_vector.default.weight\n",
      "base_model.model.roberta.encoder.layer.4.attention.output.dense.weight\n",
      "base_model.model.roberta.encoder.layer.4.attention.output.dense.bias\n",
      "base_model.model.roberta.encoder.layer.4.attention.output.LayerNorm.weight\n",
      "base_model.model.roberta.encoder.layer.4.attention.output.LayerNorm.bias\n",
      "base_model.model.roberta.encoder.layer.4.intermediate.dense.weight\n",
      "base_model.model.roberta.encoder.layer.4.intermediate.dense.bias\n",
      "base_model.model.roberta.encoder.layer.4.output.dense.weight\n",
      "base_model.model.roberta.encoder.layer.4.output.dense.bias\n",
      "base_model.model.roberta.encoder.layer.4.output.LayerNorm.weight\n",
      "base_model.model.roberta.encoder.layer.4.output.LayerNorm.bias\n",
      "base_model.model.roberta.encoder.layer.5.attention.self.query.base_layer.weight\n",
      "base_model.model.roberta.encoder.layer.5.attention.self.query.base_layer.bias\n",
      "base_model.model.roberta.encoder.layer.5.attention.self.query.lora_A.default.weight\n",
      "base_model.model.roberta.encoder.layer.5.attention.self.query.lora_B.default.weight\n",
      "base_model.model.roberta.encoder.layer.5.attention.self.query.lora_magnitude_vector.default.weight\n",
      "base_model.model.roberta.encoder.layer.5.attention.self.key.weight\n",
      "base_model.model.roberta.encoder.layer.5.attention.self.key.bias\n",
      "base_model.model.roberta.encoder.layer.5.attention.self.value.base_layer.weight\n",
      "base_model.model.roberta.encoder.layer.5.attention.self.value.base_layer.bias\n",
      "base_model.model.roberta.encoder.layer.5.attention.self.value.lora_A.default.weight\n",
      "base_model.model.roberta.encoder.layer.5.attention.self.value.lora_B.default.weight\n",
      "base_model.model.roberta.encoder.layer.5.attention.self.value.lora_magnitude_vector.default.weight\n",
      "base_model.model.roberta.encoder.layer.5.attention.output.dense.weight\n",
      "base_model.model.roberta.encoder.layer.5.attention.output.dense.bias\n",
      "base_model.model.roberta.encoder.layer.5.attention.output.LayerNorm.weight\n",
      "base_model.model.roberta.encoder.layer.5.attention.output.LayerNorm.bias\n",
      "base_model.model.roberta.encoder.layer.5.intermediate.dense.weight\n",
      "base_model.model.roberta.encoder.layer.5.intermediate.dense.bias\n",
      "base_model.model.roberta.encoder.layer.5.output.dense.weight\n",
      "base_model.model.roberta.encoder.layer.5.output.dense.bias\n",
      "base_model.model.roberta.encoder.layer.5.output.LayerNorm.weight\n",
      "base_model.model.roberta.encoder.layer.5.output.LayerNorm.bias\n",
      "base_model.model.roberta.encoder.layer.6.attention.self.query.base_layer.weight\n",
      "base_model.model.roberta.encoder.layer.6.attention.self.query.base_layer.bias\n",
      "base_model.model.roberta.encoder.layer.6.attention.self.query.lora_A.default.weight\n",
      "base_model.model.roberta.encoder.layer.6.attention.self.query.lora_B.default.weight\n",
      "base_model.model.roberta.encoder.layer.6.attention.self.query.lora_magnitude_vector.default.weight\n",
      "base_model.model.roberta.encoder.layer.6.attention.self.key.weight\n",
      "base_model.model.roberta.encoder.layer.6.attention.self.key.bias\n",
      "base_model.model.roberta.encoder.layer.6.attention.self.value.base_layer.weight\n",
      "base_model.model.roberta.encoder.layer.6.attention.self.value.base_layer.bias\n",
      "base_model.model.roberta.encoder.layer.6.attention.self.value.lora_A.default.weight\n",
      "base_model.model.roberta.encoder.layer.6.attention.self.value.lora_B.default.weight\n",
      "base_model.model.roberta.encoder.layer.6.attention.self.value.lora_magnitude_vector.default.weight\n",
      "base_model.model.roberta.encoder.layer.6.attention.output.dense.weight\n",
      "base_model.model.roberta.encoder.layer.6.attention.output.dense.bias\n",
      "base_model.model.roberta.encoder.layer.6.attention.output.LayerNorm.weight\n",
      "base_model.model.roberta.encoder.layer.6.attention.output.LayerNorm.bias\n",
      "base_model.model.roberta.encoder.layer.6.intermediate.dense.weight\n",
      "base_model.model.roberta.encoder.layer.6.intermediate.dense.bias\n",
      "base_model.model.roberta.encoder.layer.6.output.dense.weight\n",
      "base_model.model.roberta.encoder.layer.6.output.dense.bias\n",
      "base_model.model.roberta.encoder.layer.6.output.LayerNorm.weight\n",
      "base_model.model.roberta.encoder.layer.6.output.LayerNorm.bias\n",
      "base_model.model.roberta.encoder.layer.7.attention.self.query.base_layer.weight\n",
      "base_model.model.roberta.encoder.layer.7.attention.self.query.base_layer.bias\n",
      "base_model.model.roberta.encoder.layer.7.attention.self.query.lora_A.default.weight\n",
      "base_model.model.roberta.encoder.layer.7.attention.self.query.lora_B.default.weight\n",
      "base_model.model.roberta.encoder.layer.7.attention.self.query.lora_magnitude_vector.default.weight\n",
      "base_model.model.roberta.encoder.layer.7.attention.self.key.weight\n",
      "base_model.model.roberta.encoder.layer.7.attention.self.key.bias\n",
      "base_model.model.roberta.encoder.layer.7.attention.self.value.base_layer.weight\n",
      "base_model.model.roberta.encoder.layer.7.attention.self.value.base_layer.bias\n",
      "base_model.model.roberta.encoder.layer.7.attention.self.value.lora_A.default.weight\n",
      "base_model.model.roberta.encoder.layer.7.attention.self.value.lora_B.default.weight\n",
      "base_model.model.roberta.encoder.layer.7.attention.self.value.lora_magnitude_vector.default.weight\n",
      "base_model.model.roberta.encoder.layer.7.attention.output.dense.weight\n",
      "base_model.model.roberta.encoder.layer.7.attention.output.dense.bias\n",
      "base_model.model.roberta.encoder.layer.7.attention.output.LayerNorm.weight\n",
      "base_model.model.roberta.encoder.layer.7.attention.output.LayerNorm.bias\n",
      "base_model.model.roberta.encoder.layer.7.intermediate.dense.weight\n",
      "base_model.model.roberta.encoder.layer.7.intermediate.dense.bias\n",
      "base_model.model.roberta.encoder.layer.7.output.dense.weight\n",
      "base_model.model.roberta.encoder.layer.7.output.dense.bias\n",
      "base_model.model.roberta.encoder.layer.7.output.LayerNorm.weight\n",
      "base_model.model.roberta.encoder.layer.7.output.LayerNorm.bias\n",
      "base_model.model.roberta.encoder.layer.8.attention.self.query.base_layer.weight\n",
      "base_model.model.roberta.encoder.layer.8.attention.self.query.base_layer.bias\n",
      "base_model.model.roberta.encoder.layer.8.attention.self.query.lora_A.default.weight\n",
      "base_model.model.roberta.encoder.layer.8.attention.self.query.lora_B.default.weight\n",
      "base_model.model.roberta.encoder.layer.8.attention.self.query.lora_magnitude_vector.default.weight\n",
      "base_model.model.roberta.encoder.layer.8.attention.self.key.weight\n",
      "base_model.model.roberta.encoder.layer.8.attention.self.key.bias\n",
      "base_model.model.roberta.encoder.layer.8.attention.self.value.base_layer.weight\n",
      "base_model.model.roberta.encoder.layer.8.attention.self.value.base_layer.bias\n",
      "base_model.model.roberta.encoder.layer.8.attention.self.value.lora_A.default.weight\n",
      "base_model.model.roberta.encoder.layer.8.attention.self.value.lora_B.default.weight\n",
      "base_model.model.roberta.encoder.layer.8.attention.self.value.lora_magnitude_vector.default.weight\n",
      "base_model.model.roberta.encoder.layer.8.attention.output.dense.weight\n",
      "base_model.model.roberta.encoder.layer.8.attention.output.dense.bias\n",
      "base_model.model.roberta.encoder.layer.8.attention.output.LayerNorm.weight\n",
      "base_model.model.roberta.encoder.layer.8.attention.output.LayerNorm.bias\n",
      "base_model.model.roberta.encoder.layer.8.intermediate.dense.weight\n",
      "base_model.model.roberta.encoder.layer.8.intermediate.dense.bias\n",
      "base_model.model.roberta.encoder.layer.8.output.dense.weight\n",
      "base_model.model.roberta.encoder.layer.8.output.dense.bias\n",
      "base_model.model.roberta.encoder.layer.8.output.LayerNorm.weight\n",
      "base_model.model.roberta.encoder.layer.8.output.LayerNorm.bias\n",
      "base_model.model.roberta.encoder.layer.9.attention.self.query.base_layer.weight\n",
      "base_model.model.roberta.encoder.layer.9.attention.self.query.base_layer.bias\n",
      "base_model.model.roberta.encoder.layer.9.attention.self.query.lora_A.default.weight\n",
      "base_model.model.roberta.encoder.layer.9.attention.self.query.lora_B.default.weight\n",
      "base_model.model.roberta.encoder.layer.9.attention.self.query.lora_magnitude_vector.default.weight\n",
      "base_model.model.roberta.encoder.layer.9.attention.self.key.weight\n",
      "base_model.model.roberta.encoder.layer.9.attention.self.key.bias\n",
      "base_model.model.roberta.encoder.layer.9.attention.self.value.base_layer.weight\n",
      "base_model.model.roberta.encoder.layer.9.attention.self.value.base_layer.bias\n",
      "base_model.model.roberta.encoder.layer.9.attention.self.value.lora_A.default.weight\n",
      "base_model.model.roberta.encoder.layer.9.attention.self.value.lora_B.default.weight\n",
      "base_model.model.roberta.encoder.layer.9.attention.self.value.lora_magnitude_vector.default.weight\n",
      "base_model.model.roberta.encoder.layer.9.attention.output.dense.weight\n",
      "base_model.model.roberta.encoder.layer.9.attention.output.dense.bias\n",
      "base_model.model.roberta.encoder.layer.9.attention.output.LayerNorm.weight\n",
      "base_model.model.roberta.encoder.layer.9.attention.output.LayerNorm.bias\n",
      "base_model.model.roberta.encoder.layer.9.intermediate.dense.weight\n",
      "base_model.model.roberta.encoder.layer.9.intermediate.dense.bias\n",
      "base_model.model.roberta.encoder.layer.9.output.dense.weight\n",
      "base_model.model.roberta.encoder.layer.9.output.dense.bias\n",
      "base_model.model.roberta.encoder.layer.9.output.LayerNorm.weight\n",
      "base_model.model.roberta.encoder.layer.9.output.LayerNorm.bias\n",
      "base_model.model.roberta.encoder.layer.10.attention.self.query.base_layer.weight\n",
      "base_model.model.roberta.encoder.layer.10.attention.self.query.base_layer.bias\n",
      "base_model.model.roberta.encoder.layer.10.attention.self.query.lora_A.default.weight\n",
      "base_model.model.roberta.encoder.layer.10.attention.self.query.lora_B.default.weight\n",
      "base_model.model.roberta.encoder.layer.10.attention.self.query.lora_magnitude_vector.default.weight\n",
      "base_model.model.roberta.encoder.layer.10.attention.self.key.weight\n",
      "base_model.model.roberta.encoder.layer.10.attention.self.key.bias\n",
      "base_model.model.roberta.encoder.layer.10.attention.self.value.base_layer.weight\n",
      "base_model.model.roberta.encoder.layer.10.attention.self.value.base_layer.bias\n",
      "base_model.model.roberta.encoder.layer.10.attention.self.value.lora_A.default.weight\n",
      "base_model.model.roberta.encoder.layer.10.attention.self.value.lora_B.default.weight\n",
      "base_model.model.roberta.encoder.layer.10.attention.self.value.lora_magnitude_vector.default.weight\n",
      "base_model.model.roberta.encoder.layer.10.attention.output.dense.weight\n",
      "base_model.model.roberta.encoder.layer.10.attention.output.dense.bias\n",
      "base_model.model.roberta.encoder.layer.10.attention.output.LayerNorm.weight\n",
      "base_model.model.roberta.encoder.layer.10.attention.output.LayerNorm.bias\n",
      "base_model.model.roberta.encoder.layer.10.intermediate.dense.weight\n",
      "base_model.model.roberta.encoder.layer.10.intermediate.dense.bias\n",
      "base_model.model.roberta.encoder.layer.10.output.dense.weight\n",
      "base_model.model.roberta.encoder.layer.10.output.dense.bias\n",
      "base_model.model.roberta.encoder.layer.10.output.LayerNorm.weight\n",
      "base_model.model.roberta.encoder.layer.10.output.LayerNorm.bias\n",
      "base_model.model.roberta.encoder.layer.11.attention.self.query.base_layer.weight\n",
      "base_model.model.roberta.encoder.layer.11.attention.self.query.base_layer.bias\n",
      "base_model.model.roberta.encoder.layer.11.attention.self.query.lora_A.default.weight\n",
      "base_model.model.roberta.encoder.layer.11.attention.self.query.lora_B.default.weight\n",
      "base_model.model.roberta.encoder.layer.11.attention.self.query.lora_magnitude_vector.default.weight\n",
      "base_model.model.roberta.encoder.layer.11.attention.self.key.weight\n",
      "base_model.model.roberta.encoder.layer.11.attention.self.key.bias\n",
      "base_model.model.roberta.encoder.layer.11.attention.self.value.base_layer.weight\n",
      "base_model.model.roberta.encoder.layer.11.attention.self.value.base_layer.bias\n",
      "base_model.model.roberta.encoder.layer.11.attention.self.value.lora_A.default.weight\n",
      "base_model.model.roberta.encoder.layer.11.attention.self.value.lora_B.default.weight\n",
      "base_model.model.roberta.encoder.layer.11.attention.self.value.lora_magnitude_vector.default.weight\n",
      "base_model.model.roberta.encoder.layer.11.attention.output.dense.weight\n",
      "base_model.model.roberta.encoder.layer.11.attention.output.dense.bias\n",
      "base_model.model.roberta.encoder.layer.11.attention.output.LayerNorm.weight\n",
      "base_model.model.roberta.encoder.layer.11.attention.output.LayerNorm.bias\n",
      "base_model.model.roberta.encoder.layer.11.intermediate.dense.weight\n",
      "base_model.model.roberta.encoder.layer.11.intermediate.dense.bias\n",
      "base_model.model.roberta.encoder.layer.11.output.dense.weight\n",
      "base_model.model.roberta.encoder.layer.11.output.dense.bias\n",
      "base_model.model.roberta.encoder.layer.11.output.LayerNorm.weight\n",
      "base_model.model.roberta.encoder.layer.11.output.LayerNorm.bias\n",
      "base_model.model.roberta.encoder.layer.12.attention.self.query.base_layer.weight\n",
      "base_model.model.roberta.encoder.layer.12.attention.self.query.base_layer.bias\n",
      "base_model.model.roberta.encoder.layer.12.attention.self.query.lora_A.default.weight\n",
      "base_model.model.roberta.encoder.layer.12.attention.self.query.lora_B.default.weight\n",
      "base_model.model.roberta.encoder.layer.12.attention.self.query.lora_magnitude_vector.default.weight\n",
      "base_model.model.roberta.encoder.layer.12.attention.self.key.weight\n",
      "base_model.model.roberta.encoder.layer.12.attention.self.key.bias\n",
      "base_model.model.roberta.encoder.layer.12.attention.self.value.base_layer.weight\n",
      "base_model.model.roberta.encoder.layer.12.attention.self.value.base_layer.bias\n",
      "base_model.model.roberta.encoder.layer.12.attention.self.value.lora_A.default.weight\n",
      "base_model.model.roberta.encoder.layer.12.attention.self.value.lora_B.default.weight\n",
      "base_model.model.roberta.encoder.layer.12.attention.self.value.lora_magnitude_vector.default.weight\n",
      "base_model.model.roberta.encoder.layer.12.attention.output.dense.weight\n",
      "base_model.model.roberta.encoder.layer.12.attention.output.dense.bias\n",
      "base_model.model.roberta.encoder.layer.12.attention.output.LayerNorm.weight\n",
      "base_model.model.roberta.encoder.layer.12.attention.output.LayerNorm.bias\n",
      "base_model.model.roberta.encoder.layer.12.intermediate.dense.weight\n",
      "base_model.model.roberta.encoder.layer.12.intermediate.dense.bias\n",
      "base_model.model.roberta.encoder.layer.12.output.dense.weight\n",
      "base_model.model.roberta.encoder.layer.12.output.dense.bias\n",
      "base_model.model.roberta.encoder.layer.12.output.LayerNorm.weight\n",
      "base_model.model.roberta.encoder.layer.12.output.LayerNorm.bias\n",
      "base_model.model.roberta.encoder.layer.13.attention.self.query.base_layer.weight\n",
      "base_model.model.roberta.encoder.layer.13.attention.self.query.base_layer.bias\n",
      "base_model.model.roberta.encoder.layer.13.attention.self.query.lora_A.default.weight\n",
      "base_model.model.roberta.encoder.layer.13.attention.self.query.lora_B.default.weight\n",
      "base_model.model.roberta.encoder.layer.13.attention.self.query.lora_magnitude_vector.default.weight\n",
      "base_model.model.roberta.encoder.layer.13.attention.self.key.weight\n",
      "base_model.model.roberta.encoder.layer.13.attention.self.key.bias\n",
      "base_model.model.roberta.encoder.layer.13.attention.self.value.base_layer.weight\n",
      "base_model.model.roberta.encoder.layer.13.attention.self.value.base_layer.bias\n",
      "base_model.model.roberta.encoder.layer.13.attention.self.value.lora_A.default.weight\n",
      "base_model.model.roberta.encoder.layer.13.attention.self.value.lora_B.default.weight\n",
      "base_model.model.roberta.encoder.layer.13.attention.self.value.lora_magnitude_vector.default.weight\n",
      "base_model.model.roberta.encoder.layer.13.attention.output.dense.weight\n",
      "base_model.model.roberta.encoder.layer.13.attention.output.dense.bias\n",
      "base_model.model.roberta.encoder.layer.13.attention.output.LayerNorm.weight\n",
      "base_model.model.roberta.encoder.layer.13.attention.output.LayerNorm.bias\n",
      "base_model.model.roberta.encoder.layer.13.intermediate.dense.weight\n",
      "base_model.model.roberta.encoder.layer.13.intermediate.dense.bias\n",
      "base_model.model.roberta.encoder.layer.13.output.dense.weight\n",
      "base_model.model.roberta.encoder.layer.13.output.dense.bias\n",
      "base_model.model.roberta.encoder.layer.13.output.LayerNorm.weight\n",
      "base_model.model.roberta.encoder.layer.13.output.LayerNorm.bias\n",
      "base_model.model.roberta.encoder.layer.14.attention.self.query.base_layer.weight\n",
      "base_model.model.roberta.encoder.layer.14.attention.self.query.base_layer.bias\n",
      "base_model.model.roberta.encoder.layer.14.attention.self.query.lora_A.default.weight\n",
      "base_model.model.roberta.encoder.layer.14.attention.self.query.lora_B.default.weight\n",
      "base_model.model.roberta.encoder.layer.14.attention.self.query.lora_magnitude_vector.default.weight\n",
      "base_model.model.roberta.encoder.layer.14.attention.self.key.weight\n",
      "base_model.model.roberta.encoder.layer.14.attention.self.key.bias\n",
      "base_model.model.roberta.encoder.layer.14.attention.self.value.base_layer.weight\n",
      "base_model.model.roberta.encoder.layer.14.attention.self.value.base_layer.bias\n",
      "base_model.model.roberta.encoder.layer.14.attention.self.value.lora_A.default.weight\n",
      "base_model.model.roberta.encoder.layer.14.attention.self.value.lora_B.default.weight\n",
      "base_model.model.roberta.encoder.layer.14.attention.self.value.lora_magnitude_vector.default.weight\n",
      "base_model.model.roberta.encoder.layer.14.attention.output.dense.weight\n",
      "base_model.model.roberta.encoder.layer.14.attention.output.dense.bias\n",
      "base_model.model.roberta.encoder.layer.14.attention.output.LayerNorm.weight\n",
      "base_model.model.roberta.encoder.layer.14.attention.output.LayerNorm.bias\n",
      "base_model.model.roberta.encoder.layer.14.intermediate.dense.weight\n",
      "base_model.model.roberta.encoder.layer.14.intermediate.dense.bias\n",
      "base_model.model.roberta.encoder.layer.14.output.dense.weight\n",
      "base_model.model.roberta.encoder.layer.14.output.dense.bias\n",
      "base_model.model.roberta.encoder.layer.14.output.LayerNorm.weight\n",
      "base_model.model.roberta.encoder.layer.14.output.LayerNorm.bias\n",
      "base_model.model.roberta.encoder.layer.15.attention.self.query.base_layer.weight\n",
      "base_model.model.roberta.encoder.layer.15.attention.self.query.base_layer.bias\n",
      "base_model.model.roberta.encoder.layer.15.attention.self.query.lora_A.default.weight\n",
      "base_model.model.roberta.encoder.layer.15.attention.self.query.lora_B.default.weight\n",
      "base_model.model.roberta.encoder.layer.15.attention.self.query.lora_magnitude_vector.default.weight\n",
      "base_model.model.roberta.encoder.layer.15.attention.self.key.weight\n",
      "base_model.model.roberta.encoder.layer.15.attention.self.key.bias\n",
      "base_model.model.roberta.encoder.layer.15.attention.self.value.base_layer.weight\n",
      "base_model.model.roberta.encoder.layer.15.attention.self.value.base_layer.bias\n",
      "base_model.model.roberta.encoder.layer.15.attention.self.value.lora_A.default.weight\n",
      "base_model.model.roberta.encoder.layer.15.attention.self.value.lora_B.default.weight\n",
      "base_model.model.roberta.encoder.layer.15.attention.self.value.lora_magnitude_vector.default.weight\n",
      "base_model.model.roberta.encoder.layer.15.attention.output.dense.weight\n",
      "base_model.model.roberta.encoder.layer.15.attention.output.dense.bias\n",
      "base_model.model.roberta.encoder.layer.15.attention.output.LayerNorm.weight\n",
      "base_model.model.roberta.encoder.layer.15.attention.output.LayerNorm.bias\n",
      "base_model.model.roberta.encoder.layer.15.intermediate.dense.weight\n",
      "base_model.model.roberta.encoder.layer.15.intermediate.dense.bias\n",
      "base_model.model.roberta.encoder.layer.15.output.dense.weight\n",
      "base_model.model.roberta.encoder.layer.15.output.dense.bias\n",
      "base_model.model.roberta.encoder.layer.15.output.LayerNorm.weight\n",
      "base_model.model.roberta.encoder.layer.15.output.LayerNorm.bias\n",
      "base_model.model.roberta.encoder.layer.16.attention.self.query.base_layer.weight\n",
      "base_model.model.roberta.encoder.layer.16.attention.self.query.base_layer.bias\n",
      "base_model.model.roberta.encoder.layer.16.attention.self.query.lora_A.default.weight\n",
      "base_model.model.roberta.encoder.layer.16.attention.self.query.lora_B.default.weight\n",
      "base_model.model.roberta.encoder.layer.16.attention.self.query.lora_magnitude_vector.default.weight\n",
      "base_model.model.roberta.encoder.layer.16.attention.self.key.weight\n",
      "base_model.model.roberta.encoder.layer.16.attention.self.key.bias\n",
      "base_model.model.roberta.encoder.layer.16.attention.self.value.base_layer.weight\n",
      "base_model.model.roberta.encoder.layer.16.attention.self.value.base_layer.bias\n",
      "base_model.model.roberta.encoder.layer.16.attention.self.value.lora_A.default.weight\n",
      "base_model.model.roberta.encoder.layer.16.attention.self.value.lora_B.default.weight\n",
      "base_model.model.roberta.encoder.layer.16.attention.self.value.lora_magnitude_vector.default.weight\n",
      "base_model.model.roberta.encoder.layer.16.attention.output.dense.weight\n",
      "base_model.model.roberta.encoder.layer.16.attention.output.dense.bias\n",
      "base_model.model.roberta.encoder.layer.16.attention.output.LayerNorm.weight\n",
      "base_model.model.roberta.encoder.layer.16.attention.output.LayerNorm.bias\n",
      "base_model.model.roberta.encoder.layer.16.intermediate.dense.weight\n",
      "base_model.model.roberta.encoder.layer.16.intermediate.dense.bias\n",
      "base_model.model.roberta.encoder.layer.16.output.dense.weight\n",
      "base_model.model.roberta.encoder.layer.16.output.dense.bias\n",
      "base_model.model.roberta.encoder.layer.16.output.LayerNorm.weight\n",
      "base_model.model.roberta.encoder.layer.16.output.LayerNorm.bias\n",
      "base_model.model.roberta.encoder.layer.17.attention.self.query.base_layer.weight\n",
      "base_model.model.roberta.encoder.layer.17.attention.self.query.base_layer.bias\n",
      "base_model.model.roberta.encoder.layer.17.attention.self.query.lora_A.default.weight\n",
      "base_model.model.roberta.encoder.layer.17.attention.self.query.lora_B.default.weight\n",
      "base_model.model.roberta.encoder.layer.17.attention.self.query.lora_magnitude_vector.default.weight\n",
      "base_model.model.roberta.encoder.layer.17.attention.self.key.weight\n",
      "base_model.model.roberta.encoder.layer.17.attention.self.key.bias\n",
      "base_model.model.roberta.encoder.layer.17.attention.self.value.base_layer.weight\n",
      "base_model.model.roberta.encoder.layer.17.attention.self.value.base_layer.bias\n",
      "base_model.model.roberta.encoder.layer.17.attention.self.value.lora_A.default.weight\n",
      "base_model.model.roberta.encoder.layer.17.attention.self.value.lora_B.default.weight\n",
      "base_model.model.roberta.encoder.layer.17.attention.self.value.lora_magnitude_vector.default.weight\n",
      "base_model.model.roberta.encoder.layer.17.attention.output.dense.weight\n",
      "base_model.model.roberta.encoder.layer.17.attention.output.dense.bias\n",
      "base_model.model.roberta.encoder.layer.17.attention.output.LayerNorm.weight\n",
      "base_model.model.roberta.encoder.layer.17.attention.output.LayerNorm.bias\n",
      "base_model.model.roberta.encoder.layer.17.intermediate.dense.weight\n",
      "base_model.model.roberta.encoder.layer.17.intermediate.dense.bias\n",
      "base_model.model.roberta.encoder.layer.17.output.dense.weight\n",
      "base_model.model.roberta.encoder.layer.17.output.dense.bias\n",
      "base_model.model.roberta.encoder.layer.17.output.LayerNorm.weight\n",
      "base_model.model.roberta.encoder.layer.17.output.LayerNorm.bias\n",
      "base_model.model.roberta.encoder.layer.18.attention.self.query.base_layer.weight\n",
      "base_model.model.roberta.encoder.layer.18.attention.self.query.base_layer.bias\n",
      "base_model.model.roberta.encoder.layer.18.attention.self.query.lora_A.default.weight\n",
      "base_model.model.roberta.encoder.layer.18.attention.self.query.lora_B.default.weight\n",
      "base_model.model.roberta.encoder.layer.18.attention.self.query.lora_magnitude_vector.default.weight\n",
      "base_model.model.roberta.encoder.layer.18.attention.self.key.weight\n",
      "base_model.model.roberta.encoder.layer.18.attention.self.key.bias\n",
      "base_model.model.roberta.encoder.layer.18.attention.self.value.base_layer.weight\n",
      "base_model.model.roberta.encoder.layer.18.attention.self.value.base_layer.bias\n",
      "base_model.model.roberta.encoder.layer.18.attention.self.value.lora_A.default.weight\n",
      "base_model.model.roberta.encoder.layer.18.attention.self.value.lora_B.default.weight\n",
      "base_model.model.roberta.encoder.layer.18.attention.self.value.lora_magnitude_vector.default.weight\n",
      "base_model.model.roberta.encoder.layer.18.attention.output.dense.weight\n",
      "base_model.model.roberta.encoder.layer.18.attention.output.dense.bias\n",
      "base_model.model.roberta.encoder.layer.18.attention.output.LayerNorm.weight\n",
      "base_model.model.roberta.encoder.layer.18.attention.output.LayerNorm.bias\n",
      "base_model.model.roberta.encoder.layer.18.intermediate.dense.weight\n",
      "base_model.model.roberta.encoder.layer.18.intermediate.dense.bias\n",
      "base_model.model.roberta.encoder.layer.18.output.dense.weight\n",
      "base_model.model.roberta.encoder.layer.18.output.dense.bias\n",
      "base_model.model.roberta.encoder.layer.18.output.LayerNorm.weight\n",
      "base_model.model.roberta.encoder.layer.18.output.LayerNorm.bias\n",
      "base_model.model.roberta.encoder.layer.19.attention.self.query.base_layer.weight\n",
      "base_model.model.roberta.encoder.layer.19.attention.self.query.base_layer.bias\n",
      "base_model.model.roberta.encoder.layer.19.attention.self.query.lora_A.default.weight\n",
      "base_model.model.roberta.encoder.layer.19.attention.self.query.lora_B.default.weight\n",
      "base_model.model.roberta.encoder.layer.19.attention.self.query.lora_magnitude_vector.default.weight\n",
      "base_model.model.roberta.encoder.layer.19.attention.self.key.weight\n",
      "base_model.model.roberta.encoder.layer.19.attention.self.key.bias\n",
      "base_model.model.roberta.encoder.layer.19.attention.self.value.base_layer.weight\n",
      "base_model.model.roberta.encoder.layer.19.attention.self.value.base_layer.bias\n",
      "base_model.model.roberta.encoder.layer.19.attention.self.value.lora_A.default.weight\n",
      "base_model.model.roberta.encoder.layer.19.attention.self.value.lora_B.default.weight\n",
      "base_model.model.roberta.encoder.layer.19.attention.self.value.lora_magnitude_vector.default.weight\n",
      "base_model.model.roberta.encoder.layer.19.attention.output.dense.weight\n",
      "base_model.model.roberta.encoder.layer.19.attention.output.dense.bias\n",
      "base_model.model.roberta.encoder.layer.19.attention.output.LayerNorm.weight\n",
      "base_model.model.roberta.encoder.layer.19.attention.output.LayerNorm.bias\n",
      "base_model.model.roberta.encoder.layer.19.intermediate.dense.weight\n",
      "base_model.model.roberta.encoder.layer.19.intermediate.dense.bias\n",
      "base_model.model.roberta.encoder.layer.19.output.dense.weight\n",
      "base_model.model.roberta.encoder.layer.19.output.dense.bias\n",
      "base_model.model.roberta.encoder.layer.19.output.LayerNorm.weight\n",
      "base_model.model.roberta.encoder.layer.19.output.LayerNorm.bias\n",
      "base_model.model.roberta.encoder.layer.20.attention.self.query.base_layer.weight\n",
      "base_model.model.roberta.encoder.layer.20.attention.self.query.base_layer.bias\n",
      "base_model.model.roberta.encoder.layer.20.attention.self.query.lora_A.default.weight\n",
      "base_model.model.roberta.encoder.layer.20.attention.self.query.lora_B.default.weight\n",
      "base_model.model.roberta.encoder.layer.20.attention.self.query.lora_magnitude_vector.default.weight\n",
      "base_model.model.roberta.encoder.layer.20.attention.self.key.weight\n",
      "base_model.model.roberta.encoder.layer.20.attention.self.key.bias\n",
      "base_model.model.roberta.encoder.layer.20.attention.self.value.base_layer.weight\n",
      "base_model.model.roberta.encoder.layer.20.attention.self.value.base_layer.bias\n",
      "base_model.model.roberta.encoder.layer.20.attention.self.value.lora_A.default.weight\n",
      "base_model.model.roberta.encoder.layer.20.attention.self.value.lora_B.default.weight\n",
      "base_model.model.roberta.encoder.layer.20.attention.self.value.lora_magnitude_vector.default.weight\n",
      "base_model.model.roberta.encoder.layer.20.attention.output.dense.weight\n",
      "base_model.model.roberta.encoder.layer.20.attention.output.dense.bias\n",
      "base_model.model.roberta.encoder.layer.20.attention.output.LayerNorm.weight\n",
      "base_model.model.roberta.encoder.layer.20.attention.output.LayerNorm.bias\n",
      "base_model.model.roberta.encoder.layer.20.intermediate.dense.weight\n",
      "base_model.model.roberta.encoder.layer.20.intermediate.dense.bias\n",
      "base_model.model.roberta.encoder.layer.20.output.dense.weight\n",
      "base_model.model.roberta.encoder.layer.20.output.dense.bias\n",
      "base_model.model.roberta.encoder.layer.20.output.LayerNorm.weight\n",
      "base_model.model.roberta.encoder.layer.20.output.LayerNorm.bias\n",
      "base_model.model.roberta.encoder.layer.21.attention.self.query.base_layer.weight\n",
      "base_model.model.roberta.encoder.layer.21.attention.self.query.base_layer.bias\n",
      "base_model.model.roberta.encoder.layer.21.attention.self.query.lora_A.default.weight\n",
      "base_model.model.roberta.encoder.layer.21.attention.self.query.lora_B.default.weight\n",
      "base_model.model.roberta.encoder.layer.21.attention.self.query.lora_magnitude_vector.default.weight\n",
      "base_model.model.roberta.encoder.layer.21.attention.self.key.weight\n",
      "base_model.model.roberta.encoder.layer.21.attention.self.key.bias\n",
      "base_model.model.roberta.encoder.layer.21.attention.self.value.base_layer.weight\n",
      "base_model.model.roberta.encoder.layer.21.attention.self.value.base_layer.bias\n",
      "base_model.model.roberta.encoder.layer.21.attention.self.value.lora_A.default.weight\n",
      "base_model.model.roberta.encoder.layer.21.attention.self.value.lora_B.default.weight\n",
      "base_model.model.roberta.encoder.layer.21.attention.self.value.lora_magnitude_vector.default.weight\n",
      "base_model.model.roberta.encoder.layer.21.attention.output.dense.weight\n",
      "base_model.model.roberta.encoder.layer.21.attention.output.dense.bias\n",
      "base_model.model.roberta.encoder.layer.21.attention.output.LayerNorm.weight\n",
      "base_model.model.roberta.encoder.layer.21.attention.output.LayerNorm.bias\n",
      "base_model.model.roberta.encoder.layer.21.intermediate.dense.weight\n",
      "base_model.model.roberta.encoder.layer.21.intermediate.dense.bias\n",
      "base_model.model.roberta.encoder.layer.21.output.dense.weight\n",
      "base_model.model.roberta.encoder.layer.21.output.dense.bias\n",
      "base_model.model.roberta.encoder.layer.21.output.LayerNorm.weight\n",
      "base_model.model.roberta.encoder.layer.21.output.LayerNorm.bias\n",
      "base_model.model.roberta.encoder.layer.22.attention.self.query.base_layer.weight\n",
      "base_model.model.roberta.encoder.layer.22.attention.self.query.base_layer.bias\n",
      "base_model.model.roberta.encoder.layer.22.attention.self.query.lora_A.default.weight\n",
      "base_model.model.roberta.encoder.layer.22.attention.self.query.lora_B.default.weight\n",
      "base_model.model.roberta.encoder.layer.22.attention.self.query.lora_magnitude_vector.default.weight\n",
      "base_model.model.roberta.encoder.layer.22.attention.self.key.weight\n",
      "base_model.model.roberta.encoder.layer.22.attention.self.key.bias\n",
      "base_model.model.roberta.encoder.layer.22.attention.self.value.base_layer.weight\n",
      "base_model.model.roberta.encoder.layer.22.attention.self.value.base_layer.bias\n",
      "base_model.model.roberta.encoder.layer.22.attention.self.value.lora_A.default.weight\n",
      "base_model.model.roberta.encoder.layer.22.attention.self.value.lora_B.default.weight\n",
      "base_model.model.roberta.encoder.layer.22.attention.self.value.lora_magnitude_vector.default.weight\n",
      "base_model.model.roberta.encoder.layer.22.attention.output.dense.weight\n",
      "base_model.model.roberta.encoder.layer.22.attention.output.dense.bias\n",
      "base_model.model.roberta.encoder.layer.22.attention.output.LayerNorm.weight\n",
      "base_model.model.roberta.encoder.layer.22.attention.output.LayerNorm.bias\n",
      "base_model.model.roberta.encoder.layer.22.intermediate.dense.weight\n",
      "base_model.model.roberta.encoder.layer.22.intermediate.dense.bias\n",
      "base_model.model.roberta.encoder.layer.22.output.dense.weight\n",
      "base_model.model.roberta.encoder.layer.22.output.dense.bias\n",
      "base_model.model.roberta.encoder.layer.22.output.LayerNorm.weight\n",
      "base_model.model.roberta.encoder.layer.22.output.LayerNorm.bias\n",
      "base_model.model.roberta.encoder.layer.23.attention.self.query.base_layer.weight\n",
      "base_model.model.roberta.encoder.layer.23.attention.self.query.base_layer.bias\n",
      "base_model.model.roberta.encoder.layer.23.attention.self.query.lora_A.default.weight\n",
      "base_model.model.roberta.encoder.layer.23.attention.self.query.lora_B.default.weight\n",
      "base_model.model.roberta.encoder.layer.23.attention.self.query.lora_magnitude_vector.default.weight\n",
      "base_model.model.roberta.encoder.layer.23.attention.self.key.weight\n",
      "base_model.model.roberta.encoder.layer.23.attention.self.key.bias\n",
      "base_model.model.roberta.encoder.layer.23.attention.self.value.base_layer.weight\n",
      "base_model.model.roberta.encoder.layer.23.attention.self.value.base_layer.bias\n",
      "base_model.model.roberta.encoder.layer.23.attention.self.value.lora_A.default.weight\n",
      "base_model.model.roberta.encoder.layer.23.attention.self.value.lora_B.default.weight\n",
      "base_model.model.roberta.encoder.layer.23.attention.self.value.lora_magnitude_vector.default.weight\n",
      "base_model.model.roberta.encoder.layer.23.attention.output.dense.weight\n",
      "base_model.model.roberta.encoder.layer.23.attention.output.dense.bias\n",
      "base_model.model.roberta.encoder.layer.23.attention.output.LayerNorm.weight\n",
      "base_model.model.roberta.encoder.layer.23.attention.output.LayerNorm.bias\n",
      "base_model.model.roberta.encoder.layer.23.intermediate.dense.weight\n",
      "base_model.model.roberta.encoder.layer.23.intermediate.dense.bias\n",
      "base_model.model.roberta.encoder.layer.23.output.dense.weight\n",
      "base_model.model.roberta.encoder.layer.23.output.dense.bias\n",
      "base_model.model.roberta.encoder.layer.23.output.LayerNorm.weight\n",
      "base_model.model.roberta.encoder.layer.23.output.LayerNorm.bias\n",
      "base_model.model.classifier.original_module.dense.weight\n",
      "base_model.model.classifier.original_module.dense.bias\n",
      "base_model.model.classifier.original_module.out_proj.weight\n",
      "base_model.model.classifier.original_module.out_proj.bias\n",
      "base_model.model.classifier.modules_to_save.default.dense.weight\n",
      "base_model.model.classifier.modules_to_save.default.dense.bias\n",
      "base_model.model.classifier.modules_to_save.default.out_proj.weight\n",
      "base_model.model.classifier.modules_to_save.default.out_proj.bias\n"
     ]
    }
   ],
   "source": [
    "for key in client_models[0].keys():\n",
    "    print(key)"
   ]
  }
 ],
 "metadata": {
  "kernelspec": {
   "display_name": ".venv",
   "language": "python",
   "name": "python3"
  },
  "language_info": {
   "codemirror_mode": {
    "name": "ipython",
    "version": 3
   },
   "file_extension": ".py",
   "mimetype": "text/x-python",
   "name": "python",
   "nbconvert_exporter": "python",
   "pygments_lexer": "ipython3",
   "version": "3.10.12"
  }
 },
 "nbformat": 4,
 "nbformat_minor": 2
}
