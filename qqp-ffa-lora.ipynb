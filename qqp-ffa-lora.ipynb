{
 "cells": [
  {
   "cell_type": "code",
   "execution_count": 1,
   "metadata": {},
   "outputs": [],
   "source": [
    "import os\n",
    "os.environ['CUDA_VISIBLE_DEVICES'] = '1'"
   ]
  },
  {
   "cell_type": "code",
   "execution_count": 2,
   "metadata": {},
   "outputs": [
    {
     "name": "stderr",
     "output_type": "stream",
     "text": [
      "2024-10-31 13:59:08.698003: I tensorflow/core/util/port.cc:153] oneDNN custom operations are on. You may see slightly different numerical results due to floating-point round-off errors from different computation orders. To turn them off, set the environment variable `TF_ENABLE_ONEDNN_OPTS=0`.\n",
      "2024-10-31 13:59:08.710361: E external/local_xla/xla/stream_executor/cuda/cuda_fft.cc:485] Unable to register cuFFT factory: Attempting to register factory for plugin cuFFT when one has already been registered\n",
      "2024-10-31 13:59:08.725340: E external/local_xla/xla/stream_executor/cuda/cuda_dnn.cc:8454] Unable to register cuDNN factory: Attempting to register factory for plugin cuDNN when one has already been registered\n",
      "2024-10-31 13:59:08.729696: E external/local_xla/xla/stream_executor/cuda/cuda_blas.cc:1452] Unable to register cuBLAS factory: Attempting to register factory for plugin cuBLAS when one has already been registered\n",
      "2024-10-31 13:59:08.741357: I tensorflow/core/platform/cpu_feature_guard.cc:210] This TensorFlow binary is optimized to use available CPU instructions in performance-critical operations.\n",
      "To enable the following instructions: AVX2 AVX512F AVX512_VNNI FMA, in other operations, rebuild TensorFlow with the appropriate compiler flags.\n",
      "2024-10-31 13:59:09.565177: W tensorflow/compiler/tf2tensorrt/utils/py_utils.cc:38] TF-TRT Warning: Could not find TensorRT\n"
     ]
    }
   ],
   "source": [
    "import argparse\n",
    "import os\n",
    "\n",
    "import torch\n",
    "from torch.optim import AdamW\n",
    "from torch.utils.data import DataLoader\n",
    "from peft import (\n",
    "    get_peft_config,\n",
    "    get_peft_model,\n",
    "    get_peft_model_state_dict,\n",
    "    set_peft_model_state_dict,\n",
    "    LoraConfig,\n",
    "    PeftType,\n",
    "    PrefixTuningConfig,\n",
    "    PromptEncoderConfig,\n",
    ")\n",
    "\n",
    "import evaluate\n",
    "from datasets import load_dataset\n",
    "from transformers import AutoModelForSequenceClassification, AutoTokenizer, get_linear_schedule_with_warmup, set_seed\n",
    "from tqdm import tqdm"
   ]
  },
  {
   "cell_type": "code",
   "execution_count": 3,
   "metadata": {},
   "outputs": [],
   "source": [
    "batch_size = 16\n",
    "model_name_or_path = \"roberta-large\"\n",
    "task = \"qqp\"\n",
    "peft_type = PeftType.LORA\n",
    "device = \"cuda\"\n",
    "num_epochs = 20"
   ]
  },
  {
   "cell_type": "code",
   "execution_count": 4,
   "metadata": {},
   "outputs": [],
   "source": [
    "peft_config = LoraConfig(task_type=\"SEQ_CLS\", inference_mode=False, r=4, lora_alpha=16, lora_dropout=0.1)\n",
    "lr = 3e-4"
   ]
  },
  {
   "cell_type": "code",
   "execution_count": 5,
   "metadata": {},
   "outputs": [],
   "source": [
    "if any(k in model_name_or_path for k in (\"gpt\", \"opt\", \"bloom\")):\n",
    "    padding_side = \"left\"\n",
    "else:\n",
    "    padding_side = \"right\"\n",
    "\n",
    "tokenizer = AutoTokenizer.from_pretrained(model_name_or_path, padding_side=padding_side)\n",
    "if getattr(tokenizer, \"pad_token_id\") is None:\n",
    "    tokenizer.pad_token_id = tokenizer.eos_token_id\n",
    "\n",
    "datasets = load_dataset(\"glue\", task)\n",
    "metric = evaluate.load(\"glue\", task)\n",
    "\n",
    "\n",
    "def tokenize_function(examples):\n",
    "    # max_length=None => use the model max length (it's actually the default)\n",
    "    outputs = tokenizer(examples[\"question1\"], examples[\"question2\"], truncation=True, max_length=None)\n",
    "    return outputs\n",
    "\n",
    "\n",
    "tokenized_datasets = datasets.map(\n",
    "    tokenize_function,\n",
    "    batched=True,\n",
    "    remove_columns=[\"idx\", \"question1\", \"question2\"],\n",
    ")\n",
    "\n",
    "# We also rename the 'label' column to 'labels' which is the expected name for labels by the models of the\n",
    "# transformers library\n",
    "tokenized_datasets = tokenized_datasets.rename_column(\"label\", \"labels\")\n",
    "\n",
    "\n",
    "def collate_fn(examples):\n",
    "    return tokenizer.pad(examples, padding=\"longest\", return_tensors=\"pt\")\n",
    "\n",
    "\n",
    "# Instantiate dataloaders.\n",
    "train_dataloader = DataLoader(tokenized_datasets[\"train\"], shuffle=True, collate_fn=collate_fn, batch_size=batch_size)\n",
    "eval_dataloader = DataLoader(\n",
    "    tokenized_datasets[\"validation\"], shuffle=False, collate_fn=collate_fn, batch_size=batch_size\n",
    ")\n",
    "# test_dataloader = DataLoader(\n",
    "#     tokenized_datasets[\"test\"], shuffle=False, collate_fn=collate_fn, batch_size=batch_size\n",
    "# )"
   ]
  },
  {
   "cell_type": "code",
   "execution_count": 6,
   "metadata": {},
   "outputs": [
    {
     "name": "stderr",
     "output_type": "stream",
     "text": [
      "Some weights of RobertaForSequenceClassification were not initialized from the model checkpoint at roberta-large and are newly initialized: ['classifier.dense.bias', 'classifier.dense.weight', 'classifier.out_proj.bias', 'classifier.out_proj.weight']\n",
      "You should probably TRAIN this model on a down-stream task to be able to use it for predictions and inference.\n"
     ]
    },
    {
     "name": "stdout",
     "output_type": "stream",
     "text": [
      "trainable params: 1,444,866 || all params: 356,806,660 || trainable%: 0.4049\n"
     ]
    },
    {
     "data": {
      "text/plain": [
       "PeftModelForSequenceClassification(\n",
       "  (base_model): LoraModel(\n",
       "    (model): RobertaForSequenceClassification(\n",
       "      (roberta): RobertaModel(\n",
       "        (embeddings): RobertaEmbeddings(\n",
       "          (word_embeddings): Embedding(50265, 1024, padding_idx=1)\n",
       "          (position_embeddings): Embedding(514, 1024, padding_idx=1)\n",
       "          (token_type_embeddings): Embedding(1, 1024)\n",
       "          (LayerNorm): LayerNorm((1024,), eps=1e-05, elementwise_affine=True)\n",
       "          (dropout): Dropout(p=0.1, inplace=False)\n",
       "        )\n",
       "        (encoder): RobertaEncoder(\n",
       "          (layer): ModuleList(\n",
       "            (0-23): 24 x RobertaLayer(\n",
       "              (attention): RobertaAttention(\n",
       "                (self): RobertaSdpaSelfAttention(\n",
       "                  (query): lora.Linear(\n",
       "                    (base_layer): Linear(in_features=1024, out_features=1024, bias=True)\n",
       "                    (lora_dropout): ModuleDict(\n",
       "                      (default): Dropout(p=0.1, inplace=False)\n",
       "                    )\n",
       "                    (lora_A): ModuleDict(\n",
       "                      (default): Linear(in_features=1024, out_features=4, bias=False)\n",
       "                    )\n",
       "                    (lora_B): ModuleDict(\n",
       "                      (default): Linear(in_features=4, out_features=1024, bias=False)\n",
       "                    )\n",
       "                    (lora_embedding_A): ParameterDict()\n",
       "                    (lora_embedding_B): ParameterDict()\n",
       "                    (lora_magnitude_vector): ModuleDict()\n",
       "                  )\n",
       "                  (key): Linear(in_features=1024, out_features=1024, bias=True)\n",
       "                  (value): lora.Linear(\n",
       "                    (base_layer): Linear(in_features=1024, out_features=1024, bias=True)\n",
       "                    (lora_dropout): ModuleDict(\n",
       "                      (default): Dropout(p=0.1, inplace=False)\n",
       "                    )\n",
       "                    (lora_A): ModuleDict(\n",
       "                      (default): Linear(in_features=1024, out_features=4, bias=False)\n",
       "                    )\n",
       "                    (lora_B): ModuleDict(\n",
       "                      (default): Linear(in_features=4, out_features=1024, bias=False)\n",
       "                    )\n",
       "                    (lora_embedding_A): ParameterDict()\n",
       "                    (lora_embedding_B): ParameterDict()\n",
       "                    (lora_magnitude_vector): ModuleDict()\n",
       "                  )\n",
       "                  (dropout): Dropout(p=0.1, inplace=False)\n",
       "                )\n",
       "                (output): RobertaSelfOutput(\n",
       "                  (dense): Linear(in_features=1024, out_features=1024, bias=True)\n",
       "                  (LayerNorm): LayerNorm((1024,), eps=1e-05, elementwise_affine=True)\n",
       "                  (dropout): Dropout(p=0.1, inplace=False)\n",
       "                )\n",
       "              )\n",
       "              (intermediate): RobertaIntermediate(\n",
       "                (dense): Linear(in_features=1024, out_features=4096, bias=True)\n",
       "                (intermediate_act_fn): GELUActivation()\n",
       "              )\n",
       "              (output): RobertaOutput(\n",
       "                (dense): Linear(in_features=4096, out_features=1024, bias=True)\n",
       "                (LayerNorm): LayerNorm((1024,), eps=1e-05, elementwise_affine=True)\n",
       "                (dropout): Dropout(p=0.1, inplace=False)\n",
       "              )\n",
       "            )\n",
       "          )\n",
       "        )\n",
       "      )\n",
       "      (classifier): ModulesToSaveWrapper(\n",
       "        (original_module): RobertaClassificationHead(\n",
       "          (dense): Linear(in_features=1024, out_features=1024, bias=True)\n",
       "          (dropout): Dropout(p=0.1, inplace=False)\n",
       "          (out_proj): Linear(in_features=1024, out_features=2, bias=True)\n",
       "        )\n",
       "        (modules_to_save): ModuleDict(\n",
       "          (default): RobertaClassificationHead(\n",
       "            (dense): Linear(in_features=1024, out_features=1024, bias=True)\n",
       "            (dropout): Dropout(p=0.1, inplace=False)\n",
       "            (out_proj): Linear(in_features=1024, out_features=2, bias=True)\n",
       "          )\n",
       "        )\n",
       "      )\n",
       "    )\n",
       "  )\n",
       ")"
      ]
     },
     "execution_count": 6,
     "metadata": {},
     "output_type": "execute_result"
    }
   ],
   "source": [
    "model = AutoModelForSequenceClassification.from_pretrained(model_name_or_path, return_dict=True)\n",
    "model = get_peft_model(model, peft_config)\n",
    "model.print_trainable_parameters()\n",
    "model"
   ]
  },
  {
   "cell_type": "code",
   "execution_count": 7,
   "metadata": {},
   "outputs": [],
   "source": [
    "def print_trainable_parameters(model):\n",
    "    \"\"\"\n",
    "    Prints the number of trainable parameters in the model.\n",
    "    \"\"\"\n",
    "    trainable_params = 0\n",
    "    all_param = 0\n",
    "    for _, param in model.named_parameters():\n",
    "        all_param += param.numel()\n",
    "        if param.requires_grad:\n",
    "            trainable_params += param.numel()\n",
    "    print(\n",
    "        f\"trainable params: {trainable_params} || all params: {all_param} || trainable%: {100 * trainable_params / all_param:.2f}\"\n",
    "    )"
   ]
  },
  {
   "cell_type": "code",
   "execution_count": 8,
   "metadata": {},
   "outputs": [],
   "source": [
    "for name, param in model.named_parameters():\n",
    "    if 'lora_A' in name:  # Identify and freeze the lora_A layer\n",
    "        param.requires_grad = False"
   ]
  },
  {
   "cell_type": "code",
   "execution_count": 9,
   "metadata": {},
   "outputs": [
    {
     "name": "stdout",
     "output_type": "stream",
     "text": [
      "trainable params: 1248258 || all params: 356806660 || trainable%: 0.35\n"
     ]
    }
   ],
   "source": [
    "print_trainable_parameters(model)"
   ]
  },
  {
   "cell_type": "code",
   "execution_count": 10,
   "metadata": {},
   "outputs": [],
   "source": [
    "optimizer = AdamW(params=model.parameters(), lr=lr)\n",
    "\n",
    "# Instantiate scheduler\n",
    "lr_scheduler = get_linear_schedule_with_warmup(\n",
    "    optimizer=optimizer,\n",
    "    num_warmup_steps=0.06 * (len(train_dataloader) * num_epochs),\n",
    "    num_training_steps=(len(train_dataloader) * num_epochs),\n",
    ")"
   ]
  },
  {
   "cell_type": "code",
   "execution_count": 11,
   "metadata": {},
   "outputs": [],
   "source": [
    "from modules.clientSST import *"
   ]
  },
  {
   "cell_type": "code",
   "execution_count": 12,
   "metadata": {},
   "outputs": [],
   "source": [
    "from torch.optim import AdamW\n",
    "# Create clients (e.g., 3 clients)\n",
    "num_clients = 3\n",
    "\n",
    "# Get the total length of the dataset\n",
    "total_len = len(tokenized_datasets[\"train\"])\n",
    "\n",
    "# Calculate the number of samples per client and the remainder\n",
    "split_size = total_len // num_clients\n",
    "remainder = total_len % num_clients\n",
    "\n",
    "# Create list for splits\n",
    "split_lengths = [split_size] * num_clients\n",
    "\n",
    "# Distribute the remainder among the first few clients\n",
    "for i in range(remainder):\n",
    "    split_lengths[i] += 1\n",
    "\n",
    "# Perform the split\n",
    "# client_data_splits = torch.utils.data.random_split(train_dataloader, split_lengths)\n",
    "train_dataloader = torch.utils.data.random_split(tokenized_datasets[\"train\"], split_lengths)\n",
    "client_data_splits = [DataLoader(train_dataloader[i], shuffle=True, collate_fn=collate_fn, batch_size=batch_size) for i in range(num_clients)]\n",
    "clients = [ClientSST(client_id=i, model=copy.deepcopy(model), data=client_data_splits[i], device=device) for i in range(num_clients)]"
   ]
  },
  {
   "cell_type": "code",
   "execution_count": 13,
   "metadata": {},
   "outputs": [],
   "source": [
    "from modules.server import *\n",
    "server = Server(global_model=model, device=device)"
   ]
  },
  {
   "cell_type": "code",
   "execution_count": 14,
   "metadata": {},
   "outputs": [
    {
     "name": "stderr",
     "output_type": "stream",
     "text": [
      "10/31/2024 13:59:27:ERROR:Failed to detect the name of this notebook, you can set it manually with the WANDB_NOTEBOOK_NAME environment variable to enable code saving.\n",
      "\u001b[34m\u001b[1mwandb\u001b[0m: Currently logged in as: \u001b[33mkenlvq\u001b[0m (\u001b[33mquanla\u001b[0m). Use \u001b[1m`wandb login --relogin`\u001b[0m to force relogin\n"
     ]
    },
    {
     "data": {
      "application/vnd.jupyter.widget-view+json": {
       "model_id": "8c4710772d8d4eb8b41da36b5c731208",
       "version_major": 2,
       "version_minor": 0
      },
      "text/plain": [
       "VBox(children=(Label(value='Waiting for wandb.init()...\\r'), FloatProgress(value=0.011112461239099503, max=1.0…"
      ]
     },
     "metadata": {},
     "output_type": "display_data"
    },
    {
     "data": {
      "text/html": [
       "wandb version 0.18.5 is available!  To upgrade, please run:\n",
       " $ pip install wandb --upgrade"
      ],
      "text/plain": [
       "<IPython.core.display.HTML object>"
      ]
     },
     "metadata": {},
     "output_type": "display_data"
    },
    {
     "data": {
      "text/html": [
       "Tracking run with wandb version 0.16.3"
      ],
      "text/plain": [
       "<IPython.core.display.HTML object>"
      ]
     },
     "metadata": {},
     "output_type": "display_data"
    },
    {
     "data": {
      "text/html": [
       "Run data is saved locally in <code>/home/qula0496/quan/fedora/wandb/run-20241031_135931-9tld2y5a</code>"
      ],
      "text/plain": [
       "<IPython.core.display.HTML object>"
      ]
     },
     "metadata": {},
     "output_type": "display_data"
    },
    {
     "data": {
      "text/html": [
       "Syncing run <strong><a href='https://wandb.ai/quanla/FeDORA%20Project%20-%20QQP/runs/9tld2y5a' target=\"_blank\">FFA-LoRA</a></strong> to <a href='https://wandb.ai/quanla/FeDORA%20Project%20-%20QQP' target=\"_blank\">Weights & Biases</a> (<a href='https://wandb.me/run' target=\"_blank\">docs</a>)<br/>"
      ],
      "text/plain": [
       "<IPython.core.display.HTML object>"
      ]
     },
     "metadata": {},
     "output_type": "display_data"
    },
    {
     "data": {
      "text/html": [
       " View project at <a href='https://wandb.ai/quanla/FeDORA%20Project%20-%20QQP' target=\"_blank\">https://wandb.ai/quanla/FeDORA%20Project%20-%20QQP</a>"
      ],
      "text/plain": [
       "<IPython.core.display.HTML object>"
      ]
     },
     "metadata": {},
     "output_type": "display_data"
    },
    {
     "data": {
      "text/html": [
       " View run at <a href='https://wandb.ai/quanla/FeDORA%20Project%20-%20QQP/runs/9tld2y5a' target=\"_blank\">https://wandb.ai/quanla/FeDORA%20Project%20-%20QQP/runs/9tld2y5a</a>"
      ],
      "text/plain": [
       "<IPython.core.display.HTML object>"
      ]
     },
     "metadata": {},
     "output_type": "display_data"
    },
    {
     "data": {
      "text/html": [
       "<button onClick=\"this.nextSibling.style.display='block';this.style.display='none';\">Display W&B run</button><iframe src='https://wandb.ai/quanla/FeDORA%20Project%20-%20QQP/runs/9tld2y5a?jupyter=true' style='border:none;width:100%;height:420px;display:none;'></iframe>"
      ],
      "text/plain": [
       "<wandb.sdk.wandb_run.Run at 0x7f314a483f40>"
      ]
     },
     "execution_count": 14,
     "metadata": {},
     "output_type": "execute_result"
    }
   ],
   "source": [
    "import wandb\n",
    "wandb.init(project=\"FeDORA Project - QQP\", entity=\"quanla\", name=\"FFA-LoRA\")"
   ]
  },
  {
   "cell_type": "code",
   "execution_count": 15,
   "metadata": {},
   "outputs": [
    {
     "name": "stdout",
     "output_type": "stream",
     "text": [
      "\n",
      "--- Federated Learning Round 1 ---\n",
      "\n",
      "Training Client 0\n"
     ]
    },
    {
     "name": "stderr",
     "output_type": "stream",
     "text": [
      "  0%|          | 0/7581 [00:00<?, ?it/s]You're using a RobertaTokenizerFast tokenizer. Please note that with a fast tokenizer, using the `__call__` method is faster than using a method to encode the text followed by a call to the `pad` method to get a padded encoding.\n",
      "100%|██████████| 7581/7581 [07:07<00:00, 17.73it/s]\n",
      "100%|██████████| 7581/7581 [07:07<00:00, 17.72it/s]\n",
      "100%|██████████| 7581/7581 [07:05<00:00, 17.81it/s]\n",
      "100%|██████████| 7581/7581 [07:04<00:00, 17.85it/s]\n",
      "100%|██████████| 7581/7581 [07:21<00:00, 17.18it/s]\n"
     ]
    },
    {
     "name": "stdout",
     "output_type": "stream",
     "text": [
      "\n",
      "Training Client 1\n"
     ]
    },
    {
     "name": "stderr",
     "output_type": "stream",
     "text": [
      "100%|██████████| 7581/7581 [07:11<00:00, 17.59it/s]\n",
      "100%|██████████| 7581/7581 [07:07<00:00, 17.75it/s]\n",
      "100%|██████████| 7581/7581 [07:14<00:00, 17.45it/s]\n",
      "100%|██████████| 7581/7581 [07:12<00:00, 17.51it/s]\n",
      "100%|██████████| 7581/7581 [07:08<00:00, 17.69it/s]\n"
     ]
    },
    {
     "name": "stdout",
     "output_type": "stream",
     "text": [
      "\n",
      "Training Client 2\n"
     ]
    },
    {
     "name": "stderr",
     "output_type": "stream",
     "text": [
      "100%|██████████| 7581/7581 [07:14<00:00, 17.44it/s]\n",
      "100%|██████████| 7581/7581 [07:05<00:00, 17.81it/s]\n",
      "100%|██████████| 7581/7581 [07:10<00:00, 17.61it/s]\n",
      "100%|██████████| 7581/7581 [07:07<00:00, 17.71it/s]\n",
      "100%|██████████| 7581/7581 [07:08<00:00, 17.68it/s]\n"
     ]
    },
    {
     "name": "stdout",
     "output_type": "stream",
     "text": [
      "\n",
      "Aggregating client models on the server...\n"
     ]
    },
    {
     "name": "stderr",
     "output_type": "stream",
     "text": [
      "100%|██████████| 2527/2527 [00:55<00:00, 45.86it/s]\n"
     ]
    },
    {
     "name": "stdout",
     "output_type": "stream",
     "text": [
      "{'accuracy': 0.8662874103388573, 'f1': 0.8339272548537724}\n",
      "\n",
      "--- Federated Learning Round 2 ---\n",
      "\n",
      "Training Client 0\n"
     ]
    },
    {
     "name": "stderr",
     "output_type": "stream",
     "text": [
      "100%|██████████| 7581/7581 [06:58<00:00, 18.12it/s]\n",
      "100%|██████████| 7581/7581 [07:22<00:00, 17.14it/s]\n",
      "100%|██████████| 7581/7581 [07:09<00:00, 17.66it/s]\n",
      "100%|██████████| 7581/7581 [07:16<00:00, 17.37it/s]\n",
      "100%|██████████| 7581/7581 [07:10<00:00, 17.59it/s]\n"
     ]
    },
    {
     "name": "stdout",
     "output_type": "stream",
     "text": [
      "\n",
      "Training Client 1\n"
     ]
    },
    {
     "name": "stderr",
     "output_type": "stream",
     "text": [
      "100%|██████████| 7581/7581 [07:04<00:00, 17.85it/s]\n",
      "100%|██████████| 7581/7581 [07:09<00:00, 17.66it/s]\n",
      "100%|██████████| 7581/7581 [07:11<00:00, 17.56it/s]\n",
      "100%|██████████| 7581/7581 [07:12<00:00, 17.54it/s]\n",
      "100%|██████████| 7581/7581 [07:10<00:00, 17.60it/s]\n"
     ]
    },
    {
     "name": "stdout",
     "output_type": "stream",
     "text": [
      "\n",
      "Training Client 2\n"
     ]
    },
    {
     "name": "stderr",
     "output_type": "stream",
     "text": [
      "100%|██████████| 7581/7581 [07:09<00:00, 17.66it/s]\n",
      "100%|██████████| 7581/7581 [07:09<00:00, 17.64it/s]\n",
      "100%|██████████| 7581/7581 [07:07<00:00, 17.74it/s]\n",
      "100%|██████████| 7581/7581 [07:15<00:00, 17.39it/s]\n",
      "100%|██████████| 7581/7581 [07:04<00:00, 17.86it/s]\n"
     ]
    },
    {
     "name": "stdout",
     "output_type": "stream",
     "text": [
      "\n",
      "Aggregating client models on the server...\n"
     ]
    },
    {
     "name": "stderr",
     "output_type": "stream",
     "text": [
      "100%|██████████| 2527/2527 [00:56<00:00, 44.52it/s]\n"
     ]
    },
    {
     "name": "stdout",
     "output_type": "stream",
     "text": [
      "{'accuracy': 0.8803363838733613, 'f1': 0.8465393643342003}\n",
      "\n",
      "--- Federated Learning Round 3 ---\n",
      "\n",
      "Training Client 0\n"
     ]
    },
    {
     "name": "stderr",
     "output_type": "stream",
     "text": [
      "100%|██████████| 7581/7581 [07:14<00:00, 17.45it/s]\n",
      "100%|██████████| 7581/7581 [07:15<00:00, 17.42it/s]\n",
      "100%|██████████| 7581/7581 [07:17<00:00, 17.32it/s]\n",
      "100%|██████████| 7581/7581 [07:17<00:00, 17.32it/s]\n",
      "100%|██████████| 7581/7581 [07:15<00:00, 17.40it/s]\n"
     ]
    },
    {
     "name": "stdout",
     "output_type": "stream",
     "text": [
      "\n",
      "Training Client 1\n"
     ]
    },
    {
     "name": "stderr",
     "output_type": "stream",
     "text": [
      "100%|██████████| 7581/7581 [07:08<00:00, 17.70it/s]\n",
      "100%|██████████| 7581/7581 [07:10<00:00, 17.61it/s]\n",
      "100%|██████████| 7581/7581 [07:07<00:00, 17.73it/s]\n",
      "100%|██████████| 7581/7581 [07:10<00:00, 17.60it/s]\n",
      "100%|██████████| 7581/7581 [07:07<00:00, 17.71it/s]\n"
     ]
    },
    {
     "name": "stdout",
     "output_type": "stream",
     "text": [
      "\n",
      "Training Client 2\n"
     ]
    },
    {
     "name": "stderr",
     "output_type": "stream",
     "text": [
      "100%|██████████| 7581/7581 [07:11<00:00, 17.56it/s]\n",
      "100%|██████████| 7581/7581 [07:16<00:00, 17.37it/s]\n",
      "100%|██████████| 7581/7581 [07:17<00:00, 17.33it/s]\n",
      "100%|██████████| 7581/7581 [07:09<00:00, 17.64it/s]\n",
      "100%|██████████| 7581/7581 [07:06<00:00, 17.77it/s]\n"
     ]
    },
    {
     "name": "stdout",
     "output_type": "stream",
     "text": [
      "\n",
      "Aggregating client models on the server...\n"
     ]
    },
    {
     "name": "stderr",
     "output_type": "stream",
     "text": [
      "100%|██████████| 2527/2527 [00:55<00:00, 45.54it/s]\n"
     ]
    },
    {
     "name": "stdout",
     "output_type": "stream",
     "text": [
      "{'accuracy': 0.884516448182043, 'f1': 0.8523169381622647}\n",
      "\n",
      "--- Federated Learning Round 4 ---\n",
      "\n",
      "Training Client 0\n"
     ]
    },
    {
     "name": "stderr",
     "output_type": "stream",
     "text": [
      "100%|██████████| 7581/7581 [07:15<00:00, 17.40it/s]\n",
      "100%|██████████| 7581/7581 [07:03<00:00, 17.90it/s]\n",
      "100%|██████████| 7581/7581 [07:10<00:00, 17.60it/s]\n",
      "100%|██████████| 7581/7581 [07:12<00:00, 17.52it/s]\n",
      "100%|██████████| 7581/7581 [07:12<00:00, 17.53it/s]\n"
     ]
    },
    {
     "name": "stdout",
     "output_type": "stream",
     "text": [
      "\n",
      "Training Client 1\n"
     ]
    },
    {
     "name": "stderr",
     "output_type": "stream",
     "text": [
      "100%|██████████| 7581/7581 [07:03<00:00, 17.88it/s]\n",
      "100%|██████████| 7581/7581 [07:10<00:00, 17.59it/s]\n",
      "100%|██████████| 7581/7581 [07:11<00:00, 17.58it/s]\n",
      "100%|██████████| 7581/7581 [07:22<00:00, 17.14it/s]\n",
      "100%|██████████| 7581/7581 [07:15<00:00, 17.41it/s]\n"
     ]
    },
    {
     "name": "stdout",
     "output_type": "stream",
     "text": [
      "\n",
      "Training Client 2\n"
     ]
    },
    {
     "name": "stderr",
     "output_type": "stream",
     "text": [
      "100%|██████████| 7581/7581 [07:14<00:00, 17.44it/s]\n",
      "100%|██████████| 7581/7581 [07:11<00:00, 17.56it/s]\n",
      "100%|██████████| 7581/7581 [07:19<00:00, 17.24it/s]\n",
      "100%|██████████| 7581/7581 [07:12<00:00, 17.54it/s]\n",
      "100%|██████████| 7581/7581 [07:19<00:00, 17.26it/s]\n"
     ]
    },
    {
     "name": "stdout",
     "output_type": "stream",
     "text": [
      "\n",
      "Aggregating client models on the server...\n"
     ]
    },
    {
     "name": "stderr",
     "output_type": "stream",
     "text": [
      "100%|██████████| 2527/2527 [00:56<00:00, 44.81it/s]\n"
     ]
    },
    {
     "name": "stdout",
     "output_type": "stream",
     "text": [
      "{'accuracy': 0.8897600791491467, 'f1': 0.8565820381632718}\n",
      "\n",
      "--- Federated Learning Round 5 ---\n",
      "\n",
      "Training Client 0\n"
     ]
    },
    {
     "name": "stderr",
     "output_type": "stream",
     "text": [
      "100%|██████████| 7581/7581 [07:09<00:00, 17.66it/s]\n",
      "100%|██████████| 7581/7581 [07:12<00:00, 17.53it/s]\n",
      "100%|██████████| 7581/7581 [07:17<00:00, 17.31it/s]\n",
      "100%|██████████| 7581/7581 [07:13<00:00, 17.50it/s]\n",
      "100%|██████████| 7581/7581 [07:13<00:00, 17.49it/s]\n"
     ]
    },
    {
     "name": "stdout",
     "output_type": "stream",
     "text": [
      "\n",
      "Training Client 1\n"
     ]
    },
    {
     "name": "stderr",
     "output_type": "stream",
     "text": [
      "100%|██████████| 7581/7581 [07:12<00:00, 17.55it/s]\n",
      "100%|██████████| 7581/7581 [07:11<00:00, 17.59it/s]\n",
      "100%|██████████| 7581/7581 [07:11<00:00, 17.55it/s]\n",
      "100%|██████████| 7581/7581 [07:10<00:00, 17.63it/s]\n",
      "100%|██████████| 7581/7581 [07:05<00:00, 17.82it/s]\n"
     ]
    },
    {
     "name": "stdout",
     "output_type": "stream",
     "text": [
      "\n",
      "Training Client 2\n"
     ]
    },
    {
     "name": "stderr",
     "output_type": "stream",
     "text": [
      "100%|██████████| 7581/7581 [07:15<00:00, 17.39it/s]\n",
      "100%|██████████| 7581/7581 [07:04<00:00, 17.86it/s]\n",
      "100%|██████████| 7581/7581 [07:13<00:00, 17.48it/s]\n",
      "100%|██████████| 7581/7581 [07:18<00:00, 17.29it/s]\n",
      "100%|██████████| 7581/7581 [07:08<00:00, 17.68it/s]\n"
     ]
    },
    {
     "name": "stdout",
     "output_type": "stream",
     "text": [
      "\n",
      "Aggregating client models on the server...\n"
     ]
    },
    {
     "name": "stderr",
     "output_type": "stream",
     "text": [
      "100%|██████████| 2527/2527 [00:56<00:00, 44.75it/s]\n"
     ]
    },
    {
     "name": "stdout",
     "output_type": "stream",
     "text": [
      "{'accuracy': 0.8916398713826367, 'f1': 0.861119036297353}\n",
      "\n",
      "--- Federated Learning Round 6 ---\n",
      "\n",
      "Training Client 0\n"
     ]
    },
    {
     "name": "stderr",
     "output_type": "stream",
     "text": [
      "100%|██████████| 7581/7581 [07:16<00:00, 17.37it/s]\n",
      "100%|██████████| 7581/7581 [07:15<00:00, 17.41it/s]\n",
      "100%|██████████| 7581/7581 [07:04<00:00, 17.84it/s]\n",
      "100%|██████████| 7581/7581 [07:12<00:00, 17.51it/s]\n",
      "100%|██████████| 7581/7581 [07:13<00:00, 17.48it/s]\n"
     ]
    },
    {
     "name": "stdout",
     "output_type": "stream",
     "text": [
      "\n",
      "Training Client 1\n"
     ]
    },
    {
     "name": "stderr",
     "output_type": "stream",
     "text": [
      "100%|██████████| 7581/7581 [07:12<00:00, 17.52it/s]\n",
      "100%|██████████| 7581/7581 [07:12<00:00, 17.52it/s]\n",
      "100%|██████████| 7581/7581 [07:11<00:00, 17.56it/s]\n",
      "100%|██████████| 7581/7581 [07:07<00:00, 17.74it/s]\n",
      "100%|██████████| 7581/7581 [07:13<00:00, 17.48it/s]\n"
     ]
    },
    {
     "name": "stdout",
     "output_type": "stream",
     "text": [
      "\n",
      "Training Client 2\n"
     ]
    },
    {
     "name": "stderr",
     "output_type": "stream",
     "text": [
      "100%|██████████| 7581/7581 [07:08<00:00, 17.70it/s]\n",
      "100%|██████████| 7581/7581 [07:07<00:00, 17.74it/s]\n",
      "100%|██████████| 7581/7581 [07:05<00:00, 17.81it/s]\n",
      "100%|██████████| 7581/7581 [07:11<00:00, 17.56it/s]\n",
      "100%|██████████| 7581/7581 [07:13<00:00, 17.49it/s]\n"
     ]
    },
    {
     "name": "stdout",
     "output_type": "stream",
     "text": [
      "\n",
      "Aggregating client models on the server...\n"
     ]
    },
    {
     "name": "stderr",
     "output_type": "stream",
     "text": [
      "100%|██████████| 2527/2527 [00:55<00:00, 45.17it/s]\n"
     ]
    },
    {
     "name": "stdout",
     "output_type": "stream",
     "text": [
      "{'accuracy': 0.8931239178827604, 'f1': 0.8634021433313313}\n",
      "\n",
      "--- Federated Learning Round 7 ---\n",
      "\n",
      "Training Client 0\n"
     ]
    },
    {
     "name": "stderr",
     "output_type": "stream",
     "text": [
      "100%|██████████| 7581/7581 [07:16<00:00, 17.38it/s]\n",
      "100%|██████████| 7581/7581 [07:11<00:00, 17.57it/s]\n",
      "100%|██████████| 7581/7581 [07:11<00:00, 17.58it/s]\n",
      "100%|██████████| 7581/7581 [07:10<00:00, 17.59it/s]\n",
      "100%|██████████| 7581/7581 [07:15<00:00, 17.40it/s]\n"
     ]
    },
    {
     "name": "stdout",
     "output_type": "stream",
     "text": [
      "\n",
      "Training Client 1\n"
     ]
    },
    {
     "name": "stderr",
     "output_type": "stream",
     "text": [
      "100%|██████████| 7581/7581 [07:19<00:00, 17.24it/s]\n",
      "100%|██████████| 7581/7581 [07:13<00:00, 17.50it/s]\n",
      "100%|██████████| 7581/7581 [07:13<00:00, 17.47it/s]\n",
      "100%|██████████| 7581/7581 [07:11<00:00, 17.58it/s]\n",
      "100%|██████████| 7581/7581 [07:07<00:00, 17.72it/s]\n"
     ]
    },
    {
     "name": "stdout",
     "output_type": "stream",
     "text": [
      "\n",
      "Training Client 2\n"
     ]
    },
    {
     "name": "stderr",
     "output_type": "stream",
     "text": [
      "100%|██████████| 7581/7581 [07:07<00:00, 17.72it/s]\n",
      "100%|██████████| 7581/7581 [07:13<00:00, 17.50it/s]\n",
      "100%|██████████| 7581/7581 [07:07<00:00, 17.74it/s]\n",
      "100%|██████████| 7581/7581 [07:14<00:00, 17.46it/s]\n",
      "100%|██████████| 7581/7581 [07:02<00:00, 17.94it/s]\n"
     ]
    },
    {
     "name": "stdout",
     "output_type": "stream",
     "text": [
      "\n",
      "Aggregating client models on the server...\n"
     ]
    },
    {
     "name": "stderr",
     "output_type": "stream",
     "text": [
      "100%|██████████| 2527/2527 [00:56<00:00, 45.12it/s]\n"
     ]
    },
    {
     "name": "stdout",
     "output_type": "stream",
     "text": [
      "{'accuracy': 0.8961167449913431, 'f1': 0.8666666666666667}\n",
      "\n",
      "--- Federated Learning Round 8 ---\n",
      "\n",
      "Training Client 0\n"
     ]
    },
    {
     "name": "stderr",
     "output_type": "stream",
     "text": [
      "100%|██████████| 7581/7581 [07:14<00:00, 17.44it/s]\n",
      "100%|██████████| 7581/7581 [07:17<00:00, 17.33it/s]\n",
      "100%|██████████| 7581/7581 [07:10<00:00, 17.63it/s]\n",
      "100%|██████████| 7581/7581 [07:15<00:00, 17.41it/s]\n",
      "100%|██████████| 7581/7581 [07:12<00:00, 17.51it/s]\n"
     ]
    },
    {
     "name": "stdout",
     "output_type": "stream",
     "text": [
      "\n",
      "Training Client 1\n"
     ]
    },
    {
     "name": "stderr",
     "output_type": "stream",
     "text": [
      "100%|██████████| 7581/7581 [07:04<00:00, 17.86it/s]\n",
      "100%|██████████| 7581/7581 [07:15<00:00, 17.41it/s]\n",
      "100%|██████████| 7581/7581 [07:10<00:00, 17.60it/s]\n",
      "100%|██████████| 7581/7581 [07:06<00:00, 17.77it/s]\n",
      "100%|██████████| 7581/7581 [07:14<00:00, 17.45it/s]\n"
     ]
    },
    {
     "name": "stdout",
     "output_type": "stream",
     "text": [
      "\n",
      "Training Client 2\n"
     ]
    },
    {
     "name": "stderr",
     "output_type": "stream",
     "text": [
      "100%|██████████| 7581/7581 [06:58<00:00, 18.09it/s]\n",
      "100%|██████████| 7581/7581 [07:13<00:00, 17.49it/s]\n",
      "100%|██████████| 7581/7581 [07:09<00:00, 17.67it/s]\n",
      "100%|██████████| 7581/7581 [07:13<00:00, 17.51it/s]\n",
      "100%|██████████| 7581/7581 [07:10<00:00, 17.61it/s]\n"
     ]
    },
    {
     "name": "stdout",
     "output_type": "stream",
     "text": [
      "\n",
      "Aggregating client models on the server...\n"
     ]
    },
    {
     "name": "stderr",
     "output_type": "stream",
     "text": [
      "100%|██████████| 2527/2527 [00:56<00:00, 44.70it/s]\n"
     ]
    },
    {
     "name": "stdout",
     "output_type": "stream",
     "text": [
      "{'accuracy': 0.8990353697749196, 'f1': 0.8692588559349177}\n",
      "\n",
      "--- Federated Learning Round 9 ---\n",
      "\n",
      "Training Client 0\n"
     ]
    },
    {
     "name": "stderr",
     "output_type": "stream",
     "text": [
      "100%|██████████| 7581/7581 [07:10<00:00, 17.62it/s]\n",
      "100%|██████████| 7581/7581 [07:12<00:00, 17.52it/s]\n",
      "100%|██████████| 7581/7581 [07:14<00:00, 17.44it/s]\n",
      "100%|██████████| 7581/7581 [07:10<00:00, 17.62it/s]\n",
      "100%|██████████| 7581/7581 [07:09<00:00, 17.65it/s]\n"
     ]
    },
    {
     "name": "stdout",
     "output_type": "stream",
     "text": [
      "\n",
      "Training Client 1\n"
     ]
    },
    {
     "name": "stderr",
     "output_type": "stream",
     "text": [
      "100%|██████████| 7581/7581 [07:12<00:00, 17.53it/s]\n",
      "100%|██████████| 7581/7581 [07:15<00:00, 17.42it/s]\n",
      "100%|██████████| 7581/7581 [07:13<00:00, 17.48it/s]\n",
      "100%|██████████| 7581/7581 [07:14<00:00, 17.45it/s]\n",
      "100%|██████████| 7581/7581 [07:12<00:00, 17.52it/s]\n"
     ]
    },
    {
     "name": "stdout",
     "output_type": "stream",
     "text": [
      "\n",
      "Training Client 2\n"
     ]
    },
    {
     "name": "stderr",
     "output_type": "stream",
     "text": [
      "100%|██████████| 7581/7581 [07:02<00:00, 17.94it/s]\n",
      "100%|██████████| 7581/7581 [07:10<00:00, 17.59it/s]\n",
      "100%|██████████| 7581/7581 [07:11<00:00, 17.56it/s]\n",
      "100%|██████████| 7581/7581 [07:06<00:00, 17.79it/s]\n",
      "100%|██████████| 7581/7581 [07:05<00:00, 17.81it/s]\n"
     ]
    },
    {
     "name": "stdout",
     "output_type": "stream",
     "text": [
      "\n",
      "Aggregating client models on the server...\n"
     ]
    },
    {
     "name": "stderr",
     "output_type": "stream",
     "text": [
      "100%|██████████| 2527/2527 [00:56<00:00, 44.95it/s]\n"
     ]
    },
    {
     "name": "stdout",
     "output_type": "stream",
     "text": [
      "{'accuracy': 0.9003957457333663, 'f1': 0.8697396086042374}\n",
      "\n",
      "--- Federated Learning Round 10 ---\n",
      "\n",
      "Training Client 0\n"
     ]
    },
    {
     "name": "stderr",
     "output_type": "stream",
     "text": [
      "100%|██████████| 7581/7581 [07:17<00:00, 17.33it/s]\n",
      "100%|██████████| 7581/7581 [07:12<00:00, 17.52it/s]\n",
      "100%|██████████| 7581/7581 [07:13<00:00, 17.48it/s]\n",
      "100%|██████████| 7581/7581 [07:11<00:00, 17.55it/s]\n",
      "100%|██████████| 7581/7581 [07:15<00:00, 17.39it/s]\n"
     ]
    },
    {
     "name": "stdout",
     "output_type": "stream",
     "text": [
      "\n",
      "Training Client 1\n"
     ]
    },
    {
     "name": "stderr",
     "output_type": "stream",
     "text": [
      "100%|██████████| 7581/7581 [07:08<00:00, 17.68it/s]\n",
      "100%|██████████| 7581/7581 [07:06<00:00, 17.77it/s]\n",
      "100%|██████████| 7581/7581 [07:08<00:00, 17.68it/s]\n",
      "100%|██████████| 7581/7581 [07:15<00:00, 17.43it/s]\n",
      "100%|██████████| 7581/7581 [07:08<00:00, 17.71it/s]\n"
     ]
    },
    {
     "name": "stdout",
     "output_type": "stream",
     "text": [
      "\n",
      "Training Client 2\n"
     ]
    },
    {
     "name": "stderr",
     "output_type": "stream",
     "text": [
      "100%|██████████| 7581/7581 [07:19<00:00, 17.23it/s]\n",
      "100%|██████████| 7581/7581 [07:08<00:00, 17.68it/s]\n",
      "100%|██████████| 7581/7581 [07:06<00:00, 17.77it/s]\n",
      "100%|██████████| 7581/7581 [07:13<00:00, 17.49it/s]\n",
      "100%|██████████| 7581/7581 [07:18<00:00, 17.28it/s]\n"
     ]
    },
    {
     "name": "stdout",
     "output_type": "stream",
     "text": [
      "\n",
      "Aggregating client models on the server...\n"
     ]
    },
    {
     "name": "stderr",
     "output_type": "stream",
     "text": [
      "100%|██████████| 2527/2527 [00:55<00:00, 45.25it/s]\n"
     ]
    },
    {
     "name": "stdout",
     "output_type": "stream",
     "text": [
      "{'accuracy': 0.8995547860499629, 'f1': 0.8718159149016761}\n",
      "\n",
      "--- Federated Learning Round 11 ---\n",
      "\n",
      "Training Client 0\n"
     ]
    },
    {
     "name": "stderr",
     "output_type": "stream",
     "text": [
      "100%|██████████| 7581/7581 [07:18<00:00, 17.27it/s]\n",
      "100%|██████████| 7581/7581 [07:14<00:00, 17.46it/s]\n",
      "100%|██████████| 7581/7581 [07:15<00:00, 17.42it/s]\n",
      "100%|██████████| 7581/7581 [07:11<00:00, 17.57it/s]\n",
      "100%|██████████| 7581/7581 [07:11<00:00, 17.55it/s]\n"
     ]
    },
    {
     "name": "stdout",
     "output_type": "stream",
     "text": [
      "\n",
      "Training Client 1\n"
     ]
    },
    {
     "name": "stderr",
     "output_type": "stream",
     "text": [
      "100%|██████████| 7581/7581 [07:18<00:00, 17.28it/s]\n",
      "100%|██████████| 7581/7581 [07:16<00:00, 17.36it/s]\n",
      "100%|██████████| 7581/7581 [07:10<00:00, 17.60it/s]\n",
      "100%|██████████| 7581/7581 [07:16<00:00, 17.37it/s]\n",
      "100%|██████████| 7581/7581 [07:09<00:00, 17.66it/s]\n"
     ]
    },
    {
     "name": "stdout",
     "output_type": "stream",
     "text": [
      "\n",
      "Training Client 2\n"
     ]
    },
    {
     "name": "stderr",
     "output_type": "stream",
     "text": [
      "100%|██████████| 7581/7581 [07:12<00:00, 17.54it/s]\n",
      "100%|██████████| 7581/7581 [07:20<00:00, 17.21it/s]\n",
      "100%|██████████| 7581/7581 [07:14<00:00, 17.44it/s]\n",
      "100%|██████████| 7581/7581 [07:07<00:00, 17.71it/s]\n",
      "100%|██████████| 7581/7581 [07:14<00:00, 17.43it/s]\n"
     ]
    },
    {
     "name": "stdout",
     "output_type": "stream",
     "text": [
      "\n",
      "Aggregating client models on the server...\n"
     ]
    },
    {
     "name": "stderr",
     "output_type": "stream",
     "text": [
      "100%|██████████| 2527/2527 [00:56<00:00, 44.91it/s]\n"
     ]
    },
    {
     "name": "stdout",
     "output_type": "stream",
     "text": [
      "{'accuracy': 0.9032896364086075, 'f1': 0.8737243250226069}\n",
      "\n",
      "--- Federated Learning Round 12 ---\n",
      "\n",
      "Training Client 0\n"
     ]
    },
    {
     "name": "stderr",
     "output_type": "stream",
     "text": [
      "100%|██████████| 7581/7581 [07:11<00:00, 17.58it/s]\n",
      "100%|██████████| 7581/7581 [07:18<00:00, 17.28it/s]\n",
      "100%|██████████| 7581/7581 [07:13<00:00, 17.51it/s]\n",
      "100%|██████████| 7581/7581 [07:14<00:00, 17.46it/s]\n",
      "100%|██████████| 7581/7581 [07:16<00:00, 17.37it/s]\n"
     ]
    },
    {
     "name": "stdout",
     "output_type": "stream",
     "text": [
      "\n",
      "Training Client 1\n"
     ]
    },
    {
     "name": "stderr",
     "output_type": "stream",
     "text": [
      "100%|██████████| 7581/7581 [07:15<00:00, 17.39it/s]\n",
      "100%|██████████| 7581/7581 [07:04<00:00, 17.85it/s]\n",
      "100%|██████████| 7581/7581 [07:13<00:00, 17.49it/s]\n",
      "100%|██████████| 7581/7581 [07:16<00:00, 17.38it/s]\n",
      "100%|██████████| 7581/7581 [07:04<00:00, 17.85it/s]\n"
     ]
    },
    {
     "name": "stdout",
     "output_type": "stream",
     "text": [
      "\n",
      "Training Client 2\n"
     ]
    },
    {
     "name": "stderr",
     "output_type": "stream",
     "text": [
      "100%|██████████| 7581/7581 [07:11<00:00, 17.57it/s]\n",
      "100%|██████████| 7581/7581 [07:05<00:00, 17.81it/s]\n",
      "100%|██████████| 7581/7581 [07:12<00:00, 17.54it/s]\n",
      "100%|██████████| 7581/7581 [07:08<00:00, 17.67it/s]\n",
      "100%|██████████| 7581/7581 [07:12<00:00, 17.51it/s]\n"
     ]
    },
    {
     "name": "stdout",
     "output_type": "stream",
     "text": [
      "\n",
      "Aggregating client models on the server...\n"
     ]
    },
    {
     "name": "stderr",
     "output_type": "stream",
     "text": [
      "100%|██████████| 2527/2527 [00:55<00:00, 45.50it/s]\n"
     ]
    },
    {
     "name": "stdout",
     "output_type": "stream",
     "text": [
      "{'accuracy': 0.9025723472668811, 'f1': 0.8742297008205882}\n",
      "\n",
      "--- Federated Learning Round 13 ---\n",
      "\n",
      "Training Client 0\n"
     ]
    },
    {
     "name": "stderr",
     "output_type": "stream",
     "text": [
      "100%|██████████| 7581/7581 [07:13<00:00, 17.49it/s]\n",
      "100%|██████████| 7581/7581 [07:12<00:00, 17.55it/s]\n",
      "100%|██████████| 7581/7581 [07:13<00:00, 17.48it/s]\n",
      "100%|██████████| 7581/7581 [07:18<00:00, 17.27it/s]\n",
      "100%|██████████| 7581/7581 [07:21<00:00, 17.16it/s]\n"
     ]
    },
    {
     "name": "stdout",
     "output_type": "stream",
     "text": [
      "\n",
      "Training Client 1\n"
     ]
    },
    {
     "name": "stderr",
     "output_type": "stream",
     "text": [
      "100%|██████████| 7581/7581 [07:11<00:00, 17.56it/s]\n",
      "100%|██████████| 7581/7581 [07:12<00:00, 17.51it/s]\n",
      "100%|██████████| 7581/7581 [07:08<00:00, 17.67it/s]\n",
      "100%|██████████| 7581/7581 [07:14<00:00, 17.45it/s]\n",
      "100%|██████████| 7581/7581 [07:11<00:00, 17.57it/s]\n"
     ]
    },
    {
     "name": "stdout",
     "output_type": "stream",
     "text": [
      "\n",
      "Training Client 2\n"
     ]
    },
    {
     "name": "stderr",
     "output_type": "stream",
     "text": [
      "100%|██████████| 7581/7581 [07:14<00:00, 17.46it/s]\n",
      "100%|██████████| 7581/7581 [07:05<00:00, 17.83it/s]\n",
      "100%|██████████| 7581/7581 [07:08<00:00, 17.67it/s]\n",
      "100%|██████████| 7581/7581 [07:06<00:00, 17.76it/s]\n",
      "100%|██████████| 7581/7581 [07:17<00:00, 17.31it/s]\n"
     ]
    },
    {
     "name": "stdout",
     "output_type": "stream",
     "text": [
      "\n",
      "Aggregating client models on the server...\n"
     ]
    },
    {
     "name": "stderr",
     "output_type": "stream",
     "text": [
      "100%|██████████| 2527/2527 [00:55<00:00, 45.59it/s]\n"
     ]
    },
    {
     "name": "stdout",
     "output_type": "stream",
     "text": [
      "{'accuracy': 0.9039079891169923, 'f1': 0.8752768949243956}\n",
      "\n",
      "--- Federated Learning Round 14 ---\n",
      "\n",
      "Training Client 0\n"
     ]
    },
    {
     "name": "stderr",
     "output_type": "stream",
     "text": [
      "100%|██████████| 7581/7581 [07:15<00:00, 17.40it/s]\n",
      "100%|██████████| 7581/7581 [07:17<00:00, 17.31it/s]\n",
      "100%|██████████| 7581/7581 [07:10<00:00, 17.60it/s]\n",
      "100%|██████████| 7581/7581 [07:08<00:00, 17.69it/s]\n",
      "100%|██████████| 7581/7581 [07:11<00:00, 17.59it/s]\n"
     ]
    },
    {
     "name": "stdout",
     "output_type": "stream",
     "text": [
      "\n",
      "Training Client 1\n"
     ]
    },
    {
     "name": "stderr",
     "output_type": "stream",
     "text": [
      "100%|██████████| 7581/7581 [07:05<00:00, 17.80it/s]\n",
      "100%|██████████| 7581/7581 [07:15<00:00, 17.42it/s]\n",
      "100%|██████████| 7581/7581 [07:14<00:00, 17.46it/s]\n",
      "100%|██████████| 7581/7581 [07:07<00:00, 17.73it/s]\n",
      "100%|██████████| 7581/7581 [07:09<00:00, 17.67it/s]\n"
     ]
    },
    {
     "name": "stdout",
     "output_type": "stream",
     "text": [
      "\n",
      "Training Client 2\n"
     ]
    },
    {
     "name": "stderr",
     "output_type": "stream",
     "text": [
      "100%|██████████| 7581/7581 [07:08<00:00, 17.67it/s]\n",
      "100%|██████████| 7581/7581 [07:09<00:00, 17.65it/s]\n",
      "100%|██████████| 7581/7581 [07:12<00:00, 17.53it/s]\n",
      "100%|██████████| 7581/7581 [07:12<00:00, 17.52it/s]\n",
      "100%|██████████| 7581/7581 [07:12<00:00, 17.55it/s]\n"
     ]
    },
    {
     "name": "stdout",
     "output_type": "stream",
     "text": [
      "\n",
      "Aggregating client models on the server...\n"
     ]
    },
    {
     "name": "stderr",
     "output_type": "stream",
     "text": [
      "100%|██████████| 2527/2527 [00:55<00:00, 45.73it/s]\n"
     ]
    },
    {
     "name": "stdout",
     "output_type": "stream",
     "text": [
      "{'accuracy': 0.9010883007667574, 'f1': 0.8740987941945031}\n",
      "\n",
      "--- Federated Learning Round 15 ---\n",
      "\n",
      "Training Client 0\n"
     ]
    },
    {
     "name": "stderr",
     "output_type": "stream",
     "text": [
      "100%|██████████| 7581/7581 [07:08<00:00, 17.71it/s]\n",
      "100%|██████████| 7581/7581 [07:12<00:00, 17.52it/s]\n",
      "100%|██████████| 7581/7581 [07:13<00:00, 17.50it/s]\n",
      "100%|██████████| 7581/7581 [07:13<00:00, 17.48it/s]\n",
      "100%|██████████| 7581/7581 [07:11<00:00, 17.59it/s]\n"
     ]
    },
    {
     "name": "stdout",
     "output_type": "stream",
     "text": [
      "\n",
      "Training Client 1\n"
     ]
    },
    {
     "name": "stderr",
     "output_type": "stream",
     "text": [
      "100%|██████████| 7581/7581 [07:10<00:00, 17.62it/s]\n",
      "100%|██████████| 7581/7581 [07:14<00:00, 17.44it/s]\n",
      "100%|██████████| 7581/7581 [07:05<00:00, 17.80it/s]\n",
      "100%|██████████| 7581/7581 [07:18<00:00, 17.31it/s]\n",
      "100%|██████████| 7581/7581 [07:13<00:00, 17.49it/s]\n"
     ]
    },
    {
     "name": "stdout",
     "output_type": "stream",
     "text": [
      "\n",
      "Training Client 2\n"
     ]
    },
    {
     "name": "stderr",
     "output_type": "stream",
     "text": [
      "100%|██████████| 7581/7581 [07:10<00:00, 17.62it/s]\n",
      "100%|██████████| 7581/7581 [07:15<00:00, 17.39it/s]\n",
      "100%|██████████| 7581/7581 [07:12<00:00, 17.51it/s]\n",
      "100%|██████████| 7581/7581 [07:16<00:00, 17.37it/s]\n",
      "100%|██████████| 7581/7581 [07:12<00:00, 17.51it/s]\n"
     ]
    },
    {
     "name": "stdout",
     "output_type": "stream",
     "text": [
      "\n",
      "Aggregating client models on the server...\n"
     ]
    },
    {
     "name": "stderr",
     "output_type": "stream",
     "text": [
      "100%|██████████| 2527/2527 [00:55<00:00, 45.53it/s]\n"
     ]
    },
    {
     "name": "stdout",
     "output_type": "stream",
     "text": [
      "{'accuracy': 0.9044521395003711, 'f1': 0.8760707067466555}\n",
      "\n",
      "--- Federated Learning Round 16 ---\n",
      "\n",
      "Training Client 0\n"
     ]
    },
    {
     "name": "stderr",
     "output_type": "stream",
     "text": [
      "100%|██████████| 7581/7581 [07:20<00:00, 17.21it/s]\n",
      "100%|██████████| 7581/7581 [07:08<00:00, 17.68it/s]\n",
      "100%|██████████| 7581/7581 [07:15<00:00, 17.40it/s]\n",
      "100%|██████████| 7581/7581 [07:10<00:00, 17.61it/s]\n",
      "100%|██████████| 7581/7581 [07:18<00:00, 17.29it/s]\n"
     ]
    },
    {
     "name": "stdout",
     "output_type": "stream",
     "text": [
      "\n",
      "Training Client 1\n"
     ]
    },
    {
     "name": "stderr",
     "output_type": "stream",
     "text": [
      "100%|██████████| 7581/7581 [07:10<00:00, 17.61it/s]\n",
      "100%|██████████| 7581/7581 [07:17<00:00, 17.34it/s]\n",
      "100%|██████████| 7581/7581 [07:08<00:00, 17.70it/s]\n",
      "100%|██████████| 7581/7581 [07:05<00:00, 17.84it/s]\n",
      "100%|██████████| 7581/7581 [07:11<00:00, 17.56it/s]\n"
     ]
    },
    {
     "name": "stdout",
     "output_type": "stream",
     "text": [
      "\n",
      "Training Client 2\n"
     ]
    },
    {
     "name": "stderr",
     "output_type": "stream",
     "text": [
      "100%|██████████| 7581/7581 [07:09<00:00, 17.67it/s]\n",
      "100%|██████████| 7581/7581 [07:09<00:00, 17.67it/s]\n",
      "100%|██████████| 7581/7581 [07:19<00:00, 17.25it/s]\n",
      "100%|██████████| 7581/7581 [07:13<00:00, 17.47it/s]\n",
      "100%|██████████| 7581/7581 [07:17<00:00, 17.34it/s]\n"
     ]
    },
    {
     "name": "stdout",
     "output_type": "stream",
     "text": [
      "\n",
      "Aggregating client models on the server...\n"
     ]
    },
    {
     "name": "stderr",
     "output_type": "stream",
     "text": [
      "100%|██████████| 2527/2527 [00:55<00:00, 45.76it/s]\n"
     ]
    },
    {
     "name": "stdout",
     "output_type": "stream",
     "text": [
      "{'accuracy': 0.906208261192184, 'f1': 0.8780864197530864}\n",
      "\n",
      "--- Federated Learning Round 17 ---\n",
      "\n",
      "Training Client 0\n"
     ]
    },
    {
     "name": "stderr",
     "output_type": "stream",
     "text": [
      "100%|██████████| 7581/7581 [07:15<00:00, 17.41it/s]\n",
      "100%|██████████| 7581/7581 [07:15<00:00, 17.42it/s]\n",
      "100%|██████████| 7581/7581 [07:15<00:00, 17.42it/s]\n",
      "100%|██████████| 7581/7581 [07:20<00:00, 17.22it/s]\n",
      "100%|██████████| 7581/7581 [07:18<00:00, 17.29it/s]\n"
     ]
    },
    {
     "name": "stdout",
     "output_type": "stream",
     "text": [
      "\n",
      "Training Client 1\n"
     ]
    },
    {
     "name": "stderr",
     "output_type": "stream",
     "text": [
      "100%|██████████| 7581/7581 [07:11<00:00, 17.58it/s]\n",
      "100%|██████████| 7581/7581 [07:09<00:00, 17.66it/s]\n",
      "100%|██████████| 7581/7581 [07:18<00:00, 17.27it/s]\n",
      "100%|██████████| 7581/7581 [07:14<00:00, 17.45it/s]\n",
      "100%|██████████| 7581/7581 [07:08<00:00, 17.70it/s]\n"
     ]
    },
    {
     "name": "stdout",
     "output_type": "stream",
     "text": [
      "\n",
      "Training Client 2\n"
     ]
    },
    {
     "name": "stderr",
     "output_type": "stream",
     "text": [
      "100%|██████████| 7581/7581 [07:14<00:00, 17.45it/s]\n",
      "100%|██████████| 7581/7581 [07:09<00:00, 17.66it/s]\n",
      "100%|██████████| 7581/7581 [07:07<00:00, 17.74it/s]\n",
      "100%|██████████| 7581/7581 [07:06<00:00, 17.79it/s]\n",
      "100%|██████████| 7581/7581 [07:10<00:00, 17.61it/s]\n"
     ]
    },
    {
     "name": "stdout",
     "output_type": "stream",
     "text": [
      "\n",
      "Aggregating client models on the server...\n"
     ]
    },
    {
     "name": "stderr",
     "output_type": "stream",
     "text": [
      "100%|██████████| 2527/2527 [00:56<00:00, 44.75it/s]\n"
     ]
    },
    {
     "name": "stdout",
     "output_type": "stream",
     "text": [
      "{'accuracy': 0.9053425674004452, 'f1': 0.8771941083977794}\n",
      "\n",
      "--- Federated Learning Round 18 ---\n",
      "\n",
      "Training Client 0\n"
     ]
    },
    {
     "name": "stderr",
     "output_type": "stream",
     "text": [
      "100%|██████████| 7581/7581 [07:12<00:00, 17.52it/s]\n",
      "100%|██████████| 7581/7581 [07:10<00:00, 17.63it/s]\n",
      "100%|██████████| 7581/7581 [07:09<00:00, 17.65it/s]\n",
      "100%|██████████| 7581/7581 [07:14<00:00, 17.46it/s]\n",
      "100%|██████████| 7581/7581 [07:15<00:00, 17.41it/s]\n"
     ]
    },
    {
     "name": "stdout",
     "output_type": "stream",
     "text": [
      "\n",
      "Training Client 1\n"
     ]
    },
    {
     "name": "stderr",
     "output_type": "stream",
     "text": [
      "100%|██████████| 7581/7581 [07:17<00:00, 17.31it/s]\n",
      "100%|██████████| 7581/7581 [07:15<00:00, 17.42it/s]\n",
      "100%|██████████| 7581/7581 [07:11<00:00, 17.56it/s]\n",
      "100%|██████████| 7581/7581 [07:16<00:00, 17.36it/s]\n",
      "100%|██████████| 7581/7581 [07:14<00:00, 17.44it/s]\n"
     ]
    },
    {
     "name": "stdout",
     "output_type": "stream",
     "text": [
      "\n",
      "Training Client 2\n"
     ]
    },
    {
     "name": "stderr",
     "output_type": "stream",
     "text": [
      "100%|██████████| 7581/7581 [07:00<00:00, 18.04it/s]\n",
      "100%|██████████| 7581/7581 [07:11<00:00, 17.57it/s]\n",
      "100%|██████████| 7581/7581 [07:05<00:00, 17.83it/s]\n",
      "100%|██████████| 7581/7581 [07:12<00:00, 17.52it/s]\n",
      "100%|██████████| 7581/7581 [07:13<00:00, 17.48it/s]\n"
     ]
    },
    {
     "name": "stdout",
     "output_type": "stream",
     "text": [
      "\n",
      "Aggregating client models on the server...\n"
     ]
    },
    {
     "name": "stderr",
     "output_type": "stream",
     "text": [
      "100%|██████████| 2527/2527 [00:55<00:00, 45.80it/s]\n"
     ]
    },
    {
     "name": "stdout",
     "output_type": "stream",
     "text": [
      "{'accuracy': 0.9050704922087559, 'f1': 0.8778173946262575}\n",
      "\n",
      "--- Federated Learning Round 19 ---\n",
      "\n",
      "Training Client 0\n"
     ]
    },
    {
     "name": "stderr",
     "output_type": "stream",
     "text": [
      "100%|██████████| 7581/7581 [07:13<00:00, 17.50it/s]\n",
      "100%|██████████| 7581/7581 [07:14<00:00, 17.45it/s]\n",
      "100%|██████████| 7581/7581 [07:18<00:00, 17.30it/s]\n",
      "100%|██████████| 7581/7581 [07:17<00:00, 17.35it/s]\n",
      "100%|██████████| 7581/7581 [07:14<00:00, 17.43it/s]\n"
     ]
    },
    {
     "name": "stdout",
     "output_type": "stream",
     "text": [
      "\n",
      "Training Client 1\n"
     ]
    },
    {
     "name": "stderr",
     "output_type": "stream",
     "text": [
      "100%|██████████| 7581/7581 [07:12<00:00, 17.51it/s]\n",
      "100%|██████████| 7581/7581 [07:11<00:00, 17.59it/s]\n",
      "100%|██████████| 7581/7581 [07:11<00:00, 17.55it/s]\n",
      "100%|██████████| 7581/7581 [07:07<00:00, 17.73it/s]\n",
      "100%|██████████| 7581/7581 [07:10<00:00, 17.61it/s]\n"
     ]
    },
    {
     "name": "stdout",
     "output_type": "stream",
     "text": [
      "\n",
      "Training Client 2\n"
     ]
    },
    {
     "name": "stderr",
     "output_type": "stream",
     "text": [
      "100%|██████████| 7581/7581 [07:06<00:00, 17.77it/s]\n",
      "100%|██████████| 7581/7581 [07:06<00:00, 17.77it/s]\n",
      "100%|██████████| 7581/7581 [07:08<00:00, 17.69it/s]\n",
      "100%|██████████| 7581/7581 [07:15<00:00, 17.39it/s]\n",
      "100%|██████████| 7581/7581 [07:13<00:00, 17.49it/s]\n"
     ]
    },
    {
     "name": "stdout",
     "output_type": "stream",
     "text": [
      "\n",
      "Aggregating client models on the server...\n"
     ]
    },
    {
     "name": "stderr",
     "output_type": "stream",
     "text": [
      "100%|██████████| 2527/2527 [00:54<00:00, 45.99it/s]\n"
     ]
    },
    {
     "name": "stdout",
     "output_type": "stream",
     "text": [
      "{'accuracy': 0.906455602275538, 'f1': 0.8792387764225046}\n",
      "\n",
      "--- Federated Learning Round 20 ---\n",
      "\n",
      "Training Client 0\n"
     ]
    },
    {
     "name": "stderr",
     "output_type": "stream",
     "text": [
      "100%|██████████| 7581/7581 [07:23<00:00, 17.11it/s]\n",
      "100%|██████████| 7581/7581 [07:08<00:00, 17.69it/s]\n",
      "100%|██████████| 7581/7581 [07:06<00:00, 17.78it/s]\n",
      "100%|██████████| 7581/7581 [07:24<00:00, 17.07it/s]\n",
      "100%|██████████| 7581/7581 [07:19<00:00, 17.27it/s]\n"
     ]
    },
    {
     "name": "stdout",
     "output_type": "stream",
     "text": [
      "\n",
      "Training Client 1\n"
     ]
    },
    {
     "name": "stderr",
     "output_type": "stream",
     "text": [
      "100%|██████████| 7581/7581 [07:10<00:00, 17.62it/s]\n",
      "100%|██████████| 7581/7581 [06:59<00:00, 18.08it/s]\n",
      "100%|██████████| 7581/7581 [07:12<00:00, 17.51it/s]\n",
      "100%|██████████| 7581/7581 [07:09<00:00, 17.66it/s]\n",
      "100%|██████████| 7581/7581 [07:10<00:00, 17.62it/s]\n"
     ]
    },
    {
     "name": "stdout",
     "output_type": "stream",
     "text": [
      "\n",
      "Training Client 2\n"
     ]
    },
    {
     "name": "stderr",
     "output_type": "stream",
     "text": [
      "100%|██████████| 7581/7581 [07:07<00:00, 17.74it/s]\n",
      "100%|██████████| 7581/7581 [07:10<00:00, 17.61it/s]\n",
      "100%|██████████| 7581/7581 [07:11<00:00, 17.58it/s]\n",
      "100%|██████████| 7581/7581 [07:15<00:00, 17.42it/s]\n",
      "100%|██████████| 7581/7581 [07:11<00:00, 17.58it/s]\n"
     ]
    },
    {
     "name": "stdout",
     "output_type": "stream",
     "text": [
      "\n",
      "Aggregating client models on the server...\n"
     ]
    },
    {
     "name": "stderr",
     "output_type": "stream",
     "text": [
      "100%|██████████| 2527/2527 [00:56<00:00, 44.91it/s]\n"
     ]
    },
    {
     "name": "stdout",
     "output_type": "stream",
     "text": [
      "{'accuracy': 0.9093494929507792, 'f1': 0.8807160292921073}\n",
      "\n",
      "--- Federated Learning Round 21 ---\n",
      "\n",
      "Training Client 0\n"
     ]
    },
    {
     "name": "stderr",
     "output_type": "stream",
     "text": [
      "100%|██████████| 7581/7581 [07:15<00:00, 17.39it/s]\n",
      "100%|██████████| 7581/7581 [07:20<00:00, 17.19it/s]\n",
      "100%|██████████| 7581/7581 [07:17<00:00, 17.34it/s]\n",
      "100%|██████████| 7581/7581 [07:12<00:00, 17.52it/s]\n",
      "100%|██████████| 7581/7581 [07:19<00:00, 17.24it/s]\n"
     ]
    },
    {
     "name": "stdout",
     "output_type": "stream",
     "text": [
      "\n",
      "Training Client 1\n"
     ]
    },
    {
     "name": "stderr",
     "output_type": "stream",
     "text": [
      "100%|██████████| 7581/7581 [07:10<00:00, 17.60it/s]\n",
      "100%|██████████| 7581/7581 [07:10<00:00, 17.61it/s]\n",
      "100%|██████████| 7581/7581 [07:14<00:00, 17.47it/s]\n",
      "100%|██████████| 7581/7581 [07:09<00:00, 17.66it/s]\n",
      "100%|██████████| 7581/7581 [07:03<00:00, 17.89it/s]\n"
     ]
    },
    {
     "name": "stdout",
     "output_type": "stream",
     "text": [
      "\n",
      "Training Client 2\n"
     ]
    },
    {
     "name": "stderr",
     "output_type": "stream",
     "text": [
      "100%|██████████| 7581/7581 [07:09<00:00, 17.65it/s]\n",
      "100%|██████████| 7581/7581 [07:10<00:00, 17.62it/s]\n",
      "100%|██████████| 7581/7581 [07:18<00:00, 17.29it/s]\n",
      "100%|██████████| 7581/7581 [07:05<00:00, 17.81it/s]\n",
      "100%|██████████| 7581/7581 [07:22<00:00, 17.14it/s]\n"
     ]
    },
    {
     "name": "stdout",
     "output_type": "stream",
     "text": [
      "\n",
      "Aggregating client models on the server...\n"
     ]
    },
    {
     "name": "stderr",
     "output_type": "stream",
     "text": [
      "100%|██████████| 2527/2527 [00:57<00:00, 44.26it/s]\n"
     ]
    },
    {
     "name": "stdout",
     "output_type": "stream",
     "text": [
      "{'accuracy': 0.9076181053673015, 'f1': 0.8798919509920571}\n",
      "\n",
      "--- Federated Learning Round 22 ---\n",
      "\n",
      "Training Client 0\n"
     ]
    },
    {
     "name": "stderr",
     "output_type": "stream",
     "text": [
      "100%|██████████| 7581/7581 [07:12<00:00, 17.55it/s]\n",
      "100%|██████████| 7581/7581 [07:14<00:00, 17.45it/s]\n",
      "100%|██████████| 7581/7581 [07:18<00:00, 17.28it/s]\n",
      "100%|██████████| 7581/7581 [07:10<00:00, 17.59it/s]\n",
      "100%|██████████| 7581/7581 [07:12<00:00, 17.54it/s]\n"
     ]
    },
    {
     "name": "stdout",
     "output_type": "stream",
     "text": [
      "\n",
      "Training Client 1\n"
     ]
    },
    {
     "name": "stderr",
     "output_type": "stream",
     "text": [
      "100%|██████████| 7581/7581 [07:13<00:00, 17.50it/s]\n",
      "100%|██████████| 7581/7581 [07:07<00:00, 17.72it/s]\n",
      "100%|██████████| 7581/7581 [07:14<00:00, 17.46it/s]\n",
      "100%|██████████| 7581/7581 [07:13<00:00, 17.48it/s]\n",
      "100%|██████████| 7581/7581 [07:18<00:00, 17.29it/s]\n"
     ]
    },
    {
     "name": "stdout",
     "output_type": "stream",
     "text": [
      "\n",
      "Training Client 2\n"
     ]
    },
    {
     "name": "stderr",
     "output_type": "stream",
     "text": [
      "100%|██████████| 7581/7581 [07:16<00:00, 17.37it/s]\n",
      "100%|██████████| 7581/7581 [07:10<00:00, 17.62it/s]\n",
      "100%|██████████| 7581/7581 [07:11<00:00, 17.57it/s]\n",
      "100%|██████████| 7581/7581 [07:09<00:00, 17.64it/s]\n",
      "100%|██████████| 7581/7581 [07:14<00:00, 17.46it/s]\n"
     ]
    },
    {
     "name": "stdout",
     "output_type": "stream",
     "text": [
      "\n",
      "Aggregating client models on the server...\n"
     ]
    },
    {
     "name": "stderr",
     "output_type": "stream",
     "text": [
      "100%|██████████| 2527/2527 [00:56<00:00, 44.97it/s]\n"
     ]
    },
    {
     "name": "stdout",
     "output_type": "stream",
     "text": [
      "{'accuracy': 0.9087311402423942, 'f1': 0.880520657945862}\n",
      "\n",
      "--- Federated Learning Round 23 ---\n",
      "\n",
      "Training Client 0\n"
     ]
    },
    {
     "name": "stderr",
     "output_type": "stream",
     "text": [
      "100%|██████████| 7581/7581 [07:12<00:00, 17.53it/s]\n",
      "100%|██████████| 7581/7581 [07:17<00:00, 17.32it/s]\n",
      "100%|██████████| 7581/7581 [07:09<00:00, 17.64it/s]\n",
      "100%|██████████| 7581/7581 [07:15<00:00, 17.39it/s]\n",
      "100%|██████████| 7581/7581 [07:15<00:00, 17.40it/s]\n"
     ]
    },
    {
     "name": "stdout",
     "output_type": "stream",
     "text": [
      "\n",
      "Training Client 1\n"
     ]
    },
    {
     "name": "stderr",
     "output_type": "stream",
     "text": [
      "100%|██████████| 7581/7581 [07:16<00:00, 17.39it/s]\n",
      "100%|██████████| 7581/7581 [07:04<00:00, 17.87it/s]\n",
      "100%|██████████| 7581/7581 [07:14<00:00, 17.45it/s]\n",
      "100%|██████████| 7581/7581 [07:20<00:00, 17.22it/s]\n",
      "100%|██████████| 7581/7581 [07:04<00:00, 17.86it/s]\n"
     ]
    },
    {
     "name": "stdout",
     "output_type": "stream",
     "text": [
      "\n",
      "Training Client 2\n"
     ]
    },
    {
     "name": "stderr",
     "output_type": "stream",
     "text": [
      "100%|██████████| 7581/7581 [07:04<00:00, 17.84it/s]\n",
      "100%|██████████| 7581/7581 [07:12<00:00, 17.54it/s]\n",
      "100%|██████████| 7581/7581 [07:12<00:00, 17.53it/s]\n",
      "100%|██████████| 7581/7581 [07:01<00:00, 17.98it/s]\n",
      "100%|██████████| 7581/7581 [07:05<00:00, 17.81it/s]\n"
     ]
    },
    {
     "name": "stdout",
     "output_type": "stream",
     "text": [
      "\n",
      "Aggregating client models on the server...\n"
     ]
    },
    {
     "name": "stderr",
     "output_type": "stream",
     "text": [
      "100%|██████████| 2527/2527 [00:56<00:00, 44.67it/s]\n"
     ]
    },
    {
     "name": "stdout",
     "output_type": "stream",
     "text": [
      "{'accuracy': 0.9071234232005936, 'f1': 0.8803492336615365}\n",
      "\n",
      "--- Federated Learning Round 24 ---\n",
      "\n",
      "Training Client 0\n"
     ]
    },
    {
     "name": "stderr",
     "output_type": "stream",
     "text": [
      "100%|██████████| 7581/7581 [07:10<00:00, 17.60it/s]\n",
      "100%|██████████| 7581/7581 [07:20<00:00, 17.21it/s]\n",
      "100%|██████████| 7581/7581 [07:11<00:00, 17.59it/s]\n",
      "100%|██████████| 7581/7581 [07:17<00:00, 17.31it/s]\n",
      "100%|██████████| 7581/7581 [07:19<00:00, 17.25it/s]\n"
     ]
    },
    {
     "name": "stdout",
     "output_type": "stream",
     "text": [
      "\n",
      "Training Client 1\n"
     ]
    },
    {
     "name": "stderr",
     "output_type": "stream",
     "text": [
      "100%|██████████| 7581/7581 [07:08<00:00, 17.68it/s]\n",
      "100%|██████████| 7581/7581 [07:11<00:00, 17.55it/s]\n",
      "100%|██████████| 7581/7581 [07:09<00:00, 17.66it/s]\n",
      "100%|██████████| 7581/7581 [07:15<00:00, 17.43it/s]\n",
      "100%|██████████| 7581/7581 [07:11<00:00, 17.57it/s]\n"
     ]
    },
    {
     "name": "stdout",
     "output_type": "stream",
     "text": [
      "\n",
      "Training Client 2\n"
     ]
    },
    {
     "name": "stderr",
     "output_type": "stream",
     "text": [
      "100%|██████████| 7581/7581 [07:10<00:00, 17.59it/s]\n",
      "100%|██████████| 7581/7581 [07:06<00:00, 17.77it/s]\n",
      "100%|██████████| 7581/7581 [07:11<00:00, 17.56it/s]\n",
      "100%|██████████| 7581/7581 [07:09<00:00, 17.64it/s]\n",
      "100%|██████████| 7581/7581 [07:10<00:00, 17.61it/s]\n"
     ]
    },
    {
     "name": "stdout",
     "output_type": "stream",
     "text": [
      "\n",
      "Aggregating client models on the server...\n"
     ]
    },
    {
     "name": "stderr",
     "output_type": "stream",
     "text": [
      "100%|██████████| 2527/2527 [00:55<00:00, 45.16it/s]\n"
     ]
    },
    {
     "name": "stdout",
     "output_type": "stream",
     "text": [
      "{'accuracy': 0.9089290131090774, 'f1': 0.8801198150680472}\n",
      "\n",
      "--- Federated Learning Round 25 ---\n",
      "\n",
      "Training Client 0\n"
     ]
    },
    {
     "name": "stderr",
     "output_type": "stream",
     "text": [
      "100%|██████████| 7581/7581 [07:14<00:00, 17.44it/s]\n",
      "100%|██████████| 7581/7581 [07:11<00:00, 17.57it/s]\n",
      "100%|██████████| 7581/7581 [07:08<00:00, 17.68it/s]\n",
      "100%|██████████| 7581/7581 [07:16<00:00, 17.39it/s]\n",
      "100%|██████████| 7581/7581 [07:10<00:00, 17.61it/s]\n"
     ]
    },
    {
     "name": "stdout",
     "output_type": "stream",
     "text": [
      "\n",
      "Training Client 1\n"
     ]
    },
    {
     "name": "stderr",
     "output_type": "stream",
     "text": [
      "100%|██████████| 7581/7581 [07:16<00:00, 17.37it/s]\n",
      "100%|██████████| 7581/7581 [07:11<00:00, 17.57it/s]\n",
      "100%|██████████| 7581/7581 [07:10<00:00, 17.59it/s]\n",
      "100%|██████████| 7581/7581 [07:14<00:00, 17.44it/s]\n",
      "100%|██████████| 7581/7581 [07:11<00:00, 17.59it/s]\n"
     ]
    },
    {
     "name": "stdout",
     "output_type": "stream",
     "text": [
      "\n",
      "Training Client 2\n"
     ]
    },
    {
     "name": "stderr",
     "output_type": "stream",
     "text": [
      "100%|██████████| 7581/7581 [07:13<00:00, 17.48it/s]\n",
      "100%|██████████| 7581/7581 [07:12<00:00, 17.55it/s]\n",
      "100%|██████████| 7581/7581 [07:12<00:00, 17.53it/s]\n",
      "100%|██████████| 7581/7581 [07:10<00:00, 17.59it/s]\n",
      "100%|██████████| 7581/7581 [07:08<00:00, 17.69it/s]\n"
     ]
    },
    {
     "name": "stdout",
     "output_type": "stream",
     "text": [
      "\n",
      "Aggregating client models on the server...\n"
     ]
    },
    {
     "name": "stderr",
     "output_type": "stream",
     "text": [
      "100%|██████████| 2527/2527 [00:55<00:00, 45.63it/s]\n"
     ]
    },
    {
     "name": "stdout",
     "output_type": "stream",
     "text": [
      "{'accuracy': 0.9084837991590403, 'f1': 0.8812580231065469}\n",
      "\n",
      "--- Federated Learning Round 26 ---\n",
      "\n",
      "Training Client 0\n"
     ]
    },
    {
     "name": "stderr",
     "output_type": "stream",
     "text": [
      "100%|██████████| 7581/7581 [07:11<00:00, 17.57it/s]\n",
      "100%|██████████| 7581/7581 [07:11<00:00, 17.56it/s]\n",
      "100%|██████████| 7581/7581 [07:15<00:00, 17.40it/s]\n",
      "100%|██████████| 7581/7581 [07:09<00:00, 17.66it/s]\n",
      "100%|██████████| 7581/7581 [07:15<00:00, 17.40it/s]\n"
     ]
    },
    {
     "name": "stdout",
     "output_type": "stream",
     "text": [
      "\n",
      "Training Client 1\n"
     ]
    },
    {
     "name": "stderr",
     "output_type": "stream",
     "text": [
      "100%|██████████| 7581/7581 [07:10<00:00, 17.63it/s]\n",
      "100%|██████████| 7581/7581 [07:08<00:00, 17.68it/s]\n",
      "100%|██████████| 7581/7581 [07:06<00:00, 17.78it/s]\n",
      "100%|██████████| 7581/7581 [07:10<00:00, 17.59it/s]\n",
      "100%|██████████| 7581/7581 [07:11<00:00, 17.57it/s]\n"
     ]
    },
    {
     "name": "stdout",
     "output_type": "stream",
     "text": [
      "\n",
      "Training Client 2\n"
     ]
    },
    {
     "name": "stderr",
     "output_type": "stream",
     "text": [
      "100%|██████████| 7581/7581 [07:11<00:00, 17.58it/s]\n",
      "100%|██████████| 7581/7581 [07:21<00:00, 17.17it/s]\n",
      "100%|██████████| 7581/7581 [07:14<00:00, 17.46it/s]\n",
      "100%|██████████| 7581/7581 [07:13<00:00, 17.51it/s]\n",
      "100%|██████████| 7581/7581 [07:01<00:00, 17.99it/s]\n"
     ]
    },
    {
     "name": "stdout",
     "output_type": "stream",
     "text": [
      "\n",
      "Aggregating client models on the server...\n"
     ]
    },
    {
     "name": "stderr",
     "output_type": "stream",
     "text": [
      "100%|██████████| 2527/2527 [00:56<00:00, 44.85it/s]\n"
     ]
    },
    {
     "name": "stdout",
     "output_type": "stream",
     "text": [
      "{'accuracy': 0.9087064061340588, 'f1': 0.8804611847005862}\n",
      "\n",
      "--- Federated Learning Round 27 ---\n",
      "\n",
      "Training Client 0\n"
     ]
    },
    {
     "name": "stderr",
     "output_type": "stream",
     "text": [
      "100%|██████████| 7581/7581 [07:10<00:00, 17.62it/s]\n",
      "100%|██████████| 7581/7581 [07:15<00:00, 17.41it/s]\n",
      "100%|██████████| 7581/7581 [07:14<00:00, 17.46it/s]\n",
      "100%|██████████| 7581/7581 [07:12<00:00, 17.52it/s]\n",
      "100%|██████████| 7581/7581 [07:08<00:00, 17.69it/s]\n"
     ]
    },
    {
     "name": "stdout",
     "output_type": "stream",
     "text": [
      "\n",
      "Training Client 1\n"
     ]
    },
    {
     "name": "stderr",
     "output_type": "stream",
     "text": [
      "100%|██████████| 7581/7581 [07:13<00:00, 17.51it/s]\n",
      "100%|██████████| 7581/7581 [07:16<00:00, 17.36it/s]\n",
      "100%|██████████| 7581/7581 [07:14<00:00, 17.46it/s]\n",
      "100%|██████████| 7581/7581 [07:07<00:00, 17.72it/s]\n",
      "100%|██████████| 7581/7581 [07:07<00:00, 17.75it/s]\n"
     ]
    },
    {
     "name": "stdout",
     "output_type": "stream",
     "text": [
      "\n",
      "Training Client 2\n"
     ]
    },
    {
     "name": "stderr",
     "output_type": "stream",
     "text": [
      "100%|██████████| 7581/7581 [07:16<00:00, 17.38it/s]\n",
      "100%|██████████| 7581/7581 [07:16<00:00, 17.37it/s]\n",
      "100%|██████████| 7581/7581 [07:10<00:00, 17.62it/s]\n",
      "100%|██████████| 7581/7581 [07:11<00:00, 17.57it/s]\n",
      "100%|██████████| 7581/7581 [07:11<00:00, 17.57it/s]\n"
     ]
    },
    {
     "name": "stdout",
     "output_type": "stream",
     "text": [
      "\n",
      "Aggregating client models on the server...\n"
     ]
    },
    {
     "name": "stderr",
     "output_type": "stream",
     "text": [
      "100%|██████████| 2527/2527 [00:55<00:00, 45.35it/s]\n"
     ]
    },
    {
     "name": "stdout",
     "output_type": "stream",
     "text": [
      "{'accuracy': 0.9092505565174376, 'f1': 0.8813197476952935}\n",
      "\n",
      "--- Federated Learning Round 28 ---\n",
      "\n",
      "Training Client 0\n"
     ]
    },
    {
     "name": "stderr",
     "output_type": "stream",
     "text": [
      "100%|██████████| 7581/7581 [07:08<00:00, 17.69it/s]\n",
      "100%|██████████| 7581/7581 [07:17<00:00, 17.33it/s]\n",
      "100%|██████████| 7581/7581 [07:15<00:00, 17.40it/s]\n",
      "100%|██████████| 7581/7581 [07:12<00:00, 17.55it/s]\n",
      "100%|██████████| 7581/7581 [07:11<00:00, 17.55it/s]\n"
     ]
    },
    {
     "name": "stdout",
     "output_type": "stream",
     "text": [
      "\n",
      "Training Client 1\n"
     ]
    },
    {
     "name": "stderr",
     "output_type": "stream",
     "text": [
      "100%|██████████| 7581/7581 [07:11<00:00, 17.58it/s]\n",
      "100%|██████████| 7581/7581 [07:17<00:00, 17.33it/s]\n",
      "100%|██████████| 7581/7581 [07:16<00:00, 17.37it/s]\n",
      "100%|██████████| 7581/7581 [07:15<00:00, 17.41it/s]\n",
      "100%|██████████| 7581/7581 [07:12<00:00, 17.54it/s]\n"
     ]
    },
    {
     "name": "stdout",
     "output_type": "stream",
     "text": [
      "\n",
      "Training Client 2\n"
     ]
    },
    {
     "name": "stderr",
     "output_type": "stream",
     "text": [
      "100%|██████████| 7581/7581 [07:13<00:00, 17.49it/s]\n",
      "100%|██████████| 7581/7581 [07:12<00:00, 17.54it/s]\n",
      "100%|██████████| 7581/7581 [07:09<00:00, 17.66it/s]\n",
      "100%|██████████| 7581/7581 [07:10<00:00, 17.60it/s]\n",
      "100%|██████████| 7581/7581 [07:13<00:00, 17.49it/s]\n"
     ]
    },
    {
     "name": "stdout",
     "output_type": "stream",
     "text": [
      "\n",
      "Aggregating client models on the server...\n"
     ]
    },
    {
     "name": "stderr",
     "output_type": "stream",
     "text": [
      "100%|██████████| 2527/2527 [00:56<00:00, 45.12it/s]\n"
     ]
    },
    {
     "name": "stdout",
     "output_type": "stream",
     "text": [
      "{'accuracy': 0.9088300766757358, 'f1': 0.8809662210165988}\n",
      "\n",
      "--- Federated Learning Round 29 ---\n",
      "\n",
      "Training Client 0\n"
     ]
    },
    {
     "name": "stderr",
     "output_type": "stream",
     "text": [
      "100%|██████████| 7581/7581 [07:15<00:00, 17.41it/s]\n",
      "100%|██████████| 7581/7581 [07:18<00:00, 17.28it/s]\n",
      "100%|██████████| 7581/7581 [07:10<00:00, 17.62it/s]\n",
      "100%|██████████| 7581/7581 [07:23<00:00, 17.09it/s]\n",
      "100%|██████████| 7581/7581 [07:09<00:00, 17.64it/s]\n"
     ]
    },
    {
     "name": "stdout",
     "output_type": "stream",
     "text": [
      "\n",
      "Training Client 1\n"
     ]
    },
    {
     "name": "stderr",
     "output_type": "stream",
     "text": [
      "100%|██████████| 7581/7581 [07:11<00:00, 17.57it/s]\n",
      "100%|██████████| 7581/7581 [07:01<00:00, 17.97it/s]\n",
      "100%|██████████| 7581/7581 [07:04<00:00, 17.87it/s]\n",
      "100%|██████████| 7581/7581 [07:07<00:00, 17.74it/s]\n",
      "100%|██████████| 7581/7581 [07:10<00:00, 17.61it/s]\n"
     ]
    },
    {
     "name": "stdout",
     "output_type": "stream",
     "text": [
      "\n",
      "Training Client 2\n"
     ]
    },
    {
     "name": "stderr",
     "output_type": "stream",
     "text": [
      "100%|██████████| 7581/7581 [07:11<00:00, 17.58it/s]\n",
      "100%|██████████| 7581/7581 [07:13<00:00, 17.50it/s]\n",
      "100%|██████████| 7581/7581 [07:16<00:00, 17.38it/s]\n",
      "100%|██████████| 7581/7581 [07:10<00:00, 17.62it/s]\n",
      "100%|██████████| 7581/7581 [07:10<00:00, 17.59it/s]\n"
     ]
    },
    {
     "name": "stdout",
     "output_type": "stream",
     "text": [
      "\n",
      "Aggregating client models on the server...\n"
     ]
    },
    {
     "name": "stderr",
     "output_type": "stream",
     "text": [
      "100%|██████████| 2527/2527 [00:56<00:00, 44.82it/s]\n"
     ]
    },
    {
     "name": "stdout",
     "output_type": "stream",
     "text": [
      "{'accuracy': 0.9097947069008162, 'f1': 0.8819244342279924}\n",
      "\n",
      "--- Federated Learning Round 30 ---\n",
      "\n",
      "Training Client 0\n"
     ]
    },
    {
     "name": "stderr",
     "output_type": "stream",
     "text": [
      "100%|██████████| 7581/7581 [07:20<00:00, 17.22it/s]\n",
      "100%|██████████| 7581/7581 [07:09<00:00, 17.65it/s]\n",
      "100%|██████████| 7581/7581 [07:19<00:00, 17.25it/s]\n",
      "100%|██████████| 7581/7581 [07:20<00:00, 17.20it/s]\n",
      "100%|██████████| 7581/7581 [07:12<00:00, 17.55it/s]\n"
     ]
    },
    {
     "name": "stdout",
     "output_type": "stream",
     "text": [
      "\n",
      "Training Client 1\n"
     ]
    },
    {
     "name": "stderr",
     "output_type": "stream",
     "text": [
      "100%|██████████| 7581/7581 [07:10<00:00, 17.63it/s]\n",
      "100%|██████████| 7581/7581 [07:12<00:00, 17.53it/s]\n",
      "100%|██████████| 7581/7581 [07:11<00:00, 17.58it/s]\n",
      "100%|██████████| 7581/7581 [07:14<00:00, 17.44it/s]\n",
      "100%|██████████| 7581/7581 [07:08<00:00, 17.68it/s]\n"
     ]
    },
    {
     "name": "stdout",
     "output_type": "stream",
     "text": [
      "\n",
      "Training Client 2\n"
     ]
    },
    {
     "name": "stderr",
     "output_type": "stream",
     "text": [
      "100%|██████████| 7581/7581 [07:19<00:00, 17.25it/s]\n",
      "100%|██████████| 7581/7581 [07:07<00:00, 17.73it/s]\n",
      "100%|██████████| 7581/7581 [07:12<00:00, 17.53it/s]\n",
      "100%|██████████| 7581/7581 [07:13<00:00, 17.50it/s]\n",
      "100%|██████████| 7581/7581 [07:09<00:00, 17.66it/s]\n"
     ]
    },
    {
     "name": "stdout",
     "output_type": "stream",
     "text": [
      "\n",
      "Aggregating client models on the server...\n"
     ]
    },
    {
     "name": "stderr",
     "output_type": "stream",
     "text": [
      "100%|██████████| 2527/2527 [00:56<00:00, 44.64it/s]\n"
     ]
    },
    {
     "name": "stdout",
     "output_type": "stream",
     "text": [
      "{'accuracy': 0.9090774177590898, 'f1': 0.8810509966347398}\n"
     ]
    },
    {
     "data": {
      "application/vnd.jupyter.widget-view+json": {
       "model_id": "674dc60a442d4cadb22c15574d99b820",
       "version_major": 2,
       "version_minor": 0
      },
      "text/plain": [
       "VBox(children=(Label(value='0.005 MB of 0.005 MB uploaded\\r'), FloatProgress(value=1.0, max=1.0)))"
      ]
     },
     "metadata": {},
     "output_type": "display_data"
    },
    {
     "data": {
      "text/html": [
       "<style>\n",
       "    table.wandb td:nth-child(1) { padding: 0 10px; text-align: left ; width: auto;} td:nth-child(2) {text-align: left ; width: 100%}\n",
       "    .wandb-row { display: flex; flex-direction: row; flex-wrap: wrap; justify-content: flex-start; width: 100% }\n",
       "    .wandb-col { display: flex; flex-direction: column; flex-basis: 100%; flex: 1; padding: 10px; }\n",
       "    </style>\n",
       "<div class=\"wandb-row\"><div class=\"wandb-col\"><h3>Run history:</h3><br/><table class=\"wandb\"><tr><td>accuracy</td><td>▁▃▄▅▅▅▆▆▆▆▇▇▇▇▇▇▇▇▇███████████</td></tr><tr><td>f1</td><td>▁▃▄▄▅▅▆▆▆▇▇▇▇▇▇▇▇▇████████████</td></tr></table><br/></div><div class=\"wandb-col\"><h3>Run summary:</h3><br/><table class=\"wandb\"><tr><td>accuracy</td><td>0.90908</td></tr><tr><td>f1</td><td>0.88105</td></tr></table><br/></div></div>"
      ],
      "text/plain": [
       "<IPython.core.display.HTML object>"
      ]
     },
     "metadata": {},
     "output_type": "display_data"
    },
    {
     "data": {
      "text/html": [
       " View run <strong style=\"color:#cdcd00\">FFA-LoRA</strong> at: <a href='https://wandb.ai/quanla/FeDORA%20Project%20-%20QQP/runs/9tld2y5a' target=\"_blank\">https://wandb.ai/quanla/FeDORA%20Project%20-%20QQP/runs/9tld2y5a</a><br/>Synced 5 W&B file(s), 0 media file(s), 0 artifact file(s) and 0 other file(s)"
      ],
      "text/plain": [
       "<IPython.core.display.HTML object>"
      ]
     },
     "metadata": {},
     "output_type": "display_data"
    },
    {
     "data": {
      "text/html": [
       "Find logs at: <code>./wandb/run-20241031_135931-9tld2y5a/logs</code>"
      ],
      "text/plain": [
       "<IPython.core.display.HTML object>"
      ]
     },
     "metadata": {},
     "output_type": "display_data"
    }
   ],
   "source": [
    "# 6. Federated Training Loop\n",
    "num_rounds = 30  # Number of federated learning rounds\n",
    "epochs_per_client = 5  # Number of epochs per client in each round\n",
    "\n",
    "for round_num in range(num_rounds):\n",
    "    print(f\"\\n--- Federated Learning Round {round_num + 1} ---\")\n",
    "    \n",
    "    client_models = []\n",
    "    \n",
    "    # Train each client locally\n",
    "    for client in clients:\n",
    "        print(f\"\\nTraining Client {client.client_id}\")\n",
    "        client.train(epochs=epochs_per_client)\n",
    "        client_models.append(client.get_parameters())\n",
    "\n",
    "    # Aggregate client models on the server\n",
    "    print(\"\\nAggregating client models on the server...\")\n",
    "    server.aggregate(client_models)\n",
    "    eval_metric = server.evaluate(eval_dataloader, metric=metric)\n",
    "    print(eval_metric)\n",
    "    wandb.log(eval_metric)\n",
    "    # evaluate(lora_model, val_dataset)\n",
    "\n",
    "    \n",
    "    # Update each client's model with the new global model\n",
    "    for client in clients:\n",
    "        client.set_parameters(server.global_model.state_dict())\n",
    "\n",
    "wandb.finish()"
   ]
  },
  {
   "cell_type": "code",
   "execution_count": 16,
   "metadata": {},
   "outputs": [],
   "source": [
    "# model.to(device)\n",
    "# for epoch in range(num_epochs):\n",
    "#     model.train()\n",
    "#     for step, batch in enumerate(tqdm(train_dataloader)):\n",
    "#         batch.to(device)\n",
    "#         outputs = model(**batch)\n",
    "#         loss = outputs.loss\n",
    "#         loss.backward()\n",
    "#         optimizer.step()\n",
    "#         lr_scheduler.step()\n",
    "#         optimizer.zero_grad()\n",
    "\n",
    "#     model.eval()\n",
    "#     for step, batch in enumerate(tqdm(eval_dataloader)):\n",
    "#         batch.to(device)\n",
    "#         with torch.no_grad():\n",
    "#             outputs = model(**batch)\n",
    "#         predictions = outputs.logits.argmax(dim=-1)\n",
    "#         predictions, references = predictions, batch[\"labels\"]\n",
    "#         metric.add_batch(\n",
    "#             predictions=predictions,\n",
    "#             references=references,\n",
    "#         )\n",
    "\n",
    "#     eval_metric = metric.compute()\n",
    "#     print(f\"epoch {epoch}:\", eval_metric)"
   ]
  }
 ],
 "metadata": {
  "kernelspec": {
   "display_name": ".venv",
   "language": "python",
   "name": "python3"
  },
  "language_info": {
   "codemirror_mode": {
    "name": "ipython",
    "version": 3
   },
   "file_extension": ".py",
   "mimetype": "text/x-python",
   "name": "python",
   "nbconvert_exporter": "python",
   "pygments_lexer": "ipython3",
   "version": "3.10.12"
  }
 },
 "nbformat": 4,
 "nbformat_minor": 2
}
