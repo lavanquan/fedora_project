{
 "cells": [
  {
   "cell_type": "code",
   "execution_count": 1,
   "metadata": {},
   "outputs": [],
   "source": [
    "import os\n",
    "os.environ['CUDA_VISIBLE_DEVICES'] = '1'"
   ]
  },
  {
   "cell_type": "code",
   "execution_count": 2,
   "metadata": {},
   "outputs": [
    {
     "name": "stderr",
     "output_type": "stream",
     "text": [
      "2024-11-06 15:08:53.124657: I tensorflow/core/util/port.cc:153] oneDNN custom operations are on. You may see slightly different numerical results due to floating-point round-off errors from different computation orders. To turn them off, set the environment variable `TF_ENABLE_ONEDNN_OPTS=0`.\n",
      "2024-11-06 15:08:53.137883: E external/local_xla/xla/stream_executor/cuda/cuda_fft.cc:485] Unable to register cuFFT factory: Attempting to register factory for plugin cuFFT when one has already been registered\n",
      "2024-11-06 15:08:53.153722: E external/local_xla/xla/stream_executor/cuda/cuda_dnn.cc:8454] Unable to register cuDNN factory: Attempting to register factory for plugin cuDNN when one has already been registered\n",
      "2024-11-06 15:08:53.158230: E external/local_xla/xla/stream_executor/cuda/cuda_blas.cc:1452] Unable to register cuBLAS factory: Attempting to register factory for plugin cuBLAS when one has already been registered\n",
      "2024-11-06 15:08:53.170289: I tensorflow/core/platform/cpu_feature_guard.cc:210] This TensorFlow binary is optimized to use available CPU instructions in performance-critical operations.\n",
      "To enable the following instructions: AVX2 AVX512F AVX512_VNNI FMA, in other operations, rebuild TensorFlow with the appropriate compiler flags.\n",
      "2024-11-06 15:08:53.969917: W tensorflow/compiler/tf2tensorrt/utils/py_utils.cc:38] TF-TRT Warning: Could not find TensorRT\n"
     ]
    }
   ],
   "source": [
    "import argparse\n",
    "import os\n",
    "\n",
    "import torch\n",
    "from torch.optim import AdamW\n",
    "from torch.utils.data import DataLoader\n",
    "from peft import (\n",
    "    get_peft_config,\n",
    "    get_peft_model,\n",
    "    get_peft_model_state_dict,\n",
    "    set_peft_model_state_dict,\n",
    "    LoraConfig,\n",
    "    PeftType,\n",
    "    PrefixTuningConfig,\n",
    "    PromptEncoderConfig,\n",
    ")\n",
    "\n",
    "import evaluate\n",
    "from datasets import load_dataset\n",
    "from transformers import AutoModelForSequenceClassification, AutoTokenizer, get_linear_schedule_with_warmup, set_seed\n",
    "from tqdm import tqdm"
   ]
  },
  {
   "cell_type": "code",
   "execution_count": 3,
   "metadata": {},
   "outputs": [],
   "source": [
    "batch_size = 16\n",
    "model_name_or_path = \"roberta-large\"\n",
    "task = \"mnli\"\n",
    "peft_type = PeftType.LORA\n",
    "device = \"cuda\"\n",
    "num_epochs = 20"
   ]
  },
  {
   "cell_type": "code",
   "execution_count": 4,
   "metadata": {},
   "outputs": [],
   "source": [
    "peft_config = LoraConfig(task_type=\"SEQ_CLS\", inference_mode=False, r=4, lora_alpha=16, lora_dropout=0.1)\n",
    "lr = 3e-4"
   ]
  },
  {
   "cell_type": "code",
   "execution_count": 5,
   "metadata": {},
   "outputs": [
    {
     "data": {
      "application/vnd.jupyter.widget-view+json": {
       "model_id": "687320a4b76042558970118a5f2796ef",
       "version_major": 2,
       "version_minor": 0
      },
      "text/plain": [
       "Map:   0%|          | 0/9815 [00:00<?, ? examples/s]"
      ]
     },
     "metadata": {},
     "output_type": "display_data"
    }
   ],
   "source": [
    "if any(k in model_name_or_path for k in (\"gpt\", \"opt\", \"bloom\")):\n",
    "    padding_side = \"left\"\n",
    "else:\n",
    "    padding_side = \"right\"\n",
    "\n",
    "tokenizer = AutoTokenizer.from_pretrained(model_name_or_path, padding_side=padding_side)\n",
    "if getattr(tokenizer, \"pad_token_id\") is None:\n",
    "    tokenizer.pad_token_id = tokenizer.eos_token_id\n",
    "\n",
    "datasets = load_dataset(\"glue\", task)\n",
    "metric = evaluate.load(\"glue\", task)\n",
    "\n",
    "\n",
    "def tokenize_function(examples):\n",
    "    # max_length=None => use the model max length (it's actually the default)\n",
    "    outputs = tokenizer(examples['premise'], examples['hypothesis'], truncation=True, max_length=None)\n",
    "    return outputs\n",
    "\n",
    "\n",
    "tokenized_datasets = datasets.map(\n",
    "    tokenize_function,\n",
    "    batched=True,\n",
    "    remove_columns=[\"idx\", \"premise\", \"hypothesis\"],\n",
    ")\n",
    "\n",
    "# We also rename the 'label' column to 'labels' which is the expected name for labels by the models of the\n",
    "# transformers library\n",
    "tokenized_datasets = tokenized_datasets.rename_column(\"label\", \"labels\")\n",
    "\n",
    "\n",
    "def collate_fn(examples):\n",
    "    return tokenizer.pad(examples, padding=\"longest\", return_tensors=\"pt\")\n",
    "\n",
    "\n",
    "# Instantiate dataloaders.\n",
    "train_dataloader = DataLoader(tokenized_datasets[\"train\"], shuffle=True, collate_fn=collate_fn, batch_size=batch_size)\n",
    "eval_dataloader = DataLoader(\n",
    "    tokenized_datasets[\"validation_matched\"], shuffle=False, collate_fn=collate_fn, batch_size=batch_size\n",
    ")\n",
    "mismatch_dataloader = DataLoader(\n",
    "    tokenized_datasets[\"validation_mismatched\"], shuffle=False, collate_fn=collate_fn, batch_size=batch_size\n",
    ")\n",
    "# test_dataloader = DataLoader(\n",
    "#     tokenized_datasets[\"test\"], shuffle=False, collate_fn=collate_fn, batch_size=batch_size\n",
    "# )"
   ]
  },
  {
   "cell_type": "code",
   "execution_count": 6,
   "metadata": {},
   "outputs": [
    {
     "name": "stderr",
     "output_type": "stream",
     "text": [
      "Some weights of RobertaForSequenceClassification were not initialized from the model checkpoint at roberta-large and are newly initialized: ['classifier.dense.bias', 'classifier.dense.weight', 'classifier.out_proj.bias', 'classifier.out_proj.weight']\n",
      "You should probably TRAIN this model on a down-stream task to be able to use it for predictions and inference.\n"
     ]
    },
    {
     "name": "stdout",
     "output_type": "stream",
     "text": [
      "trainable params: 1,445,891 || all params: 356,808,710 || trainable%: 0.4052\n"
     ]
    },
    {
     "data": {
      "text/plain": [
       "PeftModelForSequenceClassification(\n",
       "  (base_model): LoraModel(\n",
       "    (model): RobertaForSequenceClassification(\n",
       "      (roberta): RobertaModel(\n",
       "        (embeddings): RobertaEmbeddings(\n",
       "          (word_embeddings): Embedding(50265, 1024, padding_idx=1)\n",
       "          (position_embeddings): Embedding(514, 1024, padding_idx=1)\n",
       "          (token_type_embeddings): Embedding(1, 1024)\n",
       "          (LayerNorm): LayerNorm((1024,), eps=1e-05, elementwise_affine=True)\n",
       "          (dropout): Dropout(p=0.1, inplace=False)\n",
       "        )\n",
       "        (encoder): RobertaEncoder(\n",
       "          (layer): ModuleList(\n",
       "            (0-23): 24 x RobertaLayer(\n",
       "              (attention): RobertaAttention(\n",
       "                (self): RobertaSdpaSelfAttention(\n",
       "                  (query): lora.Linear(\n",
       "                    (base_layer): Linear(in_features=1024, out_features=1024, bias=True)\n",
       "                    (lora_dropout): ModuleDict(\n",
       "                      (default): Dropout(p=0.1, inplace=False)\n",
       "                    )\n",
       "                    (lora_A): ModuleDict(\n",
       "                      (default): Linear(in_features=1024, out_features=4, bias=False)\n",
       "                    )\n",
       "                    (lora_B): ModuleDict(\n",
       "                      (default): Linear(in_features=4, out_features=1024, bias=False)\n",
       "                    )\n",
       "                    (lora_embedding_A): ParameterDict()\n",
       "                    (lora_embedding_B): ParameterDict()\n",
       "                    (lora_magnitude_vector): ModuleDict()\n",
       "                  )\n",
       "                  (key): Linear(in_features=1024, out_features=1024, bias=True)\n",
       "                  (value): lora.Linear(\n",
       "                    (base_layer): Linear(in_features=1024, out_features=1024, bias=True)\n",
       "                    (lora_dropout): ModuleDict(\n",
       "                      (default): Dropout(p=0.1, inplace=False)\n",
       "                    )\n",
       "                    (lora_A): ModuleDict(\n",
       "                      (default): Linear(in_features=1024, out_features=4, bias=False)\n",
       "                    )\n",
       "                    (lora_B): ModuleDict(\n",
       "                      (default): Linear(in_features=4, out_features=1024, bias=False)\n",
       "                    )\n",
       "                    (lora_embedding_A): ParameterDict()\n",
       "                    (lora_embedding_B): ParameterDict()\n",
       "                    (lora_magnitude_vector): ModuleDict()\n",
       "                  )\n",
       "                  (dropout): Dropout(p=0.1, inplace=False)\n",
       "                )\n",
       "                (output): RobertaSelfOutput(\n",
       "                  (dense): Linear(in_features=1024, out_features=1024, bias=True)\n",
       "                  (LayerNorm): LayerNorm((1024,), eps=1e-05, elementwise_affine=True)\n",
       "                  (dropout): Dropout(p=0.1, inplace=False)\n",
       "                )\n",
       "              )\n",
       "              (intermediate): RobertaIntermediate(\n",
       "                (dense): Linear(in_features=1024, out_features=4096, bias=True)\n",
       "                (intermediate_act_fn): GELUActivation()\n",
       "              )\n",
       "              (output): RobertaOutput(\n",
       "                (dense): Linear(in_features=4096, out_features=1024, bias=True)\n",
       "                (LayerNorm): LayerNorm((1024,), eps=1e-05, elementwise_affine=True)\n",
       "                (dropout): Dropout(p=0.1, inplace=False)\n",
       "              )\n",
       "            )\n",
       "          )\n",
       "        )\n",
       "      )\n",
       "      (classifier): ModulesToSaveWrapper(\n",
       "        (original_module): RobertaClassificationHead(\n",
       "          (dense): Linear(in_features=1024, out_features=1024, bias=True)\n",
       "          (dropout): Dropout(p=0.1, inplace=False)\n",
       "          (out_proj): Linear(in_features=1024, out_features=3, bias=True)\n",
       "        )\n",
       "        (modules_to_save): ModuleDict(\n",
       "          (default): RobertaClassificationHead(\n",
       "            (dense): Linear(in_features=1024, out_features=1024, bias=True)\n",
       "            (dropout): Dropout(p=0.1, inplace=False)\n",
       "            (out_proj): Linear(in_features=1024, out_features=3, bias=True)\n",
       "          )\n",
       "        )\n",
       "      )\n",
       "    )\n",
       "  )\n",
       ")"
      ]
     },
     "execution_count": 6,
     "metadata": {},
     "output_type": "execute_result"
    }
   ],
   "source": [
    "model = AutoModelForSequenceClassification.from_pretrained(model_name_or_path, num_labels=3, return_dict=True)\n",
    "model = get_peft_model(model, peft_config)\n",
    "model.print_trainable_parameters()\n",
    "model"
   ]
  },
  {
   "cell_type": "code",
   "execution_count": 7,
   "metadata": {},
   "outputs": [],
   "source": [
    "def print_trainable_parameters(model):\n",
    "    \"\"\"\n",
    "    Prints the number of trainable parameters in the model.\n",
    "    \"\"\"\n",
    "    trainable_params = 0\n",
    "    all_param = 0\n",
    "    for _, param in model.named_parameters():\n",
    "        all_param += param.numel()\n",
    "        if param.requires_grad:\n",
    "            trainable_params += param.numel()\n",
    "    print(\n",
    "        f\"trainable params: {trainable_params} || all params: {all_param} || trainable%: {100 * trainable_params / all_param:.2f}\"\n",
    "    )"
   ]
  },
  {
   "cell_type": "code",
   "execution_count": 8,
   "metadata": {},
   "outputs": [],
   "source": [
    "for name, param in model.named_parameters():\n",
    "    if 'lora_A' in name:  # Identify and freeze the lora_A layer\n",
    "        param.requires_grad = False"
   ]
  },
  {
   "cell_type": "code",
   "execution_count": 9,
   "metadata": {},
   "outputs": [
    {
     "name": "stdout",
     "output_type": "stream",
     "text": [
      "trainable params: 1249283 || all params: 356808710 || trainable%: 0.35\n"
     ]
    }
   ],
   "source": [
    "print_trainable_parameters(model)"
   ]
  },
  {
   "cell_type": "code",
   "execution_count": 10,
   "metadata": {},
   "outputs": [],
   "source": [
    "optimizer = AdamW(params=model.parameters(), lr=lr)\n",
    "\n",
    "# Instantiate scheduler\n",
    "lr_scheduler = get_linear_schedule_with_warmup(\n",
    "    optimizer=optimizer,\n",
    "    num_warmup_steps=0.06 * (len(train_dataloader) * num_epochs),\n",
    "    num_training_steps=(len(train_dataloader) * num_epochs),\n",
    ")"
   ]
  },
  {
   "cell_type": "code",
   "execution_count": 11,
   "metadata": {},
   "outputs": [],
   "source": [
    "from modules.clientSST import *"
   ]
  },
  {
   "cell_type": "code",
   "execution_count": 12,
   "metadata": {},
   "outputs": [],
   "source": [
    "from torch.optim import AdamW\n",
    "# Create clients (e.g., 3 clients)\n",
    "num_clients = 3\n",
    "\n",
    "# Get the total length of the dataset\n",
    "total_len = len(tokenized_datasets[\"train\"])\n",
    "\n",
    "# Calculate the number of samples per client and the remainder\n",
    "split_size = total_len // num_clients\n",
    "remainder = total_len % num_clients\n",
    "\n",
    "# Create list for splits\n",
    "split_lengths = [split_size] * num_clients\n",
    "\n",
    "# Distribute the remainder among the first few clients\n",
    "for i in range(remainder):\n",
    "    split_lengths[i] += 1\n",
    "\n",
    "# Perform the split\n",
    "# client_data_splits = torch.utils.data.random_split(train_dataloader, split_lengths)\n",
    "train_dataloader = torch.utils.data.random_split(tokenized_datasets[\"train\"], split_lengths)\n",
    "client_data_splits = [DataLoader(train_dataloader[i], shuffle=True, collate_fn=collate_fn, batch_size=batch_size) for i in range(num_clients)]\n",
    "clients = [ClientSST(client_id=i, model=copy.deepcopy(model), data=client_data_splits[i], device=device) for i in range(num_clients)]"
   ]
  },
  {
   "cell_type": "code",
   "execution_count": 13,
   "metadata": {},
   "outputs": [],
   "source": [
    "from modules.server import *\n",
    "server = Server(global_model=model, device=device)"
   ]
  },
  {
   "cell_type": "code",
   "execution_count": 14,
   "metadata": {},
   "outputs": [
    {
     "name": "stderr",
     "output_type": "stream",
     "text": [
      "11/06/2024 15:09:11:ERROR:Failed to detect the name of this notebook, you can set it manually with the WANDB_NOTEBOOK_NAME environment variable to enable code saving.\n",
      "\u001b[34m\u001b[1mwandb\u001b[0m: Currently logged in as: \u001b[33mkenlvq\u001b[0m (\u001b[33mquanla\u001b[0m). Use \u001b[1m`wandb login --relogin`\u001b[0m to force relogin\n"
     ]
    },
    {
     "data": {
      "application/vnd.jupyter.widget-view+json": {
       "model_id": "fe39d402398846bf8605521206c868d6",
       "version_major": 2,
       "version_minor": 0
      },
      "text/plain": [
       "VBox(children=(Label(value='Waiting for wandb.init()...\\r'), FloatProgress(value=0.011113186760081186, max=1.0…"
      ]
     },
     "metadata": {},
     "output_type": "display_data"
    },
    {
     "data": {
      "text/html": [
       "wandb version 0.18.5 is available!  To upgrade, please run:\n",
       " $ pip install wandb --upgrade"
      ],
      "text/plain": [
       "<IPython.core.display.HTML object>"
      ]
     },
     "metadata": {},
     "output_type": "display_data"
    },
    {
     "data": {
      "text/html": [
       "Tracking run with wandb version 0.16.3"
      ],
      "text/plain": [
       "<IPython.core.display.HTML object>"
      ]
     },
     "metadata": {},
     "output_type": "display_data"
    },
    {
     "data": {
      "text/html": [
       "Run data is saved locally in <code>/home/qula0496/quan/fedora/wandb/run-20241106_150915-wsj9qc29</code>"
      ],
      "text/plain": [
       "<IPython.core.display.HTML object>"
      ]
     },
     "metadata": {},
     "output_type": "display_data"
    },
    {
     "data": {
      "text/html": [
       "Syncing run <strong><a href='https://wandb.ai/quanla/FeDORA%20Project%20-%20MNLI/runs/wsj9qc29' target=\"_blank\">FFA-LoRA</a></strong> to <a href='https://wandb.ai/quanla/FeDORA%20Project%20-%20MNLI' target=\"_blank\">Weights & Biases</a> (<a href='https://wandb.me/run' target=\"_blank\">docs</a>)<br/>"
      ],
      "text/plain": [
       "<IPython.core.display.HTML object>"
      ]
     },
     "metadata": {},
     "output_type": "display_data"
    },
    {
     "data": {
      "text/html": [
       " View project at <a href='https://wandb.ai/quanla/FeDORA%20Project%20-%20MNLI' target=\"_blank\">https://wandb.ai/quanla/FeDORA%20Project%20-%20MNLI</a>"
      ],
      "text/plain": [
       "<IPython.core.display.HTML object>"
      ]
     },
     "metadata": {},
     "output_type": "display_data"
    },
    {
     "data": {
      "text/html": [
       " View run at <a href='https://wandb.ai/quanla/FeDORA%20Project%20-%20MNLI/runs/wsj9qc29' target=\"_blank\">https://wandb.ai/quanla/FeDORA%20Project%20-%20MNLI/runs/wsj9qc29</a>"
      ],
      "text/plain": [
       "<IPython.core.display.HTML object>"
      ]
     },
     "metadata": {},
     "output_type": "display_data"
    },
    {
     "data": {
      "text/html": [
       "<button onClick=\"this.nextSibling.style.display='block';this.style.display='none';\">Display W&B run</button><iframe src='https://wandb.ai/quanla/FeDORA%20Project%20-%20MNLI/runs/wsj9qc29?jupyter=true' style='border:none;width:100%;height:420px;display:none;'></iframe>"
      ],
      "text/plain": [
       "<wandb.sdk.wandb_run.Run at 0x7f4acd5f78e0>"
      ]
     },
     "execution_count": 14,
     "metadata": {},
     "output_type": "execute_result"
    }
   ],
   "source": [
    "import wandb\n",
    "wandb.init(project=\"FeDORA Project - MNLI\", entity=\"quanla\", name=\"FFA-LoRA\")"
   ]
  },
  {
   "cell_type": "code",
   "execution_count": 15,
   "metadata": {},
   "outputs": [
    {
     "name": "stdout",
     "output_type": "stream",
     "text": [
      "\n",
      "--- Federated Learning Round 1 ---\n",
      "\n",
      "Training Client 0\n"
     ]
    },
    {
     "name": "stderr",
     "output_type": "stream",
     "text": [
      "  0%|          | 0/8182 [00:00<?, ?it/s]You're using a RobertaTokenizerFast tokenizer. Please note that with a fast tokenizer, using the `__call__` method is faster than using a method to encode the text followed by a call to the `pad` method to get a padded encoding.\n",
      "100%|██████████| 8182/8182 [08:09<00:00, 16.72it/s]\n",
      "100%|██████████| 8182/8182 [07:46<00:00, 17.53it/s]\n",
      "100%|██████████| 8182/8182 [07:47<00:00, 17.50it/s]\n",
      "100%|██████████| 8182/8182 [07:47<00:00, 17.48it/s]\n",
      "100%|██████████| 8182/8182 [07:46<00:00, 17.52it/s]\n"
     ]
    },
    {
     "name": "stdout",
     "output_type": "stream",
     "text": [
      "\n",
      "Training Client 1\n"
     ]
    },
    {
     "name": "stderr",
     "output_type": "stream",
     "text": [
      "100%|██████████| 8182/8182 [07:49<00:00, 17.44it/s]\n",
      "100%|██████████| 8182/8182 [07:49<00:00, 17.44it/s]\n",
      "100%|██████████| 8182/8182 [07:49<00:00, 17.44it/s]\n",
      "100%|██████████| 8182/8182 [07:49<00:00, 17.43it/s]\n",
      "100%|██████████| 8182/8182 [07:48<00:00, 17.46it/s]\n"
     ]
    },
    {
     "name": "stdout",
     "output_type": "stream",
     "text": [
      "\n",
      "Training Client 2\n"
     ]
    },
    {
     "name": "stderr",
     "output_type": "stream",
     "text": [
      "100%|██████████| 8182/8182 [07:49<00:00, 17.44it/s]\n",
      "100%|██████████| 8182/8182 [07:48<00:00, 17.48it/s]\n",
      "100%|██████████| 8182/8182 [07:47<00:00, 17.50it/s]\n",
      "100%|██████████| 8182/8182 [07:47<00:00, 17.49it/s]\n",
      "100%|██████████| 8182/8182 [07:47<00:00, 17.52it/s]\n"
     ]
    },
    {
     "name": "stdout",
     "output_type": "stream",
     "text": [
      "\n",
      "Aggregating client models on the server...\n"
     ]
    },
    {
     "name": "stderr",
     "output_type": "stream",
     "text": [
      "100%|██████████| 614/614 [00:17<00:00, 35.17it/s]\n"
     ]
    },
    {
     "name": "stdout",
     "output_type": "stream",
     "text": [
      "{'accuracy': 0.8841569026999491}\n",
      "\n",
      "--- Federated Learning Round 2 ---\n",
      "\n",
      "Training Client 0\n"
     ]
    },
    {
     "name": "stderr",
     "output_type": "stream",
     "text": [
      "100%|██████████| 8182/8182 [07:48<00:00, 17.45it/s]\n",
      "100%|██████████| 8182/8182 [07:49<00:00, 17.42it/s]\n",
      "100%|██████████| 8182/8182 [07:48<00:00, 17.46it/s]\n",
      "100%|██████████| 8182/8182 [07:48<00:00, 17.46it/s]\n",
      "100%|██████████| 8182/8182 [07:49<00:00, 17.43it/s]\n"
     ]
    },
    {
     "name": "stdout",
     "output_type": "stream",
     "text": [
      "\n",
      "Training Client 1\n"
     ]
    },
    {
     "name": "stderr",
     "output_type": "stream",
     "text": [
      "100%|██████████| 8182/8182 [07:51<00:00, 17.37it/s]\n",
      "100%|██████████| 8182/8182 [07:49<00:00, 17.44it/s]\n",
      "100%|██████████| 8182/8182 [07:49<00:00, 17.41it/s]\n",
      "100%|██████████| 8182/8182 [07:50<00:00, 17.40it/s]\n",
      "100%|██████████| 8182/8182 [07:51<00:00, 17.36it/s]\n"
     ]
    },
    {
     "name": "stdout",
     "output_type": "stream",
     "text": [
      "\n",
      "Training Client 2\n"
     ]
    },
    {
     "name": "stderr",
     "output_type": "stream",
     "text": [
      "100%|██████████| 8182/8182 [07:47<00:00, 17.51it/s]\n",
      "100%|██████████| 8182/8182 [07:52<00:00, 17.31it/s]\n",
      "100%|██████████| 8182/8182 [07:47<00:00, 17.51it/s]\n",
      "100%|██████████| 8182/8182 [07:47<00:00, 17.49it/s]\n",
      "100%|██████████| 8182/8182 [07:50<00:00, 17.39it/s]\n"
     ]
    },
    {
     "name": "stdout",
     "output_type": "stream",
     "text": [
      "\n",
      "Aggregating client models on the server...\n"
     ]
    },
    {
     "name": "stderr",
     "output_type": "stream",
     "text": [
      "100%|██████████| 614/614 [00:17<00:00, 35.50it/s]\n"
     ]
    },
    {
     "name": "stdout",
     "output_type": "stream",
     "text": [
      "{'accuracy': 0.8908813041263373}\n",
      "\n",
      "--- Federated Learning Round 3 ---\n",
      "\n",
      "Training Client 0\n"
     ]
    },
    {
     "name": "stderr",
     "output_type": "stream",
     "text": [
      "100%|██████████| 8182/8182 [07:53<00:00, 17.30it/s]\n",
      "100%|██████████| 8182/8182 [07:49<00:00, 17.44it/s]\n",
      "100%|██████████| 8182/8182 [07:49<00:00, 17.43it/s]\n",
      "100%|██████████| 8182/8182 [07:49<00:00, 17.43it/s]\n",
      "100%|██████████| 8182/8182 [07:48<00:00, 17.45it/s]\n"
     ]
    },
    {
     "name": "stdout",
     "output_type": "stream",
     "text": [
      "\n",
      "Training Client 1\n"
     ]
    },
    {
     "name": "stderr",
     "output_type": "stream",
     "text": [
      "100%|██████████| 8182/8182 [07:49<00:00, 17.41it/s]\n",
      "100%|██████████| 8182/8182 [07:51<00:00, 17.36it/s]\n",
      "100%|██████████| 8182/8182 [07:53<00:00, 17.29it/s]\n",
      "100%|██████████| 8182/8182 [07:49<00:00, 17.42it/s]\n",
      "100%|██████████| 8182/8182 [07:49<00:00, 17.41it/s]\n"
     ]
    },
    {
     "name": "stdout",
     "output_type": "stream",
     "text": [
      "\n",
      "Training Client 2\n"
     ]
    },
    {
     "name": "stderr",
     "output_type": "stream",
     "text": [
      "100%|██████████| 8182/8182 [07:47<00:00, 17.50it/s]\n",
      "100%|██████████| 8182/8182 [07:47<00:00, 17.49it/s]\n",
      "100%|██████████| 8182/8182 [07:47<00:00, 17.48it/s]\n",
      "100%|██████████| 8182/8182 [07:47<00:00, 17.50it/s]\n",
      "100%|██████████| 8182/8182 [07:47<00:00, 17.49it/s]\n"
     ]
    },
    {
     "name": "stdout",
     "output_type": "stream",
     "text": [
      "\n",
      "Aggregating client models on the server...\n"
     ]
    },
    {
     "name": "stderr",
     "output_type": "stream",
     "text": [
      "100%|██████████| 614/614 [00:17<00:00, 35.16it/s]\n"
     ]
    },
    {
     "name": "stdout",
     "output_type": "stream",
     "text": [
      "{'accuracy': 0.8940397350993378}\n",
      "\n",
      "--- Federated Learning Round 4 ---\n",
      "\n",
      "Training Client 0\n"
     ]
    },
    {
     "name": "stderr",
     "output_type": "stream",
     "text": [
      "100%|██████████| 8182/8182 [07:49<00:00, 17.43it/s]\n",
      "100%|██████████| 8182/8182 [07:50<00:00, 17.39it/s]\n",
      "100%|██████████| 8182/8182 [07:50<00:00, 17.37it/s]\n",
      "100%|██████████| 8182/8182 [07:49<00:00, 17.43it/s]\n",
      "100%|██████████| 8182/8182 [07:48<00:00, 17.45it/s]\n"
     ]
    },
    {
     "name": "stdout",
     "output_type": "stream",
     "text": [
      "\n",
      "Training Client 1\n"
     ]
    },
    {
     "name": "stderr",
     "output_type": "stream",
     "text": [
      "100%|██████████| 8182/8182 [07:50<00:00, 17.41it/s]\n",
      "100%|██████████| 8182/8182 [07:50<00:00, 17.40it/s]\n",
      "100%|██████████| 8182/8182 [07:49<00:00, 17.43it/s]\n",
      "100%|██████████| 8182/8182 [07:50<00:00, 17.40it/s]\n",
      "100%|██████████| 8182/8182 [07:50<00:00, 17.40it/s]\n"
     ]
    },
    {
     "name": "stdout",
     "output_type": "stream",
     "text": [
      "\n",
      "Training Client 2\n"
     ]
    },
    {
     "name": "stderr",
     "output_type": "stream",
     "text": [
      "100%|██████████| 8182/8182 [07:47<00:00, 17.52it/s]\n",
      "100%|██████████| 8182/8182 [07:47<00:00, 17.49it/s]\n",
      "100%|██████████| 8182/8182 [07:47<00:00, 17.50it/s]\n",
      "100%|██████████| 8182/8182 [07:46<00:00, 17.54it/s]\n",
      "100%|██████████| 8182/8182 [07:51<00:00, 17.35it/s]\n"
     ]
    },
    {
     "name": "stdout",
     "output_type": "stream",
     "text": [
      "\n",
      "Aggregating client models on the server...\n"
     ]
    },
    {
     "name": "stderr",
     "output_type": "stream",
     "text": [
      "100%|██████████| 614/614 [00:17<00:00, 35.02it/s]\n"
     ]
    },
    {
     "name": "stdout",
     "output_type": "stream",
     "text": [
      "{'accuracy': 0.8940397350993378}\n",
      "\n",
      "--- Federated Learning Round 5 ---\n",
      "\n",
      "Training Client 0\n"
     ]
    },
    {
     "name": "stderr",
     "output_type": "stream",
     "text": [
      "100%|██████████| 8182/8182 [07:50<00:00, 17.39it/s]\n",
      "100%|██████████| 8182/8182 [07:49<00:00, 17.44it/s]\n",
      "100%|██████████| 8182/8182 [07:49<00:00, 17.44it/s]\n",
      "100%|██████████| 8182/8182 [07:49<00:00, 17.41it/s]\n",
      "100%|██████████| 8182/8182 [07:52<00:00, 17.32it/s]\n"
     ]
    },
    {
     "name": "stdout",
     "output_type": "stream",
     "text": [
      "\n",
      "Training Client 1\n"
     ]
    },
    {
     "name": "stderr",
     "output_type": "stream",
     "text": [
      "100%|██████████| 8182/8182 [07:49<00:00, 17.44it/s]\n",
      "100%|██████████| 8182/8182 [07:54<00:00, 17.25it/s]\n",
      "100%|██████████| 8182/8182 [07:50<00:00, 17.41it/s]\n",
      "100%|██████████| 8182/8182 [07:55<00:00, 17.21it/s]\n",
      "100%|██████████| 8182/8182 [07:49<00:00, 17.44it/s]\n"
     ]
    },
    {
     "name": "stdout",
     "output_type": "stream",
     "text": [
      "\n",
      "Training Client 2\n"
     ]
    },
    {
     "name": "stderr",
     "output_type": "stream",
     "text": [
      "100%|██████████| 8182/8182 [07:46<00:00, 17.52it/s]\n",
      "100%|██████████| 8182/8182 [07:49<00:00, 17.43it/s]\n",
      "100%|██████████| 8182/8182 [07:48<00:00, 17.46it/s]\n",
      "100%|██████████| 8182/8182 [07:48<00:00, 17.48it/s]\n",
      "100%|██████████| 8182/8182 [07:47<00:00, 17.49it/s]\n"
     ]
    },
    {
     "name": "stdout",
     "output_type": "stream",
     "text": [
      "\n",
      "Aggregating client models on the server...\n"
     ]
    },
    {
     "name": "stderr",
     "output_type": "stream",
     "text": [
      "100%|██████████| 614/614 [00:17<00:00, 35.10it/s]\n"
     ]
    },
    {
     "name": "stdout",
     "output_type": "stream",
     "text": [
      "{'accuracy': 0.8936321956189506}\n",
      "\n",
      "--- Federated Learning Round 6 ---\n",
      "\n",
      "Training Client 0\n"
     ]
    },
    {
     "name": "stderr",
     "output_type": "stream",
     "text": [
      "100%|██████████| 8182/8182 [07:49<00:00, 17.43it/s]\n",
      "100%|██████████| 8182/8182 [07:50<00:00, 17.38it/s]\n",
      "100%|██████████| 8182/8182 [07:49<00:00, 17.43it/s]\n",
      "100%|██████████| 8182/8182 [07:54<00:00, 17.26it/s]\n",
      "100%|██████████| 8182/8182 [07:49<00:00, 17.41it/s]\n"
     ]
    },
    {
     "name": "stdout",
     "output_type": "stream",
     "text": [
      "\n",
      "Training Client 1\n"
     ]
    },
    {
     "name": "stderr",
     "output_type": "stream",
     "text": [
      "100%|██████████| 8182/8182 [07:50<00:00, 17.40it/s]\n",
      "100%|██████████| 8182/8182 [07:49<00:00, 17.42it/s]\n",
      "100%|██████████| 8182/8182 [07:52<00:00, 17.33it/s]\n",
      "100%|██████████| 8182/8182 [07:49<00:00, 17.42it/s]\n",
      "100%|██████████| 8182/8182 [07:49<00:00, 17.42it/s]\n"
     ]
    },
    {
     "name": "stdout",
     "output_type": "stream",
     "text": [
      "\n",
      "Training Client 2\n"
     ]
    },
    {
     "name": "stderr",
     "output_type": "stream",
     "text": [
      "100%|██████████| 8182/8182 [07:48<00:00, 17.46it/s]\n",
      "100%|██████████| 8182/8182 [07:46<00:00, 17.52it/s]\n",
      "100%|██████████| 8182/8182 [07:47<00:00, 17.52it/s]\n",
      "100%|██████████| 8182/8182 [07:47<00:00, 17.51it/s]\n",
      "100%|██████████| 8182/8182 [07:52<00:00, 17.30it/s]\n"
     ]
    },
    {
     "name": "stdout",
     "output_type": "stream",
     "text": [
      "\n",
      "Aggregating client models on the server...\n"
     ]
    },
    {
     "name": "stderr",
     "output_type": "stream",
     "text": [
      "100%|██████████| 614/614 [00:17<00:00, 35.19it/s]\n"
     ]
    },
    {
     "name": "stdout",
     "output_type": "stream",
     "text": [
      "{'accuracy': 0.8952623535404992}\n",
      "\n",
      "--- Federated Learning Round 7 ---\n",
      "\n",
      "Training Client 0\n"
     ]
    },
    {
     "name": "stderr",
     "output_type": "stream",
     "text": [
      "100%|██████████| 8182/8182 [07:49<00:00, 17.43it/s]\n",
      "100%|██████████| 8182/8182 [07:49<00:00, 17.42it/s]\n",
      "100%|██████████| 8182/8182 [07:53<00:00, 17.28it/s]\n",
      "100%|██████████| 8182/8182 [07:49<00:00, 17.44it/s]\n",
      "100%|██████████| 8182/8182 [07:49<00:00, 17.43it/s]\n"
     ]
    },
    {
     "name": "stdout",
     "output_type": "stream",
     "text": [
      "\n",
      "Training Client 1\n"
     ]
    },
    {
     "name": "stderr",
     "output_type": "stream",
     "text": [
      "100%|██████████| 8182/8182 [07:51<00:00, 17.36it/s]\n",
      "100%|██████████| 8182/8182 [07:50<00:00, 17.40it/s]\n",
      "100%|██████████| 8182/8182 [07:52<00:00, 17.33it/s]\n",
      "100%|██████████| 8182/8182 [07:55<00:00, 17.22it/s]\n",
      "100%|██████████| 8182/8182 [07:50<00:00, 17.40it/s]\n"
     ]
    },
    {
     "name": "stdout",
     "output_type": "stream",
     "text": [
      "\n",
      "Training Client 2\n"
     ]
    },
    {
     "name": "stderr",
     "output_type": "stream",
     "text": [
      "100%|██████████| 8182/8182 [07:53<00:00, 17.28it/s]\n",
      "100%|██████████| 8182/8182 [07:47<00:00, 17.50it/s]\n",
      "100%|██████████| 8182/8182 [07:47<00:00, 17.50it/s]\n",
      "100%|██████████| 8182/8182 [07:47<00:00, 17.50it/s]\n",
      "100%|██████████| 8182/8182 [07:46<00:00, 17.53it/s]\n"
     ]
    },
    {
     "name": "stdout",
     "output_type": "stream",
     "text": [
      "\n",
      "Aggregating client models on the server...\n"
     ]
    },
    {
     "name": "stderr",
     "output_type": "stream",
     "text": [
      "100%|██████████| 614/614 [00:17<00:00, 34.95it/s]\n"
     ]
    },
    {
     "name": "stdout",
     "output_type": "stream",
     "text": [
      "{'accuracy': 0.8969943963321447}\n",
      "\n",
      "--- Federated Learning Round 8 ---\n",
      "\n",
      "Training Client 0\n"
     ]
    },
    {
     "name": "stderr",
     "output_type": "stream",
     "text": [
      "100%|██████████| 8182/8182 [07:51<00:00, 17.37it/s]\n",
      "100%|██████████| 8182/8182 [07:52<00:00, 17.30it/s]\n",
      "100%|██████████| 8182/8182 [07:50<00:00, 17.40it/s]\n",
      "100%|██████████| 8182/8182 [07:51<00:00, 17.36it/s]\n",
      "100%|██████████| 8182/8182 [07:49<00:00, 17.43it/s]\n"
     ]
    },
    {
     "name": "stdout",
     "output_type": "stream",
     "text": [
      "\n",
      "Training Client 1\n"
     ]
    },
    {
     "name": "stderr",
     "output_type": "stream",
     "text": [
      "100%|██████████| 8182/8182 [07:52<00:00, 17.32it/s]\n",
      "100%|██████████| 8182/8182 [07:51<00:00, 17.35it/s]\n",
      "100%|██████████| 8182/8182 [07:49<00:00, 17.43it/s]\n",
      "100%|██████████| 8182/8182 [07:49<00:00, 17.44it/s]\n",
      "100%|██████████| 8182/8182 [07:48<00:00, 17.46it/s]\n"
     ]
    },
    {
     "name": "stdout",
     "output_type": "stream",
     "text": [
      "\n",
      "Training Client 2\n"
     ]
    },
    {
     "name": "stderr",
     "output_type": "stream",
     "text": [
      "100%|██████████| 8182/8182 [07:47<00:00, 17.51it/s]\n",
      "100%|██████████| 8182/8182 [07:47<00:00, 17.51it/s]\n",
      "100%|██████████| 8182/8182 [07:48<00:00, 17.47it/s]\n",
      "100%|██████████| 8182/8182 [07:46<00:00, 17.53it/s]\n",
      "100%|██████████| 8182/8182 [07:52<00:00, 17.30it/s]\n"
     ]
    },
    {
     "name": "stdout",
     "output_type": "stream",
     "text": [
      "\n",
      "Aggregating client models on the server...\n"
     ]
    },
    {
     "name": "stderr",
     "output_type": "stream",
     "text": [
      "100%|██████████| 614/614 [00:17<00:00, 35.08it/s]\n"
     ]
    },
    {
     "name": "stdout",
     "output_type": "stream",
     "text": [
      "{'accuracy': 0.898318899643403}\n",
      "\n",
      "--- Federated Learning Round 9 ---\n",
      "\n",
      "Training Client 0\n"
     ]
    },
    {
     "name": "stderr",
     "output_type": "stream",
     "text": [
      "100%|██████████| 8182/8182 [07:48<00:00, 17.45it/s]\n",
      "100%|██████████| 8182/8182 [07:53<00:00, 17.29it/s]\n",
      "100%|██████████| 8182/8182 [07:50<00:00, 17.40it/s]\n",
      "100%|██████████| 8182/8182 [07:51<00:00, 17.35it/s]\n",
      "100%|██████████| 8182/8182 [07:49<00:00, 17.41it/s]\n"
     ]
    },
    {
     "name": "stdout",
     "output_type": "stream",
     "text": [
      "\n",
      "Training Client 1\n"
     ]
    },
    {
     "name": "stderr",
     "output_type": "stream",
     "text": [
      "100%|██████████| 8182/8182 [07:50<00:00, 17.39it/s]\n",
      "100%|██████████| 8182/8182 [07:50<00:00, 17.38it/s]\n",
      "100%|██████████| 8182/8182 [07:49<00:00, 17.42it/s]\n",
      "100%|██████████| 8182/8182 [07:50<00:00, 17.39it/s]\n",
      "100%|██████████| 8182/8182 [07:50<00:00, 17.39it/s]\n"
     ]
    },
    {
     "name": "stdout",
     "output_type": "stream",
     "text": [
      "\n",
      "Training Client 2\n"
     ]
    },
    {
     "name": "stderr",
     "output_type": "stream",
     "text": [
      "100%|██████████| 8182/8182 [07:51<00:00, 17.37it/s]\n",
      "100%|██████████| 8182/8182 [07:47<00:00, 17.50it/s]\n",
      "100%|██████████| 8182/8182 [07:46<00:00, 17.53it/s]\n",
      "100%|██████████| 8182/8182 [07:51<00:00, 17.35it/s]\n",
      "100%|██████████| 8182/8182 [07:47<00:00, 17.52it/s]\n"
     ]
    },
    {
     "name": "stdout",
     "output_type": "stream",
     "text": [
      "\n",
      "Aggregating client models on the server...\n"
     ]
    },
    {
     "name": "stderr",
     "output_type": "stream",
     "text": [
      "100%|██████████| 614/614 [00:17<00:00, 35.11it/s]\n"
     ]
    },
    {
     "name": "stdout",
     "output_type": "stream",
     "text": [
      "{'accuracy': 0.8958736627610799}\n",
      "\n",
      "--- Federated Learning Round 10 ---\n",
      "\n",
      "Training Client 0\n"
     ]
    },
    {
     "name": "stderr",
     "output_type": "stream",
     "text": [
      "100%|██████████| 8182/8182 [07:49<00:00, 17.42it/s]\n",
      "100%|██████████| 8182/8182 [07:50<00:00, 17.39it/s]\n",
      "100%|██████████| 8182/8182 [07:48<00:00, 17.45it/s]\n",
      "100%|██████████| 8182/8182 [07:51<00:00, 17.36it/s]\n",
      "100%|██████████| 8182/8182 [07:49<00:00, 17.41it/s]\n"
     ]
    },
    {
     "name": "stdout",
     "output_type": "stream",
     "text": [
      "\n",
      "Training Client 1\n"
     ]
    },
    {
     "name": "stderr",
     "output_type": "stream",
     "text": [
      "100%|██████████| 8182/8182 [07:50<00:00, 17.40it/s]\n",
      "100%|██████████| 8182/8182 [07:50<00:00, 17.41it/s]\n",
      "100%|██████████| 8182/8182 [07:49<00:00, 17.42it/s]\n",
      "100%|██████████| 8182/8182 [07:50<00:00, 17.41it/s]\n",
      "100%|██████████| 8182/8182 [07:50<00:00, 17.40it/s]\n"
     ]
    },
    {
     "name": "stdout",
     "output_type": "stream",
     "text": [
      "\n",
      "Training Client 2\n"
     ]
    },
    {
     "name": "stderr",
     "output_type": "stream",
     "text": [
      "100%|██████████| 8182/8182 [07:47<00:00, 17.49it/s]\n",
      "100%|██████████| 8182/8182 [07:47<00:00, 17.50it/s]\n",
      "100%|██████████| 8182/8182 [07:47<00:00, 17.50it/s]\n",
      "100%|██████████| 8182/8182 [07:48<00:00, 17.48it/s]\n",
      "100%|██████████| 8182/8182 [07:53<00:00, 17.29it/s]\n"
     ]
    },
    {
     "name": "stdout",
     "output_type": "stream",
     "text": [
      "\n",
      "Aggregating client models on the server...\n"
     ]
    },
    {
     "name": "stderr",
     "output_type": "stream",
     "text": [
      "100%|██████████| 614/614 [00:17<00:00, 35.02it/s]\n"
     ]
    },
    {
     "name": "stdout",
     "output_type": "stream",
     "text": [
      "{'accuracy': 0.8980132450331125}\n",
      "\n",
      "--- Federated Learning Round 11 ---\n",
      "\n",
      "Training Client 0\n"
     ]
    },
    {
     "name": "stderr",
     "output_type": "stream",
     "text": [
      "100%|██████████| 8182/8182 [07:50<00:00, 17.40it/s]\n",
      "100%|██████████| 8182/8182 [07:48<00:00, 17.45it/s]\n",
      "100%|██████████| 8182/8182 [07:50<00:00, 17.38it/s]\n",
      "100%|██████████| 8182/8182 [07:50<00:00, 17.40it/s]\n",
      "100%|██████████| 8182/8182 [07:49<00:00, 17.43it/s]\n"
     ]
    },
    {
     "name": "stdout",
     "output_type": "stream",
     "text": [
      "\n",
      "Training Client 1\n"
     ]
    },
    {
     "name": "stderr",
     "output_type": "stream",
     "text": [
      "100%|██████████| 8182/8182 [07:50<00:00, 17.38it/s]\n",
      "100%|██████████| 8182/8182 [07:51<00:00, 17.35it/s]\n",
      "100%|██████████| 8182/8182 [07:50<00:00, 17.40it/s]\n",
      "100%|██████████| 8182/8182 [07:49<00:00, 17.41it/s]\n",
      "100%|██████████| 8182/8182 [07:50<00:00, 17.38it/s]\n"
     ]
    },
    {
     "name": "stdout",
     "output_type": "stream",
     "text": [
      "\n",
      "Training Client 2\n"
     ]
    },
    {
     "name": "stderr",
     "output_type": "stream",
     "text": [
      "100%|██████████| 8182/8182 [07:47<00:00, 17.50it/s]\n",
      "100%|██████████| 8182/8182 [07:46<00:00, 17.53it/s]\n",
      "100%|██████████| 8182/8182 [07:49<00:00, 17.42it/s]\n",
      "100%|██████████| 8182/8182 [07:46<00:00, 17.53it/s]\n",
      "100%|██████████| 8182/8182 [07:47<00:00, 17.49it/s]\n"
     ]
    },
    {
     "name": "stdout",
     "output_type": "stream",
     "text": [
      "\n",
      "Aggregating client models on the server...\n"
     ]
    },
    {
     "name": "stderr",
     "output_type": "stream",
     "text": [
      "100%|██████████| 614/614 [00:17<00:00, 35.15it/s]\n"
     ]
    },
    {
     "name": "stdout",
     "output_type": "stream",
     "text": [
      "{'accuracy': 0.8967906265919511}\n",
      "\n",
      "--- Federated Learning Round 12 ---\n",
      "\n",
      "Training Client 0\n"
     ]
    },
    {
     "name": "stderr",
     "output_type": "stream",
     "text": [
      "100%|██████████| 8182/8182 [07:50<00:00, 17.40it/s]\n",
      "100%|██████████| 8182/8182 [07:56<00:00, 17.18it/s]\n",
      "100%|██████████| 8182/8182 [07:51<00:00, 17.37it/s]\n",
      "100%|██████████| 8182/8182 [07:49<00:00, 17.42it/s]\n",
      "100%|██████████| 8182/8182 [07:49<00:00, 17.42it/s]\n"
     ]
    },
    {
     "name": "stdout",
     "output_type": "stream",
     "text": [
      "\n",
      "Training Client 1\n"
     ]
    },
    {
     "name": "stderr",
     "output_type": "stream",
     "text": [
      "100%|██████████| 8182/8182 [07:49<00:00, 17.42it/s]\n",
      "100%|██████████| 8182/8182 [07:49<00:00, 17.41it/s]\n",
      "100%|██████████| 8182/8182 [07:49<00:00, 17.42it/s]\n",
      "100%|██████████| 8182/8182 [07:50<00:00, 17.40it/s]\n",
      "100%|██████████| 8182/8182 [07:50<00:00, 17.39it/s]\n"
     ]
    },
    {
     "name": "stdout",
     "output_type": "stream",
     "text": [
      "\n",
      "Training Client 2\n"
     ]
    },
    {
     "name": "stderr",
     "output_type": "stream",
     "text": [
      "100%|██████████| 8182/8182 [07:49<00:00, 17.43it/s]\n",
      "100%|██████████| 8182/8182 [07:48<00:00, 17.47it/s]\n",
      "100%|██████████| 8182/8182 [07:47<00:00, 17.49it/s]\n",
      "100%|██████████| 8182/8182 [07:47<00:00, 17.50it/s]\n",
      "100%|██████████| 8182/8182 [07:56<00:00, 17.18it/s]\n"
     ]
    },
    {
     "name": "stdout",
     "output_type": "stream",
     "text": [
      "\n",
      "Aggregating client models on the server...\n"
     ]
    },
    {
     "name": "stderr",
     "output_type": "stream",
     "text": [
      "100%|██████████| 614/614 [00:17<00:00, 35.11it/s]\n"
     ]
    },
    {
     "name": "stdout",
     "output_type": "stream",
     "text": [
      "{'accuracy': 0.8977075904228222}\n",
      "\n",
      "--- Federated Learning Round 13 ---\n",
      "\n",
      "Training Client 0\n"
     ]
    },
    {
     "name": "stderr",
     "output_type": "stream",
     "text": [
      "100%|██████████| 8182/8182 [07:50<00:00, 17.39it/s]\n",
      "100%|██████████| 8182/8182 [07:49<00:00, 17.41it/s]\n",
      "100%|██████████| 8182/8182 [07:48<00:00, 17.46it/s]\n",
      "100%|██████████| 8182/8182 [07:50<00:00, 17.39it/s]\n",
      "100%|██████████| 8182/8182 [07:48<00:00, 17.46it/s]\n"
     ]
    },
    {
     "name": "stdout",
     "output_type": "stream",
     "text": [
      "\n",
      "Training Client 1\n"
     ]
    },
    {
     "name": "stderr",
     "output_type": "stream",
     "text": [
      "100%|██████████| 8182/8182 [07:49<00:00, 17.41it/s]\n",
      "100%|██████████| 8182/8182 [07:49<00:00, 17.41it/s]\n",
      "100%|██████████| 8182/8182 [07:50<00:00, 17.39it/s]\n",
      "100%|██████████| 8182/8182 [07:51<00:00, 17.35it/s]\n",
      "100%|██████████| 8182/8182 [07:50<00:00, 17.40it/s]\n"
     ]
    },
    {
     "name": "stdout",
     "output_type": "stream",
     "text": [
      "\n",
      "Training Client 2\n"
     ]
    },
    {
     "name": "stderr",
     "output_type": "stream",
     "text": [
      "100%|██████████| 8182/8182 [07:47<00:00, 17.52it/s]\n",
      "100%|██████████| 8182/8182 [07:48<00:00, 17.46it/s]\n",
      "100%|██████████| 8182/8182 [07:47<00:00, 17.49it/s]\n",
      "100%|██████████| 8182/8182 [07:47<00:00, 17.49it/s]\n",
      "100%|██████████| 8182/8182 [07:47<00:00, 17.50it/s]\n"
     ]
    },
    {
     "name": "stdout",
     "output_type": "stream",
     "text": [
      "\n",
      "Aggregating client models on the server...\n"
     ]
    },
    {
     "name": "stderr",
     "output_type": "stream",
     "text": [
      "100%|██████████| 614/614 [00:17<00:00, 35.12it/s]\n"
     ]
    },
    {
     "name": "stdout",
     "output_type": "stream",
     "text": [
      "{'accuracy': 0.8954661232806929}\n",
      "\n",
      "--- Federated Learning Round 14 ---\n",
      "\n",
      "Training Client 0\n"
     ]
    },
    {
     "name": "stderr",
     "output_type": "stream",
     "text": [
      "100%|██████████| 8182/8182 [07:50<00:00, 17.39it/s]\n",
      "100%|██████████| 8182/8182 [07:52<00:00, 17.31it/s]\n",
      "100%|██████████| 8182/8182 [07:49<00:00, 17.43it/s]\n",
      "100%|██████████| 8182/8182 [07:49<00:00, 17.42it/s]\n",
      "100%|██████████| 8182/8182 [07:50<00:00, 17.39it/s]\n"
     ]
    },
    {
     "name": "stdout",
     "output_type": "stream",
     "text": [
      "\n",
      "Training Client 1\n"
     ]
    },
    {
     "name": "stderr",
     "output_type": "stream",
     "text": [
      "100%|██████████| 8182/8182 [07:53<00:00, 17.29it/s]\n",
      "100%|██████████| 8182/8182 [07:51<00:00, 17.37it/s]\n",
      "100%|██████████| 8182/8182 [07:49<00:00, 17.42it/s]\n",
      "100%|██████████| 8182/8182 [07:50<00:00, 17.40it/s]\n",
      "100%|██████████| 8182/8182 [07:54<00:00, 17.25it/s]\n"
     ]
    },
    {
     "name": "stdout",
     "output_type": "stream",
     "text": [
      "\n",
      "Training Client 2\n"
     ]
    },
    {
     "name": "stderr",
     "output_type": "stream",
     "text": [
      "100%|██████████| 8182/8182 [07:46<00:00, 17.52it/s]\n",
      "100%|██████████| 8182/8182 [07:47<00:00, 17.51it/s]\n",
      "100%|██████████| 8182/8182 [07:48<00:00, 17.47it/s]\n",
      "100%|██████████| 8182/8182 [07:46<00:00, 17.55it/s]\n",
      "100%|██████████| 8182/8182 [07:52<00:00, 17.33it/s]\n"
     ]
    },
    {
     "name": "stdout",
     "output_type": "stream",
     "text": [
      "\n",
      "Aggregating client models on the server...\n"
     ]
    },
    {
     "name": "stderr",
     "output_type": "stream",
     "text": [
      "100%|██████████| 614/614 [00:17<00:00, 35.09it/s]\n"
     ]
    },
    {
     "name": "stdout",
     "output_type": "stream",
     "text": [
      "{'accuracy': 0.8975038206826287}\n",
      "\n",
      "--- Federated Learning Round 15 ---\n",
      "\n",
      "Training Client 0\n"
     ]
    },
    {
     "name": "stderr",
     "output_type": "stream",
     "text": [
      "100%|██████████| 8182/8182 [07:49<00:00, 17.43it/s]\n",
      "100%|██████████| 8182/8182 [07:50<00:00, 17.39it/s]\n",
      "100%|██████████| 8182/8182 [07:51<00:00, 17.35it/s]\n",
      "100%|██████████| 8182/8182 [07:50<00:00, 17.40it/s]\n",
      "100%|██████████| 8182/8182 [07:49<00:00, 17.42it/s]\n"
     ]
    },
    {
     "name": "stdout",
     "output_type": "stream",
     "text": [
      "\n",
      "Training Client 1\n"
     ]
    },
    {
     "name": "stderr",
     "output_type": "stream",
     "text": [
      "100%|██████████| 8182/8182 [07:49<00:00, 17.42it/s]\n",
      "100%|██████████| 8182/8182 [07:49<00:00, 17.42it/s]\n",
      "100%|██████████| 8182/8182 [07:49<00:00, 17.42it/s]\n",
      "100%|██████████| 8182/8182 [07:52<00:00, 17.30it/s]\n",
      "100%|██████████| 8182/8182 [07:50<00:00, 17.40it/s]\n"
     ]
    },
    {
     "name": "stdout",
     "output_type": "stream",
     "text": [
      "\n",
      "Training Client 2\n"
     ]
    },
    {
     "name": "stderr",
     "output_type": "stream",
     "text": [
      "100%|██████████| 8182/8182 [07:48<00:00, 17.47it/s]\n",
      "100%|██████████| 8182/8182 [07:47<00:00, 17.51it/s]\n",
      "100%|██████████| 8182/8182 [07:47<00:00, 17.51it/s]\n",
      "100%|██████████| 8182/8182 [07:47<00:00, 17.49it/s]\n",
      "100%|██████████| 8182/8182 [07:47<00:00, 17.50it/s]\n"
     ]
    },
    {
     "name": "stdout",
     "output_type": "stream",
     "text": [
      "\n",
      "Aggregating client models on the server...\n"
     ]
    },
    {
     "name": "stderr",
     "output_type": "stream",
     "text": [
      "100%|██████████| 614/614 [00:17<00:00, 34.88it/s]\n"
     ]
    },
    {
     "name": "stdout",
     "output_type": "stream",
     "text": [
      "{'accuracy': 0.8975038206826287}\n",
      "\n",
      "--- Federated Learning Round 16 ---\n",
      "\n",
      "Training Client 0\n"
     ]
    },
    {
     "name": "stderr",
     "output_type": "stream",
     "text": [
      "100%|██████████| 8182/8182 [07:49<00:00, 17.44it/s]\n",
      "100%|██████████| 8182/8182 [07:49<00:00, 17.41it/s]\n",
      "100%|██████████| 8182/8182 [07:49<00:00, 17.42it/s]\n",
      "100%|██████████| 8182/8182 [07:53<00:00, 17.27it/s]\n",
      "100%|██████████| 8182/8182 [07:49<00:00, 17.42it/s]\n"
     ]
    },
    {
     "name": "stdout",
     "output_type": "stream",
     "text": [
      "\n",
      "Training Client 1\n"
     ]
    },
    {
     "name": "stderr",
     "output_type": "stream",
     "text": [
      "100%|██████████| 8182/8182 [07:50<00:00, 17.39it/s]\n",
      "100%|██████████| 8182/8182 [07:49<00:00, 17.41it/s]\n",
      "100%|██████████| 8182/8182 [07:50<00:00, 17.39it/s]\n",
      "100%|██████████| 8182/8182 [07:48<00:00, 17.46it/s]\n",
      "100%|██████████| 8182/8182 [07:53<00:00, 17.28it/s]\n"
     ]
    },
    {
     "name": "stdout",
     "output_type": "stream",
     "text": [
      "\n",
      "Training Client 2\n"
     ]
    },
    {
     "name": "stderr",
     "output_type": "stream",
     "text": [
      "100%|██████████| 8182/8182 [07:46<00:00, 17.53it/s]\n",
      "100%|██████████| 8182/8182 [07:46<00:00, 17.54it/s]\n",
      "100%|██████████| 8182/8182 [07:46<00:00, 17.54it/s]\n",
      "100%|██████████| 8182/8182 [07:51<00:00, 17.36it/s]\n",
      "100%|██████████| 8182/8182 [07:55<00:00, 17.22it/s]\n"
     ]
    },
    {
     "name": "stdout",
     "output_type": "stream",
     "text": [
      "\n",
      "Aggregating client models on the server...\n"
     ]
    },
    {
     "name": "stderr",
     "output_type": "stream",
     "text": [
      "100%|██████████| 614/614 [00:17<00:00, 34.81it/s]\n"
     ]
    },
    {
     "name": "stdout",
     "output_type": "stream",
     "text": [
      "{'accuracy': 0.897300050942435}\n",
      "\n",
      "--- Federated Learning Round 17 ---\n",
      "\n",
      "Training Client 0\n"
     ]
    },
    {
     "name": "stderr",
     "output_type": "stream",
     "text": [
      "100%|██████████| 8182/8182 [07:49<00:00, 17.44it/s]\n",
      "100%|██████████| 8182/8182 [07:49<00:00, 17.44it/s]\n",
      "100%|██████████| 8182/8182 [07:50<00:00, 17.41it/s]\n",
      "100%|██████████| 8182/8182 [07:49<00:00, 17.44it/s]\n",
      "100%|██████████| 8182/8182 [07:49<00:00, 17.43it/s]\n"
     ]
    },
    {
     "name": "stdout",
     "output_type": "stream",
     "text": [
      "\n",
      "Training Client 1\n"
     ]
    },
    {
     "name": "stderr",
     "output_type": "stream",
     "text": [
      "100%|██████████| 8182/8182 [07:50<00:00, 17.40it/s]\n",
      "100%|██████████| 8182/8182 [07:50<00:00, 17.39it/s]\n",
      "100%|██████████| 8182/8182 [07:50<00:00, 17.39it/s]\n",
      "100%|██████████| 8182/8182 [07:49<00:00, 17.42it/s]\n",
      "100%|██████████| 8182/8182 [07:50<00:00, 17.41it/s]\n"
     ]
    },
    {
     "name": "stdout",
     "output_type": "stream",
     "text": [
      "\n",
      "Training Client 2\n"
     ]
    },
    {
     "name": "stderr",
     "output_type": "stream",
     "text": [
      "100%|██████████| 8182/8182 [07:47<00:00, 17.52it/s]\n",
      "100%|██████████| 8182/8182 [07:52<00:00, 17.31it/s]\n",
      "100%|██████████| 8182/8182 [07:47<00:00, 17.50it/s]\n",
      "100%|██████████| 8182/8182 [07:50<00:00, 17.40it/s]\n",
      "100%|██████████| 8182/8182 [07:47<00:00, 17.50it/s]\n"
     ]
    },
    {
     "name": "stdout",
     "output_type": "stream",
     "text": [
      "\n",
      "Aggregating client models on the server...\n"
     ]
    },
    {
     "name": "stderr",
     "output_type": "stream",
     "text": [
      "100%|██████████| 614/614 [00:17<00:00, 34.92it/s]\n"
     ]
    },
    {
     "name": "stdout",
     "output_type": "stream",
     "text": [
      "{'accuracy': 0.895364238410596}\n",
      "\n",
      "--- Federated Learning Round 18 ---\n",
      "\n",
      "Training Client 0\n"
     ]
    },
    {
     "name": "stderr",
     "output_type": "stream",
     "text": [
      "100%|██████████| 8182/8182 [07:49<00:00, 17.41it/s]\n",
      "100%|██████████| 8182/8182 [07:55<00:00, 17.20it/s]\n",
      "100%|██████████| 8182/8182 [07:49<00:00, 17.42it/s]\n",
      "100%|██████████| 8182/8182 [07:50<00:00, 17.38it/s]\n",
      "100%|██████████| 8182/8182 [07:50<00:00, 17.41it/s]\n"
     ]
    },
    {
     "name": "stdout",
     "output_type": "stream",
     "text": [
      "\n",
      "Training Client 1\n"
     ]
    },
    {
     "name": "stderr",
     "output_type": "stream",
     "text": [
      "100%|██████████| 8182/8182 [07:49<00:00, 17.41it/s]\n",
      "100%|██████████| 8182/8182 [07:53<00:00, 17.28it/s]\n",
      "100%|██████████| 8182/8182 [07:50<00:00, 17.40it/s]\n",
      "100%|██████████| 8182/8182 [07:50<00:00, 17.40it/s]\n",
      "100%|██████████| 8182/8182 [07:49<00:00, 17.42it/s]\n"
     ]
    },
    {
     "name": "stdout",
     "output_type": "stream",
     "text": [
      "\n",
      "Training Client 2\n"
     ]
    },
    {
     "name": "stderr",
     "output_type": "stream",
     "text": [
      "100%|██████████| 8182/8182 [07:48<00:00, 17.45it/s]\n",
      "100%|██████████| 8182/8182 [07:49<00:00, 17.43it/s]\n",
      "100%|██████████| 8182/8182 [07:47<00:00, 17.49it/s]\n",
      "100%|██████████| 8182/8182 [07:47<00:00, 17.52it/s]\n",
      "100%|██████████| 8182/8182 [07:52<00:00, 17.33it/s]\n"
     ]
    },
    {
     "name": "stdout",
     "output_type": "stream",
     "text": [
      "\n",
      "Aggregating client models on the server...\n"
     ]
    },
    {
     "name": "stderr",
     "output_type": "stream",
     "text": [
      "100%|██████████| 614/614 [00:17<00:00, 35.00it/s]\n"
     ]
    },
    {
     "name": "stdout",
     "output_type": "stream",
     "text": [
      "{'accuracy': 0.8957717778909832}\n",
      "\n",
      "--- Federated Learning Round 19 ---\n",
      "\n",
      "Training Client 0\n"
     ]
    },
    {
     "name": "stderr",
     "output_type": "stream",
     "text": [
      "100%|██████████| 8182/8182 [07:49<00:00, 17.42it/s]\n",
      "100%|██████████| 8182/8182 [07:49<00:00, 17.42it/s]\n",
      "100%|██████████| 8182/8182 [07:49<00:00, 17.43it/s]\n",
      "100%|██████████| 8182/8182 [07:49<00:00, 17.44it/s]\n",
      "100%|██████████| 8182/8182 [07:49<00:00, 17.43it/s]\n"
     ]
    },
    {
     "name": "stdout",
     "output_type": "stream",
     "text": [
      "\n",
      "Training Client 1\n"
     ]
    },
    {
     "name": "stderr",
     "output_type": "stream",
     "text": [
      "100%|██████████| 8182/8182 [07:50<00:00, 17.39it/s]\n",
      "100%|██████████| 8182/8182 [07:50<00:00, 17.38it/s]\n",
      "100%|██████████| 8182/8182 [07:48<00:00, 17.45it/s]\n",
      "100%|██████████| 8182/8182 [07:49<00:00, 17.42it/s]\n",
      "100%|██████████| 8182/8182 [07:52<00:00, 17.30it/s]\n"
     ]
    },
    {
     "name": "stdout",
     "output_type": "stream",
     "text": [
      "\n",
      "Training Client 2\n"
     ]
    },
    {
     "name": "stderr",
     "output_type": "stream",
     "text": [
      "100%|██████████| 8182/8182 [07:47<00:00, 17.50it/s]\n",
      "100%|██████████| 8182/8182 [07:53<00:00, 17.29it/s]\n",
      "100%|██████████| 8182/8182 [07:49<00:00, 17.42it/s]\n",
      "100%|██████████| 8182/8182 [07:46<00:00, 17.53it/s]\n",
      "100%|██████████| 8182/8182 [07:48<00:00, 17.46it/s]\n"
     ]
    },
    {
     "name": "stdout",
     "output_type": "stream",
     "text": [
      "\n",
      "Aggregating client models on the server...\n"
     ]
    },
    {
     "name": "stderr",
     "output_type": "stream",
     "text": [
      "100%|██████████| 614/614 [00:17<00:00, 35.05it/s]\n"
     ]
    },
    {
     "name": "stdout",
     "output_type": "stream",
     "text": [
      "{'accuracy': 0.8959755476311768}\n",
      "\n",
      "--- Federated Learning Round 20 ---\n",
      "\n",
      "Training Client 0\n"
     ]
    },
    {
     "name": "stderr",
     "output_type": "stream",
     "text": [
      "100%|██████████| 8182/8182 [07:56<00:00, 17.16it/s]\n",
      "100%|██████████| 8182/8182 [07:49<00:00, 17.43it/s]\n",
      "100%|██████████| 8182/8182 [07:48<00:00, 17.45it/s]\n",
      "100%|██████████| 8182/8182 [07:50<00:00, 17.39it/s]\n",
      "100%|██████████| 8182/8182 [07:48<00:00, 17.46it/s]\n"
     ]
    },
    {
     "name": "stdout",
     "output_type": "stream",
     "text": [
      "\n",
      "Training Client 1\n"
     ]
    },
    {
     "name": "stderr",
     "output_type": "stream",
     "text": [
      "100%|██████████| 8182/8182 [07:49<00:00, 17.43it/s]\n",
      "100%|██████████| 8182/8182 [07:50<00:00, 17.39it/s]\n",
      "100%|██████████| 8182/8182 [07:49<00:00, 17.43it/s]\n",
      "100%|██████████| 8182/8182 [07:49<00:00, 17.42it/s]\n",
      "100%|██████████| 8182/8182 [07:49<00:00, 17.43it/s]\n"
     ]
    },
    {
     "name": "stdout",
     "output_type": "stream",
     "text": [
      "\n",
      "Training Client 2\n"
     ]
    },
    {
     "name": "stderr",
     "output_type": "stream",
     "text": [
      "100%|██████████| 8182/8182 [07:47<00:00, 17.49it/s]\n",
      "100%|██████████| 8182/8182 [07:47<00:00, 17.49it/s]\n",
      "100%|██████████| 8182/8182 [07:47<00:00, 17.50it/s]\n",
      "100%|██████████| 8182/8182 [07:48<00:00, 17.46it/s]\n",
      "100%|██████████| 8182/8182 [07:54<00:00, 17.23it/s]\n"
     ]
    },
    {
     "name": "stdout",
     "output_type": "stream",
     "text": [
      "\n",
      "Aggregating client models on the server...\n"
     ]
    },
    {
     "name": "stderr",
     "output_type": "stream",
     "text": [
      "100%|██████████| 614/614 [00:17<00:00, 34.94it/s]\n"
     ]
    },
    {
     "name": "stdout",
     "output_type": "stream",
     "text": [
      "{'accuracy': 0.8950585838003057}\n",
      "\n",
      "--- Federated Learning Round 21 ---\n",
      "\n",
      "Training Client 0\n"
     ]
    },
    {
     "name": "stderr",
     "output_type": "stream",
     "text": [
      "100%|██████████| 8182/8182 [07:53<00:00, 17.29it/s]\n",
      "100%|██████████| 8182/8182 [07:49<00:00, 17.43it/s]\n",
      "100%|██████████| 8182/8182 [07:52<00:00, 17.31it/s]\n",
      "100%|██████████| 8182/8182 [07:49<00:00, 17.42it/s]\n",
      "100%|██████████| 8182/8182 [07:49<00:00, 17.41it/s]\n"
     ]
    },
    {
     "name": "stdout",
     "output_type": "stream",
     "text": [
      "\n",
      "Training Client 1\n"
     ]
    },
    {
     "name": "stderr",
     "output_type": "stream",
     "text": [
      "100%|██████████| 8182/8182 [07:49<00:00, 17.43it/s]\n",
      "100%|██████████| 8182/8182 [07:52<00:00, 17.31it/s]\n",
      "100%|██████████| 8182/8182 [07:50<00:00, 17.38it/s]\n",
      "100%|██████████| 8182/8182 [07:49<00:00, 17.43it/s]\n",
      "100%|██████████| 8182/8182 [07:49<00:00, 17.41it/s]\n"
     ]
    },
    {
     "name": "stdout",
     "output_type": "stream",
     "text": [
      "\n",
      "Training Client 2\n"
     ]
    },
    {
     "name": "stderr",
     "output_type": "stream",
     "text": [
      "100%|██████████| 8182/8182 [07:46<00:00, 17.54it/s]\n",
      "100%|██████████| 8182/8182 [07:50<00:00, 17.41it/s]\n",
      "100%|██████████| 8182/8182 [07:49<00:00, 17.44it/s]\n",
      "100%|██████████| 8182/8182 [07:47<00:00, 17.50it/s]\n",
      "100%|██████████| 8182/8182 [07:47<00:00, 17.50it/s]\n"
     ]
    },
    {
     "name": "stdout",
     "output_type": "stream",
     "text": [
      "\n",
      "Aggregating client models on the server...\n"
     ]
    },
    {
     "name": "stderr",
     "output_type": "stream",
     "text": [
      "100%|██████████| 614/614 [00:17<00:00, 35.04it/s]\n"
     ]
    },
    {
     "name": "stdout",
     "output_type": "stream",
     "text": [
      "{'accuracy': 0.8966887417218543}\n",
      "\n",
      "--- Federated Learning Round 22 ---\n",
      "\n",
      "Training Client 0\n"
     ]
    },
    {
     "name": "stderr",
     "output_type": "stream",
     "text": [
      "100%|██████████| 8182/8182 [07:51<00:00, 17.34it/s]\n",
      "100%|██████████| 8182/8182 [07:49<00:00, 17.42it/s]\n",
      "100%|██████████| 8182/8182 [07:51<00:00, 17.36it/s]\n",
      "100%|██████████| 8182/8182 [07:50<00:00, 17.39it/s]\n",
      "100%|██████████| 8182/8182 [07:49<00:00, 17.44it/s]\n"
     ]
    },
    {
     "name": "stdout",
     "output_type": "stream",
     "text": [
      "\n",
      "Training Client 1\n"
     ]
    },
    {
     "name": "stderr",
     "output_type": "stream",
     "text": [
      "100%|██████████| 8182/8182 [07:49<00:00, 17.44it/s]\n",
      "100%|██████████| 8182/8182 [07:49<00:00, 17.42it/s]\n",
      "100%|██████████| 8182/8182 [07:50<00:00, 17.39it/s]\n",
      "100%|██████████| 8182/8182 [07:50<00:00, 17.38it/s]\n",
      "100%|██████████| 8182/8182 [07:49<00:00, 17.44it/s]\n"
     ]
    },
    {
     "name": "stdout",
     "output_type": "stream",
     "text": [
      "\n",
      "Training Client 2\n"
     ]
    },
    {
     "name": "stderr",
     "output_type": "stream",
     "text": [
      "100%|██████████| 8182/8182 [07:46<00:00, 17.53it/s]\n",
      "100%|██████████| 8182/8182 [07:47<00:00, 17.49it/s]\n",
      "100%|██████████| 8182/8182 [07:47<00:00, 17.50it/s]\n",
      "100%|██████████| 8182/8182 [07:47<00:00, 17.51it/s]\n",
      "100%|██████████| 8182/8182 [07:54<00:00, 17.24it/s]\n"
     ]
    },
    {
     "name": "stdout",
     "output_type": "stream",
     "text": [
      "\n",
      "Aggregating client models on the server...\n"
     ]
    },
    {
     "name": "stderr",
     "output_type": "stream",
     "text": [
      "100%|██████████| 614/614 [00:17<00:00, 35.03it/s]\n"
     ]
    },
    {
     "name": "stdout",
     "output_type": "stream",
     "text": [
      "{'accuracy': 0.8965868568517575}\n",
      "\n",
      "--- Federated Learning Round 23 ---\n",
      "\n",
      "Training Client 0\n"
     ]
    },
    {
     "name": "stderr",
     "output_type": "stream",
     "text": [
      "100%|██████████| 8182/8182 [07:50<00:00, 17.37it/s]\n",
      "100%|██████████| 8182/8182 [07:48<00:00, 17.45it/s]\n",
      "100%|██████████| 8182/8182 [07:53<00:00, 17.27it/s]\n",
      "100%|██████████| 8182/8182 [07:56<00:00, 17.18it/s]\n",
      "100%|██████████| 8182/8182 [07:49<00:00, 17.44it/s]\n"
     ]
    },
    {
     "name": "stdout",
     "output_type": "stream",
     "text": [
      "\n",
      "Training Client 1\n"
     ]
    },
    {
     "name": "stderr",
     "output_type": "stream",
     "text": [
      "100%|██████████| 8182/8182 [07:50<00:00, 17.40it/s]\n",
      "100%|██████████| 8182/8182 [07:49<00:00, 17.43it/s]\n",
      "100%|██████████| 8182/8182 [07:50<00:00, 17.38it/s]\n",
      "100%|██████████| 8182/8182 [07:50<00:00, 17.39it/s]\n",
      "100%|██████████| 8182/8182 [07:52<00:00, 17.32it/s]\n"
     ]
    },
    {
     "name": "stdout",
     "output_type": "stream",
     "text": [
      "\n",
      "Training Client 2\n"
     ]
    },
    {
     "name": "stderr",
     "output_type": "stream",
     "text": [
      "100%|██████████| 8182/8182 [07:48<00:00, 17.45it/s]\n",
      "100%|██████████| 8182/8182 [07:47<00:00, 17.51it/s]\n",
      "100%|██████████| 8182/8182 [07:47<00:00, 17.50it/s]\n",
      "100%|██████████| 8182/8182 [07:49<00:00, 17.43it/s]\n",
      "100%|██████████| 8182/8182 [07:47<00:00, 17.51it/s]\n"
     ]
    },
    {
     "name": "stdout",
     "output_type": "stream",
     "text": [
      "\n",
      "Aggregating client models on the server...\n"
     ]
    },
    {
     "name": "stderr",
     "output_type": "stream",
     "text": [
      "100%|██████████| 614/614 [00:17<00:00, 35.05it/s]\n"
     ]
    },
    {
     "name": "stdout",
     "output_type": "stream",
     "text": [
      "{'accuracy': 0.893937850229241}\n",
      "\n",
      "--- Federated Learning Round 24 ---\n",
      "\n",
      "Training Client 0\n"
     ]
    },
    {
     "name": "stderr",
     "output_type": "stream",
     "text": [
      "100%|██████████| 8182/8182 [07:52<00:00, 17.31it/s]\n",
      "100%|██████████| 8182/8182 [07:49<00:00, 17.41it/s]\n",
      "100%|██████████| 8182/8182 [07:48<00:00, 17.46it/s]\n",
      "100%|██████████| 8182/8182 [07:50<00:00, 17.41it/s]\n",
      "100%|██████████| 8182/8182 [07:49<00:00, 17.43it/s]\n"
     ]
    },
    {
     "name": "stdout",
     "output_type": "stream",
     "text": [
      "\n",
      "Training Client 1\n"
     ]
    },
    {
     "name": "stderr",
     "output_type": "stream",
     "text": [
      "100%|██████████| 8182/8182 [07:49<00:00, 17.43it/s]\n",
      "100%|██████████| 8182/8182 [07:50<00:00, 17.38it/s]\n",
      "100%|██████████| 8182/8182 [07:51<00:00, 17.37it/s]\n",
      "100%|██████████| 8182/8182 [07:49<00:00, 17.44it/s]\n",
      "100%|██████████| 8182/8182 [07:50<00:00, 17.38it/s]\n"
     ]
    },
    {
     "name": "stdout",
     "output_type": "stream",
     "text": [
      "\n",
      "Training Client 2\n"
     ]
    },
    {
     "name": "stderr",
     "output_type": "stream",
     "text": [
      "100%|██████████| 8182/8182 [07:47<00:00, 17.49it/s]\n",
      "100%|██████████| 8182/8182 [07:48<00:00, 17.46it/s]\n",
      "100%|██████████| 8182/8182 [07:47<00:00, 17.51it/s]\n",
      "100%|██████████| 8182/8182 [07:46<00:00, 17.53it/s]\n",
      "100%|██████████| 8182/8182 [07:52<00:00, 17.32it/s]\n"
     ]
    },
    {
     "name": "stdout",
     "output_type": "stream",
     "text": [
      "\n",
      "Aggregating client models on the server...\n"
     ]
    },
    {
     "name": "stderr",
     "output_type": "stream",
     "text": [
      "100%|██████████| 614/614 [00:17<00:00, 35.12it/s]\n"
     ]
    },
    {
     "name": "stdout",
     "output_type": "stream",
     "text": [
      "{'accuracy': 0.8959755476311768}\n",
      "\n",
      "--- Federated Learning Round 25 ---\n",
      "\n",
      "Training Client 0\n"
     ]
    },
    {
     "name": "stderr",
     "output_type": "stream",
     "text": [
      "100%|██████████| 8182/8182 [07:51<00:00, 17.34it/s]\n",
      "100%|██████████| 8182/8182 [07:49<00:00, 17.43it/s]\n",
      "100%|██████████| 8182/8182 [07:49<00:00, 17.41it/s]\n",
      "100%|██████████| 8182/8182 [07:48<00:00, 17.45it/s]\n",
      "100%|██████████| 8182/8182 [07:50<00:00, 17.37it/s]\n"
     ]
    },
    {
     "name": "stdout",
     "output_type": "stream",
     "text": [
      "\n",
      "Training Client 1\n"
     ]
    },
    {
     "name": "stderr",
     "output_type": "stream",
     "text": [
      "100%|██████████| 8182/8182 [07:52<00:00, 17.31it/s]\n",
      "100%|██████████| 8182/8182 [07:49<00:00, 17.42it/s]\n",
      "100%|██████████| 8182/8182 [07:50<00:00, 17.39it/s]\n",
      "100%|██████████| 8182/8182 [07:51<00:00, 17.34it/s]\n",
      "100%|██████████| 8182/8182 [07:49<00:00, 17.41it/s]\n"
     ]
    },
    {
     "name": "stdout",
     "output_type": "stream",
     "text": [
      "\n",
      "Training Client 2\n"
     ]
    },
    {
     "name": "stderr",
     "output_type": "stream",
     "text": [
      "100%|██████████| 8182/8182 [07:47<00:00, 17.51it/s]\n",
      "100%|██████████| 8182/8182 [07:47<00:00, 17.50it/s]\n",
      "100%|██████████| 8182/8182 [07:46<00:00, 17.54it/s]\n",
      "100%|██████████| 8182/8182 [07:50<00:00, 17.40it/s]\n",
      "100%|██████████| 8182/8182 [07:53<00:00, 17.28it/s]\n"
     ]
    },
    {
     "name": "stdout",
     "output_type": "stream",
     "text": [
      "\n",
      "Aggregating client models on the server...\n"
     ]
    },
    {
     "name": "stderr",
     "output_type": "stream",
     "text": [
      "100%|██████████| 614/614 [00:17<00:00, 35.10it/s]\n"
     ]
    },
    {
     "name": "stdout",
     "output_type": "stream",
     "text": [
      "{'accuracy': 0.8938359653591441}\n",
      "\n",
      "--- Federated Learning Round 26 ---\n",
      "\n",
      "Training Client 0\n"
     ]
    },
    {
     "name": "stderr",
     "output_type": "stream",
     "text": [
      "100%|██████████| 8182/8182 [07:50<00:00, 17.40it/s]\n",
      "100%|██████████| 8182/8182 [07:51<00:00, 17.37it/s]\n",
      "100%|██████████| 8182/8182 [07:48<00:00, 17.45it/s]\n",
      "100%|██████████| 8182/8182 [07:49<00:00, 17.42it/s]\n",
      "100%|██████████| 8182/8182 [07:49<00:00, 17.42it/s]\n"
     ]
    },
    {
     "name": "stdout",
     "output_type": "stream",
     "text": [
      "\n",
      "Training Client 1\n"
     ]
    },
    {
     "name": "stderr",
     "output_type": "stream",
     "text": [
      "100%|██████████| 8182/8182 [07:53<00:00, 17.28it/s]\n",
      "100%|██████████| 8182/8182 [07:49<00:00, 17.41it/s]\n",
      "100%|██████████| 8182/8182 [07:49<00:00, 17.42it/s]\n",
      "100%|██████████| 8182/8182 [07:50<00:00, 17.40it/s]\n",
      "100%|██████████| 8182/8182 [07:51<00:00, 17.34it/s]\n"
     ]
    },
    {
     "name": "stdout",
     "output_type": "stream",
     "text": [
      "\n",
      "Training Client 2\n"
     ]
    },
    {
     "name": "stderr",
     "output_type": "stream",
     "text": [
      "100%|██████████| 8182/8182 [07:47<00:00, 17.49it/s]\n",
      "100%|██████████| 8182/8182 [07:47<00:00, 17.50it/s]\n",
      "100%|██████████| 8182/8182 [07:47<00:00, 17.49it/s]\n",
      "100%|██████████| 8182/8182 [07:47<00:00, 17.51it/s]\n",
      "100%|██████████| 8182/8182 [07:52<00:00, 17.32it/s]\n"
     ]
    },
    {
     "name": "stdout",
     "output_type": "stream",
     "text": [
      "\n",
      "Aggregating client models on the server...\n"
     ]
    },
    {
     "name": "stderr",
     "output_type": "stream",
     "text": [
      "100%|██████████| 614/614 [00:17<00:00, 35.01it/s]\n"
     ]
    },
    {
     "name": "stdout",
     "output_type": "stream",
     "text": [
      "{'accuracy': 0.895364238410596}\n",
      "\n",
      "--- Federated Learning Round 27 ---\n",
      "\n",
      "Training Client 0\n"
     ]
    },
    {
     "name": "stderr",
     "output_type": "stream",
     "text": [
      "100%|██████████| 8182/8182 [07:50<00:00, 17.40it/s]\n",
      "100%|██████████| 8182/8182 [07:51<00:00, 17.34it/s]\n",
      "100%|██████████| 8182/8182 [07:48<00:00, 17.46it/s]\n",
      "100%|██████████| 8182/8182 [07:53<00:00, 17.28it/s]\n",
      "100%|██████████| 8182/8182 [07:48<00:00, 17.47it/s]\n"
     ]
    },
    {
     "name": "stdout",
     "output_type": "stream",
     "text": [
      "\n",
      "Training Client 1\n"
     ]
    },
    {
     "name": "stderr",
     "output_type": "stream",
     "text": [
      "100%|██████████| 8182/8182 [07:50<00:00, 17.40it/s]\n",
      "100%|██████████| 8182/8182 [07:50<00:00, 17.38it/s]\n",
      "100%|██████████| 8182/8182 [07:49<00:00, 17.44it/s]\n",
      "100%|██████████| 8182/8182 [07:50<00:00, 17.39it/s]\n",
      "100%|██████████| 8182/8182 [07:49<00:00, 17.42it/s]\n"
     ]
    },
    {
     "name": "stdout",
     "output_type": "stream",
     "text": [
      "\n",
      "Training Client 2\n"
     ]
    },
    {
     "name": "stderr",
     "output_type": "stream",
     "text": [
      "100%|██████████| 8182/8182 [07:47<00:00, 17.49it/s]\n",
      "100%|██████████| 8182/8182 [07:52<00:00, 17.32it/s]\n",
      "100%|██████████| 8182/8182 [07:46<00:00, 17.53it/s]\n",
      "100%|██████████| 8182/8182 [07:46<00:00, 17.52it/s]\n",
      "100%|██████████| 8182/8182 [07:46<00:00, 17.52it/s]\n"
     ]
    },
    {
     "name": "stdout",
     "output_type": "stream",
     "text": [
      "\n",
      "Aggregating client models on the server...\n"
     ]
    },
    {
     "name": "stderr",
     "output_type": "stream",
     "text": [
      "100%|██████████| 614/614 [00:17<00:00, 35.10it/s]\n"
     ]
    },
    {
     "name": "stdout",
     "output_type": "stream",
     "text": [
      "{'accuracy': 0.8950585838003057}\n",
      "\n",
      "--- Federated Learning Round 28 ---\n",
      "\n",
      "Training Client 0\n"
     ]
    },
    {
     "name": "stderr",
     "output_type": "stream",
     "text": [
      "100%|██████████| 8182/8182 [07:49<00:00, 17.44it/s]\n",
      "100%|██████████| 8182/8182 [07:49<00:00, 17.42it/s]\n",
      "100%|██████████| 8182/8182 [07:49<00:00, 17.43it/s]\n",
      "100%|██████████| 8182/8182 [07:50<00:00, 17.38it/s]\n",
      "100%|██████████| 8182/8182 [07:48<00:00, 17.45it/s]\n"
     ]
    },
    {
     "name": "stdout",
     "output_type": "stream",
     "text": [
      "\n",
      "Training Client 1\n"
     ]
    },
    {
     "name": "stderr",
     "output_type": "stream",
     "text": [
      "100%|██████████| 8182/8182 [07:50<00:00, 17.41it/s]\n",
      "100%|██████████| 8182/8182 [07:49<00:00, 17.43it/s]\n",
      "100%|██████████| 8182/8182 [07:52<00:00, 17.32it/s]\n",
      "100%|██████████| 8182/8182 [07:53<00:00, 17.27it/s]\n",
      " 77%|███████▋  | 6334/8182 [06:04<01:49, 16.91it/s]wandb: ERROR Error while calling W&B API: context deadline exceeded (<Response [500]>)\n",
      " 79%|███████▉  | 6445/8182 [06:11<01:40, 17.24it/s]wandb: ERROR Error while calling W&B API: context deadline exceeded (<Response [500]>)\n",
      " 80%|████████  | 6575/8182 [06:18<01:31, 17.64it/s]wandb: ERROR Error while calling W&B API: context deadline exceeded (<Response [500]>)\n",
      " 82%|████████▏ | 6738/8182 [06:28<01:23, 17.28it/s]wandb: ERROR Error while calling W&B API: context deadline exceeded (<Response [500]>)\n",
      "100%|██████████| 8182/8182 [07:51<00:00, 17.36it/s]\n"
     ]
    },
    {
     "name": "stdout",
     "output_type": "stream",
     "text": [
      "\n",
      "Training Client 2\n"
     ]
    },
    {
     "name": "stderr",
     "output_type": "stream",
     "text": [
      "100%|██████████| 8182/8182 [07:48<00:00, 17.48it/s]\n",
      "100%|██████████| 8182/8182 [07:50<00:00, 17.39it/s]\n",
      "100%|██████████| 8182/8182 [07:47<00:00, 17.52it/s]\n",
      "100%|██████████| 8182/8182 [07:47<00:00, 17.50it/s]\n",
      "100%|██████████| 8182/8182 [07:50<00:00, 17.40it/s]\n"
     ]
    },
    {
     "name": "stdout",
     "output_type": "stream",
     "text": [
      "\n",
      "Aggregating client models on the server...\n"
     ]
    },
    {
     "name": "stderr",
     "output_type": "stream",
     "text": [
      "100%|██████████| 614/614 [00:17<00:00, 35.10it/s]\n"
     ]
    },
    {
     "name": "stdout",
     "output_type": "stream",
     "text": [
      "{'accuracy': 0.8967906265919511}\n",
      "\n",
      "--- Federated Learning Round 29 ---\n",
      "\n",
      "Training Client 0\n"
     ]
    },
    {
     "name": "stderr",
     "output_type": "stream",
     "text": [
      "100%|██████████| 8182/8182 [07:52<00:00, 17.32it/s]\n",
      "100%|██████████| 8182/8182 [07:50<00:00, 17.40it/s]\n",
      "100%|██████████| 8182/8182 [07:49<00:00, 17.43it/s]\n",
      "100%|██████████| 8182/8182 [07:49<00:00, 17.42it/s]\n",
      "100%|██████████| 8182/8182 [07:49<00:00, 17.44it/s]\n"
     ]
    },
    {
     "name": "stdout",
     "output_type": "stream",
     "text": [
      "\n",
      "Training Client 1\n"
     ]
    },
    {
     "name": "stderr",
     "output_type": "stream",
     "text": [
      "100%|██████████| 8182/8182 [07:50<00:00, 17.41it/s]\n",
      "100%|██████████| 8182/8182 [07:49<00:00, 17.41it/s]\n",
      "100%|██████████| 8182/8182 [07:49<00:00, 17.43it/s]\n",
      "100%|██████████| 8182/8182 [07:53<00:00, 17.30it/s]\n",
      "100%|██████████| 8182/8182 [07:50<00:00, 17.40it/s]\n"
     ]
    },
    {
     "name": "stdout",
     "output_type": "stream",
     "text": [
      "\n",
      "Training Client 2\n"
     ]
    },
    {
     "name": "stderr",
     "output_type": "stream",
     "text": [
      "100%|██████████| 8182/8182 [07:47<00:00, 17.51it/s]\n",
      "100%|██████████| 8182/8182 [07:46<00:00, 17.53it/s]\n",
      "100%|██████████| 8182/8182 [07:51<00:00, 17.37it/s]\n",
      "100%|██████████| 8182/8182 [07:52<00:00, 17.31it/s]\n",
      "100%|██████████| 8182/8182 [07:48<00:00, 17.47it/s]\n"
     ]
    },
    {
     "name": "stdout",
     "output_type": "stream",
     "text": [
      "\n",
      "Aggregating client models on the server...\n"
     ]
    },
    {
     "name": "stderr",
     "output_type": "stream",
     "text": [
      "100%|██████████| 614/614 [00:17<00:00, 34.89it/s]\n"
     ]
    },
    {
     "name": "stdout",
     "output_type": "stream",
     "text": [
      "{'accuracy': 0.894854814060112}\n",
      "\n",
      "--- Federated Learning Round 30 ---\n",
      "\n",
      "Training Client 0\n"
     ]
    },
    {
     "name": "stderr",
     "output_type": "stream",
     "text": [
      "100%|██████████| 8182/8182 [07:50<00:00, 17.40it/s]\n",
      "100%|██████████| 8182/8182 [07:51<00:00, 17.37it/s]\n",
      "100%|██████████| 8182/8182 [07:48<00:00, 17.46it/s]\n",
      "100%|██████████| 8182/8182 [07:48<00:00, 17.46it/s]\n",
      "100%|██████████| 8182/8182 [07:48<00:00, 17.45it/s]\n"
     ]
    },
    {
     "name": "stdout",
     "output_type": "stream",
     "text": [
      "\n",
      "Training Client 1\n"
     ]
    },
    {
     "name": "stderr",
     "output_type": "stream",
     "text": [
      "100%|██████████| 8182/8182 [07:50<00:00, 17.39it/s]\n",
      "100%|██████████| 8182/8182 [07:50<00:00, 17.40it/s]\n",
      "100%|██████████| 8182/8182 [07:50<00:00, 17.41it/s]\n",
      "100%|██████████| 8182/8182 [07:53<00:00, 17.27it/s]\n",
      "100%|██████████| 8182/8182 [07:49<00:00, 17.41it/s]\n"
     ]
    },
    {
     "name": "stdout",
     "output_type": "stream",
     "text": [
      "\n",
      "Training Client 2\n"
     ]
    },
    {
     "name": "stderr",
     "output_type": "stream",
     "text": [
      "100%|██████████| 8182/8182 [07:47<00:00, 17.50it/s]\n",
      "100%|██████████| 8182/8182 [07:57<00:00, 17.14it/s]\n",
      "100%|██████████| 8182/8182 [07:48<00:00, 17.47it/s]\n",
      "100%|██████████| 8182/8182 [07:47<00:00, 17.51it/s]\n",
      "100%|██████████| 8182/8182 [07:48<00:00, 17.47it/s]\n"
     ]
    },
    {
     "name": "stdout",
     "output_type": "stream",
     "text": [
      "\n",
      "Aggregating client models on the server...\n"
     ]
    },
    {
     "name": "stderr",
     "output_type": "stream",
     "text": [
      "100%|██████████| 614/614 [00:17<00:00, 35.13it/s]\n"
     ]
    },
    {
     "name": "stdout",
     "output_type": "stream",
     "text": [
      "{'accuracy': 0.8963830871115639}\n"
     ]
    },
    {
     "data": {
      "application/vnd.jupyter.widget-view+json": {
       "model_id": "febcd8e48e034fbca536c28c532f0453",
       "version_major": 2,
       "version_minor": 0
      },
      "text/plain": [
       "VBox(children=(Label(value='0.005 MB of 0.005 MB uploaded\\r'), FloatProgress(value=1.0, max=1.0)))"
      ]
     },
     "metadata": {},
     "output_type": "display_data"
    },
    {
     "name": "stderr",
     "output_type": "stream",
     "text": [
      "wandb: WARNING Source type is set to 'repo' but some required information is missing from the environment. A job will not be created from this run. See https://docs.wandb.ai/guides/launch/create-job\n"
     ]
    },
    {
     "data": {
      "text/html": [
       "<style>\n",
       "    table.wandb td:nth-child(1) { padding: 0 10px; text-align: left ; width: auto;} td:nth-child(2) {text-align: left ; width: 100%}\n",
       "    .wandb-row { display: flex; flex-direction: row; flex-wrap: wrap; justify-content: flex-start; width: 100% }\n",
       "    .wandb-col { display: flex; flex-direction: column; flex-basis: 100%; flex: 1; padding: 10px; }\n",
       "    </style>\n",
       "<div class=\"wandb-row\"><div class=\"wandb-col\"><h3>Run history:</h3><br/><table class=\"wandb\"><tr><td>accuracy</td><td>▁▄▆▆▆▆▇█▇█▇█▇██▇▇▇▇▆▇▇▆▇▆▇▆▇▆▇</td></tr></table><br/></div><div class=\"wandb-col\"><h3>Run summary:</h3><br/><table class=\"wandb\"><tr><td>accuracy</td><td>0.89638</td></tr></table><br/></div></div>"
      ],
      "text/plain": [
       "<IPython.core.display.HTML object>"
      ]
     },
     "metadata": {},
     "output_type": "display_data"
    },
    {
     "data": {
      "text/html": [
       " View run <strong style=\"color:#cdcd00\">FFA-LoRA</strong> at: <a href='https://wandb.ai/quanla/FeDORA%20Project%20-%20MNLI/runs/wsj9qc29' target=\"_blank\">https://wandb.ai/quanla/FeDORA%20Project%20-%20MNLI/runs/wsj9qc29</a><br/>Synced 5 W&B file(s), 0 media file(s), 0 artifact file(s) and 0 other file(s)"
      ],
      "text/plain": [
       "<IPython.core.display.HTML object>"
      ]
     },
     "metadata": {},
     "output_type": "display_data"
    },
    {
     "data": {
      "text/html": [
       "Find logs at: <code>./wandb/run-20241106_150915-wsj9qc29/logs</code>"
      ],
      "text/plain": [
       "<IPython.core.display.HTML object>"
      ]
     },
     "metadata": {},
     "output_type": "display_data"
    }
   ],
   "source": [
    "# 6. Federated Training Loop\n",
    "num_rounds = 30  # Number of federated learning rounds\n",
    "epochs_per_client = 5  # Number of epochs per client in each round\n",
    "\n",
    "for round_num in range(num_rounds):\n",
    "    print(f\"\\n--- Federated Learning Round {round_num + 1} ---\")\n",
    "    \n",
    "    client_models = []\n",
    "    \n",
    "    # Train each client locally\n",
    "    for client in clients:\n",
    "        print(f\"\\nTraining Client {client.client_id}\")\n",
    "        client.train(epochs=epochs_per_client)\n",
    "        client_models.append(client.get_parameters())\n",
    "\n",
    "    # Aggregate client models on the server\n",
    "    print(\"\\nAggregating client models on the server...\")\n",
    "    server.aggregate(client_models)\n",
    "    eval_metric = server.evaluate(eval_dataloader, metric=metric)\n",
    "    print(eval_metric)\n",
    "    wandb.log(eval_metric)\n",
    "    # evaluate(lora_model, val_dataset)\n",
    "\n",
    "    \n",
    "    # Update each client's model with the new global model\n",
    "    for client in clients:\n",
    "        client.set_parameters(server.global_model.state_dict())\n",
    "\n",
    "wandb.finish()"
   ]
  },
  {
   "cell_type": "code",
   "execution_count": null,
   "metadata": {},
   "outputs": [],
   "source": []
  },
  {
   "cell_type": "code",
   "execution_count": 16,
   "metadata": {},
   "outputs": [],
   "source": [
    "# model.to(device)\n",
    "# for epoch in range(num_epochs):\n",
    "#     model.train()\n",
    "#     for step, batch in enumerate(tqdm(train_dataloader)):\n",
    "#         batch.to(device)\n",
    "#         outputs = model(**batch)\n",
    "#         loss = outputs.loss\n",
    "#         loss.backward()\n",
    "#         optimizer.step()\n",
    "#         lr_scheduler.step()\n",
    "#         optimizer.zero_grad()\n",
    "\n",
    "#     model.eval()\n",
    "#     for step, batch in enumerate(tqdm(eval_dataloader)):\n",
    "#         batch.to(device)\n",
    "#         with torch.no_grad():\n",
    "#             outputs = model(**batch)\n",
    "#         predictions = outputs.logits.argmax(dim=-1)\n",
    "#         predictions, references = predictions, batch[\"labels\"]\n",
    "#         metric.add_batch(\n",
    "#             predictions=predictions,\n",
    "#             references=references,\n",
    "#         )\n",
    "\n",
    "#     eval_metric = metric.compute()\n",
    "#     print(f\"epoch {epoch}:\", eval_metric)"
   ]
  },
  {
   "cell_type": "code",
   "execution_count": 17,
   "metadata": {},
   "outputs": [
    {
     "name": "stderr",
     "output_type": "stream",
     "text": [
      "100%|██████████| 615/615 [00:18<00:00, 32.83it/s]"
     ]
    },
    {
     "name": "stdout",
     "output_type": "stream",
     "text": [
      "{'accuracy': 0.8955451586655818}\n"
     ]
    },
    {
     "name": "stderr",
     "output_type": "stream",
     "text": [
      "\n"
     ]
    }
   ],
   "source": [
    "eval_metric = server.evaluate(mismatch_dataloader, metric=metric)\n",
    "print(eval_metric)"
   ]
  }
 ],
 "metadata": {
  "kernelspec": {
   "display_name": ".venv",
   "language": "python",
   "name": "python3"
  },
  "language_info": {
   "codemirror_mode": {
    "name": "ipython",
    "version": 3
   },
   "file_extension": ".py",
   "mimetype": "text/x-python",
   "name": "python",
   "nbconvert_exporter": "python",
   "pygments_lexer": "ipython3",
   "version": "3.10.12"
  }
 },
 "nbformat": 4,
 "nbformat_minor": 2
}
