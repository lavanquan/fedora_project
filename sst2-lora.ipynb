{
 "cells": [
  {
   "cell_type": "code",
   "execution_count": 1,
   "metadata": {},
   "outputs": [],
   "source": [
    "import os\n",
    "os.environ['CUDA_VISIBLE_DEVICES'] = '0'"
   ]
  },
  {
   "cell_type": "code",
   "execution_count": 2,
   "metadata": {},
   "outputs": [
    {
     "name": "stderr",
     "output_type": "stream",
     "text": [
      "2024-10-28 17:43:52.526620: I tensorflow/core/util/port.cc:153] oneDNN custom operations are on. You may see slightly different numerical results due to floating-point round-off errors from different computation orders. To turn them off, set the environment variable `TF_ENABLE_ONEDNN_OPTS=0`.\n",
      "2024-10-28 17:43:52.539676: E external/local_xla/xla/stream_executor/cuda/cuda_fft.cc:485] Unable to register cuFFT factory: Attempting to register factory for plugin cuFFT when one has already been registered\n",
      "2024-10-28 17:43:52.559482: E external/local_xla/xla/stream_executor/cuda/cuda_dnn.cc:8454] Unable to register cuDNN factory: Attempting to register factory for plugin cuDNN when one has already been registered\n",
      "2024-10-28 17:43:52.565774: E external/local_xla/xla/stream_executor/cuda/cuda_blas.cc:1452] Unable to register cuBLAS factory: Attempting to register factory for plugin cuBLAS when one has already been registered\n",
      "2024-10-28 17:43:52.580788: I tensorflow/core/platform/cpu_feature_guard.cc:210] This TensorFlow binary is optimized to use available CPU instructions in performance-critical operations.\n",
      "To enable the following instructions: AVX2 AVX512F AVX512_VNNI FMA, in other operations, rebuild TensorFlow with the appropriate compiler flags.\n",
      "2024-10-28 17:43:53.381271: W tensorflow/compiler/tf2tensorrt/utils/py_utils.cc:38] TF-TRT Warning: Could not find TensorRT\n"
     ]
    }
   ],
   "source": [
    "import argparse\n",
    "import os\n",
    "\n",
    "import torch\n",
    "from torch.optim import AdamW\n",
    "from torch.utils.data import DataLoader\n",
    "from peft import (\n",
    "    get_peft_config,\n",
    "    get_peft_model,\n",
    "    get_peft_model_state_dict,\n",
    "    set_peft_model_state_dict,\n",
    "    LoraConfig,\n",
    "    PeftType,\n",
    "    PrefixTuningConfig,\n",
    "    PromptEncoderConfig,\n",
    ")\n",
    "\n",
    "import evaluate\n",
    "from datasets import load_dataset\n",
    "from transformers import AutoModelForSequenceClassification, AutoTokenizer, get_linear_schedule_with_warmup, set_seed\n",
    "from tqdm import tqdm"
   ]
  },
  {
   "cell_type": "code",
   "execution_count": 3,
   "metadata": {},
   "outputs": [],
   "source": [
    "batch_size = 32\n",
    "model_name_or_path = \"roberta-large\"\n",
    "task = \"sst2\"\n",
    "peft_type = PeftType.LORA\n",
    "device = \"cuda\"\n",
    "num_epochs = 20"
   ]
  },
  {
   "cell_type": "code",
   "execution_count": 4,
   "metadata": {},
   "outputs": [],
   "source": [
    "peft_config = LoraConfig(task_type=\"SEQ_CLS\", inference_mode=False, r=8, lora_alpha=16, lora_dropout=0.1)\n",
    "lr = 3e-4"
   ]
  },
  {
   "cell_type": "code",
   "execution_count": 5,
   "metadata": {},
   "outputs": [],
   "source": [
    "if any(k in model_name_or_path for k in (\"gpt\", \"opt\", \"bloom\")):\n",
    "    padding_side = \"left\"\n",
    "else:\n",
    "    padding_side = \"right\"\n",
    "\n",
    "tokenizer = AutoTokenizer.from_pretrained(model_name_or_path, padding_side=padding_side)\n",
    "if getattr(tokenizer, \"pad_token_id\") is None:\n",
    "    tokenizer.pad_token_id = tokenizer.eos_token_id\n",
    "\n",
    "datasets = load_dataset(\"glue\", task)\n",
    "metric = evaluate.load(\"glue\", task)\n",
    "\n",
    "\n",
    "def tokenize_function(examples):\n",
    "    # max_length=None => use the model max length (it's actually the default)\n",
    "    outputs = tokenizer(examples[\"sentence\"], truncation=True, max_length=None)\n",
    "    return outputs\n",
    "\n",
    "\n",
    "tokenized_datasets = datasets.map(\n",
    "    tokenize_function,\n",
    "    batched=True,\n",
    "    remove_columns=[\"idx\", \"sentence\"],\n",
    ")\n",
    "\n",
    "# We also rename the 'label' column to 'labels' which is the expected name for labels by the models of the\n",
    "# transformers library\n",
    "tokenized_datasets = tokenized_datasets.rename_column(\"label\", \"labels\")\n",
    "\n",
    "\n",
    "def collate_fn(examples):\n",
    "    return tokenizer.pad(examples, padding=\"longest\", return_tensors=\"pt\")\n",
    "\n",
    "\n",
    "# Instantiate dataloaders.\n",
    "train_dataloader = DataLoader(tokenized_datasets[\"train\"], shuffle=True, collate_fn=collate_fn, batch_size=batch_size)\n",
    "eval_dataloader = DataLoader(\n",
    "    tokenized_datasets[\"validation\"], shuffle=False, collate_fn=collate_fn, batch_size=batch_size\n",
    ")\n",
    "test_dataloader = DataLoader(\n",
    "    tokenized_datasets[\"test\"], shuffle=False, collate_fn=collate_fn, batch_size=batch_size\n",
    ")"
   ]
  },
  {
   "cell_type": "code",
   "execution_count": 6,
   "metadata": {},
   "outputs": [],
   "source": [
    "# datasets[]"
   ]
  },
  {
   "cell_type": "code",
   "execution_count": 7,
   "metadata": {},
   "outputs": [
    {
     "name": "stderr",
     "output_type": "stream",
     "text": [
      "Some weights of RobertaForSequenceClassification were not initialized from the model checkpoint at roberta-large and are newly initialized: ['classifier.dense.bias', 'classifier.dense.weight', 'classifier.out_proj.bias', 'classifier.out_proj.weight']\n",
      "You should probably TRAIN this model on a down-stream task to be able to use it for predictions and inference.\n"
     ]
    },
    {
     "name": "stdout",
     "output_type": "stream",
     "text": [
      "trainable params: 1,838,082 || all params: 357,199,876 || trainable%: 0.5146\n"
     ]
    },
    {
     "data": {
      "text/plain": [
       "PeftModelForSequenceClassification(\n",
       "  (base_model): LoraModel(\n",
       "    (model): RobertaForSequenceClassification(\n",
       "      (roberta): RobertaModel(\n",
       "        (embeddings): RobertaEmbeddings(\n",
       "          (word_embeddings): Embedding(50265, 1024, padding_idx=1)\n",
       "          (position_embeddings): Embedding(514, 1024, padding_idx=1)\n",
       "          (token_type_embeddings): Embedding(1, 1024)\n",
       "          (LayerNorm): LayerNorm((1024,), eps=1e-05, elementwise_affine=True)\n",
       "          (dropout): Dropout(p=0.1, inplace=False)\n",
       "        )\n",
       "        (encoder): RobertaEncoder(\n",
       "          (layer): ModuleList(\n",
       "            (0-23): 24 x RobertaLayer(\n",
       "              (attention): RobertaAttention(\n",
       "                (self): RobertaSdpaSelfAttention(\n",
       "                  (query): lora.Linear(\n",
       "                    (base_layer): Linear(in_features=1024, out_features=1024, bias=True)\n",
       "                    (lora_dropout): ModuleDict(\n",
       "                      (default): Dropout(p=0.1, inplace=False)\n",
       "                    )\n",
       "                    (lora_A): ModuleDict(\n",
       "                      (default): Linear(in_features=1024, out_features=8, bias=False)\n",
       "                    )\n",
       "                    (lora_B): ModuleDict(\n",
       "                      (default): Linear(in_features=8, out_features=1024, bias=False)\n",
       "                    )\n",
       "                    (lora_embedding_A): ParameterDict()\n",
       "                    (lora_embedding_B): ParameterDict()\n",
       "                    (lora_magnitude_vector): ModuleDict()\n",
       "                  )\n",
       "                  (key): Linear(in_features=1024, out_features=1024, bias=True)\n",
       "                  (value): lora.Linear(\n",
       "                    (base_layer): Linear(in_features=1024, out_features=1024, bias=True)\n",
       "                    (lora_dropout): ModuleDict(\n",
       "                      (default): Dropout(p=0.1, inplace=False)\n",
       "                    )\n",
       "                    (lora_A): ModuleDict(\n",
       "                      (default): Linear(in_features=1024, out_features=8, bias=False)\n",
       "                    )\n",
       "                    (lora_B): ModuleDict(\n",
       "                      (default): Linear(in_features=8, out_features=1024, bias=False)\n",
       "                    )\n",
       "                    (lora_embedding_A): ParameterDict()\n",
       "                    (lora_embedding_B): ParameterDict()\n",
       "                    (lora_magnitude_vector): ModuleDict()\n",
       "                  )\n",
       "                  (dropout): Dropout(p=0.1, inplace=False)\n",
       "                )\n",
       "                (output): RobertaSelfOutput(\n",
       "                  (dense): Linear(in_features=1024, out_features=1024, bias=True)\n",
       "                  (LayerNorm): LayerNorm((1024,), eps=1e-05, elementwise_affine=True)\n",
       "                  (dropout): Dropout(p=0.1, inplace=False)\n",
       "                )\n",
       "              )\n",
       "              (intermediate): RobertaIntermediate(\n",
       "                (dense): Linear(in_features=1024, out_features=4096, bias=True)\n",
       "                (intermediate_act_fn): GELUActivation()\n",
       "              )\n",
       "              (output): RobertaOutput(\n",
       "                (dense): Linear(in_features=4096, out_features=1024, bias=True)\n",
       "                (LayerNorm): LayerNorm((1024,), eps=1e-05, elementwise_affine=True)\n",
       "                (dropout): Dropout(p=0.1, inplace=False)\n",
       "              )\n",
       "            )\n",
       "          )\n",
       "        )\n",
       "      )\n",
       "      (classifier): ModulesToSaveWrapper(\n",
       "        (original_module): RobertaClassificationHead(\n",
       "          (dense): Linear(in_features=1024, out_features=1024, bias=True)\n",
       "          (dropout): Dropout(p=0.1, inplace=False)\n",
       "          (out_proj): Linear(in_features=1024, out_features=2, bias=True)\n",
       "        )\n",
       "        (modules_to_save): ModuleDict(\n",
       "          (default): RobertaClassificationHead(\n",
       "            (dense): Linear(in_features=1024, out_features=1024, bias=True)\n",
       "            (dropout): Dropout(p=0.1, inplace=False)\n",
       "            (out_proj): Linear(in_features=1024, out_features=2, bias=True)\n",
       "          )\n",
       "        )\n",
       "      )\n",
       "    )\n",
       "  )\n",
       ")"
      ]
     },
     "execution_count": 7,
     "metadata": {},
     "output_type": "execute_result"
    }
   ],
   "source": [
    "model = AutoModelForSequenceClassification.from_pretrained(model_name_or_path, return_dict=True)\n",
    "model = get_peft_model(model, peft_config)\n",
    "model.print_trainable_parameters()\n",
    "model"
   ]
  },
  {
   "cell_type": "code",
   "execution_count": 8,
   "metadata": {},
   "outputs": [],
   "source": [
    "def print_trainable_parameters(model):\n",
    "    \"\"\"\n",
    "    Prints the number of trainable parameters in the model.\n",
    "    \"\"\"\n",
    "    trainable_params = 0\n",
    "    all_param = 0\n",
    "    for _, param in model.named_parameters():\n",
    "        all_param += param.numel()\n",
    "        if param.requires_grad:\n",
    "            trainable_params += param.numel()\n",
    "    print(\n",
    "        f\"trainable params: {trainable_params} || all params: {all_param} || trainable%: {100 * trainable_params / all_param:.2f}\"\n",
    "    )"
   ]
  },
  {
   "cell_type": "code",
   "execution_count": 9,
   "metadata": {},
   "outputs": [
    {
     "name": "stdout",
     "output_type": "stream",
     "text": [
      "trainable params: 1838082 || all params: 357199876 || trainable%: 0.51\n"
     ]
    }
   ],
   "source": [
    "print_trainable_parameters(model)"
   ]
  },
  {
   "cell_type": "code",
   "execution_count": 10,
   "metadata": {},
   "outputs": [],
   "source": [
    "optimizer = AdamW(params=model.parameters(), lr=lr)\n",
    "\n",
    "# Instantiate scheduler\n",
    "lr_scheduler = get_linear_schedule_with_warmup(\n",
    "    optimizer=optimizer,\n",
    "    num_warmup_steps=0.06 * (len(train_dataloader) * num_epochs),\n",
    "    num_training_steps=(len(train_dataloader) * num_epochs),\n",
    ")"
   ]
  },
  {
   "cell_type": "code",
   "execution_count": 11,
   "metadata": {},
   "outputs": [],
   "source": [
    "from modules.clientSST import *"
   ]
  },
  {
   "cell_type": "code",
   "execution_count": 12,
   "metadata": {},
   "outputs": [],
   "source": [
    "from torch.optim import AdamW\n",
    "# Create clients (e.g., 3 clients)\n",
    "num_clients = 3\n",
    "\n",
    "# Get the total length of the dataset\n",
    "total_len = len(tokenized_datasets[\"train\"])\n",
    "\n",
    "# Calculate the number of samples per client and the remainder\n",
    "split_size = total_len // num_clients\n",
    "remainder = total_len % num_clients\n",
    "\n",
    "# Create list for splits\n",
    "split_lengths = [split_size] * num_clients\n",
    "\n",
    "# Distribute the remainder among the first few clients\n",
    "for i in range(remainder):\n",
    "    split_lengths[i] += 1\n",
    "\n",
    "# Perform the split\n",
    "# client_data_splits = torch.utils.data.random_split(train_dataloader, split_lengths)\n",
    "train_dataloader = torch.utils.data.random_split(tokenized_datasets[\"train\"], split_lengths)\n",
    "client_data_splits = [DataLoader(train_dataloader[i], shuffle=True, collate_fn=collate_fn, batch_size=batch_size) for i in range(num_clients)]\n",
    "clients = [ClientSST(client_id=i, model=copy.deepcopy(model), data=client_data_splits[i], device=device) for i in range(num_clients)]"
   ]
  },
  {
   "cell_type": "code",
   "execution_count": 13,
   "metadata": {},
   "outputs": [],
   "source": [
    "from modules.server import *\n",
    "server = Server(global_model=model, device=device)"
   ]
  },
  {
   "cell_type": "code",
   "execution_count": 14,
   "metadata": {},
   "outputs": [
    {
     "name": "stderr",
     "output_type": "stream",
     "text": [
      "10/28/2024 17:44:35:ERROR:Failed to detect the name of this notebook, you can set it manually with the WANDB_NOTEBOOK_NAME environment variable to enable code saving.\n",
      "\u001b[34m\u001b[1mwandb\u001b[0m: Currently logged in as: \u001b[33mkenlvq\u001b[0m (\u001b[33mquanla\u001b[0m). Use \u001b[1m`wandb login --relogin`\u001b[0m to force relogin\n"
     ]
    },
    {
     "data": {
      "application/vnd.jupyter.widget-view+json": {
       "model_id": "2cd52df4d99e421aa4cc2e2c26cd1074",
       "version_major": 2,
       "version_minor": 0
      },
      "text/plain": [
       "VBox(children=(Label(value='Waiting for wandb.init()...\\r'), FloatProgress(value=0.011113026572598352, max=1.0…"
      ]
     },
     "metadata": {},
     "output_type": "display_data"
    },
    {
     "data": {
      "text/html": [
       "wandb version 0.18.5 is available!  To upgrade, please run:\n",
       " $ pip install wandb --upgrade"
      ],
      "text/plain": [
       "<IPython.core.display.HTML object>"
      ]
     },
     "metadata": {},
     "output_type": "display_data"
    },
    {
     "data": {
      "text/html": [
       "Tracking run with wandb version 0.16.3"
      ],
      "text/plain": [
       "<IPython.core.display.HTML object>"
      ]
     },
     "metadata": {},
     "output_type": "display_data"
    },
    {
     "data": {
      "text/html": [
       "Run data is saved locally in <code>/home/qula0496/quan/fedora/wandb/run-20241028_174436-9sc8me69</code>"
      ],
      "text/plain": [
       "<IPython.core.display.HTML object>"
      ]
     },
     "metadata": {},
     "output_type": "display_data"
    },
    {
     "data": {
      "text/html": [
       "Syncing run <strong><a href='https://wandb.ai/quanla/FeDORA%20Project/runs/9sc8me69' target=\"_blank\">LoRA</a></strong> to <a href='https://wandb.ai/quanla/FeDORA%20Project' target=\"_blank\">Weights & Biases</a> (<a href='https://wandb.me/run' target=\"_blank\">docs</a>)<br/>"
      ],
      "text/plain": [
       "<IPython.core.display.HTML object>"
      ]
     },
     "metadata": {},
     "output_type": "display_data"
    },
    {
     "data": {
      "text/html": [
       " View project at <a href='https://wandb.ai/quanla/FeDORA%20Project' target=\"_blank\">https://wandb.ai/quanla/FeDORA%20Project</a>"
      ],
      "text/plain": [
       "<IPython.core.display.HTML object>"
      ]
     },
     "metadata": {},
     "output_type": "display_data"
    },
    {
     "data": {
      "text/html": [
       " View run at <a href='https://wandb.ai/quanla/FeDORA%20Project/runs/9sc8me69' target=\"_blank\">https://wandb.ai/quanla/FeDORA%20Project/runs/9sc8me69</a>"
      ],
      "text/plain": [
       "<IPython.core.display.HTML object>"
      ]
     },
     "metadata": {},
     "output_type": "display_data"
    },
    {
     "data": {
      "text/html": [
       "<button onClick=\"this.nextSibling.style.display='block';this.style.display='none';\">Display W&B run</button><iframe src='https://wandb.ai/quanla/FeDORA%20Project/runs/9sc8me69?jupyter=true' style='border:none;width:100%;height:420px;display:none;'></iframe>"
      ],
      "text/plain": [
       "<wandb.sdk.wandb_run.Run at 0x7f25d5f230a0>"
      ]
     },
     "execution_count": 14,
     "metadata": {},
     "output_type": "execute_result"
    }
   ],
   "source": [
    "import wandb\n",
    "wandb.init(project=\"FeDORA Project\", entity=\"quanla\", name=\"LoRA\")"
   ]
  },
  {
   "cell_type": "code",
   "execution_count": 15,
   "metadata": {},
   "outputs": [
    {
     "name": "stdout",
     "output_type": "stream",
     "text": [
      "\n",
      "--- Federated Learning Round 1 ---\n",
      "\n",
      "Training Client 0\n"
     ]
    },
    {
     "name": "stderr",
     "output_type": "stream",
     "text": [
      "  0%|          | 0/702 [00:00<?, ?it/s]You're using a RobertaTokenizerFast tokenizer. Please note that with a fast tokenizer, using the `__call__` method is faster than using a method to encode the text followed by a call to the `pad` method to get a padded encoding.\n",
      "100%|██████████| 702/702 [00:42<00:00, 16.63it/s]\n",
      "100%|██████████| 702/702 [00:41<00:00, 17.07it/s]\n",
      "100%|██████████| 702/702 [00:40<00:00, 17.29it/s]\n",
      "100%|██████████| 702/702 [00:40<00:00, 17.33it/s]\n",
      "100%|██████████| 702/702 [00:41<00:00, 17.07it/s]\n"
     ]
    },
    {
     "name": "stdout",
     "output_type": "stream",
     "text": [
      "\n",
      "Training Client 1\n"
     ]
    },
    {
     "name": "stderr",
     "output_type": "stream",
     "text": [
      "100%|██████████| 702/702 [00:41<00:00, 16.75it/s]\n",
      "100%|██████████| 702/702 [00:42<00:00, 16.54it/s]\n",
      "100%|██████████| 702/702 [00:42<00:00, 16.60it/s]\n",
      "100%|██████████| 702/702 [00:42<00:00, 16.49it/s]\n",
      "100%|██████████| 702/702 [00:42<00:00, 16.39it/s]\n"
     ]
    },
    {
     "name": "stdout",
     "output_type": "stream",
     "text": [
      "\n",
      "Training Client 2\n"
     ]
    },
    {
     "name": "stderr",
     "output_type": "stream",
     "text": [
      "100%|██████████| 702/702 [00:41<00:00, 16.79it/s]\n",
      "100%|██████████| 702/702 [00:41<00:00, 16.90it/s]\n",
      "100%|██████████| 702/702 [00:44<00:00, 15.94it/s]\n",
      "100%|██████████| 702/702 [00:41<00:00, 16.80it/s]\n",
      "100%|██████████| 702/702 [00:42<00:00, 16.71it/s]\n"
     ]
    },
    {
     "name": "stdout",
     "output_type": "stream",
     "text": [
      "\n",
      "Aggregating client models on the server...\n"
     ]
    },
    {
     "name": "stderr",
     "output_type": "stream",
     "text": [
      "100%|██████████| 28/28 [00:00<00:00, 29.11it/s]\n"
     ]
    },
    {
     "name": "stdout",
     "output_type": "stream",
     "text": [
      "{'accuracy': 0.9472477064220184}\n",
      "\n",
      "--- Federated Learning Round 2 ---\n",
      "\n",
      "Training Client 0\n"
     ]
    },
    {
     "name": "stderr",
     "output_type": "stream",
     "text": [
      "100%|██████████| 702/702 [00:41<00:00, 16.80it/s]\n",
      "100%|██████████| 702/702 [00:42<00:00, 16.50it/s]\n",
      "100%|██████████| 702/702 [00:42<00:00, 16.61it/s]\n",
      "100%|██████████| 702/702 [00:42<00:00, 16.71it/s]\n",
      "100%|██████████| 702/702 [00:42<00:00, 16.46it/s]\n"
     ]
    },
    {
     "name": "stdout",
     "output_type": "stream",
     "text": [
      "\n",
      "Training Client 1\n"
     ]
    },
    {
     "name": "stderr",
     "output_type": "stream",
     "text": [
      "100%|██████████| 702/702 [00:42<00:00, 16.64it/s]\n",
      "100%|██████████| 702/702 [00:43<00:00, 16.05it/s]\n",
      "100%|██████████| 702/702 [00:43<00:00, 16.30it/s]\n",
      "100%|██████████| 702/702 [00:41<00:00, 16.88it/s]\n",
      "100%|██████████| 702/702 [00:41<00:00, 17.02it/s]\n"
     ]
    },
    {
     "name": "stdout",
     "output_type": "stream",
     "text": [
      "\n",
      "Training Client 2\n"
     ]
    },
    {
     "name": "stderr",
     "output_type": "stream",
     "text": [
      "100%|██████████| 702/702 [00:41<00:00, 16.97it/s]\n",
      "100%|██████████| 702/702 [00:41<00:00, 16.84it/s]\n",
      "100%|██████████| 702/702 [00:41<00:00, 16.95it/s]\n",
      "100%|██████████| 702/702 [00:42<00:00, 16.40it/s]\n",
      "100%|██████████| 702/702 [00:43<00:00, 16.09it/s]\n"
     ]
    },
    {
     "name": "stdout",
     "output_type": "stream",
     "text": [
      "\n",
      "Aggregating client models on the server...\n"
     ]
    },
    {
     "name": "stderr",
     "output_type": "stream",
     "text": [
      "100%|██████████| 28/28 [00:00<00:00, 29.61it/s]\n"
     ]
    },
    {
     "name": "stdout",
     "output_type": "stream",
     "text": [
      "{'accuracy': 0.9518348623853211}\n",
      "\n",
      "--- Federated Learning Round 3 ---\n",
      "\n",
      "Training Client 0\n"
     ]
    },
    {
     "name": "stderr",
     "output_type": "stream",
     "text": [
      "100%|██████████| 702/702 [00:40<00:00, 17.14it/s]\n",
      "100%|██████████| 702/702 [00:40<00:00, 17.30it/s]\n",
      "100%|██████████| 702/702 [00:43<00:00, 16.09it/s]\n",
      "100%|██████████| 702/702 [00:43<00:00, 16.32it/s]\n",
      "100%|██████████| 702/702 [00:41<00:00, 16.81it/s]\n"
     ]
    },
    {
     "name": "stdout",
     "output_type": "stream",
     "text": [
      "\n",
      "Training Client 1\n"
     ]
    },
    {
     "name": "stderr",
     "output_type": "stream",
     "text": [
      "100%|██████████| 702/702 [00:42<00:00, 16.48it/s]\n",
      "100%|██████████| 702/702 [00:42<00:00, 16.71it/s]\n",
      "100%|██████████| 702/702 [00:42<00:00, 16.38it/s]\n",
      "100%|██████████| 702/702 [00:41<00:00, 16.92it/s]\n",
      "100%|██████████| 702/702 [00:42<00:00, 16.48it/s]\n"
     ]
    },
    {
     "name": "stdout",
     "output_type": "stream",
     "text": [
      "\n",
      "Training Client 2\n"
     ]
    },
    {
     "name": "stderr",
     "output_type": "stream",
     "text": [
      "100%|██████████| 702/702 [00:41<00:00, 16.78it/s]\n",
      "100%|██████████| 702/702 [00:41<00:00, 16.73it/s]\n",
      "100%|██████████| 702/702 [00:42<00:00, 16.52it/s]\n",
      "100%|██████████| 702/702 [00:43<00:00, 16.26it/s]\n",
      "100%|██████████| 702/702 [00:42<00:00, 16.39it/s]\n"
     ]
    },
    {
     "name": "stdout",
     "output_type": "stream",
     "text": [
      "\n",
      "Aggregating client models on the server...\n"
     ]
    },
    {
     "name": "stderr",
     "output_type": "stream",
     "text": [
      "100%|██████████| 28/28 [00:00<00:00, 28.82it/s]\n"
     ]
    },
    {
     "name": "stdout",
     "output_type": "stream",
     "text": [
      "{'accuracy': 0.9552752293577982}\n",
      "\n",
      "--- Federated Learning Round 4 ---\n",
      "\n",
      "Training Client 0\n"
     ]
    },
    {
     "name": "stderr",
     "output_type": "stream",
     "text": [
      "100%|██████████| 702/702 [00:43<00:00, 16.11it/s]\n",
      "100%|██████████| 702/702 [00:42<00:00, 16.65it/s]\n",
      "100%|██████████| 702/702 [00:42<00:00, 16.59it/s]\n",
      "100%|██████████| 702/702 [00:42<00:00, 16.58it/s]\n",
      "100%|██████████| 702/702 [00:42<00:00, 16.49it/s]\n"
     ]
    },
    {
     "name": "stdout",
     "output_type": "stream",
     "text": [
      "\n",
      "Training Client 1\n"
     ]
    },
    {
     "name": "stderr",
     "output_type": "stream",
     "text": [
      "100%|██████████| 702/702 [00:41<00:00, 16.89it/s]\n",
      "100%|██████████| 702/702 [00:43<00:00, 16.32it/s]\n",
      "100%|██████████| 702/702 [00:43<00:00, 16.31it/s]\n",
      "100%|██████████| 702/702 [00:42<00:00, 16.33it/s]\n",
      "100%|██████████| 702/702 [00:42<00:00, 16.53it/s]\n"
     ]
    },
    {
     "name": "stdout",
     "output_type": "stream",
     "text": [
      "\n",
      "Training Client 2\n"
     ]
    },
    {
     "name": "stderr",
     "output_type": "stream",
     "text": [
      "100%|██████████| 702/702 [00:41<00:00, 16.99it/s]\n",
      "100%|██████████| 702/702 [00:41<00:00, 16.91it/s]\n",
      "100%|██████████| 702/702 [00:41<00:00, 16.88it/s]\n",
      "100%|██████████| 702/702 [00:42<00:00, 16.44it/s]\n",
      "100%|██████████| 702/702 [00:42<00:00, 16.33it/s]\n"
     ]
    },
    {
     "name": "stdout",
     "output_type": "stream",
     "text": [
      "\n",
      "Aggregating client models on the server...\n"
     ]
    },
    {
     "name": "stderr",
     "output_type": "stream",
     "text": [
      "100%|██████████| 28/28 [00:00<00:00, 29.90it/s]\n"
     ]
    },
    {
     "name": "stdout",
     "output_type": "stream",
     "text": [
      "{'accuracy': 0.9541284403669725}\n",
      "\n",
      "--- Federated Learning Round 5 ---\n",
      "\n",
      "Training Client 0\n"
     ]
    },
    {
     "name": "stderr",
     "output_type": "stream",
     "text": [
      "100%|██████████| 702/702 [00:42<00:00, 16.61it/s]\n",
      "100%|██████████| 702/702 [00:42<00:00, 16.49it/s]\n",
      "100%|██████████| 702/702 [00:43<00:00, 16.08it/s]\n",
      "100%|██████████| 702/702 [00:42<00:00, 16.37it/s]\n",
      "100%|██████████| 702/702 [00:41<00:00, 16.86it/s]\n"
     ]
    },
    {
     "name": "stdout",
     "output_type": "stream",
     "text": [
      "\n",
      "Training Client 1\n"
     ]
    },
    {
     "name": "stderr",
     "output_type": "stream",
     "text": [
      "100%|██████████| 702/702 [00:41<00:00, 16.72it/s]\n",
      "100%|██████████| 702/702 [00:41<00:00, 16.82it/s]\n",
      "100%|██████████| 702/702 [00:42<00:00, 16.60it/s]\n",
      "100%|██████████| 702/702 [00:42<00:00, 16.33it/s]\n",
      "100%|██████████| 702/702 [00:42<00:00, 16.33it/s]\n"
     ]
    },
    {
     "name": "stdout",
     "output_type": "stream",
     "text": [
      "\n",
      "Training Client 2\n"
     ]
    },
    {
     "name": "stderr",
     "output_type": "stream",
     "text": [
      "100%|██████████| 702/702 [00:42<00:00, 16.52it/s]\n",
      "100%|██████████| 702/702 [00:41<00:00, 16.72it/s]\n",
      "100%|██████████| 702/702 [00:42<00:00, 16.69it/s]\n",
      "100%|██████████| 702/702 [00:42<00:00, 16.55it/s]\n",
      "100%|██████████| 702/702 [00:42<00:00, 16.44it/s]\n"
     ]
    },
    {
     "name": "stdout",
     "output_type": "stream",
     "text": [
      "\n",
      "Aggregating client models on the server...\n"
     ]
    },
    {
     "name": "stderr",
     "output_type": "stream",
     "text": [
      "100%|██████████| 28/28 [00:00<00:00, 29.70it/s]\n"
     ]
    },
    {
     "name": "stdout",
     "output_type": "stream",
     "text": [
      "{'accuracy': 0.9564220183486238}\n",
      "\n",
      "--- Federated Learning Round 6 ---\n",
      "\n",
      "Training Client 0\n"
     ]
    },
    {
     "name": "stderr",
     "output_type": "stream",
     "text": [
      "100%|██████████| 702/702 [00:44<00:00, 15.90it/s]\n",
      "100%|██████████| 702/702 [00:42<00:00, 16.36it/s]\n",
      "100%|██████████| 702/702 [00:43<00:00, 16.30it/s]\n",
      "100%|██████████| 702/702 [00:43<00:00, 16.31it/s]\n",
      "100%|██████████| 702/702 [00:42<00:00, 16.48it/s]\n"
     ]
    },
    {
     "name": "stdout",
     "output_type": "stream",
     "text": [
      "\n",
      "Training Client 1\n"
     ]
    },
    {
     "name": "stderr",
     "output_type": "stream",
     "text": [
      "100%|██████████| 702/702 [00:43<00:00, 16.30it/s]\n",
      "100%|██████████| 702/702 [00:42<00:00, 16.35it/s]\n",
      "100%|██████████| 702/702 [00:42<00:00, 16.64it/s]\n",
      "100%|██████████| 702/702 [00:41<00:00, 16.96it/s]\n",
      "100%|██████████| 702/702 [00:42<00:00, 16.67it/s]\n"
     ]
    },
    {
     "name": "stdout",
     "output_type": "stream",
     "text": [
      "\n",
      "Training Client 2\n"
     ]
    },
    {
     "name": "stderr",
     "output_type": "stream",
     "text": [
      "100%|██████████| 702/702 [00:41<00:00, 16.82it/s]\n",
      "100%|██████████| 702/702 [00:42<00:00, 16.36it/s]\n",
      "100%|██████████| 702/702 [00:43<00:00, 16.26it/s]\n",
      "100%|██████████| 702/702 [00:41<00:00, 17.02it/s]\n",
      "100%|██████████| 702/702 [00:39<00:00, 17.78it/s]\n"
     ]
    },
    {
     "name": "stdout",
     "output_type": "stream",
     "text": [
      "\n",
      "Aggregating client models on the server...\n"
     ]
    },
    {
     "name": "stderr",
     "output_type": "stream",
     "text": [
      "100%|██████████| 28/28 [00:00<00:00, 29.38it/s]\n"
     ]
    },
    {
     "name": "stdout",
     "output_type": "stream",
     "text": [
      "{'accuracy': 0.9598623853211009}\n",
      "\n",
      "--- Federated Learning Round 7 ---\n",
      "\n",
      "Training Client 0\n"
     ]
    },
    {
     "name": "stderr",
     "output_type": "stream",
     "text": [
      "100%|██████████| 702/702 [00:42<00:00, 16.48it/s]\n",
      "100%|██████████| 702/702 [00:41<00:00, 17.07it/s]\n",
      "100%|██████████| 702/702 [00:41<00:00, 17.00it/s]\n",
      "100%|██████████| 702/702 [00:40<00:00, 17.26it/s]\n",
      "100%|██████████| 702/702 [00:41<00:00, 16.80it/s]\n"
     ]
    },
    {
     "name": "stdout",
     "output_type": "stream",
     "text": [
      "\n",
      "Training Client 1\n"
     ]
    },
    {
     "name": "stderr",
     "output_type": "stream",
     "text": [
      "100%|██████████| 702/702 [00:43<00:00, 16.28it/s]\n",
      "100%|██████████| 702/702 [00:41<00:00, 16.72it/s]\n",
      "100%|██████████| 702/702 [00:42<00:00, 16.38it/s]\n",
      "100%|██████████| 702/702 [00:41<00:00, 16.78it/s]\n",
      "100%|██████████| 702/702 [00:43<00:00, 16.32it/s]\n"
     ]
    },
    {
     "name": "stdout",
     "output_type": "stream",
     "text": [
      "\n",
      "Training Client 2\n"
     ]
    },
    {
     "name": "stderr",
     "output_type": "stream",
     "text": [
      "100%|██████████| 702/702 [00:43<00:00, 16.30it/s]\n",
      "100%|██████████| 702/702 [00:44<00:00, 15.74it/s]\n",
      "100%|██████████| 702/702 [00:42<00:00, 16.67it/s]\n",
      "100%|██████████| 702/702 [00:41<00:00, 16.86it/s]\n",
      "100%|██████████| 702/702 [00:42<00:00, 16.46it/s]\n"
     ]
    },
    {
     "name": "stdout",
     "output_type": "stream",
     "text": [
      "\n",
      "Aggregating client models on the server...\n"
     ]
    },
    {
     "name": "stderr",
     "output_type": "stream",
     "text": [
      "100%|██████████| 28/28 [00:00<00:00, 29.48it/s]\n"
     ]
    },
    {
     "name": "stdout",
     "output_type": "stream",
     "text": [
      "{'accuracy': 0.9506880733944955}\n",
      "\n",
      "--- Federated Learning Round 8 ---\n",
      "\n",
      "Training Client 0\n"
     ]
    },
    {
     "name": "stderr",
     "output_type": "stream",
     "text": [
      "100%|██████████| 702/702 [00:42<00:00, 16.48it/s]\n",
      "100%|██████████| 702/702 [00:44<00:00, 15.75it/s]\n",
      "100%|██████████| 702/702 [00:41<00:00, 16.85it/s]\n",
      "100%|██████████| 702/702 [00:42<00:00, 16.52it/s]\n",
      "100%|██████████| 702/702 [00:43<00:00, 16.24it/s]\n"
     ]
    },
    {
     "name": "stdout",
     "output_type": "stream",
     "text": [
      "\n",
      "Training Client 1\n"
     ]
    },
    {
     "name": "stderr",
     "output_type": "stream",
     "text": [
      "100%|██████████| 702/702 [00:41<00:00, 16.73it/s]\n",
      "100%|██████████| 702/702 [00:41<00:00, 16.72it/s]\n",
      "100%|██████████| 702/702 [00:42<00:00, 16.67it/s]\n",
      "100%|██████████| 702/702 [00:43<00:00, 16.06it/s]\n",
      "100%|██████████| 702/702 [00:42<00:00, 16.35it/s]\n"
     ]
    },
    {
     "name": "stdout",
     "output_type": "stream",
     "text": [
      "\n",
      "Training Client 2\n"
     ]
    },
    {
     "name": "stderr",
     "output_type": "stream",
     "text": [
      "100%|██████████| 702/702 [00:42<00:00, 16.48it/s]\n",
      "100%|██████████| 702/702 [00:42<00:00, 16.48it/s]\n",
      "100%|██████████| 702/702 [00:43<00:00, 16.13it/s]\n",
      "100%|██████████| 702/702 [00:42<00:00, 16.57it/s]\n",
      "100%|██████████| 702/702 [00:41<00:00, 16.84it/s]\n"
     ]
    },
    {
     "name": "stdout",
     "output_type": "stream",
     "text": [
      "\n",
      "Aggregating client models on the server...\n"
     ]
    },
    {
     "name": "stderr",
     "output_type": "stream",
     "text": [
      "100%|██████████| 28/28 [00:00<00:00, 29.03it/s]\n"
     ]
    },
    {
     "name": "stdout",
     "output_type": "stream",
     "text": [
      "{'accuracy': 0.9575688073394495}\n",
      "\n",
      "--- Federated Learning Round 9 ---\n",
      "\n",
      "Training Client 0\n"
     ]
    },
    {
     "name": "stderr",
     "output_type": "stream",
     "text": [
      "100%|██████████| 702/702 [00:42<00:00, 16.62it/s]\n",
      "100%|██████████| 702/702 [00:42<00:00, 16.40it/s]\n",
      "100%|██████████| 702/702 [00:42<00:00, 16.53it/s]\n",
      "100%|██████████| 702/702 [00:41<00:00, 16.91it/s]\n",
      "100%|██████████| 702/702 [00:40<00:00, 17.13it/s]\n"
     ]
    },
    {
     "name": "stdout",
     "output_type": "stream",
     "text": [
      "\n",
      "Training Client 1\n"
     ]
    },
    {
     "name": "stderr",
     "output_type": "stream",
     "text": [
      "100%|██████████| 702/702 [00:41<00:00, 16.99it/s]\n",
      "100%|██████████| 702/702 [00:41<00:00, 16.74it/s]\n",
      "100%|██████████| 702/702 [00:41<00:00, 16.96it/s]\n",
      "100%|██████████| 702/702 [00:43<00:00, 16.11it/s]\n",
      "100%|██████████| 702/702 [00:43<00:00, 16.15it/s]\n"
     ]
    },
    {
     "name": "stdout",
     "output_type": "stream",
     "text": [
      "\n",
      "Training Client 2\n"
     ]
    },
    {
     "name": "stderr",
     "output_type": "stream",
     "text": [
      "100%|██████████| 702/702 [00:41<00:00, 16.79it/s]\n",
      "100%|██████████| 702/702 [00:41<00:00, 16.82it/s]\n",
      "100%|██████████| 702/702 [00:42<00:00, 16.67it/s]\n",
      "100%|██████████| 702/702 [00:41<00:00, 16.78it/s]\n",
      "100%|██████████| 702/702 [00:42<00:00, 16.68it/s]\n"
     ]
    },
    {
     "name": "stdout",
     "output_type": "stream",
     "text": [
      "\n",
      "Aggregating client models on the server...\n"
     ]
    },
    {
     "name": "stderr",
     "output_type": "stream",
     "text": [
      "100%|██████████| 28/28 [00:00<00:00, 29.04it/s]\n"
     ]
    },
    {
     "name": "stdout",
     "output_type": "stream",
     "text": [
      "{'accuracy': 0.9575688073394495}\n",
      "\n",
      "--- Federated Learning Round 10 ---\n",
      "\n",
      "Training Client 0\n"
     ]
    },
    {
     "name": "stderr",
     "output_type": "stream",
     "text": [
      "100%|██████████| 702/702 [00:42<00:00, 16.35it/s]\n",
      "100%|██████████| 702/702 [00:44<00:00, 15.84it/s]\n",
      "100%|██████████| 702/702 [00:41<00:00, 16.82it/s]\n",
      "100%|██████████| 702/702 [00:41<00:00, 17.02it/s]\n",
      "100%|██████████| 702/702 [00:41<00:00, 16.94it/s]\n"
     ]
    },
    {
     "name": "stdout",
     "output_type": "stream",
     "text": [
      "\n",
      "Training Client 1\n"
     ]
    },
    {
     "name": "stderr",
     "output_type": "stream",
     "text": [
      "100%|██████████| 702/702 [00:42<00:00, 16.44it/s]\n",
      "100%|██████████| 702/702 [00:43<00:00, 16.14it/s]\n",
      "100%|██████████| 702/702 [00:42<00:00, 16.39it/s]\n",
      "100%|██████████| 702/702 [00:42<00:00, 16.38it/s]\n",
      "100%|██████████| 702/702 [00:43<00:00, 16.09it/s]\n"
     ]
    },
    {
     "name": "stdout",
     "output_type": "stream",
     "text": [
      "\n",
      "Training Client 2\n"
     ]
    },
    {
     "name": "stderr",
     "output_type": "stream",
     "text": [
      "100%|██████████| 702/702 [00:42<00:00, 16.47it/s]\n",
      "100%|██████████| 702/702 [00:42<00:00, 16.64it/s]\n",
      "100%|██████████| 702/702 [00:43<00:00, 16.25it/s]\n",
      "100%|██████████| 702/702 [00:42<00:00, 16.41it/s]\n",
      "100%|██████████| 702/702 [00:42<00:00, 16.49it/s]\n"
     ]
    },
    {
     "name": "stdout",
     "output_type": "stream",
     "text": [
      "\n",
      "Aggregating client models on the server...\n"
     ]
    },
    {
     "name": "stderr",
     "output_type": "stream",
     "text": [
      "100%|██████████| 28/28 [00:00<00:00, 28.80it/s]\n"
     ]
    },
    {
     "name": "stdout",
     "output_type": "stream",
     "text": [
      "{'accuracy': 0.9575688073394495}\n",
      "\n",
      "--- Federated Learning Round 11 ---\n",
      "\n",
      "Training Client 0\n"
     ]
    },
    {
     "name": "stderr",
     "output_type": "stream",
     "text": [
      "100%|██████████| 702/702 [00:42<00:00, 16.56it/s]\n",
      "100%|██████████| 702/702 [00:41<00:00, 16.86it/s]\n",
      "100%|██████████| 702/702 [00:41<00:00, 17.04it/s]\n",
      "100%|██████████| 702/702 [00:41<00:00, 16.88it/s]\n",
      "100%|██████████| 702/702 [00:42<00:00, 16.51it/s]\n"
     ]
    },
    {
     "name": "stdout",
     "output_type": "stream",
     "text": [
      "\n",
      "Training Client 1\n"
     ]
    },
    {
     "name": "stderr",
     "output_type": "stream",
     "text": [
      "100%|██████████| 702/702 [00:41<00:00, 16.90it/s]\n",
      "100%|██████████| 702/702 [00:41<00:00, 16.76it/s]\n",
      "100%|██████████| 702/702 [00:42<00:00, 16.51it/s]\n",
      "100%|██████████| 702/702 [00:41<00:00, 16.82it/s]\n",
      "100%|██████████| 702/702 [00:42<00:00, 16.67it/s]\n"
     ]
    },
    {
     "name": "stdout",
     "output_type": "stream",
     "text": [
      "\n",
      "Training Client 2\n"
     ]
    },
    {
     "name": "stderr",
     "output_type": "stream",
     "text": [
      "100%|██████████| 702/702 [00:42<00:00, 16.44it/s]\n",
      "100%|██████████| 702/702 [00:42<00:00, 16.51it/s]\n",
      "100%|██████████| 702/702 [00:41<00:00, 17.08it/s]\n",
      "100%|██████████| 702/702 [00:41<00:00, 16.73it/s]\n",
      "100%|██████████| 702/702 [00:43<00:00, 16.17it/s]\n"
     ]
    },
    {
     "name": "stdout",
     "output_type": "stream",
     "text": [
      "\n",
      "Aggregating client models on the server...\n"
     ]
    },
    {
     "name": "stderr",
     "output_type": "stream",
     "text": [
      "100%|██████████| 28/28 [00:00<00:00, 29.08it/s]\n"
     ]
    },
    {
     "name": "stdout",
     "output_type": "stream",
     "text": [
      "{'accuracy': 0.9598623853211009}\n",
      "\n",
      "--- Federated Learning Round 12 ---\n",
      "\n",
      "Training Client 0\n"
     ]
    },
    {
     "name": "stderr",
     "output_type": "stream",
     "text": [
      "100%|██████████| 702/702 [00:42<00:00, 16.42it/s]\n",
      "100%|██████████| 702/702 [00:42<00:00, 16.49it/s]\n",
      "100%|██████████| 702/702 [00:42<00:00, 16.69it/s]\n",
      "100%|██████████| 702/702 [00:44<00:00, 15.88it/s]\n",
      "100%|██████████| 702/702 [00:43<00:00, 16.32it/s]\n"
     ]
    },
    {
     "name": "stdout",
     "output_type": "stream",
     "text": [
      "\n",
      "Training Client 1\n"
     ]
    },
    {
     "name": "stderr",
     "output_type": "stream",
     "text": [
      "100%|██████████| 702/702 [00:43<00:00, 16.17it/s]\n",
      "100%|██████████| 702/702 [00:41<00:00, 16.73it/s]\n",
      "100%|██████████| 702/702 [00:41<00:00, 16.79it/s]\n",
      "100%|██████████| 702/702 [00:43<00:00, 16.27it/s]\n",
      "100%|██████████| 702/702 [00:42<00:00, 16.51it/s]\n"
     ]
    },
    {
     "name": "stdout",
     "output_type": "stream",
     "text": [
      "\n",
      "Training Client 2\n"
     ]
    },
    {
     "name": "stderr",
     "output_type": "stream",
     "text": [
      "100%|██████████| 702/702 [00:42<00:00, 16.44it/s]\n",
      "100%|██████████| 702/702 [00:42<00:00, 16.41it/s]\n",
      "100%|██████████| 702/702 [00:42<00:00, 16.55it/s]\n",
      "100%|██████████| 702/702 [00:42<00:00, 16.37it/s]\n",
      "100%|██████████| 702/702 [00:41<00:00, 16.77it/s]\n"
     ]
    },
    {
     "name": "stdout",
     "output_type": "stream",
     "text": [
      "\n",
      "Aggregating client models on the server...\n"
     ]
    },
    {
     "name": "stderr",
     "output_type": "stream",
     "text": [
      "100%|██████████| 28/28 [00:00<00:00, 29.12it/s]\n"
     ]
    },
    {
     "name": "stdout",
     "output_type": "stream",
     "text": [
      "{'accuracy': 0.9575688073394495}\n",
      "\n",
      "--- Federated Learning Round 13 ---\n",
      "\n",
      "Training Client 0\n"
     ]
    },
    {
     "name": "stderr",
     "output_type": "stream",
     "text": [
      "100%|██████████| 702/702 [00:42<00:00, 16.59it/s]\n",
      "100%|██████████| 702/702 [00:42<00:00, 16.34it/s]\n",
      "100%|██████████| 702/702 [00:41<00:00, 16.84it/s]\n",
      "100%|██████████| 702/702 [00:41<00:00, 16.72it/s]\n",
      "100%|██████████| 702/702 [00:43<00:00, 16.02it/s]\n"
     ]
    },
    {
     "name": "stdout",
     "output_type": "stream",
     "text": [
      "\n",
      "Training Client 1\n"
     ]
    },
    {
     "name": "stderr",
     "output_type": "stream",
     "text": [
      "100%|██████████| 702/702 [00:43<00:00, 16.31it/s]\n",
      "100%|██████████| 702/702 [00:41<00:00, 16.81it/s]\n",
      "100%|██████████| 702/702 [00:41<00:00, 16.72it/s]\n",
      "100%|██████████| 702/702 [00:41<00:00, 16.85it/s]\n",
      "100%|██████████| 702/702 [00:42<00:00, 16.60it/s]\n"
     ]
    },
    {
     "name": "stdout",
     "output_type": "stream",
     "text": [
      "\n",
      "Training Client 2\n"
     ]
    },
    {
     "name": "stderr",
     "output_type": "stream",
     "text": [
      "100%|██████████| 702/702 [00:41<00:00, 17.00it/s]\n",
      "100%|██████████| 702/702 [00:41<00:00, 16.89it/s]\n",
      "100%|██████████| 702/702 [00:40<00:00, 17.16it/s]\n",
      "100%|██████████| 702/702 [00:40<00:00, 17.45it/s]\n",
      "100%|██████████| 702/702 [00:42<00:00, 16.71it/s]\n"
     ]
    },
    {
     "name": "stdout",
     "output_type": "stream",
     "text": [
      "\n",
      "Aggregating client models on the server...\n"
     ]
    },
    {
     "name": "stderr",
     "output_type": "stream",
     "text": [
      "100%|██████████| 28/28 [00:00<00:00, 28.67it/s]\n"
     ]
    },
    {
     "name": "stdout",
     "output_type": "stream",
     "text": [
      "{'accuracy': 0.9552752293577982}\n",
      "\n",
      "--- Federated Learning Round 14 ---\n",
      "\n",
      "Training Client 0\n"
     ]
    },
    {
     "name": "stderr",
     "output_type": "stream",
     "text": [
      "100%|██████████| 702/702 [00:42<00:00, 16.47it/s]\n",
      "100%|██████████| 702/702 [00:42<00:00, 16.69it/s]\n",
      "100%|██████████| 702/702 [00:42<00:00, 16.64it/s]\n",
      "100%|██████████| 702/702 [00:42<00:00, 16.45it/s]\n",
      "100%|██████████| 702/702 [00:43<00:00, 16.03it/s]\n"
     ]
    },
    {
     "name": "stdout",
     "output_type": "stream",
     "text": [
      "\n",
      "Training Client 1\n"
     ]
    },
    {
     "name": "stderr",
     "output_type": "stream",
     "text": [
      "100%|██████████| 702/702 [00:42<00:00, 16.71it/s]\n",
      "100%|██████████| 702/702 [00:42<00:00, 16.67it/s]\n",
      "100%|██████████| 702/702 [00:42<00:00, 16.53it/s]\n",
      "100%|██████████| 702/702 [00:41<00:00, 16.93it/s]\n",
      "100%|██████████| 702/702 [00:41<00:00, 16.80it/s]\n"
     ]
    },
    {
     "name": "stdout",
     "output_type": "stream",
     "text": [
      "\n",
      "Training Client 2\n"
     ]
    },
    {
     "name": "stderr",
     "output_type": "stream",
     "text": [
      "100%|██████████| 702/702 [00:43<00:00, 16.29it/s]\n",
      "100%|██████████| 702/702 [00:42<00:00, 16.37it/s]\n",
      "100%|██████████| 702/702 [00:42<00:00, 16.39it/s]\n",
      "100%|██████████| 702/702 [00:41<00:00, 16.74it/s]\n",
      "100%|██████████| 702/702 [00:43<00:00, 16.22it/s]\n"
     ]
    },
    {
     "name": "stdout",
     "output_type": "stream",
     "text": [
      "\n",
      "Aggregating client models on the server...\n"
     ]
    },
    {
     "name": "stderr",
     "output_type": "stream",
     "text": [
      "100%|██████████| 28/28 [00:00<00:00, 29.10it/s]\n"
     ]
    },
    {
     "name": "stdout",
     "output_type": "stream",
     "text": [
      "{'accuracy': 0.9564220183486238}\n",
      "\n",
      "--- Federated Learning Round 15 ---\n",
      "\n",
      "Training Client 0\n"
     ]
    },
    {
     "name": "stderr",
     "output_type": "stream",
     "text": [
      "100%|██████████| 702/702 [00:42<00:00, 16.64it/s]\n",
      "100%|██████████| 702/702 [00:43<00:00, 16.19it/s]\n",
      "100%|██████████| 702/702 [00:42<00:00, 16.59it/s]\n",
      "100%|██████████| 702/702 [00:41<00:00, 17.08it/s]\n",
      "100%|██████████| 702/702 [00:42<00:00, 16.62it/s]\n"
     ]
    },
    {
     "name": "stdout",
     "output_type": "stream",
     "text": [
      "\n",
      "Training Client 1\n"
     ]
    },
    {
     "name": "stderr",
     "output_type": "stream",
     "text": [
      "100%|██████████| 702/702 [00:42<00:00, 16.61it/s]\n",
      "100%|██████████| 702/702 [00:42<00:00, 16.36it/s]\n",
      "100%|██████████| 702/702 [00:42<00:00, 16.37it/s]\n",
      "100%|██████████| 702/702 [00:42<00:00, 16.48it/s]\n",
      "100%|██████████| 702/702 [00:42<00:00, 16.55it/s]\n"
     ]
    },
    {
     "name": "stdout",
     "output_type": "stream",
     "text": [
      "\n",
      "Training Client 2\n"
     ]
    },
    {
     "name": "stderr",
     "output_type": "stream",
     "text": [
      "100%|██████████| 702/702 [00:41<00:00, 16.79it/s]\n",
      "100%|██████████| 702/702 [00:41<00:00, 16.88it/s]\n",
      "100%|██████████| 702/702 [00:42<00:00, 16.60it/s]\n",
      "100%|██████████| 702/702 [00:43<00:00, 16.03it/s]\n",
      "100%|██████████| 702/702 [00:41<00:00, 16.91it/s]\n"
     ]
    },
    {
     "name": "stdout",
     "output_type": "stream",
     "text": [
      "\n",
      "Aggregating client models on the server...\n"
     ]
    },
    {
     "name": "stderr",
     "output_type": "stream",
     "text": [
      "100%|██████████| 28/28 [00:00<00:00, 29.62it/s]\n"
     ]
    },
    {
     "name": "stdout",
     "output_type": "stream",
     "text": [
      "{'accuracy': 0.9587155963302753}\n",
      "\n",
      "--- Federated Learning Round 16 ---\n",
      "\n",
      "Training Client 0\n"
     ]
    },
    {
     "name": "stderr",
     "output_type": "stream",
     "text": [
      "100%|██████████| 702/702 [00:41<00:00, 17.09it/s]\n",
      "100%|██████████| 702/702 [00:43<00:00, 16.28it/s]\n",
      "100%|██████████| 702/702 [00:43<00:00, 16.15it/s]\n",
      "100%|██████████| 702/702 [00:42<00:00, 16.59it/s]\n",
      "100%|██████████| 702/702 [00:41<00:00, 16.80it/s]\n"
     ]
    },
    {
     "name": "stdout",
     "output_type": "stream",
     "text": [
      "\n",
      "Training Client 1\n"
     ]
    },
    {
     "name": "stderr",
     "output_type": "stream",
     "text": [
      "100%|██████████| 702/702 [00:42<00:00, 16.42it/s]\n",
      "100%|██████████| 702/702 [00:43<00:00, 16.08it/s]\n",
      "100%|██████████| 702/702 [00:42<00:00, 16.34it/s]\n",
      "100%|██████████| 702/702 [00:41<00:00, 16.92it/s]\n",
      "100%|██████████| 702/702 [00:42<00:00, 16.39it/s]\n"
     ]
    },
    {
     "name": "stdout",
     "output_type": "stream",
     "text": [
      "\n",
      "Training Client 2\n"
     ]
    },
    {
     "name": "stderr",
     "output_type": "stream",
     "text": [
      "100%|██████████| 702/702 [00:43<00:00, 16.24it/s]\n",
      "100%|██████████| 702/702 [00:41<00:00, 16.86it/s]\n",
      "100%|██████████| 702/702 [00:41<00:00, 16.75it/s]\n",
      "100%|██████████| 702/702 [00:41<00:00, 16.76it/s]\n",
      "100%|██████████| 702/702 [00:42<00:00, 16.51it/s]\n"
     ]
    },
    {
     "name": "stdout",
     "output_type": "stream",
     "text": [
      "\n",
      "Aggregating client models on the server...\n"
     ]
    },
    {
     "name": "stderr",
     "output_type": "stream",
     "text": [
      "100%|██████████| 28/28 [00:00<00:00, 28.73it/s]\n"
     ]
    },
    {
     "name": "stdout",
     "output_type": "stream",
     "text": [
      "{'accuracy': 0.9575688073394495}\n",
      "\n",
      "--- Federated Learning Round 17 ---\n",
      "\n",
      "Training Client 0\n"
     ]
    },
    {
     "name": "stderr",
     "output_type": "stream",
     "text": [
      "100%|██████████| 702/702 [00:41<00:00, 16.74it/s]\n",
      "100%|██████████| 702/702 [00:42<00:00, 16.56it/s]\n",
      "100%|██████████| 702/702 [00:42<00:00, 16.56it/s]\n",
      "100%|██████████| 702/702 [00:42<00:00, 16.51it/s]\n",
      "100%|██████████| 702/702 [00:42<00:00, 16.41it/s]\n"
     ]
    },
    {
     "name": "stdout",
     "output_type": "stream",
     "text": [
      "\n",
      "Training Client 1\n"
     ]
    },
    {
     "name": "stderr",
     "output_type": "stream",
     "text": [
      "100%|██████████| 702/702 [00:44<00:00, 15.94it/s]\n",
      "100%|██████████| 702/702 [00:43<00:00, 16.28it/s]\n",
      "100%|██████████| 702/702 [00:43<00:00, 15.98it/s]\n",
      "100%|██████████| 702/702 [00:42<00:00, 16.66it/s]\n",
      "100%|██████████| 702/702 [00:41<00:00, 16.86it/s]\n"
     ]
    },
    {
     "name": "stdout",
     "output_type": "stream",
     "text": [
      "\n",
      "Training Client 2\n"
     ]
    },
    {
     "name": "stderr",
     "output_type": "stream",
     "text": [
      "100%|██████████| 702/702 [00:41<00:00, 16.76it/s]\n",
      "100%|██████████| 702/702 [00:41<00:00, 17.08it/s]\n",
      "100%|██████████| 702/702 [00:42<00:00, 16.38it/s]\n",
      "100%|██████████| 702/702 [00:41<00:00, 16.75it/s]\n",
      "100%|██████████| 702/702 [00:41<00:00, 16.72it/s]\n"
     ]
    },
    {
     "name": "stdout",
     "output_type": "stream",
     "text": [
      "\n",
      "Aggregating client models on the server...\n"
     ]
    },
    {
     "name": "stderr",
     "output_type": "stream",
     "text": [
      "100%|██████████| 28/28 [00:00<00:00, 28.60it/s]\n"
     ]
    },
    {
     "name": "stdout",
     "output_type": "stream",
     "text": [
      "{'accuracy': 0.9598623853211009}\n",
      "\n",
      "--- Federated Learning Round 18 ---\n",
      "\n",
      "Training Client 0\n"
     ]
    },
    {
     "name": "stderr",
     "output_type": "stream",
     "text": [
      "100%|██████████| 702/702 [00:41<00:00, 17.05it/s]\n",
      "100%|██████████| 702/702 [00:42<00:00, 16.66it/s]\n",
      "100%|██████████| 702/702 [00:43<00:00, 16.22it/s]\n",
      "100%|██████████| 702/702 [00:42<00:00, 16.52it/s]\n",
      "100%|██████████| 702/702 [00:42<00:00, 16.67it/s]\n"
     ]
    },
    {
     "name": "stdout",
     "output_type": "stream",
     "text": [
      "\n",
      "Training Client 1\n"
     ]
    },
    {
     "name": "stderr",
     "output_type": "stream",
     "text": [
      "100%|██████████| 702/702 [00:41<00:00, 16.77it/s]\n",
      "100%|██████████| 702/702 [00:42<00:00, 16.58it/s]\n",
      "100%|██████████| 702/702 [00:43<00:00, 16.26it/s]\n",
      "100%|██████████| 702/702 [00:41<00:00, 16.99it/s]\n",
      "100%|██████████| 702/702 [00:41<00:00, 16.80it/s]\n"
     ]
    },
    {
     "name": "stdout",
     "output_type": "stream",
     "text": [
      "\n",
      "Training Client 2\n"
     ]
    },
    {
     "name": "stderr",
     "output_type": "stream",
     "text": [
      "100%|██████████| 702/702 [00:42<00:00, 16.50it/s]\n",
      "100%|██████████| 702/702 [00:42<00:00, 16.37it/s]\n",
      "100%|██████████| 702/702 [00:42<00:00, 16.60it/s]\n",
      "100%|██████████| 702/702 [00:41<00:00, 16.79it/s]\n",
      "100%|██████████| 702/702 [00:41<00:00, 16.85it/s]\n"
     ]
    },
    {
     "name": "stdout",
     "output_type": "stream",
     "text": [
      "\n",
      "Aggregating client models on the server...\n"
     ]
    },
    {
     "name": "stderr",
     "output_type": "stream",
     "text": [
      "100%|██████████| 28/28 [00:00<00:00, 29.41it/s]\n"
     ]
    },
    {
     "name": "stdout",
     "output_type": "stream",
     "text": [
      "{'accuracy': 0.9587155963302753}\n",
      "\n",
      "--- Federated Learning Round 19 ---\n",
      "\n",
      "Training Client 0\n"
     ]
    },
    {
     "name": "stderr",
     "output_type": "stream",
     "text": [
      "100%|██████████| 702/702 [00:42<00:00, 16.61it/s]\n",
      "100%|██████████| 702/702 [00:42<00:00, 16.39it/s]\n",
      "100%|██████████| 702/702 [00:42<00:00, 16.49it/s]\n",
      "100%|██████████| 702/702 [00:43<00:00, 16.06it/s]\n",
      "100%|██████████| 702/702 [00:42<00:00, 16.71it/s]\n"
     ]
    },
    {
     "name": "stdout",
     "output_type": "stream",
     "text": [
      "\n",
      "Training Client 1\n"
     ]
    },
    {
     "name": "stderr",
     "output_type": "stream",
     "text": [
      "100%|██████████| 702/702 [00:41<00:00, 16.95it/s]\n",
      "100%|██████████| 702/702 [00:43<00:00, 16.29it/s]\n",
      "100%|██████████| 702/702 [00:43<00:00, 16.24it/s]\n",
      "100%|██████████| 702/702 [00:41<00:00, 16.74it/s]\n",
      "100%|██████████| 702/702 [00:43<00:00, 16.31it/s]\n"
     ]
    },
    {
     "name": "stdout",
     "output_type": "stream",
     "text": [
      "\n",
      "Training Client 2\n"
     ]
    },
    {
     "name": "stderr",
     "output_type": "stream",
     "text": [
      "100%|██████████| 702/702 [00:43<00:00, 16.06it/s]\n",
      "100%|██████████| 702/702 [00:43<00:00, 16.04it/s]\n",
      "100%|██████████| 702/702 [00:42<00:00, 16.51it/s]\n",
      "100%|██████████| 702/702 [00:41<00:00, 17.07it/s]\n",
      "100%|██████████| 702/702 [00:42<00:00, 16.48it/s]\n"
     ]
    },
    {
     "name": "stdout",
     "output_type": "stream",
     "text": [
      "\n",
      "Aggregating client models on the server...\n"
     ]
    },
    {
     "name": "stderr",
     "output_type": "stream",
     "text": [
      "100%|██████████| 28/28 [00:00<00:00, 29.02it/s]\n"
     ]
    },
    {
     "name": "stdout",
     "output_type": "stream",
     "text": [
      "{'accuracy': 0.9610091743119266}\n",
      "\n",
      "--- Federated Learning Round 20 ---\n",
      "\n",
      "Training Client 0\n"
     ]
    },
    {
     "name": "stderr",
     "output_type": "stream",
     "text": [
      "100%|██████████| 702/702 [00:42<00:00, 16.34it/s]\n",
      "100%|██████████| 702/702 [00:44<00:00, 15.88it/s]\n",
      "100%|██████████| 702/702 [00:42<00:00, 16.58it/s]\n",
      "100%|██████████| 702/702 [00:42<00:00, 16.54it/s]\n",
      "100%|██████████| 702/702 [00:42<00:00, 16.54it/s]\n"
     ]
    },
    {
     "name": "stdout",
     "output_type": "stream",
     "text": [
      "\n",
      "Training Client 1\n"
     ]
    },
    {
     "name": "stderr",
     "output_type": "stream",
     "text": [
      "100%|██████████| 702/702 [00:41<00:00, 16.86it/s]\n",
      "100%|██████████| 702/702 [00:42<00:00, 16.70it/s]\n",
      "100%|██████████| 702/702 [00:42<00:00, 16.44it/s]\n",
      "100%|██████████| 702/702 [00:42<00:00, 16.64it/s]\n",
      "100%|██████████| 702/702 [00:41<00:00, 16.89it/s]\n"
     ]
    },
    {
     "name": "stdout",
     "output_type": "stream",
     "text": [
      "\n",
      "Training Client 2\n"
     ]
    },
    {
     "name": "stderr",
     "output_type": "stream",
     "text": [
      "100%|██████████| 702/702 [00:40<00:00, 17.45it/s]\n",
      "100%|██████████| 702/702 [00:41<00:00, 16.88it/s]\n",
      "100%|██████████| 702/702 [00:41<00:00, 16.84it/s]\n",
      "100%|██████████| 702/702 [00:43<00:00, 16.20it/s]\n",
      "100%|██████████| 702/702 [00:41<00:00, 16.87it/s]\n"
     ]
    },
    {
     "name": "stdout",
     "output_type": "stream",
     "text": [
      "\n",
      "Aggregating client models on the server...\n"
     ]
    },
    {
     "name": "stderr",
     "output_type": "stream",
     "text": [
      "100%|██████████| 28/28 [00:00<00:00, 29.60it/s]\n"
     ]
    },
    {
     "name": "stdout",
     "output_type": "stream",
     "text": [
      "{'accuracy': 0.9598623853211009}\n",
      "\n",
      "--- Federated Learning Round 21 ---\n",
      "\n",
      "Training Client 0\n"
     ]
    },
    {
     "name": "stderr",
     "output_type": "stream",
     "text": [
      "100%|██████████| 702/702 [00:42<00:00, 16.57it/s]\n",
      "100%|██████████| 702/702 [00:41<00:00, 16.92it/s]\n",
      "100%|██████████| 702/702 [00:43<00:00, 16.20it/s]\n",
      "100%|██████████| 702/702 [00:42<00:00, 16.43it/s]\n",
      "100%|██████████| 702/702 [00:41<00:00, 16.78it/s]\n"
     ]
    },
    {
     "name": "stdout",
     "output_type": "stream",
     "text": [
      "\n",
      "Training Client 1\n"
     ]
    },
    {
     "name": "stderr",
     "output_type": "stream",
     "text": [
      "100%|██████████| 702/702 [00:41<00:00, 16.85it/s]\n",
      "100%|██████████| 702/702 [00:42<00:00, 16.59it/s]\n",
      "100%|██████████| 702/702 [00:44<00:00, 15.88it/s]\n",
      "100%|██████████| 702/702 [00:43<00:00, 16.10it/s]\n",
      "100%|██████████| 702/702 [00:43<00:00, 16.18it/s]\n"
     ]
    },
    {
     "name": "stdout",
     "output_type": "stream",
     "text": [
      "\n",
      "Training Client 2\n"
     ]
    },
    {
     "name": "stderr",
     "output_type": "stream",
     "text": [
      "100%|██████████| 702/702 [00:45<00:00, 15.53it/s]\n",
      "100%|██████████| 702/702 [00:42<00:00, 16.45it/s]\n",
      "100%|██████████| 702/702 [00:42<00:00, 16.62it/s]\n",
      "100%|██████████| 702/702 [00:41<00:00, 16.95it/s]\n",
      "100%|██████████| 702/702 [00:42<00:00, 16.48it/s]\n"
     ]
    },
    {
     "name": "stdout",
     "output_type": "stream",
     "text": [
      "\n",
      "Aggregating client models on the server...\n"
     ]
    },
    {
     "name": "stderr",
     "output_type": "stream",
     "text": [
      "100%|██████████| 28/28 [00:00<00:00, 28.94it/s]\n"
     ]
    },
    {
     "name": "stdout",
     "output_type": "stream",
     "text": [
      "{'accuracy': 0.9644495412844036}\n",
      "\n",
      "--- Federated Learning Round 22 ---\n",
      "\n",
      "Training Client 0\n"
     ]
    },
    {
     "name": "stderr",
     "output_type": "stream",
     "text": [
      "100%|██████████| 702/702 [00:40<00:00, 17.26it/s]\n",
      "100%|██████████| 702/702 [00:43<00:00, 16.17it/s]\n",
      "100%|██████████| 702/702 [00:42<00:00, 16.58it/s]\n",
      "100%|██████████| 702/702 [00:42<00:00, 16.63it/s]\n",
      "100%|██████████| 702/702 [00:40<00:00, 17.18it/s]\n"
     ]
    },
    {
     "name": "stdout",
     "output_type": "stream",
     "text": [
      "\n",
      "Training Client 1\n"
     ]
    },
    {
     "name": "stderr",
     "output_type": "stream",
     "text": [
      "100%|██████████| 702/702 [00:42<00:00, 16.54it/s]\n",
      "100%|██████████| 702/702 [00:41<00:00, 17.04it/s]\n",
      "100%|██████████| 702/702 [00:42<00:00, 16.39it/s]\n",
      "100%|██████████| 702/702 [00:42<00:00, 16.57it/s]\n",
      "100%|██████████| 702/702 [00:43<00:00, 16.29it/s]\n"
     ]
    },
    {
     "name": "stdout",
     "output_type": "stream",
     "text": [
      "\n",
      "Training Client 2\n"
     ]
    },
    {
     "name": "stderr",
     "output_type": "stream",
     "text": [
      "100%|██████████| 702/702 [00:43<00:00, 16.27it/s]\n",
      "100%|██████████| 702/702 [00:42<00:00, 16.64it/s]\n",
      "100%|██████████| 702/702 [00:41<00:00, 16.81it/s]\n",
      "100%|██████████| 702/702 [00:42<00:00, 16.49it/s]\n",
      "100%|██████████| 702/702 [00:41<00:00, 16.74it/s]\n"
     ]
    },
    {
     "name": "stdout",
     "output_type": "stream",
     "text": [
      "\n",
      "Aggregating client models on the server...\n"
     ]
    },
    {
     "name": "stderr",
     "output_type": "stream",
     "text": [
      "100%|██████████| 28/28 [00:00<00:00, 29.13it/s]\n"
     ]
    },
    {
     "name": "stdout",
     "output_type": "stream",
     "text": [
      "{'accuracy': 0.9587155963302753}\n",
      "\n",
      "--- Federated Learning Round 23 ---\n",
      "\n",
      "Training Client 0\n"
     ]
    },
    {
     "name": "stderr",
     "output_type": "stream",
     "text": [
      "100%|██████████| 702/702 [00:43<00:00, 16.27it/s]\n",
      "100%|██████████| 702/702 [00:43<00:00, 16.21it/s]\n",
      "100%|██████████| 702/702 [00:41<00:00, 16.79it/s]\n",
      "100%|██████████| 702/702 [00:42<00:00, 16.52it/s]\n",
      "100%|██████████| 702/702 [00:41<00:00, 16.78it/s]\n"
     ]
    },
    {
     "name": "stdout",
     "output_type": "stream",
     "text": [
      "\n",
      "Training Client 1\n"
     ]
    },
    {
     "name": "stderr",
     "output_type": "stream",
     "text": [
      "100%|██████████| 702/702 [00:41<00:00, 16.78it/s]\n",
      "100%|██████████| 702/702 [00:41<00:00, 16.99it/s]\n",
      "100%|██████████| 702/702 [00:43<00:00, 16.17it/s]\n",
      "100%|██████████| 702/702 [00:41<00:00, 16.82it/s]\n",
      "100%|██████████| 702/702 [00:42<00:00, 16.69it/s]\n"
     ]
    },
    {
     "name": "stdout",
     "output_type": "stream",
     "text": [
      "\n",
      "Training Client 2\n"
     ]
    },
    {
     "name": "stderr",
     "output_type": "stream",
     "text": [
      "100%|██████████| 702/702 [00:42<00:00, 16.53it/s]\n",
      "100%|██████████| 702/702 [00:42<00:00, 16.71it/s]\n",
      "100%|██████████| 702/702 [00:42<00:00, 16.68it/s]\n",
      "100%|██████████| 702/702 [00:42<00:00, 16.62it/s]\n",
      "100%|██████████| 702/702 [00:43<00:00, 16.29it/s]\n"
     ]
    },
    {
     "name": "stdout",
     "output_type": "stream",
     "text": [
      "\n",
      "Aggregating client models on the server...\n"
     ]
    },
    {
     "name": "stderr",
     "output_type": "stream",
     "text": [
      "100%|██████████| 28/28 [00:00<00:00, 28.95it/s]\n"
     ]
    },
    {
     "name": "stdout",
     "output_type": "stream",
     "text": [
      "{'accuracy': 0.9564220183486238}\n",
      "\n",
      "--- Federated Learning Round 24 ---\n",
      "\n",
      "Training Client 0\n"
     ]
    },
    {
     "name": "stderr",
     "output_type": "stream",
     "text": [
      "100%|██████████| 702/702 [00:43<00:00, 15.99it/s]\n",
      "100%|██████████| 702/702 [00:41<00:00, 16.97it/s]\n",
      "100%|██████████| 702/702 [00:42<00:00, 16.63it/s]\n",
      "100%|██████████| 702/702 [00:43<00:00, 16.23it/s]\n",
      "100%|██████████| 702/702 [00:42<00:00, 16.60it/s]\n"
     ]
    },
    {
     "name": "stdout",
     "output_type": "stream",
     "text": [
      "\n",
      "Training Client 1\n"
     ]
    },
    {
     "name": "stderr",
     "output_type": "stream",
     "text": [
      "100%|██████████| 702/702 [00:42<00:00, 16.50it/s]\n",
      "100%|██████████| 702/702 [00:41<00:00, 16.74it/s]\n",
      "100%|██████████| 702/702 [00:42<00:00, 16.57it/s]\n",
      "100%|██████████| 702/702 [00:42<00:00, 16.62it/s]\n",
      "100%|██████████| 702/702 [00:42<00:00, 16.68it/s]\n"
     ]
    },
    {
     "name": "stdout",
     "output_type": "stream",
     "text": [
      "\n",
      "Training Client 2\n"
     ]
    },
    {
     "name": "stderr",
     "output_type": "stream",
     "text": [
      "100%|██████████| 702/702 [00:42<00:00, 16.60it/s]\n",
      "100%|██████████| 702/702 [00:42<00:00, 16.63it/s]\n",
      "100%|██████████| 702/702 [00:42<00:00, 16.49it/s]\n",
      "100%|██████████| 702/702 [00:41<00:00, 16.74it/s]\n",
      "100%|██████████| 702/702 [00:42<00:00, 16.36it/s]\n"
     ]
    },
    {
     "name": "stdout",
     "output_type": "stream",
     "text": [
      "\n",
      "Aggregating client models on the server...\n"
     ]
    },
    {
     "name": "stderr",
     "output_type": "stream",
     "text": [
      "100%|██████████| 28/28 [00:00<00:00, 29.15it/s]\n"
     ]
    },
    {
     "name": "stdout",
     "output_type": "stream",
     "text": [
      "{'accuracy': 0.9587155963302753}\n",
      "\n",
      "--- Federated Learning Round 25 ---\n",
      "\n",
      "Training Client 0\n"
     ]
    },
    {
     "name": "stderr",
     "output_type": "stream",
     "text": [
      "100%|██████████| 702/702 [00:41<00:00, 16.95it/s]\n",
      "100%|██████████| 702/702 [00:41<00:00, 16.79it/s]\n",
      "100%|██████████| 702/702 [00:41<00:00, 17.03it/s]\n",
      "100%|██████████| 702/702 [00:42<00:00, 16.60it/s]\n",
      "100%|██████████| 702/702 [00:41<00:00, 17.12it/s]\n"
     ]
    },
    {
     "name": "stdout",
     "output_type": "stream",
     "text": [
      "\n",
      "Training Client 1\n"
     ]
    },
    {
     "name": "stderr",
     "output_type": "stream",
     "text": [
      "100%|██████████| 702/702 [00:42<00:00, 16.64it/s]\n",
      "100%|██████████| 702/702 [00:42<00:00, 16.64it/s]\n",
      "100%|██████████| 702/702 [00:40<00:00, 17.35it/s]\n",
      "100%|██████████| 702/702 [00:42<00:00, 16.52it/s]\n",
      "100%|██████████| 702/702 [00:41<00:00, 16.87it/s]\n"
     ]
    },
    {
     "name": "stdout",
     "output_type": "stream",
     "text": [
      "\n",
      "Training Client 2\n"
     ]
    },
    {
     "name": "stderr",
     "output_type": "stream",
     "text": [
      "100%|██████████| 702/702 [00:43<00:00, 16.31it/s]\n",
      "100%|██████████| 702/702 [00:42<00:00, 16.55it/s]\n",
      "100%|██████████| 702/702 [00:41<00:00, 16.81it/s]\n",
      "100%|██████████| 702/702 [00:42<00:00, 16.50it/s]\n",
      "100%|██████████| 702/702 [00:42<00:00, 16.62it/s]\n"
     ]
    },
    {
     "name": "stdout",
     "output_type": "stream",
     "text": [
      "\n",
      "Aggregating client models on the server...\n"
     ]
    },
    {
     "name": "stderr",
     "output_type": "stream",
     "text": [
      "100%|██████████| 28/28 [00:00<00:00, 28.75it/s]\n"
     ]
    },
    {
     "name": "stdout",
     "output_type": "stream",
     "text": [
      "{'accuracy': 0.9587155963302753}\n",
      "\n",
      "--- Federated Learning Round 26 ---\n",
      "\n",
      "Training Client 0\n"
     ]
    },
    {
     "name": "stderr",
     "output_type": "stream",
     "text": [
      "100%|██████████| 702/702 [00:42<00:00, 16.67it/s]\n",
      "100%|██████████| 702/702 [00:41<00:00, 16.94it/s]\n",
      "100%|██████████| 702/702 [00:41<00:00, 16.98it/s]\n",
      "100%|██████████| 702/702 [00:43<00:00, 16.19it/s]\n",
      "100%|██████████| 702/702 [00:42<00:00, 16.54it/s]\n"
     ]
    },
    {
     "name": "stdout",
     "output_type": "stream",
     "text": [
      "\n",
      "Training Client 1\n"
     ]
    },
    {
     "name": "stderr",
     "output_type": "stream",
     "text": [
      "100%|██████████| 702/702 [00:43<00:00, 16.14it/s]\n",
      "100%|██████████| 702/702 [00:42<00:00, 16.42it/s]\n",
      "100%|██████████| 702/702 [00:41<00:00, 16.81it/s]\n",
      "100%|██████████| 702/702 [00:42<00:00, 16.69it/s]\n",
      "100%|██████████| 702/702 [00:41<00:00, 16.90it/s]\n"
     ]
    },
    {
     "name": "stdout",
     "output_type": "stream",
     "text": [
      "\n",
      "Training Client 2\n"
     ]
    },
    {
     "name": "stderr",
     "output_type": "stream",
     "text": [
      "100%|██████████| 702/702 [00:42<00:00, 16.63it/s]\n",
      "100%|██████████| 702/702 [00:42<00:00, 16.54it/s]\n",
      "100%|██████████| 702/702 [00:42<00:00, 16.55it/s]\n",
      "100%|██████████| 702/702 [00:44<00:00, 15.90it/s]\n",
      "100%|██████████| 702/702 [00:44<00:00, 15.92it/s]\n"
     ]
    },
    {
     "name": "stdout",
     "output_type": "stream",
     "text": [
      "\n",
      "Aggregating client models on the server...\n"
     ]
    },
    {
     "name": "stderr",
     "output_type": "stream",
     "text": [
      "100%|██████████| 28/28 [00:00<00:00, 29.46it/s]\n"
     ]
    },
    {
     "name": "stdout",
     "output_type": "stream",
     "text": [
      "{'accuracy': 0.9587155963302753}\n",
      "\n",
      "--- Federated Learning Round 27 ---\n",
      "\n",
      "Training Client 0\n"
     ]
    },
    {
     "name": "stderr",
     "output_type": "stream",
     "text": [
      "100%|██████████| 702/702 [00:42<00:00, 16.65it/s]\n",
      "100%|██████████| 702/702 [00:42<00:00, 16.48it/s]\n",
      "100%|██████████| 702/702 [00:43<00:00, 16.27it/s]\n",
      "100%|██████████| 702/702 [00:42<00:00, 16.45it/s]\n",
      "100%|██████████| 702/702 [00:42<00:00, 16.56it/s]\n"
     ]
    },
    {
     "name": "stdout",
     "output_type": "stream",
     "text": [
      "\n",
      "Training Client 1\n"
     ]
    },
    {
     "name": "stderr",
     "output_type": "stream",
     "text": [
      "100%|██████████| 702/702 [00:42<00:00, 16.40it/s]\n",
      "100%|██████████| 702/702 [00:43<00:00, 16.26it/s]\n",
      "100%|██████████| 702/702 [00:42<00:00, 16.71it/s]\n",
      "100%|██████████| 702/702 [00:42<00:00, 16.70it/s]\n",
      "100%|██████████| 702/702 [00:42<00:00, 16.47it/s]\n"
     ]
    },
    {
     "name": "stdout",
     "output_type": "stream",
     "text": [
      "\n",
      "Training Client 2\n"
     ]
    },
    {
     "name": "stderr",
     "output_type": "stream",
     "text": [
      "100%|██████████| 702/702 [00:43<00:00, 16.03it/s]\n",
      "100%|██████████| 702/702 [00:42<00:00, 16.34it/s]\n",
      "100%|██████████| 702/702 [00:40<00:00, 17.33it/s]\n",
      "100%|██████████| 702/702 [00:41<00:00, 17.05it/s]\n",
      "100%|██████████| 702/702 [00:43<00:00, 16.17it/s]\n"
     ]
    },
    {
     "name": "stdout",
     "output_type": "stream",
     "text": [
      "\n",
      "Aggregating client models on the server...\n"
     ]
    },
    {
     "name": "stderr",
     "output_type": "stream",
     "text": [
      "100%|██████████| 28/28 [00:00<00:00, 29.07it/s]\n"
     ]
    },
    {
     "name": "stdout",
     "output_type": "stream",
     "text": [
      "{'accuracy': 0.9598623853211009}\n",
      "\n",
      "--- Federated Learning Round 28 ---\n",
      "\n",
      "Training Client 0\n"
     ]
    },
    {
     "name": "stderr",
     "output_type": "stream",
     "text": [
      "100%|██████████| 702/702 [00:42<00:00, 16.41it/s]\n",
      "100%|██████████| 702/702 [00:41<00:00, 16.91it/s]\n",
      "100%|██████████| 702/702 [00:41<00:00, 16.82it/s]\n",
      "100%|██████████| 702/702 [00:41<00:00, 16.84it/s]\n",
      "100%|██████████| 702/702 [00:42<00:00, 16.63it/s]\n"
     ]
    },
    {
     "name": "stdout",
     "output_type": "stream",
     "text": [
      "\n",
      "Training Client 1\n"
     ]
    },
    {
     "name": "stderr",
     "output_type": "stream",
     "text": [
      "100%|██████████| 702/702 [00:41<00:00, 16.90it/s]\n",
      "100%|██████████| 702/702 [00:42<00:00, 16.61it/s]\n",
      "100%|██████████| 702/702 [00:41<00:00, 16.73it/s]\n",
      "100%|██████████| 702/702 [00:43<00:00, 16.17it/s]\n",
      "100%|██████████| 702/702 [00:42<00:00, 16.70it/s]\n"
     ]
    },
    {
     "name": "stdout",
     "output_type": "stream",
     "text": [
      "\n",
      "Training Client 2\n"
     ]
    },
    {
     "name": "stderr",
     "output_type": "stream",
     "text": [
      "100%|██████████| 702/702 [00:42<00:00, 16.71it/s]\n",
      "100%|██████████| 702/702 [00:42<00:00, 16.39it/s]\n",
      "100%|██████████| 702/702 [00:42<00:00, 16.36it/s]\n",
      "100%|██████████| 702/702 [00:41<00:00, 16.77it/s]\n",
      "100%|██████████| 702/702 [00:43<00:00, 16.24it/s]\n"
     ]
    },
    {
     "name": "stdout",
     "output_type": "stream",
     "text": [
      "\n",
      "Aggregating client models on the server...\n"
     ]
    },
    {
     "name": "stderr",
     "output_type": "stream",
     "text": [
      "100%|██████████| 28/28 [00:00<00:00, 28.78it/s]\n"
     ]
    },
    {
     "name": "stdout",
     "output_type": "stream",
     "text": [
      "{'accuracy': 0.9564220183486238}\n",
      "\n",
      "--- Federated Learning Round 29 ---\n",
      "\n",
      "Training Client 0\n"
     ]
    },
    {
     "name": "stderr",
     "output_type": "stream",
     "text": [
      "100%|██████████| 702/702 [00:41<00:00, 16.84it/s]\n",
      "100%|██████████| 702/702 [00:43<00:00, 16.20it/s]\n",
      "100%|██████████| 702/702 [00:41<00:00, 16.80it/s]\n",
      "100%|██████████| 702/702 [00:41<00:00, 16.75it/s]\n",
      "100%|██████████| 702/702 [00:41<00:00, 16.74it/s]\n"
     ]
    },
    {
     "name": "stdout",
     "output_type": "stream",
     "text": [
      "\n",
      "Training Client 1\n"
     ]
    },
    {
     "name": "stderr",
     "output_type": "stream",
     "text": [
      "100%|██████████| 702/702 [00:41<00:00, 16.88it/s]\n",
      "100%|██████████| 702/702 [00:41<00:00, 16.73it/s]\n",
      "100%|██████████| 702/702 [00:40<00:00, 17.24it/s]\n",
      "100%|██████████| 702/702 [00:41<00:00, 16.76it/s]\n",
      "100%|██████████| 702/702 [00:42<00:00, 16.47it/s]\n"
     ]
    },
    {
     "name": "stdout",
     "output_type": "stream",
     "text": [
      "\n",
      "Training Client 2\n"
     ]
    },
    {
     "name": "stderr",
     "output_type": "stream",
     "text": [
      "100%|██████████| 702/702 [00:41<00:00, 17.03it/s]\n",
      "100%|██████████| 702/702 [00:42<00:00, 16.45it/s]\n",
      "100%|██████████| 702/702 [00:42<00:00, 16.38it/s]\n",
      "100%|██████████| 702/702 [00:41<00:00, 17.02it/s]\n",
      "100%|██████████| 702/702 [00:44<00:00, 15.94it/s]\n"
     ]
    },
    {
     "name": "stdout",
     "output_type": "stream",
     "text": [
      "\n",
      "Aggregating client models on the server...\n"
     ]
    },
    {
     "name": "stderr",
     "output_type": "stream",
     "text": [
      "100%|██████████| 28/28 [00:00<00:00, 29.08it/s]\n"
     ]
    },
    {
     "name": "stdout",
     "output_type": "stream",
     "text": [
      "{'accuracy': 0.9575688073394495}\n",
      "\n",
      "--- Federated Learning Round 30 ---\n",
      "\n",
      "Training Client 0\n"
     ]
    },
    {
     "name": "stderr",
     "output_type": "stream",
     "text": [
      "100%|██████████| 702/702 [00:43<00:00, 16.24it/s]\n",
      "100%|██████████| 702/702 [00:42<00:00, 16.42it/s]\n",
      "100%|██████████| 702/702 [00:42<00:00, 16.40it/s]\n",
      "100%|██████████| 702/702 [00:41<00:00, 16.74it/s]\n",
      "100%|██████████| 702/702 [00:43<00:00, 16.05it/s]\n"
     ]
    },
    {
     "name": "stdout",
     "output_type": "stream",
     "text": [
      "\n",
      "Training Client 1\n"
     ]
    },
    {
     "name": "stderr",
     "output_type": "stream",
     "text": [
      "100%|██████████| 702/702 [00:42<00:00, 16.68it/s]\n",
      "100%|██████████| 702/702 [00:42<00:00, 16.53it/s]\n",
      "100%|██████████| 702/702 [00:42<00:00, 16.51it/s]\n",
      "100%|██████████| 702/702 [00:42<00:00, 16.42it/s]\n",
      "100%|██████████| 702/702 [00:42<00:00, 16.48it/s]\n"
     ]
    },
    {
     "name": "stdout",
     "output_type": "stream",
     "text": [
      "\n",
      "Training Client 2\n"
     ]
    },
    {
     "name": "stderr",
     "output_type": "stream",
     "text": [
      "100%|██████████| 702/702 [00:41<00:00, 16.80it/s]\n",
      "100%|██████████| 702/702 [00:41<00:00, 17.04it/s]\n",
      "100%|██████████| 702/702 [00:41<00:00, 16.97it/s]\n",
      "100%|██████████| 702/702 [00:43<00:00, 16.13it/s]\n",
      "100%|██████████| 702/702 [00:42<00:00, 16.49it/s]\n"
     ]
    },
    {
     "name": "stdout",
     "output_type": "stream",
     "text": [
      "\n",
      "Aggregating client models on the server...\n"
     ]
    },
    {
     "name": "stderr",
     "output_type": "stream",
     "text": [
      "100%|██████████| 28/28 [00:00<00:00, 29.36it/s]\n"
     ]
    },
    {
     "name": "stdout",
     "output_type": "stream",
     "text": [
      "{'accuracy': 0.9575688073394495}\n"
     ]
    },
    {
     "data": {
      "application/vnd.jupyter.widget-view+json": {
       "model_id": "d4f9077bb1a342448d50cebab63324c7",
       "version_major": 2,
       "version_minor": 0
      },
      "text/plain": [
       "VBox(children=(Label(value='0.005 MB of 0.005 MB uploaded\\r'), FloatProgress(value=1.0, max=1.0)))"
      ]
     },
     "metadata": {},
     "output_type": "display_data"
    },
    {
     "data": {
      "text/html": [
       "<style>\n",
       "    table.wandb td:nth-child(1) { padding: 0 10px; text-align: left ; width: auto;} td:nth-child(2) {text-align: left ; width: 100%}\n",
       "    .wandb-row { display: flex; flex-direction: row; flex-wrap: wrap; justify-content: flex-start; width: 100% }\n",
       "    .wandb-col { display: flex; flex-direction: column; flex-basis: 100%; flex: 1; padding: 10px; }\n",
       "    </style>\n",
       "<div class=\"wandb-row\"><div class=\"wandb-col\"><h3>Run history:</h3><br/><table class=\"wandb\"><tr><td>accuracy</td><td>▁▃▄▄▅▆▂▅▅▅▆▅▄▅▆▅▆▆▇▆█▆▅▆▆▆▆▅▅▅</td></tr></table><br/></div><div class=\"wandb-col\"><h3>Run summary:</h3><br/><table class=\"wandb\"><tr><td>accuracy</td><td>0.95757</td></tr></table><br/></div></div>"
      ],
      "text/plain": [
       "<IPython.core.display.HTML object>"
      ]
     },
     "metadata": {},
     "output_type": "display_data"
    },
    {
     "data": {
      "text/html": [
       " View run <strong style=\"color:#cdcd00\">LoRA</strong> at: <a href='https://wandb.ai/quanla/FeDORA%20Project/runs/9sc8me69' target=\"_blank\">https://wandb.ai/quanla/FeDORA%20Project/runs/9sc8me69</a><br/>Synced 5 W&B file(s), 0 media file(s), 0 artifact file(s) and 0 other file(s)"
      ],
      "text/plain": [
       "<IPython.core.display.HTML object>"
      ]
     },
     "metadata": {},
     "output_type": "display_data"
    },
    {
     "data": {
      "text/html": [
       "Find logs at: <code>./wandb/run-20241028_174436-9sc8me69/logs</code>"
      ],
      "text/plain": [
       "<IPython.core.display.HTML object>"
      ]
     },
     "metadata": {},
     "output_type": "display_data"
    }
   ],
   "source": [
    "# 6. Federated Training Loop\n",
    "num_rounds = 30  # Number of federated learning rounds\n",
    "epochs_per_client = 5  # Number of epochs per client in each round\n",
    "\n",
    "for round_num in range(num_rounds):\n",
    "    print(f\"\\n--- Federated Learning Round {round_num + 1} ---\")\n",
    "    \n",
    "    client_models = []\n",
    "    \n",
    "    # Train each client locally\n",
    "    for client in clients:\n",
    "        print(f\"\\nTraining Client {client.client_id}\")\n",
    "        client.train(epochs=epochs_per_client)\n",
    "        client_models.append(client.get_parameters())\n",
    "\n",
    "    # Aggregate client models on the server\n",
    "    print(\"\\nAggregating client models on the server...\")\n",
    "    server.aggregate(client_models)\n",
    "    eval_metric = server.evaluate(eval_dataloader, metric=metric)\n",
    "    print(eval_metric)\n",
    "    wandb.log(eval_metric)\n",
    "    # evaluate(lora_model, val_dataset)\n",
    "\n",
    "    \n",
    "    # Update each client's model with the new global model\n",
    "    for client in clients:\n",
    "        client.set_parameters(server.global_model.state_dict())\n",
    "\n",
    "wandb.finish()"
   ]
  },
  {
   "cell_type": "code",
   "execution_count": 16,
   "metadata": {},
   "outputs": [],
   "source": [
    "# model.to(device)\n",
    "# for epoch in range(num_epochs):\n",
    "#     model.train()\n",
    "#     for step, batch in enumerate(tqdm(train_dataloader)):\n",
    "#         batch.to(device)\n",
    "#         outputs = model(**batch)\n",
    "#         loss = outputs.loss\n",
    "#         loss.backward()\n",
    "#         optimizer.step()\n",
    "#         lr_scheduler.step()\n",
    "#         optimizer.zero_grad()\n",
    "\n",
    "#     model.eval()\n",
    "#     for step, batch in enumerate(tqdm(eval_dataloader)):\n",
    "#         batch.to(device)\n",
    "#         with torch.no_grad():\n",
    "#             outputs = model(**batch)\n",
    "#         predictions = outputs.logits.argmax(dim=-1)\n",
    "#         predictions, references = predictions, batch[\"labels\"]\n",
    "#         metric.add_batch(\n",
    "#             predictions=predictions,\n",
    "#             references=references,\n",
    "#         )\n",
    "\n",
    "#     eval_metric = metric.compute()\n",
    "#     print(f\"epoch {epoch}:\", eval_metric)"
   ]
  },
  {
   "cell_type": "code",
   "execution_count": 17,
   "metadata": {},
   "outputs": [
    {
     "data": {
      "text/plain": [
       "0"
      ]
     },
     "execution_count": 17,
     "metadata": {},
     "output_type": "execute_result"
    }
   ],
   "source": [
    "torch.cuda.current_device()"
   ]
  }
 ],
 "metadata": {
  "kernelspec": {
   "display_name": ".venv",
   "language": "python",
   "name": "python3"
  },
  "language_info": {
   "codemirror_mode": {
    "name": "ipython",
    "version": 3
   },
   "file_extension": ".py",
   "mimetype": "text/x-python",
   "name": "python",
   "nbconvert_exporter": "python",
   "pygments_lexer": "ipython3",
   "version": "3.10.12"
  }
 },
 "nbformat": 4,
 "nbformat_minor": 2
}
